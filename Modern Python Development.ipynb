{
 "cells": [
  {
   "cell_type": "markdown",
   "id": "c287ecb7",
   "metadata": {},
   "source": [
    "\n",
    "<img src='https://www.bytelion.com/wp-content/uploads/2015/12/python-banner.png'>\n",
    "\n",
    "# Modern Python Development\n",
    "\n",
    "\n",
    "Content,\n",
    "\n",
    "- Pyenv\n",
    "- Poetry \n",
    "- Pytest\n",
    "- Coverage\n",
    "- Nox \n",
    "- Pylint\n",
    "- flake8 \n",
    "- xdcote\n",
    "- readthedocs\n",
    "\n"
   ]
  },
  {
   "cell_type": "code",
   "execution_count": 2,
   "id": "c5dac526",
   "metadata": {},
   "outputs": [],
   "source": [
    "#start from scratch \n",
    "!cd /Users/rjbrooker/Documents/github_repos/modern-python-tutorial/\n",
    "!rm -r -f insult-ai"
   ]
  },
  {
   "cell_type": "markdown",
   "id": "273d6468",
   "metadata": {},
   "source": [
    "# 1. Enviroment & Dependencies"
   ]
  },
  {
   "cell_type": "markdown",
   "id": "9a97b107",
   "metadata": {},
   "source": [
    "## 1.1. [pyenv](https://github.com/pyenv/pyenv)  \n",
    "\n",
    "Python version manager. \n",
    "- Easily switch between multiple versions of Python. \n",
    "- Supports per-project Python versions.\n",
    "- Single-purpose tool that does one thing well.\n",
    "\n",
    "Install : "
   ]
  },
  {
   "cell_type": "code",
   "execution_count": null,
   "id": "202d33ef",
   "metadata": {},
   "outputs": [],
   "source": [
    "# install pyenv\n",
    "!brew install pyenv\n",
    "!brew install pyenv-virtualenv\n",
    "\n",
    "# set enviroment variables (see https://github.com/pyenv/pyenv.)\n",
    "!echo 'eval \"$(pyenv init --path)\"' >> ~/.zprofile\n",
    "\n",
    "# check version\n",
    "!pyenv --version"
   ]
  },
  {
   "cell_type": "code",
   "execution_count": null,
   "id": "1e9199b4",
   "metadata": {},
   "outputs": [],
   "source": [
    "!open ~/.zprofile"
   ]
  },
  {
   "cell_type": "markdown",
   "id": "1ffbb89a",
   "metadata": {},
   "source": [
    "Open '\\~/.zshrc' to see the changes, "
   ]
  },
  {
   "cell_type": "markdown",
   "id": "28cad9e2",
   "metadata": {},
   "source": [
    "#### 1.1.1 Installing Multiple Python Versions"
   ]
  },
  {
   "cell_type": "code",
   "execution_count": null,
   "id": "70319b09",
   "metadata": {},
   "outputs": [],
   "source": [
    "# there is currntly an issue with big sure so a patch is needed\n",
    "!pyenv install 3.9.5\n",
    "!pyenv install 3.7.7 --patch < <(curl -sSL https://github.com/python/cpython/commit/8ea6353.patch)"
   ]
  },
  {
   "cell_type": "code",
   "execution_count": null,
   "id": "c3c31ede",
   "metadata": {
    "scrolled": true
   },
   "outputs": [],
   "source": [
    "!pyenv versions"
   ]
  },
  {
   "cell_type": "code",
   "execution_count": null,
   "id": "fdf0a8e7",
   "metadata": {},
   "outputs": [],
   "source": [
    "#!pyenv global 3.9.5"
   ]
  },
  {
   "cell_type": "markdown",
   "id": "21ff2c50",
   "metadata": {},
   "source": [
    "For installing anaconda and pyenv see, \n",
    "https://stackoverflow.com/questions/38217545/what-is-the-difference-between-pyenv-virtualenv-anaconda"
   ]
  },
  {
   "cell_type": "markdown",
   "id": "2cd4e9cb",
   "metadata": {},
   "source": [
    "<br><Br><br><Br>"
   ]
  },
  {
   "cell_type": "markdown",
   "id": "9b3dc0f3",
   "metadata": {},
   "source": [
    "<img src=\"https://davidr.in/static/media/poetry.f8fc3dd5.png\" style=\"height:200px ; float: left;\"> \n",
    "<br><br><br><br>\n",
    "\n",
    "## 1.2 [Poetry](https://python-poetry.org/)\n",
    "\n",
    "Python Dependency manager. It is similar to npm and yarn. Improvment over setuptools. \n",
    "\n"
   ]
  },
  {
   "cell_type": "code",
   "execution_count": null,
   "id": "b05acf69",
   "metadata": {
    "scrolled": true
   },
   "outputs": [],
   "source": [
    "#install \n",
    "!brew install poetry -q\n",
    "!poetry --version "
   ]
  },
  {
   "cell_type": "markdown",
   "id": "0977f5b4",
   "metadata": {},
   "source": [
    "### 1.2.1. Poetry - Creating a Project\n",
    "\n",
    "Initialize your project "
   ]
  },
  {
   "cell_type": "code",
   "execution_count": 3,
   "id": "1d461aca",
   "metadata": {},
   "outputs": [
    {
     "name": "stdout",
     "output_type": "stream",
     "text": [
      "Created package \u001b[34minsult_ai\u001b[0m in \u001b[34minsult-ai\u001b[0m\r\n"
     ]
    }
   ],
   "source": [
    "!poetry new insult-ai "
   ]
  },
  {
   "cell_type": "code",
   "execution_count": 4,
   "id": "99a91148",
   "metadata": {},
   "outputs": [
    {
     "name": "stdout",
     "output_type": "stream",
     "text": [
      "\u001b[01;34m.\u001b[00m\r\n",
      "├── Modern\\ Python\\ Development.ipynb\r\n",
      "└── \u001b[01;34minsult-ai\u001b[00m\r\n",
      "    ├── README.rst\r\n",
      "    ├── \u001b[01;34minsult_ai\u001b[00m\r\n",
      "    │   └── __init__.py\r\n",
      "    ├── pyproject.toml\r\n",
      "    └── \u001b[01;34mtests\u001b[00m\r\n",
      "        ├── __init__.py\r\n",
      "        └── test_insult_ai.py\r\n",
      "\r\n",
      "3 directories, 6 files\r\n"
     ]
    }
   ],
   "source": [
    "#!brew install tree  > /dev/null\n",
    "!tree  "
   ]
  },
  {
   "cell_type": "code",
   "execution_count": 5,
   "id": "66564860",
   "metadata": {},
   "outputs": [],
   "source": [
    "!open $(pwd)"
   ]
  },
  {
   "cell_type": "code",
   "execution_count": 9,
   "id": "67d92661",
   "metadata": {},
   "outputs": [
    {
     "name": "stdout",
     "output_type": "stream",
     "text": [
      "/Users/rjbrooker/Documents/github_repos/modern-python-tutorial/insult-ai\n"
     ]
    }
   ],
   "source": [
    "%cd insult-ai"
   ]
  },
  {
   "cell_type": "markdown",
   "id": "a74162bc",
   "metadata": {},
   "source": [
    "### 1.2.1. Poetry - Creating a Project"
   ]
  },
  {
   "cell_type": "markdown",
   "id": "bdf2b5f3",
   "metadata": {},
   "source": [
    "Init repo and setup origin, "
   ]
  },
  {
   "cell_type": "code",
   "execution_count": null,
   "id": "53a10207",
   "metadata": {},
   "outputs": [],
   "source": [
    "!git init\n",
    "!git remote set-url origin git@github.com:rjbrooker-anghami/insult_ai.git"
   ]
  },
  {
   "cell_type": "code",
   "execution_count": null,
   "id": "9f52c11b",
   "metadata": {},
   "outputs": [],
   "source": [
    "!git remote add origin git@github.com:rjbrooker-anghami/insult_ai.git"
   ]
  },
  {
   "cell_type": "markdown",
   "id": "c2b32796",
   "metadata": {},
   "source": [
    "Commit code,"
   ]
  },
  {
   "cell_type": "code",
   "execution_count": null,
   "id": "8d8cf835",
   "metadata": {},
   "outputs": [],
   "source": [
    "!git add . \n",
    "!git commit -m \"init\"\n",
    "!git push origin master"
   ]
  },
  {
   "cell_type": "markdown",
   "id": "d13e3e89",
   "metadata": {},
   "source": [
    "### 1.2.1 Poetry - Running Virtual Environments\n",
    "\n",
    "Poetry lets you created a virtual environment dedicated to your project"
   ]
  },
  {
   "cell_type": "markdown",
   "id": "7789c024",
   "metadata": {},
   "source": [
    "Install enviroment, "
   ]
  },
  {
   "cell_type": "code",
   "execution_count": null,
   "id": "9a004284",
   "metadata": {},
   "outputs": [],
   "source": [
    "!poetry install -q "
   ]
  },
  {
   "cell_type": "code",
   "execution_count": null,
   "id": "4712e04e",
   "metadata": {},
   "outputs": [],
   "source": [
    "# run python/jupyter inside your enviroment\n",
    "!poetry run jupyter notebook"
   ]
  },
  {
   "cell_type": "code",
   "execution_count": null,
   "id": "a42a5f55",
   "metadata": {},
   "outputs": [],
   "source": [
    "# run the enviroment shell \n",
    "!poetry shell "
   ]
  },
  {
   "cell_type": "code",
   "execution_count": null,
   "id": "1f529759",
   "metadata": {},
   "outputs": [],
   "source": [
    "!pip install . "
   ]
  },
  {
   "cell_type": "code",
   "execution_count": null,
   "id": "727b0e61",
   "metadata": {},
   "outputs": [],
   "source": [
    "import insult_ai\n",
    "insult_ai.__version__"
   ]
  },
  {
   "cell_type": "markdown",
   "id": "959dd303",
   "metadata": {},
   "source": [
    "### 2.2 Poetry - Installing Dependencies"
   ]
  },
  {
   "cell_type": "code",
   "execution_count": 10,
   "id": "66918a61",
   "metadata": {},
   "outputs": [
    {
     "name": "stdout",
     "output_type": "stream",
     "text": [
      "Using version \u001b[1m^8.0.1\u001b[0m for \u001b[36mclick\u001b[0m\n",
      "\n",
      "\u001b[34mUpdating dependencies\u001b[0m\n",
      "\u001b[2K\u001b[34mResolving dependencies...\u001b[0m \u001b[39;2m(5.7s)\u001b[0m\u001b[34mResolving dependencies...\u001b[0m \u001b[39;2m(3.0s)\u001b[0m\u001b[34mResolving dependencies...\u001b[0m \u001b[39;2m(4.3s)\u001b[0m\u001b[34mResolving dependencies...\u001b[0m \u001b[39;2m(4.4s)\u001b[0m\n",
      "\n",
      "\u001b[34mWriting lock file\u001b[0m\n",
      "\n",
      "No dependencies to install or update\n"
     ]
    }
   ],
   "source": [
    "!poetry add click"
   ]
  },
  {
   "cell_type": "markdown",
   "id": "28a9c6b2",
   "metadata": {},
   "source": [
    "This will, \n",
    "- Downloaded and installed the package into the virtual environment.\n",
    "- Adds the exact version to the lock file poetry.lock.\n",
    "- Adds a less constrained version to pyproject.toml."
   ]
  },
  {
   "cell_type": "code",
   "execution_count": 7,
   "id": "303d6b39",
   "metadata": {},
   "outputs": [
    {
     "name": "stdout",
     "output_type": "stream",
     "text": [
      "The file /Users/rjbrooker/Documents/github_repos/modern-python-tutorial/pyproject.toml does not exist.\r\n"
     ]
    }
   ],
   "source": [
    "!open -a TextEdit pyproject.toml"
   ]
  },
  {
   "cell_type": "markdown",
   "id": "8a96c0e1",
   "metadata": {},
   "source": [
    "# 2. Making a Package"
   ]
  },
  {
   "cell_type": "markdown",
   "id": "42c7ec8f",
   "metadata": {},
   "source": [
    "<br><br><br><br><br><br>\n",
    "<img src=\"https://click.palletsprojects.com/en/8.0.x/_images/click-logo.png\" style=\"height:120px ; float: left;\"> \n",
    "<br>\n",
    "\n",
    "## 2.1 [Click.py](https://click.palletsprojects.com/en/8.0.x/)\n",
    "\n",
    "Creating a command line tool.  "
   ]
  },
  {
   "cell_type": "code",
   "execution_count": 11,
   "id": "28dcd8b2",
   "metadata": {},
   "outputs": [
    {
     "name": "stdout",
     "output_type": "stream",
     "text": [
      "Writing insult_ai/console.py\n"
     ]
    }
   ],
   "source": [
    "%%writefile insult_ai/console.py\n",
    "\n",
    "import click\n",
    "from . import __version__\n",
    "\n",
    "@click.command()\n",
    "@click.option('--message', default=\"\", help='A message to send to insult-ai.')\n",
    "@click.version_option(version=__version__)\n",
    "def insult_me(message : str ):\n",
    "    \"\"\"Insult-ai Python project.\"\"\"\n",
    "    click.echo(f\"'{message}'?\")\n"
   ]
  },
  {
   "cell_type": "code",
   "execution_count": 12,
   "id": "0dcf9e01",
   "metadata": {},
   "outputs": [
    {
     "name": "stdout",
     "output_type": "stream",
     "text": [
      "Appending to pyproject.toml\n"
     ]
    }
   ],
   "source": [
    "%%writefile -a pyproject.toml\n",
    "\n",
    "[tool.poetry.scripts]\n",
    "insult-ai = \"insult_ai.console:insult_me\""
   ]
  },
  {
   "cell_type": "markdown",
   "id": "49ec10ce",
   "metadata": {},
   "source": [
    "Install the package"
   ]
  },
  {
   "cell_type": "code",
   "execution_count": 13,
   "id": "72ef449a",
   "metadata": {},
   "outputs": [
    {
     "name": "stdout",
     "output_type": "stream",
     "text": [
      "\u001b[33m  DEPRECATION: A future pip version will change local packages to be built in-place without first copying to a temporary directory. We recommend you use --use-feature=in-tree-build to test your packages with this new behavior before it becomes the default.\n",
      "   pip 21.3 will remove support for this functionality. You can find discussion regarding this at https://github.com/pypa/pip/issues/7555.\u001b[0m\n",
      "\u001b[33mWARNING: You are using pip version 21.1.1; however, version 21.1.2 is available.\n",
      "You should consider upgrading via the '/Users/rjbrooker/.pyenv/versions/3.9.5/bin/python3.9 -m pip install --upgrade pip' command.\u001b[0m\n"
     ]
    }
   ],
   "source": [
    "!pip install . -q"
   ]
  },
  {
   "cell_type": "code",
   "execution_count": 14,
   "id": "e4c39753",
   "metadata": {},
   "outputs": [
    {
     "name": "stdout",
     "output_type": "stream",
     "text": [
      "'Hello'?\r\n"
     ]
    }
   ],
   "source": [
    "!insult-ai --message \"Hello\""
   ]
  },
  {
   "cell_type": "code",
   "execution_count": 15,
   "id": "39467892",
   "metadata": {},
   "outputs": [
    {
     "name": "stdout",
     "output_type": "stream",
     "text": [
      "'Hello'?\r\n"
     ]
    }
   ],
   "source": [
    "!poetry install -q\n",
    "!poetry run insult-ai --message \"Hello\""
   ]
  },
  {
   "cell_type": "code",
   "execution_count": 16,
   "id": "8cd74583",
   "metadata": {},
   "outputs": [
    {
     "name": "stdout",
     "output_type": "stream",
     "text": [
      "Usage: insult-ai [OPTIONS]\r\n",
      "\r\n",
      "  Insult-ai Python project.\r\n",
      "\r\n",
      "Options:\r\n",
      "  --message TEXT  A message to send to insult-ai.\r\n",
      "  --version       Show the version and exit.\r\n",
      "  --help          Show this message and exit.\r\n"
     ]
    }
   ],
   "source": [
    "!poetry run insult-ai --help"
   ]
  },
  {
   "cell_type": "markdown",
   "id": "4ef5be99",
   "metadata": {},
   "source": [
    "## 2.2 [🙊 Detoxify](https://pypi.org/project/detoxify/)\n",
    "\n",
    "Adding ml to our tool.\n",
    "\n",
    "- [Detoxify](https://pypi.org/project/detoxify/) - pretrained sentiment analysis model."
   ]
  },
  {
   "cell_type": "code",
   "execution_count": 17,
   "id": "1142eacf",
   "metadata": {
    "scrolled": true
   },
   "outputs": [],
   "source": [
    "!poetry add pandas detoxify -q"
   ]
  },
  {
   "cell_type": "markdown",
   "id": "7ca6919a",
   "metadata": {},
   "source": [
    "Add detoxify to our function, "
   ]
  },
  {
   "cell_type": "code",
   "execution_count": 97,
   "id": "3f50c80c",
   "metadata": {},
   "outputs": [
    {
     "name": "stdout",
     "output_type": "stream",
     "text": [
      "Overwriting insult_ai/console.py\n"
     ]
    }
   ],
   "source": [
    "%%writefile insult_ai/console.py\n",
    "import click\n",
    "import json \n",
    "from . import __version__\n",
    "from detoxify import Detoxify\n",
    "import pandas as pd \n",
    "\n",
    "@click.command()\n",
    "@click.option('--message', default=\"\", help='A message to send to insult-ai.')\n",
    "@click.version_option(version=__version__)\n",
    "def insult_me(message : str ):\n",
    "    \"\"\"Insult-ai Python project.\"\"\"\n",
    "    \n",
    "    #load model\n",
    "    model = Detoxify('original')\n",
    "    \n",
    "    #predict toxicity\n",
    "    results = model.predict(message)\n",
    "    \n",
    "    #echo results\n",
    "    click.echo(pd.Series(results).sort_values(ascending=False))\n"
   ]
  },
  {
   "cell_type": "code",
   "execution_count": 98,
   "id": "8c497993",
   "metadata": {},
   "outputs": [],
   "source": [
    "!poetry install -q"
   ]
  },
  {
   "cell_type": "code",
   "execution_count": 99,
   "id": "b8179e24",
   "metadata": {},
   "outputs": [
    {
     "name": "stdout",
     "output_type": "stream",
     "text": [
      "Traceback (most recent call last):\r\n",
      "  File \"<string>\", line 1, in <module>\r\n",
      "  File \"/opt/local/Library/Frameworks/Python.framework/Versions/3.9/lib/python3.9/importlib/__init__.py\", line 127, in import_module\r\n",
      "    return _bootstrap._gcd_import(name[level:], package, level)\r\n",
      "  File \"<frozen importlib._bootstrap>\", line 1030, in _gcd_import\r\n",
      "  File \"<frozen importlib._bootstrap>\", line 1007, in _find_and_load\r\n",
      "  File \"<frozen importlib._bootstrap>\", line 986, in _find_and_load_unlocked\r\n",
      "  File \"<frozen importlib._bootstrap>\", line 680, in _load_unlocked\r\n",
      "  File \"<frozen importlib._bootstrap_external>\", line 855, in exec_module\r\n",
      "  File \"<frozen importlib._bootstrap>\", line 228, in _call_with_frames_removed\r\n",
      "  File \"/Users/rjbrooker/Documents/github_repos/modern-python-tutorial/insult-ai/insult_ai/console.py\", line 3, in <module>\r\n",
      "    from . import __version__\r\n",
      "ImportError: cannot import name '__version__' from 'insult_ai' (/Users/rjbrooker/Documents/github_repos/modern-python-tutorial/insult-ai/insult_ai/__init__.py)\r\n"
     ]
    }
   ],
   "source": [
    "!poetry run insult-ai --message \"I really don't hate your hair\""
   ]
  },
  {
   "cell_type": "markdown",
   "id": "aebf179b",
   "metadata": {},
   "source": [
    "## 2.3. Poetry -  [PyPi](https://pypi.org/) Publishing "
   ]
  },
  {
   "cell_type": "markdown",
   "id": "57751e8f",
   "metadata": {},
   "source": [
    "Build the package "
   ]
  },
  {
   "cell_type": "code",
   "execution_count": 29,
   "id": "eb219022",
   "metadata": {
    "scrolled": true
   },
   "outputs": [
    {
     "name": "stdout",
     "output_type": "stream",
     "text": [
      "Building \u001b[36minsult-ai\u001b[0m (\u001b[39;1m0.2.0\u001b[0m)\n",
      "  - Building \u001b[34msdist\u001b[0m\n",
      "  - Built \u001b[32minsult-ai-0.2.0.tar.gz\u001b[0m\n",
      "  - Building \u001b[34mwheel\u001b[0m\n",
      "  - Built \u001b[32minsult_ai-0.2.0-py3-none-any.whl\u001b[0m\n"
     ]
    }
   ],
   "source": [
    "!poetry build "
   ]
  },
  {
   "cell_type": "code",
   "execution_count": 30,
   "id": "a15cf222",
   "metadata": {},
   "outputs": [
    {
     "name": "stdout",
     "output_type": "stream",
     "text": [
      "········\n",
      "\n",
      "Publishing \u001b[36minsult-ai\u001b[0m (\u001b[39;1m0.2.0\u001b[0m) to \u001b[34mPyPI\u001b[0m\n",
      " - Uploading \u001b[36minsult-ai-0.2.0.tar.gz\u001b[0m \u001b[32m100%\u001b[0m\n",
      " - Uploading \u001b[36minsult_ai-0.2.0-py3-none-any.whl\u001b[0m \u001b[32m100%\u001b[0m\n"
     ]
    }
   ],
   "source": [
    "from getpass import getpass\n",
    "password = getpass()\n",
    "!poetry publish -u rjbrooker -p $password"
   ]
  },
  {
   "cell_type": "markdown",
   "id": "f357798e",
   "metadata": {},
   "source": [
    "# 4. Unit Tests \n",
    "\n",
    "Unit tests, as the name says, verify the functionality of a unit of code, \n"
   ]
  },
  {
   "cell_type": "markdown",
   "id": "8e963cc5",
   "metadata": {},
   "source": [
    "<br><br><br><br><br><br>\n",
    "<img src=\"https://docs.pytest.org/en/6.2.x/_static/pytest1.png\" style=\"height:160px ; float: left;\"> \n",
    "<br><br><br><br>\n",
    "\n",
    "## 4.1 [Pytest](https://docs.pytest.org/en/6.2.x/)"
   ]
  },
  {
   "cell_type": "code",
   "execution_count": 31,
   "id": "d390792c",
   "metadata": {},
   "outputs": [],
   "source": [
    "!poetry add --dev pytest -q"
   ]
  },
  {
   "cell_type": "code",
   "execution_count": 32,
   "id": "3ec115b5",
   "metadata": {},
   "outputs": [
    {
     "name": "stdout",
     "output_type": "stream",
     "text": [
      "Overwriting tests/test_insult_ai.py\n"
     ]
    }
   ],
   "source": [
    "%%writefile tests/test_insult_ai.py\n",
    "\n",
    "import click.testing\n",
    "import pytest\n",
    "from insult_ai import console\n",
    "\n",
    "@pytest.fixture\n",
    "def runner():\n",
    "    \"\"\"Reusable helper function.\"\"\"\n",
    "    return click.testing.CliRunner()\n",
    "\n",
    "def test_insult_me_succeeds(runner):\n",
    "    result = runner.invoke(console.insult_me, ['--message=\"You look nice.\"'])\n",
    "    assert result.exit_code == 0\n"
   ]
  },
  {
   "cell_type": "code",
   "execution_count": 33,
   "id": "789f049b",
   "metadata": {
    "scrolled": true
   },
   "outputs": [
    {
     "name": "stdout",
     "output_type": "stream",
     "text": [
      "\u001b[1m============================= test session starts ==============================\u001b[0m\n",
      "platform darwin -- Python 3.9.5, pytest-5.4.3, py-1.10.0, pluggy-0.13.1\n",
      "rootdir: /Users/rjbrooker/Documents/github_repos/modern-python-tutorial/insult-ai\n",
      "plugins: cov-2.12.1, mock-3.6.1, xdoctest-0.15.4\n",
      "collected 1 item                                                               \u001b[0m\u001b[1m\n",
      "\n",
      "tests/test_insult_ai.py \u001b[32m.\u001b[0m\u001b[32m                                                [100%]\u001b[0m\n",
      "\n",
      "\u001b[32m============================== \u001b[32m\u001b[1m1 passed\u001b[0m\u001b[32m in 7.79s\u001b[0m\u001b[32m ===============================\u001b[0m\n"
     ]
    }
   ],
   "source": [
    "!poetry run pytest"
   ]
  },
  {
   "cell_type": "markdown",
   "id": "01012399",
   "metadata": {},
   "source": [
    "<br><br><br><br><br><br><br><br>\n",
    "<img src=\"https://coverage.readthedocs.io/en/coverage-5.5/_static/sleepy-snake-circle-150.png\" style=\"height:160px ; float: left;\"> \n",
    "<br><br><br><br>\n",
    "\n",
    "## 4.2 [Coverage.py](https://coverage.readthedocs.io/en/coverage-5.5/)\n",
    "Allows you to see what percentage of your code is covered by tests. \n"
   ]
  },
  {
   "cell_type": "code",
   "execution_count": 34,
   "id": "3d572b6e",
   "metadata": {},
   "outputs": [],
   "source": [
    "!poetry add coverage pytest-cov -q"
   ]
  },
  {
   "cell_type": "markdown",
   "id": "4ec8e4b7",
   "metadata": {},
   "source": [
    "Create configurations file,"
   ]
  },
  {
   "cell_type": "code",
   "execution_count": 35,
   "id": "03253832",
   "metadata": {},
   "outputs": [
    {
     "name": "stdout",
     "output_type": "stream",
     "text": [
      "Appending to pyproject.toml\n"
     ]
    }
   ],
   "source": [
    "%%writefile -a pyproject.toml\n",
    "\n",
    "[tool.coverage.paths]\n",
    "source = [\"insult_ai\", \"*/site-packages\"]\n",
    "\n",
    "[tool.coverage.run]\n",
    "branch = true\n",
    "source = [\"insult_ai\"]\n",
    "\n",
    "[tool.coverage.report]\n",
    "show_missing = true\n",
    "fail_under = 99"
   ]
  },
  {
   "cell_type": "markdown",
   "id": "c1234494",
   "metadata": {},
   "source": [
    "Calculate coverage, "
   ]
  },
  {
   "cell_type": "code",
   "execution_count": 36,
   "id": "be4013c5",
   "metadata": {},
   "outputs": [
    {
     "name": "stdout",
     "output_type": "stream",
     "text": [
      "\u001b[1m============================= test session starts ==============================\u001b[0m\n",
      "platform darwin -- Python 3.9.5, pytest-5.4.3, py-1.10.0, pluggy-0.13.1\n",
      "rootdir: /Users/rjbrooker/Documents/github_repos/modern-python-tutorial/insult-ai\n",
      "plugins: cov-2.12.1, mock-3.6.1, xdoctest-0.15.4\n",
      "collected 1 item                                                               \u001b[0m\u001b[1m\n",
      "\n",
      "tests/test_insult_ai.py \u001b[32m.\u001b[0m\u001b[32m                                                [100%]\u001b[0m\n",
      "\n",
      "---------- coverage: platform darwin, python 3.9.5-final-0 -----------\n",
      "Name                    Stmts   Miss Branch BrPart  Cover   Missing\n",
      "-------------------------------------------------------------------\n",
      "insult_ai/__init__.py       1      0      0      0   100%\n",
      "insult_ai/console.py       12      0      0      0   100%\n",
      "-------------------------------------------------------------------\n",
      "TOTAL                      13      0      0      0   100%\n",
      "\n",
      "\u001b[32mRequired test coverage of 99.0% reached. Total coverage: 100.00%\n",
      "\u001b[0m\n",
      "\u001b[32m============================== \u001b[32m\u001b[1m1 passed\u001b[0m\u001b[32m in 8.17s\u001b[0m\u001b[32m ===============================\u001b[0m\n"
     ]
    }
   ],
   "source": [
    "!poetry run pytest --cov"
   ]
  },
  {
   "cell_type": "markdown",
   "id": "088e6f5a",
   "metadata": {},
   "source": [
    "Aiming for 100% code coverage is good practice. However his number does not imply that your test suite has meaningful test cases for all uses and misuses of your program."
   ]
  },
  {
   "cell_type": "markdown",
   "id": "b8314f1e",
   "metadata": {},
   "source": [
    "\n",
    "\n",
    "### 4.2.1 Coverage Reporting\n",
    "Tracking test coverage, \n",
    "\n",
    "- [codecov](https://github.com/marketplace/codecov)\n",
    "- [Coveralls](https://coveralls.io/)"
   ]
  },
  {
   "cell_type": "markdown",
   "id": "499e934a",
   "metadata": {},
   "source": [
    "<br><br><br><br><br><br><br><br>\n",
    "<img src=\"https://nox.thea.codes/en/stable/_static/alice.png\" style=\"height:160px ; float: left;\"> \n",
    "<br><br><br><br>\n",
    "\n",
    "## 4.4 [Nox.py](https://nox.thea.codes/en/stable/)\n"
   ]
  },
  {
   "cell_type": "markdown",
   "id": "a9b6080f",
   "metadata": {},
   "source": [
    "Automates testing in multiple Python environments. Nox makes it easy to run any kind of job in an isolated environment,\n"
   ]
  },
  {
   "cell_type": "code",
   "execution_count": null,
   "id": "f89278a7",
   "metadata": {},
   "outputs": [],
   "source": [
    "# install \n",
    "!brew install nox -q"
   ]
  },
  {
   "cell_type": "markdown",
   "id": "bceca7bb",
   "metadata": {},
   "source": [
    "Create nox file, "
   ]
  },
  {
   "cell_type": "code",
   "execution_count": 37,
   "id": "36c753f6",
   "metadata": {},
   "outputs": [
    {
     "name": "stdout",
     "output_type": "stream",
     "text": [
      "Writing noxfile.py\n"
     ]
    }
   ],
   "source": [
    "%%writefile noxfile.py\n",
    "\n",
    "import nox\n",
    "\n",
    "@nox.session(python=[\"3.8\", \"3.9\"])\n",
    "def tests(session):\n",
    "    session.run(\"poetry\", \"install\", external=True)\n",
    "    session.run(\"pytest\", \"--cov\")\n"
   ]
  },
  {
   "cell_type": "code",
   "execution_count": 38,
   "id": "1ad0b842",
   "metadata": {
    "scrolled": true
   },
   "outputs": [
    {
     "name": "stdout",
     "output_type": "stream",
     "text": [
      "\u001b[36mnox > \u001b[33mRunning session tests-3.8\u001b[0m\n",
      "\u001b[36mnox > \u001b[34mCreating virtual environment (virtualenv) using python3.8 in .nox/tests-3-8\u001b[0m\n",
      "\u001b[36mnox > \u001b[34mpoetry install\u001b[0m\n",
      "\u001b[34mInstalling dependencies from lock file\u001b[0m\n",
      "\n",
      "\u001b[1mPackage operations\u001b[0m: \u001b[34m35\u001b[0m installs, \u001b[34m0\u001b[0m updates, \u001b[34m0\u001b[0m removals\n",
      "\n",
      "  \u001b[34;1m•\u001b[0m \u001b[39mInstalling \u001b[0m\u001b[36mcertifi\u001b[0m\u001b[39m (\u001b[0m\u001b[39;1m2021.5.30\u001b[0m\u001b[39m)\u001b[0m: \u001b[34mPending...\u001b[0m\n",
      "  \u001b[34;1m•\u001b[0m \u001b[39mInstalling \u001b[0m\u001b[36mchardet\u001b[0m\u001b[39m (\u001b[0m\u001b[39;1m4.0.0\u001b[0m\u001b[39m)\u001b[0m: \u001b[34mPending...\u001b[0m\n",
      "  \u001b[34;1m•\u001b[0m \u001b[39mInstalling \u001b[0m\u001b[36midna\u001b[0m\u001b[39m (\u001b[0m\u001b[39;1m2.10\u001b[0m\u001b[39m)\u001b[0m: \u001b[34mPending...\u001b[0m\n",
      "  \u001b[34;1m•\u001b[0m \u001b[39mInstalling \u001b[0m\u001b[36mpyparsing\u001b[0m\u001b[39m (\u001b[0m\u001b[39;1m2.4.7\u001b[0m\u001b[39m)\u001b[0m: \u001b[34mPending...\u001b[0m\n",
      "  \u001b[34;1m•\u001b[0m \u001b[39mInstalling \u001b[0m\u001b[36murllib3\u001b[0m\u001b[39m (\u001b[0m\u001b[39;1m1.26.5\u001b[0m\u001b[39m)\u001b[0m: \u001b[34mPending...\u001b[0m\n",
      "\u001b[5A\u001b[0J  \u001b[34;1m•\u001b[0m \u001b[39mInstalling \u001b[0m\u001b[36mchardet\u001b[0m\u001b[39m (\u001b[0m\u001b[39;1m4.0.0\u001b[0m\u001b[39m)\u001b[0m: \u001b[34mPending...\u001b[0m\n",
      "  \u001b[34;1m•\u001b[0m \u001b[39mInstalling \u001b[0m\u001b[36midna\u001b[0m\u001b[39m (\u001b[0m\u001b[39;1m2.10\u001b[0m\u001b[39m)\u001b[0m: \u001b[34mPending...\u001b[0m\n",
      "  \u001b[34;1m•\u001b[0m \u001b[39mInstalling \u001b[0m\u001b[36mpyparsing\u001b[0m\u001b[39m (\u001b[0m\u001b[39;1m2.4.7\u001b[0m\u001b[39m)\u001b[0m: \u001b[34mPending...\u001b[0m\n",
      "  \u001b[34;1m•\u001b[0m \u001b[39mInstalling \u001b[0m\u001b[36murllib3\u001b[0m\u001b[39m (\u001b[0m\u001b[39;1m1.26.5\u001b[0m\u001b[39m)\u001b[0m: \u001b[34mPending...\u001b[0m\n",
      "\u001b[4A\u001b[0J  \u001b[34;1m•\u001b[0m \u001b[39mInstalling \u001b[0m\u001b[36mcertifi\u001b[0m\u001b[39m (\u001b[0m\u001b[39;1m2021.5.30\u001b[0m\u001b[39m)\u001b[0m: \u001b[34mInstalling...\u001b[0m\n",
      "  \u001b[34;1m•\u001b[0m \u001b[39mInstalling \u001b[0m\u001b[36mchardet\u001b[0m\u001b[39m (\u001b[0m\u001b[39;1m4.0.0\u001b[0m\u001b[39m)\u001b[0m: \u001b[34mPending...\u001b[0m\n",
      "  \u001b[34;1m•\u001b[0m \u001b[39mInstalling \u001b[0m\u001b[36midna\u001b[0m\u001b[39m (\u001b[0m\u001b[39;1m2.10\u001b[0m\u001b[39m)\u001b[0m: \u001b[34mPending...\u001b[0m\n",
      "  \u001b[34;1m•\u001b[0m \u001b[39mInstalling \u001b[0m\u001b[36mpyparsing\u001b[0m\u001b[39m (\u001b[0m\u001b[39;1m2.4.7\u001b[0m\u001b[39m)\u001b[0m: \u001b[34mPending...\u001b[0m\n",
      "  \u001b[34;1m•\u001b[0m \u001b[39mInstalling \u001b[0m\u001b[36murllib3\u001b[0m\u001b[39m (\u001b[0m\u001b[39;1m1.26.5\u001b[0m\u001b[39m)\u001b[0m: \u001b[34mPending...\u001b[0m\n",
      "\u001b[2A\u001b[0J  \u001b[34;1m•\u001b[0m \u001b[39mInstalling \u001b[0m\u001b[36murllib3\u001b[0m\u001b[39m (\u001b[0m\u001b[39;1m1.26.5\u001b[0m\u001b[39m)\u001b[0m: \u001b[34mPending...\u001b[0m\n",
      "\u001b[1A\u001b[0J  \u001b[34;1m•\u001b[0m \u001b[39mInstalling \u001b[0m\u001b[36mpyparsing\u001b[0m\u001b[39m (\u001b[0m\u001b[39;1m2.4.7\u001b[0m\u001b[39m)\u001b[0m: \u001b[34mInstalling...\u001b[0m\n",
      "  \u001b[34;1m•\u001b[0m \u001b[39mInstalling \u001b[0m\u001b[36murllib3\u001b[0m\u001b[39m (\u001b[0m\u001b[39;1m1.26.5\u001b[0m\u001b[39m)\u001b[0m: \u001b[34mPending...\u001b[0m\n",
      "\u001b[3A\u001b[0J  \u001b[34;1m•\u001b[0m \u001b[39mInstalling \u001b[0m\u001b[36mpyparsing\u001b[0m\u001b[39m (\u001b[0m\u001b[39;1m2.4.7\u001b[0m\u001b[39m)\u001b[0m: \u001b[34mInstalling...\u001b[0m\n",
      "  \u001b[34;1m•\u001b[0m \u001b[39mInstalling \u001b[0m\u001b[36murllib3\u001b[0m\u001b[39m (\u001b[0m\u001b[39;1m1.26.5\u001b[0m\u001b[39m)\u001b[0m: \u001b[34mPending...\u001b[0m\n",
      "\u001b[2A\u001b[0J  \u001b[34;1m•\u001b[0m \u001b[39mInstalling \u001b[0m\u001b[36midna\u001b[0m\u001b[39m (\u001b[0m\u001b[39;1m2.10\u001b[0m\u001b[39m)\u001b[0m: \u001b[34mInstalling...\u001b[0m\n",
      "  \u001b[34;1m•\u001b[0m \u001b[39mInstalling \u001b[0m\u001b[36mpyparsing\u001b[0m\u001b[39m (\u001b[0m\u001b[39;1m2.4.7\u001b[0m\u001b[39m)\u001b[0m: \u001b[34mInstalling...\u001b[0m\n",
      "  \u001b[34;1m•\u001b[0m \u001b[39mInstalling \u001b[0m\u001b[36murllib3\u001b[0m\u001b[39m (\u001b[0m\u001b[39;1m1.26.5\u001b[0m\u001b[39m)\u001b[0m: \u001b[34mPending...\u001b[0m\n",
      "\u001b[1A\u001b[0J  \u001b[34;1m•\u001b[0m \u001b[39mInstalling \u001b[0m\u001b[36murllib3\u001b[0m\u001b[39m (\u001b[0m\u001b[39;1m1.26.5\u001b[0m\u001b[39m)\u001b[0m: \u001b[34mInstalling...\u001b[0m\n",
      "\u001b[4A\u001b[0J  \u001b[34;1m•\u001b[0m \u001b[39mInstalling \u001b[0m\u001b[36midna\u001b[0m\u001b[39m (\u001b[0m\u001b[39;1m2.10\u001b[0m\u001b[39m)\u001b[0m: \u001b[34mInstalling...\u001b[0m\n",
      "  \u001b[34;1m•\u001b[0m \u001b[39mInstalling \u001b[0m\u001b[36mpyparsing\u001b[0m\u001b[39m (\u001b[0m\u001b[39;1m2.4.7\u001b[0m\u001b[39m)\u001b[0m: \u001b[34mInstalling...\u001b[0m\n",
      "  \u001b[34;1m•\u001b[0m \u001b[39mInstalling \u001b[0m\u001b[36murllib3\u001b[0m\u001b[39m (\u001b[0m\u001b[39;1m1.26.5\u001b[0m\u001b[39m)\u001b[0m: \u001b[34mInstalling...\u001b[0m\n",
      "\u001b[3A\u001b[0J  \u001b[34;1m•\u001b[0m \u001b[39mInstalling \u001b[0m\u001b[36mchardet\u001b[0m\u001b[39m (\u001b[0m\u001b[39;1m4.0.0\u001b[0m\u001b[39m)\u001b[0m: \u001b[34mInstalling...\u001b[0m\n",
      "  \u001b[34;1m•\u001b[0m \u001b[39mInstalling \u001b[0m\u001b[36midna\u001b[0m\u001b[39m (\u001b[0m\u001b[39;1m2.10\u001b[0m\u001b[39m)\u001b[0m: \u001b[34mInstalling...\u001b[0m\n",
      "  \u001b[34;1m•\u001b[0m \u001b[39mInstalling \u001b[0m\u001b[36mpyparsing\u001b[0m\u001b[39m (\u001b[0m\u001b[39;1m2.4.7\u001b[0m\u001b[39m)\u001b[0m: \u001b[34mInstalling...\u001b[0m\n",
      "  \u001b[34;1m•\u001b[0m \u001b[39mInstalling \u001b[0m\u001b[36murllib3\u001b[0m\u001b[39m (\u001b[0m\u001b[39;1m1.26.5\u001b[0m\u001b[39m)\u001b[0m: \u001b[34mInstalling...\u001b[0m\n",
      "\u001b[5A\u001b[0J  \u001b[34;1m•\u001b[0m \u001b[39mInstalling \u001b[0m\u001b[36mchardet\u001b[0m\u001b[39m (\u001b[0m\u001b[39;1m4.0.0\u001b[0m\u001b[39m)\u001b[0m: \u001b[34mInstalling...\u001b[0m\n",
      "  \u001b[34;1m•\u001b[0m \u001b[39mInstalling \u001b[0m\u001b[36midna\u001b[0m\u001b[39m (\u001b[0m\u001b[39;1m2.10\u001b[0m\u001b[39m)\u001b[0m: \u001b[34mInstalling...\u001b[0m\n",
      "  \u001b[34;1m•\u001b[0m \u001b[39mInstalling \u001b[0m\u001b[36mpyparsing\u001b[0m\u001b[39m (\u001b[0m\u001b[39;1m2.4.7\u001b[0m\u001b[39m)\u001b[0m: \u001b[34mInstalling...\u001b[0m\n",
      "  \u001b[34;1m•\u001b[0m \u001b[39mInstalling \u001b[0m\u001b[36murllib3\u001b[0m\u001b[39m (\u001b[0m\u001b[39;1m1.26.5\u001b[0m\u001b[39m)\u001b[0m: \u001b[34mInstalling...\u001b[0m\n",
      "\u001b[4A\u001b[0J  \u001b[32;1m•\u001b[0m \u001b[39mInstalling \u001b[0m\u001b[36mcertifi\u001b[0m\u001b[39m (\u001b[0m\u001b[32m2021.5.30\u001b[0m\u001b[39m)\u001b[0m\n",
      "  \u001b[34;1m•\u001b[0m \u001b[39mInstalling \u001b[0m\u001b[36mchardet\u001b[0m\u001b[39m (\u001b[0m\u001b[39;1m4.0.0\u001b[0m\u001b[39m)\u001b[0m: \u001b[34mInstalling...\u001b[0m\n",
      "  \u001b[34;1m•\u001b[0m \u001b[39mInstalling \u001b[0m\u001b[36midna\u001b[0m\u001b[39m (\u001b[0m\u001b[39;1m2.10\u001b[0m\u001b[39m)\u001b[0m: \u001b[34mInstalling...\u001b[0m\n",
      "  \u001b[34;1m•\u001b[0m \u001b[39mInstalling \u001b[0m\u001b[36mpyparsing\u001b[0m\u001b[39m (\u001b[0m\u001b[39;1m2.4.7\u001b[0m\u001b[39m)\u001b[0m: \u001b[34mInstalling...\u001b[0m\n",
      "  \u001b[34;1m•\u001b[0m \u001b[39mInstalling \u001b[0m\u001b[36murllib3\u001b[0m\u001b[39m (\u001b[0m\u001b[39;1m1.26.5\u001b[0m\u001b[39m)\u001b[0m: \u001b[34mInstalling...\u001b[0m\n",
      "\u001b[2A\u001b[0J  \u001b[34;1m•\u001b[0m \u001b[39mInstalling \u001b[0m\u001b[36murllib3\u001b[0m\u001b[39m (\u001b[0m\u001b[39;1m1.26.5\u001b[0m\u001b[39m)\u001b[0m: \u001b[34mInstalling...\u001b[0m\n",
      "\u001b[1A\u001b[0J  \u001b[32;1m•\u001b[0m \u001b[39mInstalling \u001b[0m\u001b[36mpyparsing\u001b[0m\u001b[39m (\u001b[0m\u001b[32m2.4.7\u001b[0m\u001b[39m)\u001b[0m\n",
      "  \u001b[34;1m•\u001b[0m \u001b[39mInstalling \u001b[0m\u001b[36murllib3\u001b[0m\u001b[39m (\u001b[0m\u001b[39;1m1.26.5\u001b[0m\u001b[39m)\u001b[0m: \u001b[34mInstalling...\u001b[0m\n",
      "\u001b[3A\u001b[0J  \u001b[32;1m•\u001b[0m \u001b[39mInstalling \u001b[0m\u001b[36mpyparsing\u001b[0m\u001b[39m (\u001b[0m\u001b[32m2.4.7\u001b[0m\u001b[39m)\u001b[0m\n",
      "  \u001b[34;1m•\u001b[0m \u001b[39mInstalling \u001b[0m\u001b[36murllib3\u001b[0m\u001b[39m (\u001b[0m\u001b[39;1m1.26.5\u001b[0m\u001b[39m)\u001b[0m: \u001b[34mInstalling...\u001b[0m\n",
      "\u001b[2A\u001b[0J  \u001b[32;1m•\u001b[0m \u001b[39mInstalling \u001b[0m\u001b[36midna\u001b[0m\u001b[39m (\u001b[0m\u001b[32m2.10\u001b[0m\u001b[39m)\u001b[0m\n",
      "  \u001b[32;1m•\u001b[0m \u001b[39mInstalling \u001b[0m\u001b[36mpyparsing\u001b[0m\u001b[39m (\u001b[0m\u001b[32m2.4.7\u001b[0m\u001b[39m)\u001b[0m\n",
      "  \u001b[34;1m•\u001b[0m \u001b[39mInstalling \u001b[0m\u001b[36murllib3\u001b[0m\u001b[39m (\u001b[0m\u001b[39;1m1.26.5\u001b[0m\u001b[39m)\u001b[0m: \u001b[34mInstalling...\u001b[0m\n",
      "\u001b[1A\u001b[0J  \u001b[32;1m•\u001b[0m \u001b[39mInstalling \u001b[0m\u001b[36murllib3\u001b[0m\u001b[39m (\u001b[0m\u001b[32m1.26.5\u001b[0m\u001b[39m)\u001b[0m\n",
      "\u001b[4A\u001b[0J  \u001b[32;1m•\u001b[0m \u001b[39mInstalling \u001b[0m\u001b[36midna\u001b[0m\u001b[39m (\u001b[0m\u001b[32m2.10\u001b[0m\u001b[39m)\u001b[0m\n",
      "  \u001b[32;1m•\u001b[0m \u001b[39mInstalling \u001b[0m\u001b[36mpyparsing\u001b[0m\u001b[39m (\u001b[0m\u001b[32m2.4.7\u001b[0m\u001b[39m)\u001b[0m\n",
      "  \u001b[32;1m•\u001b[0m \u001b[39mInstalling \u001b[0m\u001b[36murllib3\u001b[0m\u001b[39m (\u001b[0m\u001b[32m1.26.5\u001b[0m\u001b[39m)\u001b[0m\n",
      "\u001b[3A\u001b[0J  \u001b[32;1m•\u001b[0m \u001b[39mInstalling \u001b[0m\u001b[36mchardet\u001b[0m\u001b[39m (\u001b[0m\u001b[32m4.0.0\u001b[0m\u001b[39m)\u001b[0m\n",
      "  \u001b[32;1m•\u001b[0m \u001b[39mInstalling \u001b[0m\u001b[36midna\u001b[0m\u001b[39m (\u001b[0m\u001b[32m2.10\u001b[0m\u001b[39m)\u001b[0m\n",
      "  \u001b[32;1m•\u001b[0m \u001b[39mInstalling \u001b[0m\u001b[36mpyparsing\u001b[0m\u001b[39m (\u001b[0m\u001b[32m2.4.7\u001b[0m\u001b[39m)\u001b[0m\n",
      "  \u001b[32;1m•\u001b[0m \u001b[39mInstalling \u001b[0m\u001b[36murllib3\u001b[0m\u001b[39m (\u001b[0m\u001b[32m1.26.5\u001b[0m\u001b[39m)\u001b[0m\n",
      "  \u001b[34;1m•\u001b[0m \u001b[39mInstalling \u001b[0m\u001b[36mclick\u001b[0m\u001b[39m (\u001b[0m\u001b[39;1m8.0.1\u001b[0m\u001b[39m)\u001b[0m: \u001b[34mPending...\u001b[0m\n",
      "  \u001b[34;1m•\u001b[0m \u001b[39mInstalling \u001b[0m\u001b[36mfilelock\u001b[0m\u001b[39m (\u001b[0m\u001b[39;1m3.0.12\u001b[0m\u001b[39m)\u001b[0m: \u001b[34mPending...\u001b[0m\n",
      "  \u001b[34;1m•\u001b[0m \u001b[39mInstalling \u001b[0m\u001b[36mjoblib\u001b[0m\u001b[39m (\u001b[0m\u001b[39;1m1.0.1\u001b[0m\u001b[39m)\u001b[0m: \u001b[34mPending...\u001b[0m\n",
      "  \u001b[34;1m•\u001b[0m \u001b[39mInstalling \u001b[0m\u001b[36mpackaging\u001b[0m\u001b[39m (\u001b[0m\u001b[39;1m20.9\u001b[0m\u001b[39m)\u001b[0m: \u001b[34mPending...\u001b[0m\n",
      "  \u001b[34;1m•\u001b[0m \u001b[39mInstalling \u001b[0m\u001b[36mregex\u001b[0m\u001b[39m (\u001b[0m\u001b[39;1m2021.4.4\u001b[0m\u001b[39m)\u001b[0m: \u001b[34mPending...\u001b[0m\n",
      "  \u001b[34;1m•\u001b[0m \u001b[39mInstalling \u001b[0m\u001b[36mrequests\u001b[0m\u001b[39m (\u001b[0m\u001b[39;1m2.25.1\u001b[0m\u001b[39m)\u001b[0m: \u001b[34mPending...\u001b[0m\n",
      "  \u001b[34;1m•\u001b[0m \u001b[39mInstalling \u001b[0m\u001b[36msix\u001b[0m\u001b[39m (\u001b[0m\u001b[39;1m1.16.0\u001b[0m\u001b[39m)\u001b[0m: \u001b[34mPending...\u001b[0m\n",
      "  \u001b[34;1m•\u001b[0m \u001b[39mInstalling \u001b[0m\u001b[36mtqdm\u001b[0m\u001b[39m (\u001b[0m\u001b[39;1m4.61.1\u001b[0m\u001b[39m)\u001b[0m: \u001b[34mPending...\u001b[0m\n",
      "  \u001b[34;1m•\u001b[0m \u001b[39mInstalling \u001b[0m\u001b[36mtyping-extensions\u001b[0m\u001b[39m (\u001b[0m\u001b[39;1m3.10.0.0\u001b[0m\u001b[39m)\u001b[0m: \u001b[34mPending...\u001b[0m\n",
      "\u001b[9A\u001b[0J  \u001b[34;1m•\u001b[0m \u001b[39mInstalling \u001b[0m\u001b[36mfilelock\u001b[0m\u001b[39m (\u001b[0m\u001b[39;1m3.0.12\u001b[0m\u001b[39m)\u001b[0m: \u001b[34mPending...\u001b[0m\n",
      "  \u001b[34;1m•\u001b[0m \u001b[39mInstalling \u001b[0m\u001b[36mjoblib\u001b[0m\u001b[39m (\u001b[0m\u001b[39;1m1.0.1\u001b[0m\u001b[39m)\u001b[0m: \u001b[34mPending...\u001b[0m\n",
      "  \u001b[34;1m•\u001b[0m \u001b[39mInstalling \u001b[0m\u001b[36mpackaging\u001b[0m\u001b[39m (\u001b[0m\u001b[39;1m20.9\u001b[0m\u001b[39m)\u001b[0m: \u001b[34mPending...\u001b[0m\n",
      "  \u001b[34;1m•\u001b[0m \u001b[39mInstalling \u001b[0m\u001b[36mregex\u001b[0m\u001b[39m (\u001b[0m\u001b[39;1m2021.4.4\u001b[0m\u001b[39m)\u001b[0m: \u001b[34mPending...\u001b[0m\n",
      "  \u001b[34;1m•\u001b[0m \u001b[39mInstalling \u001b[0m\u001b[36mrequests\u001b[0m\u001b[39m (\u001b[0m\u001b[39;1m2.25.1\u001b[0m\u001b[39m)\u001b[0m: \u001b[34mPending...\u001b[0m\n",
      "  \u001b[34;1m•\u001b[0m \u001b[39mInstalling \u001b[0m\u001b[36msix\u001b[0m\u001b[39m (\u001b[0m\u001b[39;1m1.16.0\u001b[0m\u001b[39m)\u001b[0m: \u001b[34mPending...\u001b[0m\n",
      "  \u001b[34;1m•\u001b[0m \u001b[39mInstalling \u001b[0m\u001b[36mtqdm\u001b[0m\u001b[39m (\u001b[0m\u001b[39;1m4.61.1\u001b[0m\u001b[39m)\u001b[0m: \u001b[34mPending...\u001b[0m\n",
      "  \u001b[34;1m•\u001b[0m \u001b[39mInstalling \u001b[0m\u001b[36mtyping-extensions\u001b[0m\u001b[39m (\u001b[0m\u001b[39;1m3.10.0.0\u001b[0m\u001b[39m)\u001b[0m: \u001b[34mPending...\u001b[0m\n"
     ]
    },
    {
     "name": "stdout",
     "output_type": "stream",
     "text": [
      "\u001b[8A\u001b[0J  \u001b[34;1m•\u001b[0m \u001b[39mInstalling \u001b[0m\u001b[36mclick\u001b[0m\u001b[39m (\u001b[0m\u001b[39;1m8.0.1\u001b[0m\u001b[39m)\u001b[0m: \u001b[34mInstalling...\u001b[0m\n",
      "  \u001b[34;1m•\u001b[0m \u001b[39mInstalling \u001b[0m\u001b[36mfilelock\u001b[0m\u001b[39m (\u001b[0m\u001b[39;1m3.0.12\u001b[0m\u001b[39m)\u001b[0m: \u001b[34mPending...\u001b[0m\n",
      "  \u001b[34;1m•\u001b[0m \u001b[39mInstalling \u001b[0m\u001b[36mjoblib\u001b[0m\u001b[39m (\u001b[0m\u001b[39;1m1.0.1\u001b[0m\u001b[39m)\u001b[0m: \u001b[34mPending...\u001b[0m\n",
      "  \u001b[34;1m•\u001b[0m \u001b[39mInstalling \u001b[0m\u001b[36mpackaging\u001b[0m\u001b[39m (\u001b[0m\u001b[39;1m20.9\u001b[0m\u001b[39m)\u001b[0m: \u001b[34mPending...\u001b[0m\n",
      "  \u001b[34;1m•\u001b[0m \u001b[39mInstalling \u001b[0m\u001b[36mregex\u001b[0m\u001b[39m (\u001b[0m\u001b[39;1m2021.4.4\u001b[0m\u001b[39m)\u001b[0m: \u001b[34mPending...\u001b[0m\n",
      "  \u001b[34;1m•\u001b[0m \u001b[39mInstalling \u001b[0m\u001b[36mrequests\u001b[0m\u001b[39m (\u001b[0m\u001b[39;1m2.25.1\u001b[0m\u001b[39m)\u001b[0m: \u001b[34mPending...\u001b[0m\n",
      "  \u001b[34;1m•\u001b[0m \u001b[39mInstalling \u001b[0m\u001b[36msix\u001b[0m\u001b[39m (\u001b[0m\u001b[39;1m1.16.0\u001b[0m\u001b[39m)\u001b[0m: \u001b[34mPending...\u001b[0m\n",
      "  \u001b[34;1m•\u001b[0m \u001b[39mInstalling \u001b[0m\u001b[36mtqdm\u001b[0m\u001b[39m (\u001b[0m\u001b[39;1m4.61.1\u001b[0m\u001b[39m)\u001b[0m: \u001b[34mPending...\u001b[0m\n",
      "  \u001b[34;1m•\u001b[0m \u001b[39mInstalling \u001b[0m\u001b[36mtyping-extensions\u001b[0m\u001b[39m (\u001b[0m\u001b[39;1m3.10.0.0\u001b[0m\u001b[39m)\u001b[0m: \u001b[34mPending...\u001b[0m\n",
      "\u001b[8A\u001b[0J  \u001b[34;1m•\u001b[0m \u001b[39mInstalling \u001b[0m\u001b[36mjoblib\u001b[0m\u001b[39m (\u001b[0m\u001b[39;1m1.0.1\u001b[0m\u001b[39m)\u001b[0m: \u001b[34mPending...\u001b[0m\n",
      "  \u001b[34;1m•\u001b[0m \u001b[39mInstalling \u001b[0m\u001b[36mpackaging\u001b[0m\u001b[39m (\u001b[0m\u001b[39;1m20.9\u001b[0m\u001b[39m)\u001b[0m: \u001b[34mPending...\u001b[0m\n",
      "  \u001b[34;1m•\u001b[0m \u001b[39mInstalling \u001b[0m\u001b[36mregex\u001b[0m\u001b[39m (\u001b[0m\u001b[39;1m2021.4.4\u001b[0m\u001b[39m)\u001b[0m: \u001b[34mPending...\u001b[0m\n",
      "  \u001b[34;1m•\u001b[0m \u001b[39mInstalling \u001b[0m\u001b[36mrequests\u001b[0m\u001b[39m (\u001b[0m\u001b[39;1m2.25.1\u001b[0m\u001b[39m)\u001b[0m: \u001b[34mPending...\u001b[0m\n",
      "  \u001b[34;1m•\u001b[0m \u001b[39mInstalling \u001b[0m\u001b[36msix\u001b[0m\u001b[39m (\u001b[0m\u001b[39;1m1.16.0\u001b[0m\u001b[39m)\u001b[0m: \u001b[34mPending...\u001b[0m\n",
      "  \u001b[34;1m•\u001b[0m \u001b[39mInstalling \u001b[0m\u001b[36mtqdm\u001b[0m\u001b[39m (\u001b[0m\u001b[39;1m4.61.1\u001b[0m\u001b[39m)\u001b[0m: \u001b[34mPending...\u001b[0m\n",
      "  \u001b[34;1m•\u001b[0m \u001b[39mInstalling \u001b[0m\u001b[36mtyping-extensions\u001b[0m\u001b[39m (\u001b[0m\u001b[39;1m3.10.0.0\u001b[0m\u001b[39m)\u001b[0m: \u001b[34mPending...\u001b[0m\n",
      "\u001b[7A\u001b[0J  \u001b[34;1m•\u001b[0m \u001b[39mInstalling \u001b[0m\u001b[36mfilelock\u001b[0m\u001b[39m (\u001b[0m\u001b[39;1m3.0.12\u001b[0m\u001b[39m)\u001b[0m: \u001b[34mInstalling...\u001b[0m\n",
      "  \u001b[34;1m•\u001b[0m \u001b[39mInstalling \u001b[0m\u001b[36mjoblib\u001b[0m\u001b[39m (\u001b[0m\u001b[39;1m1.0.1\u001b[0m\u001b[39m)\u001b[0m: \u001b[34mPending...\u001b[0m\n",
      "  \u001b[34;1m•\u001b[0m \u001b[39mInstalling \u001b[0m\u001b[36mpackaging\u001b[0m\u001b[39m (\u001b[0m\u001b[39;1m20.9\u001b[0m\u001b[39m)\u001b[0m: \u001b[34mPending...\u001b[0m\n",
      "  \u001b[34;1m•\u001b[0m \u001b[39mInstalling \u001b[0m\u001b[36mregex\u001b[0m\u001b[39m (\u001b[0m\u001b[39;1m2021.4.4\u001b[0m\u001b[39m)\u001b[0m: \u001b[34mPending...\u001b[0m\n",
      "  \u001b[34;1m•\u001b[0m \u001b[39mInstalling \u001b[0m\u001b[36mrequests\u001b[0m\u001b[39m (\u001b[0m\u001b[39;1m2.25.1\u001b[0m\u001b[39m)\u001b[0m: \u001b[34mPending...\u001b[0m\n",
      "  \u001b[34;1m•\u001b[0m \u001b[39mInstalling \u001b[0m\u001b[36msix\u001b[0m\u001b[39m (\u001b[0m\u001b[39;1m1.16.0\u001b[0m\u001b[39m)\u001b[0m: \u001b[34mPending...\u001b[0m\n",
      "  \u001b[34;1m•\u001b[0m \u001b[39mInstalling \u001b[0m\u001b[36mtqdm\u001b[0m\u001b[39m (\u001b[0m\u001b[39;1m4.61.1\u001b[0m\u001b[39m)\u001b[0m: \u001b[34mPending...\u001b[0m\n",
      "  \u001b[34;1m•\u001b[0m \u001b[39mInstalling \u001b[0m\u001b[36mtyping-extensions\u001b[0m\u001b[39m (\u001b[0m\u001b[39;1m3.10.0.0\u001b[0m\u001b[39m)\u001b[0m: \u001b[34mPending...\u001b[0m\n",
      "\u001b[6A\u001b[0J  \u001b[34;1m•\u001b[0m \u001b[39mInstalling \u001b[0m\u001b[36mregex\u001b[0m\u001b[39m (\u001b[0m\u001b[39;1m2021.4.4\u001b[0m\u001b[39m)\u001b[0m: \u001b[34mPending...\u001b[0m\n",
      "  \u001b[34;1m•\u001b[0m \u001b[39mInstalling \u001b[0m\u001b[36mrequests\u001b[0m\u001b[39m (\u001b[0m\u001b[39;1m2.25.1\u001b[0m\u001b[39m)\u001b[0m: \u001b[34mPending...\u001b[0m\n",
      "  \u001b[34;1m•\u001b[0m \u001b[39mInstalling \u001b[0m\u001b[36msix\u001b[0m\u001b[39m (\u001b[0m\u001b[39;1m1.16.0\u001b[0m\u001b[39m)\u001b[0m: \u001b[34mPending...\u001b[0m\n",
      "  \u001b[34;1m•\u001b[0m \u001b[39mInstalling \u001b[0m\u001b[36mtqdm\u001b[0m\u001b[39m (\u001b[0m\u001b[39;1m4.61.1\u001b[0m\u001b[39m)\u001b[0m: \u001b[34mPending...\u001b[0m\n",
      "  \u001b[34;1m•\u001b[0m \u001b[39mInstalling \u001b[0m\u001b[36mtyping-extensions\u001b[0m\u001b[39m (\u001b[0m\u001b[39;1m3.10.0.0\u001b[0m\u001b[39m)\u001b[0m: \u001b[34mPending...\u001b[0m\n",
      "\u001b[5A\u001b[0J  \u001b[34;1m•\u001b[0m \u001b[39mInstalling \u001b[0m\u001b[36mpackaging\u001b[0m\u001b[39m (\u001b[0m\u001b[39;1m20.9\u001b[0m\u001b[39m)\u001b[0m: \u001b[34mInstalling...\u001b[0m\n",
      "  \u001b[34;1m•\u001b[0m \u001b[39mInstalling \u001b[0m\u001b[36mregex\u001b[0m\u001b[39m (\u001b[0m\u001b[39;1m2021.4.4\u001b[0m\u001b[39m)\u001b[0m: \u001b[34mPending...\u001b[0m\n",
      "  \u001b[34;1m•\u001b[0m \u001b[39mInstalling \u001b[0m\u001b[36mrequests\u001b[0m\u001b[39m (\u001b[0m\u001b[39;1m2.25.1\u001b[0m\u001b[39m)\u001b[0m: \u001b[34mPending...\u001b[0m\n",
      "  \u001b[34;1m•\u001b[0m \u001b[39mInstalling \u001b[0m\u001b[36msix\u001b[0m\u001b[39m (\u001b[0m\u001b[39;1m1.16.0\u001b[0m\u001b[39m)\u001b[0m: \u001b[34mPending...\u001b[0m\n",
      "  \u001b[34;1m•\u001b[0m \u001b[39mInstalling \u001b[0m\u001b[36mtqdm\u001b[0m\u001b[39m (\u001b[0m\u001b[39;1m4.61.1\u001b[0m\u001b[39m)\u001b[0m: \u001b[34mPending...\u001b[0m\n",
      "  \u001b[34;1m•\u001b[0m \u001b[39mInstalling \u001b[0m\u001b[36mtyping-extensions\u001b[0m\u001b[39m (\u001b[0m\u001b[39;1m3.10.0.0\u001b[0m\u001b[39m)\u001b[0m: \u001b[34mPending...\u001b[0m\n",
      "\u001b[3A\u001b[0J  \u001b[34;1m•\u001b[0m \u001b[39mInstalling \u001b[0m\u001b[36mtqdm\u001b[0m\u001b[39m (\u001b[0m\u001b[39;1m4.61.1\u001b[0m\u001b[39m)\u001b[0m: \u001b[34mPending...\u001b[0m\n",
      "  \u001b[34;1m•\u001b[0m \u001b[39mInstalling \u001b[0m\u001b[36mtyping-extensions\u001b[0m\u001b[39m (\u001b[0m\u001b[39;1m3.10.0.0\u001b[0m\u001b[39m)\u001b[0m: \u001b[34mPending...\u001b[0m\n",
      "\u001b[2A\u001b[0J  \u001b[34;1m•\u001b[0m \u001b[39mInstalling \u001b[0m\u001b[36msix\u001b[0m\u001b[39m (\u001b[0m\u001b[39;1m1.16.0\u001b[0m\u001b[39m)\u001b[0m: \u001b[34mInstalling...\u001b[0m\n",
      "  \u001b[34;1m•\u001b[0m \u001b[39mInstalling \u001b[0m\u001b[36mtqdm\u001b[0m\u001b[39m (\u001b[0m\u001b[39;1m4.61.1\u001b[0m\u001b[39m)\u001b[0m: \u001b[34mPending...\u001b[0m\n",
      "  \u001b[34;1m•\u001b[0m \u001b[39mInstalling \u001b[0m\u001b[36mtyping-extensions\u001b[0m\u001b[39m (\u001b[0m\u001b[39;1m3.10.0.0\u001b[0m\u001b[39m)\u001b[0m: \u001b[34mPending...\u001b[0m\n",
      "\u001b[4A\u001b[0J  \u001b[34;1m•\u001b[0m \u001b[39mInstalling \u001b[0m\u001b[36msix\u001b[0m\u001b[39m (\u001b[0m\u001b[39;1m1.16.0\u001b[0m\u001b[39m)\u001b[0m: \u001b[34mInstalling...\u001b[0m\n",
      "  \u001b[34;1m•\u001b[0m \u001b[39mInstalling \u001b[0m\u001b[36mtqdm\u001b[0m\u001b[39m (\u001b[0m\u001b[39;1m4.61.1\u001b[0m\u001b[39m)\u001b[0m: \u001b[34mPending...\u001b[0m\n",
      "  \u001b[34;1m•\u001b[0m \u001b[39mInstalling \u001b[0m\u001b[36mtyping-extensions\u001b[0m\u001b[39m (\u001b[0m\u001b[39;1m3.10.0.0\u001b[0m\u001b[39m)\u001b[0m: \u001b[34mPending...\u001b[0m\n",
      "\u001b[3A\u001b[0J  \u001b[34;1m•\u001b[0m \u001b[39mInstalling \u001b[0m\u001b[36mrequests\u001b[0m\u001b[39m (\u001b[0m\u001b[39;1m2.25.1\u001b[0m\u001b[39m)\u001b[0m: \u001b[34mInstalling...\u001b[0m\n",
      "  \u001b[34;1m•\u001b[0m \u001b[39mInstalling \u001b[0m\u001b[36msix\u001b[0m\u001b[39m (\u001b[0m\u001b[39;1m1.16.0\u001b[0m\u001b[39m)\u001b[0m: \u001b[34mInstalling...\u001b[0m\n",
      "  \u001b[34;1m•\u001b[0m \u001b[39mInstalling \u001b[0m\u001b[36mtqdm\u001b[0m\u001b[39m (\u001b[0m\u001b[39;1m4.61.1\u001b[0m\u001b[39m)\u001b[0m: \u001b[34mPending...\u001b[0m\n",
      "  \u001b[34;1m•\u001b[0m \u001b[39mInstalling \u001b[0m\u001b[36mtyping-extensions\u001b[0m\u001b[39m (\u001b[0m\u001b[39;1m3.10.0.0\u001b[0m\u001b[39m)\u001b[0m: \u001b[34mPending...\u001b[0m\n",
      "\u001b[7A\u001b[0J  \u001b[34;1m•\u001b[0m \u001b[39mInstalling \u001b[0m\u001b[36mpackaging\u001b[0m\u001b[39m (\u001b[0m\u001b[39;1m20.9\u001b[0m\u001b[39m)\u001b[0m: \u001b[34mInstalling...\u001b[0m\n",
      "  \u001b[34;1m•\u001b[0m \u001b[39mInstalling \u001b[0m\u001b[36mregex\u001b[0m\u001b[39m (\u001b[0m\u001b[39;1m2021.4.4\u001b[0m\u001b[39m)\u001b[0m: \u001b[34mPending...\u001b[0m\n",
      "  \u001b[34;1m•\u001b[0m \u001b[39mInstalling \u001b[0m\u001b[36mrequests\u001b[0m\u001b[39m (\u001b[0m\u001b[39;1m2.25.1\u001b[0m\u001b[39m)\u001b[0m: \u001b[34mInstalling...\u001b[0m\n",
      "  \u001b[34;1m•\u001b[0m \u001b[39mInstalling \u001b[0m\u001b[36msix\u001b[0m\u001b[39m (\u001b[0m\u001b[39;1m1.16.0\u001b[0m\u001b[39m)\u001b[0m: \u001b[34mInstalling...\u001b[0m\n",
      "  \u001b[34;1m•\u001b[0m \u001b[39mInstalling \u001b[0m\u001b[36mtqdm\u001b[0m\u001b[39m (\u001b[0m\u001b[39;1m4.61.1\u001b[0m\u001b[39m)\u001b[0m: \u001b[34mPending...\u001b[0m\n",
      "  \u001b[34;1m•\u001b[0m \u001b[39mInstalling \u001b[0m\u001b[36mtyping-extensions\u001b[0m\u001b[39m (\u001b[0m\u001b[39;1m3.10.0.0\u001b[0m\u001b[39m)\u001b[0m: \u001b[34mPending...\u001b[0m\n",
      "\u001b[6A\u001b[0J  \u001b[34;1m•\u001b[0m \u001b[39mInstalling \u001b[0m\u001b[36mjoblib\u001b[0m\u001b[39m (\u001b[0m\u001b[39;1m1.0.1\u001b[0m\u001b[39m)\u001b[0m: \u001b[34mInstalling...\u001b[0m\n",
      "  \u001b[34;1m•\u001b[0m \u001b[39mInstalling \u001b[0m\u001b[36mpackaging\u001b[0m\u001b[39m (\u001b[0m\u001b[39;1m20.9\u001b[0m\u001b[39m)\u001b[0m: \u001b[34mInstalling...\u001b[0m\n",
      "  \u001b[34;1m•\u001b[0m \u001b[39mInstalling \u001b[0m\u001b[36mregex\u001b[0m\u001b[39m (\u001b[0m\u001b[39;1m2021.4.4\u001b[0m\u001b[39m)\u001b[0m: \u001b[34mPending...\u001b[0m\n",
      "  \u001b[34;1m•\u001b[0m \u001b[39mInstalling \u001b[0m\u001b[36mrequests\u001b[0m\u001b[39m (\u001b[0m\u001b[39;1m2.25.1\u001b[0m\u001b[39m)\u001b[0m: \u001b[34mInstalling...\u001b[0m\n",
      "  \u001b[34;1m•\u001b[0m \u001b[39mInstalling \u001b[0m\u001b[36msix\u001b[0m\u001b[39m (\u001b[0m\u001b[39;1m1.16.0\u001b[0m\u001b[39m)\u001b[0m: \u001b[34mInstalling...\u001b[0m\n",
      "  \u001b[34;1m•\u001b[0m \u001b[39mInstalling \u001b[0m\u001b[36mtqdm\u001b[0m\u001b[39m (\u001b[0m\u001b[39;1m4.61.1\u001b[0m\u001b[39m)\u001b[0m: \u001b[34mPending...\u001b[0m\n",
      "  \u001b[34;1m•\u001b[0m \u001b[39mInstalling \u001b[0m\u001b[36mtyping-extensions\u001b[0m\u001b[39m (\u001b[0m\u001b[39;1m3.10.0.0\u001b[0m\u001b[39m)\u001b[0m: \u001b[34mPending...\u001b[0m\n",
      "\u001b[2A\u001b[0J  \u001b[34;1m•\u001b[0m \u001b[39mInstalling \u001b[0m\u001b[36mtyping-extensions\u001b[0m\u001b[39m (\u001b[0m\u001b[39;1m3.10.0.0\u001b[0m\u001b[39m)\u001b[0m: \u001b[34mPending...\u001b[0m\n",
      "\u001b[1A\u001b[0J  \u001b[34;1m•\u001b[0m \u001b[39mInstalling \u001b[0m\u001b[36mtqdm\u001b[0m\u001b[39m (\u001b[0m\u001b[39;1m4.61.1\u001b[0m\u001b[39m)\u001b[0m: \u001b[34mInstalling...\u001b[0m\n",
      "  \u001b[34;1m•\u001b[0m \u001b[39mInstalling \u001b[0m\u001b[36mtyping-extensions\u001b[0m\u001b[39m (\u001b[0m\u001b[39;1m3.10.0.0\u001b[0m\u001b[39m)\u001b[0m: \u001b[34mPending...\u001b[0m\n",
      "\u001b[1A\u001b[0J  \u001b[34;1m•\u001b[0m \u001b[39mInstalling \u001b[0m\u001b[36mtyping-extensions\u001b[0m\u001b[39m (\u001b[0m\u001b[39;1m3.10.0.0\u001b[0m\u001b[39m)\u001b[0m: \u001b[34mInstalling...\u001b[0m\n",
      "\u001b[5A\u001b[0J  \u001b[34;1m•\u001b[0m \u001b[39mInstalling \u001b[0m\u001b[36mrequests\u001b[0m\u001b[39m (\u001b[0m\u001b[39;1m2.25.1\u001b[0m\u001b[39m)\u001b[0m: \u001b[34mInstalling...\u001b[0m\n",
      "  \u001b[34;1m•\u001b[0m \u001b[39mInstalling \u001b[0m\u001b[36msix\u001b[0m\u001b[39m (\u001b[0m\u001b[39;1m1.16.0\u001b[0m\u001b[39m)\u001b[0m: \u001b[34mInstalling...\u001b[0m\n",
      "  \u001b[34;1m•\u001b[0m \u001b[39mInstalling \u001b[0m\u001b[36mtqdm\u001b[0m\u001b[39m (\u001b[0m\u001b[39;1m4.61.1\u001b[0m\u001b[39m)\u001b[0m: \u001b[34mInstalling...\u001b[0m\n",
      "  \u001b[34;1m•\u001b[0m \u001b[39mInstalling \u001b[0m\u001b[36mtyping-extensions\u001b[0m\u001b[39m (\u001b[0m\u001b[39;1m3.10.0.0\u001b[0m\u001b[39m)\u001b[0m: \u001b[34mInstalling...\u001b[0m\n",
      "\u001b[4A\u001b[0J  \u001b[34;1m•\u001b[0m \u001b[39mInstalling \u001b[0m\u001b[36mregex\u001b[0m\u001b[39m (\u001b[0m\u001b[39;1m2021.4.4\u001b[0m\u001b[39m)\u001b[0m: \u001b[34mInstalling...\u001b[0m\n",
      "  \u001b[34;1m•\u001b[0m \u001b[39mInstalling \u001b[0m\u001b[36mrequests\u001b[0m\u001b[39m (\u001b[0m\u001b[39;1m2.25.1\u001b[0m\u001b[39m)\u001b[0m: \u001b[34mInstalling...\u001b[0m\n",
      "  \u001b[34;1m•\u001b[0m \u001b[39mInstalling \u001b[0m\u001b[36msix\u001b[0m\u001b[39m (\u001b[0m\u001b[39;1m1.16.0\u001b[0m\u001b[39m)\u001b[0m: \u001b[34mInstalling...\u001b[0m\n",
      "  \u001b[34;1m•\u001b[0m \u001b[39mInstalling \u001b[0m\u001b[36mtqdm\u001b[0m\u001b[39m (\u001b[0m\u001b[39;1m4.61.1\u001b[0m\u001b[39m)\u001b[0m: \u001b[34mInstalling...\u001b[0m\n",
      "  \u001b[34;1m•\u001b[0m \u001b[39mInstalling \u001b[0m\u001b[36mtyping-extensions\u001b[0m\u001b[39m (\u001b[0m\u001b[39;1m3.10.0.0\u001b[0m\u001b[39m)\u001b[0m: \u001b[34mInstalling...\u001b[0m\n"
     ]
    },
    {
     "name": "stdout",
     "output_type": "stream",
     "text": [
      "\u001b[8A\u001b[0J  \u001b[34;1m•\u001b[0m \u001b[39mInstalling \u001b[0m\u001b[36mjoblib\u001b[0m\u001b[39m (\u001b[0m\u001b[39;1m1.0.1\u001b[0m\u001b[39m)\u001b[0m: \u001b[34mInstalling...\u001b[0m\n",
      "  \u001b[34;1m•\u001b[0m \u001b[39mInstalling \u001b[0m\u001b[36mpackaging\u001b[0m\u001b[39m (\u001b[0m\u001b[39;1m20.9\u001b[0m\u001b[39m)\u001b[0m: \u001b[34mInstalling...\u001b[0m\n",
      "  \u001b[34;1m•\u001b[0m \u001b[39mInstalling \u001b[0m\u001b[36mregex\u001b[0m\u001b[39m (\u001b[0m\u001b[39;1m2021.4.4\u001b[0m\u001b[39m)\u001b[0m: \u001b[34mInstalling...\u001b[0m\n",
      "  \u001b[34;1m•\u001b[0m \u001b[39mInstalling \u001b[0m\u001b[36mrequests\u001b[0m\u001b[39m (\u001b[0m\u001b[39;1m2.25.1\u001b[0m\u001b[39m)\u001b[0m: \u001b[34mInstalling...\u001b[0m\n",
      "  \u001b[34;1m•\u001b[0m \u001b[39mInstalling \u001b[0m\u001b[36msix\u001b[0m\u001b[39m (\u001b[0m\u001b[39;1m1.16.0\u001b[0m\u001b[39m)\u001b[0m: \u001b[34mInstalling...\u001b[0m\n",
      "  \u001b[34;1m•\u001b[0m \u001b[39mInstalling \u001b[0m\u001b[36mtqdm\u001b[0m\u001b[39m (\u001b[0m\u001b[39;1m4.61.1\u001b[0m\u001b[39m)\u001b[0m: \u001b[34mInstalling...\u001b[0m\n",
      "  \u001b[34;1m•\u001b[0m \u001b[39mInstalling \u001b[0m\u001b[36mtyping-extensions\u001b[0m\u001b[39m (\u001b[0m\u001b[39;1m3.10.0.0\u001b[0m\u001b[39m)\u001b[0m: \u001b[34mInstalling...\u001b[0m\n",
      "\u001b[7A\u001b[0J  \u001b[32;1m•\u001b[0m \u001b[39mInstalling \u001b[0m\u001b[36mfilelock\u001b[0m\u001b[39m (\u001b[0m\u001b[32m3.0.12\u001b[0m\u001b[39m)\u001b[0m\n",
      "  \u001b[34;1m•\u001b[0m \u001b[39mInstalling \u001b[0m\u001b[36mjoblib\u001b[0m\u001b[39m (\u001b[0m\u001b[39;1m1.0.1\u001b[0m\u001b[39m)\u001b[0m: \u001b[34mInstalling...\u001b[0m\n",
      "  \u001b[34;1m•\u001b[0m \u001b[39mInstalling \u001b[0m\u001b[36mpackaging\u001b[0m\u001b[39m (\u001b[0m\u001b[39;1m20.9\u001b[0m\u001b[39m)\u001b[0m: \u001b[34mInstalling...\u001b[0m\n",
      "  \u001b[34;1m•\u001b[0m \u001b[39mInstalling \u001b[0m\u001b[36mregex\u001b[0m\u001b[39m (\u001b[0m\u001b[39;1m2021.4.4\u001b[0m\u001b[39m)\u001b[0m: \u001b[34mInstalling...\u001b[0m\n",
      "  \u001b[34;1m•\u001b[0m \u001b[39mInstalling \u001b[0m\u001b[36mrequests\u001b[0m\u001b[39m (\u001b[0m\u001b[39;1m2.25.1\u001b[0m\u001b[39m)\u001b[0m: \u001b[34mInstalling...\u001b[0m\n",
      "  \u001b[34;1m•\u001b[0m \u001b[39mInstalling \u001b[0m\u001b[36msix\u001b[0m\u001b[39m (\u001b[0m\u001b[39;1m1.16.0\u001b[0m\u001b[39m)\u001b[0m: \u001b[34mInstalling...\u001b[0m\n",
      "  \u001b[34;1m•\u001b[0m \u001b[39mInstalling \u001b[0m\u001b[36mtqdm\u001b[0m\u001b[39m (\u001b[0m\u001b[39;1m4.61.1\u001b[0m\u001b[39m)\u001b[0m: \u001b[34mInstalling...\u001b[0m\n",
      "  \u001b[34;1m•\u001b[0m \u001b[39mInstalling \u001b[0m\u001b[36mtyping-extensions\u001b[0m\u001b[39m (\u001b[0m\u001b[39;1m3.10.0.0\u001b[0m\u001b[39m)\u001b[0m: \u001b[34mInstalling...\u001b[0m\n",
      "\u001b[9A\u001b[0J  \u001b[32;1m•\u001b[0m \u001b[39mInstalling \u001b[0m\u001b[36mfilelock\u001b[0m\u001b[39m (\u001b[0m\u001b[32m3.0.12\u001b[0m\u001b[39m)\u001b[0m\n",
      "  \u001b[34;1m•\u001b[0m \u001b[39mInstalling \u001b[0m\u001b[36mjoblib\u001b[0m\u001b[39m (\u001b[0m\u001b[39;1m1.0.1\u001b[0m\u001b[39m)\u001b[0m: \u001b[34mInstalling...\u001b[0m\n",
      "  \u001b[34;1m•\u001b[0m \u001b[39mInstalling \u001b[0m\u001b[36mpackaging\u001b[0m\u001b[39m (\u001b[0m\u001b[39;1m20.9\u001b[0m\u001b[39m)\u001b[0m: \u001b[34mInstalling...\u001b[0m\n",
      "  \u001b[34;1m•\u001b[0m \u001b[39mInstalling \u001b[0m\u001b[36mregex\u001b[0m\u001b[39m (\u001b[0m\u001b[39;1m2021.4.4\u001b[0m\u001b[39m)\u001b[0m: \u001b[34mInstalling...\u001b[0m\n",
      "  \u001b[34;1m•\u001b[0m \u001b[39mInstalling \u001b[0m\u001b[36mrequests\u001b[0m\u001b[39m (\u001b[0m\u001b[39;1m2.25.1\u001b[0m\u001b[39m)\u001b[0m: \u001b[34mInstalling...\u001b[0m\n",
      "  \u001b[34;1m•\u001b[0m \u001b[39mInstalling \u001b[0m\u001b[36msix\u001b[0m\u001b[39m (\u001b[0m\u001b[39;1m1.16.0\u001b[0m\u001b[39m)\u001b[0m: \u001b[34mInstalling...\u001b[0m\n",
      "  \u001b[34;1m•\u001b[0m \u001b[39mInstalling \u001b[0m\u001b[36mtqdm\u001b[0m\u001b[39m (\u001b[0m\u001b[39;1m4.61.1\u001b[0m\u001b[39m)\u001b[0m: \u001b[34mInstalling...\u001b[0m\n",
      "  \u001b[34;1m•\u001b[0m \u001b[39mInstalling \u001b[0m\u001b[36mtyping-extensions\u001b[0m\u001b[39m (\u001b[0m\u001b[39;1m3.10.0.0\u001b[0m\u001b[39m)\u001b[0m: \u001b[34mInstalling...\u001b[0m\n",
      "\u001b[8A\u001b[0J  \u001b[32;1m•\u001b[0m \u001b[39mInstalling \u001b[0m\u001b[36mclick\u001b[0m\u001b[39m (\u001b[0m\u001b[32m8.0.1\u001b[0m\u001b[39m)\u001b[0m\n",
      "  \u001b[32;1m•\u001b[0m \u001b[39mInstalling \u001b[0m\u001b[36mfilelock\u001b[0m\u001b[39m (\u001b[0m\u001b[32m3.0.12\u001b[0m\u001b[39m)\u001b[0m\n",
      "  \u001b[34;1m•\u001b[0m \u001b[39mInstalling \u001b[0m\u001b[36mjoblib\u001b[0m\u001b[39m (\u001b[0m\u001b[39;1m1.0.1\u001b[0m\u001b[39m)\u001b[0m: \u001b[34mInstalling...\u001b[0m\n",
      "  \u001b[34;1m•\u001b[0m \u001b[39mInstalling \u001b[0m\u001b[36mpackaging\u001b[0m\u001b[39m (\u001b[0m\u001b[39;1m20.9\u001b[0m\u001b[39m)\u001b[0m: \u001b[34mInstalling...\u001b[0m\n",
      "  \u001b[34;1m•\u001b[0m \u001b[39mInstalling \u001b[0m\u001b[36mregex\u001b[0m\u001b[39m (\u001b[0m\u001b[39;1m2021.4.4\u001b[0m\u001b[39m)\u001b[0m: \u001b[34mInstalling...\u001b[0m\n",
      "  \u001b[34;1m•\u001b[0m \u001b[39mInstalling \u001b[0m\u001b[36mrequests\u001b[0m\u001b[39m (\u001b[0m\u001b[39;1m2.25.1\u001b[0m\u001b[39m)\u001b[0m: \u001b[34mInstalling...\u001b[0m\n",
      "  \u001b[34;1m•\u001b[0m \u001b[39mInstalling \u001b[0m\u001b[36msix\u001b[0m\u001b[39m (\u001b[0m\u001b[39;1m1.16.0\u001b[0m\u001b[39m)\u001b[0m: \u001b[34mInstalling...\u001b[0m\n",
      "  \u001b[34;1m•\u001b[0m \u001b[39mInstalling \u001b[0m\u001b[36mtqdm\u001b[0m\u001b[39m (\u001b[0m\u001b[39;1m4.61.1\u001b[0m\u001b[39m)\u001b[0m: \u001b[34mInstalling...\u001b[0m\n",
      "  \u001b[34;1m•\u001b[0m \u001b[39mInstalling \u001b[0m\u001b[36mtyping-extensions\u001b[0m\u001b[39m (\u001b[0m\u001b[39;1m3.10.0.0\u001b[0m\u001b[39m)\u001b[0m: \u001b[34mInstalling...\u001b[0m\n",
      "\u001b[3A\u001b[0J  \u001b[34;1m•\u001b[0m \u001b[39mInstalling \u001b[0m\u001b[36mtqdm\u001b[0m\u001b[39m (\u001b[0m\u001b[39;1m4.61.1\u001b[0m\u001b[39m)\u001b[0m: \u001b[34mInstalling...\u001b[0m\n",
      "  \u001b[34;1m•\u001b[0m \u001b[39mInstalling \u001b[0m\u001b[36mtyping-extensions\u001b[0m\u001b[39m (\u001b[0m\u001b[39;1m3.10.0.0\u001b[0m\u001b[39m)\u001b[0m: \u001b[34mInstalling...\u001b[0m\n",
      "\u001b[2A\u001b[0J  \u001b[32;1m•\u001b[0m \u001b[39mInstalling \u001b[0m\u001b[36msix\u001b[0m\u001b[39m (\u001b[0m\u001b[32m1.16.0\u001b[0m\u001b[39m)\u001b[0m\n",
      "  \u001b[34;1m•\u001b[0m \u001b[39mInstalling \u001b[0m\u001b[36mtqdm\u001b[0m\u001b[39m (\u001b[0m\u001b[39;1m4.61.1\u001b[0m\u001b[39m)\u001b[0m: \u001b[34mInstalling...\u001b[0m\n",
      "  \u001b[34;1m•\u001b[0m \u001b[39mInstalling \u001b[0m\u001b[36mtyping-extensions\u001b[0m\u001b[39m (\u001b[0m\u001b[39;1m3.10.0.0\u001b[0m\u001b[39m)\u001b[0m: \u001b[34mInstalling...\u001b[0m\n",
      "\u001b[6A\u001b[0J  \u001b[34;1m•\u001b[0m \u001b[39mInstalling \u001b[0m\u001b[36mregex\u001b[0m\u001b[39m (\u001b[0m\u001b[39;1m2021.4.4\u001b[0m\u001b[39m)\u001b[0m: \u001b[34mInstalling...\u001b[0m\n",
      "  \u001b[34;1m•\u001b[0m \u001b[39mInstalling \u001b[0m\u001b[36mrequests\u001b[0m\u001b[39m (\u001b[0m\u001b[39;1m2.25.1\u001b[0m\u001b[39m)\u001b[0m: \u001b[34mInstalling...\u001b[0m\n",
      "  \u001b[32;1m•\u001b[0m \u001b[39mInstalling \u001b[0m\u001b[36msix\u001b[0m\u001b[39m (\u001b[0m\u001b[32m1.16.0\u001b[0m\u001b[39m)\u001b[0m\n",
      "  \u001b[34;1m•\u001b[0m \u001b[39mInstalling \u001b[0m\u001b[36mtqdm\u001b[0m\u001b[39m (\u001b[0m\u001b[39;1m4.61.1\u001b[0m\u001b[39m)\u001b[0m: \u001b[34mInstalling...\u001b[0m\n",
      "  \u001b[34;1m•\u001b[0m \u001b[39mInstalling \u001b[0m\u001b[36mtyping-extensions\u001b[0m\u001b[39m (\u001b[0m\u001b[39;1m3.10.0.0\u001b[0m\u001b[39m)\u001b[0m: \u001b[34mInstalling...\u001b[0m\n",
      "\u001b[5A\u001b[0J  \u001b[32;1m•\u001b[0m \u001b[39mInstalling \u001b[0m\u001b[36mpackaging\u001b[0m\u001b[39m (\u001b[0m\u001b[32m20.9\u001b[0m\u001b[39m)\u001b[0m\n",
      "  \u001b[34;1m•\u001b[0m \u001b[39mInstalling \u001b[0m\u001b[36mregex\u001b[0m\u001b[39m (\u001b[0m\u001b[39;1m2021.4.4\u001b[0m\u001b[39m)\u001b[0m: \u001b[34mInstalling...\u001b[0m\n",
      "  \u001b[34;1m•\u001b[0m \u001b[39mInstalling \u001b[0m\u001b[36mrequests\u001b[0m\u001b[39m (\u001b[0m\u001b[39;1m2.25.1\u001b[0m\u001b[39m)\u001b[0m: \u001b[34mInstalling...\u001b[0m\n",
      "  \u001b[32;1m•\u001b[0m \u001b[39mInstalling \u001b[0m\u001b[36msix\u001b[0m\u001b[39m (\u001b[0m\u001b[32m1.16.0\u001b[0m\u001b[39m)\u001b[0m\n",
      "  \u001b[34;1m•\u001b[0m \u001b[39mInstalling \u001b[0m\u001b[36mtqdm\u001b[0m\u001b[39m (\u001b[0m\u001b[39;1m4.61.1\u001b[0m\u001b[39m)\u001b[0m: \u001b[34mInstalling...\u001b[0m\n",
      "  \u001b[34;1m•\u001b[0m \u001b[39mInstalling \u001b[0m\u001b[36mtyping-extensions\u001b[0m\u001b[39m (\u001b[0m\u001b[39;1m3.10.0.0\u001b[0m\u001b[39m)\u001b[0m: \u001b[34mInstalling...\u001b[0m\n",
      "\u001b[4A\u001b[0J  \u001b[32;1m•\u001b[0m \u001b[39mInstalling \u001b[0m\u001b[36msix\u001b[0m\u001b[39m (\u001b[0m\u001b[32m1.16.0\u001b[0m\u001b[39m)\u001b[0m\n",
      "  \u001b[34;1m•\u001b[0m \u001b[39mInstalling \u001b[0m\u001b[36mtqdm\u001b[0m\u001b[39m (\u001b[0m\u001b[39;1m4.61.1\u001b[0m\u001b[39m)\u001b[0m: \u001b[34mInstalling...\u001b[0m\n",
      "  \u001b[34;1m•\u001b[0m \u001b[39mInstalling \u001b[0m\u001b[36mtyping-extensions\u001b[0m\u001b[39m (\u001b[0m\u001b[39;1m3.10.0.0\u001b[0m\u001b[39m)\u001b[0m: \u001b[34mInstalling...\u001b[0m\n",
      "\u001b[3A\u001b[0J  \u001b[32;1m•\u001b[0m \u001b[39mInstalling \u001b[0m\u001b[36mrequests\u001b[0m\u001b[39m (\u001b[0m\u001b[32m2.25.1\u001b[0m\u001b[39m)\u001b[0m\n",
      "  \u001b[32;1m•\u001b[0m \u001b[39mInstalling \u001b[0m\u001b[36msix\u001b[0m\u001b[39m (\u001b[0m\u001b[32m1.16.0\u001b[0m\u001b[39m)\u001b[0m\n",
      "  \u001b[34;1m•\u001b[0m \u001b[39mInstalling \u001b[0m\u001b[36mtqdm\u001b[0m\u001b[39m (\u001b[0m\u001b[39;1m4.61.1\u001b[0m\u001b[39m)\u001b[0m: \u001b[34mInstalling...\u001b[0m\n",
      "  \u001b[34;1m•\u001b[0m \u001b[39mInstalling \u001b[0m\u001b[36mtyping-extensions\u001b[0m\u001b[39m (\u001b[0m\u001b[39;1m3.10.0.0\u001b[0m\u001b[39m)\u001b[0m: \u001b[34mInstalling...\u001b[0m\n",
      "\u001b[1A\u001b[0J  \u001b[32;1m•\u001b[0m \u001b[39mInstalling \u001b[0m\u001b[36mtyping-extensions\u001b[0m\u001b[39m (\u001b[0m\u001b[32m3.10.0.0\u001b[0m\u001b[39m)\u001b[0m\n",
      "\u001b[2A\u001b[0J  \u001b[32;1m•\u001b[0m \u001b[39mInstalling \u001b[0m\u001b[36mtyping-extensions\u001b[0m\u001b[39m (\u001b[0m\u001b[32m3.10.0.0\u001b[0m\u001b[39m)\u001b[0m\n",
      "\u001b[1A\u001b[0J  \u001b[32;1m•\u001b[0m \u001b[39mInstalling \u001b[0m\u001b[36mtqdm\u001b[0m\u001b[39m (\u001b[0m\u001b[32m4.61.1\u001b[0m\u001b[39m)\u001b[0m\n",
      "  \u001b[32;1m•\u001b[0m \u001b[39mInstalling \u001b[0m\u001b[36mtyping-extensions\u001b[0m\u001b[39m (\u001b[0m\u001b[32m3.10.0.0\u001b[0m\u001b[39m)\u001b[0m\n",
      "\u001b[5A\u001b[0J  \u001b[32;1m•\u001b[0m \u001b[39mInstalling \u001b[0m\u001b[36mrequests\u001b[0m\u001b[39m (\u001b[0m\u001b[32m2.25.1\u001b[0m\u001b[39m)\u001b[0m\n",
      "  \u001b[32;1m•\u001b[0m \u001b[39mInstalling \u001b[0m\u001b[36msix\u001b[0m\u001b[39m (\u001b[0m\u001b[32m1.16.0\u001b[0m\u001b[39m)\u001b[0m\n",
      "  \u001b[32;1m•\u001b[0m \u001b[39mInstalling \u001b[0m\u001b[36mtqdm\u001b[0m\u001b[39m (\u001b[0m\u001b[32m4.61.1\u001b[0m\u001b[39m)\u001b[0m\n",
      "  \u001b[32;1m•\u001b[0m \u001b[39mInstalling \u001b[0m\u001b[36mtyping-extensions\u001b[0m\u001b[39m (\u001b[0m\u001b[32m3.10.0.0\u001b[0m\u001b[39m)\u001b[0m\n",
      "\u001b[4A\u001b[0J  \u001b[32;1m•\u001b[0m \u001b[39mInstalling \u001b[0m\u001b[36mregex\u001b[0m\u001b[39m (\u001b[0m\u001b[32m2021.4.4\u001b[0m\u001b[39m)\u001b[0m\n",
      "  \u001b[32;1m•\u001b[0m \u001b[39mInstalling \u001b[0m\u001b[36mrequests\u001b[0m\u001b[39m (\u001b[0m\u001b[32m2.25.1\u001b[0m\u001b[39m)\u001b[0m\n",
      "  \u001b[32;1m•\u001b[0m \u001b[39mInstalling \u001b[0m\u001b[36msix\u001b[0m\u001b[39m (\u001b[0m\u001b[32m1.16.0\u001b[0m\u001b[39m)\u001b[0m\n",
      "  \u001b[32;1m•\u001b[0m \u001b[39mInstalling \u001b[0m\u001b[36mtqdm\u001b[0m\u001b[39m (\u001b[0m\u001b[32m4.61.1\u001b[0m\u001b[39m)\u001b[0m\n",
      "  \u001b[32;1m•\u001b[0m \u001b[39mInstalling \u001b[0m\u001b[36mtyping-extensions\u001b[0m\u001b[39m (\u001b[0m\u001b[32m3.10.0.0\u001b[0m\u001b[39m)\u001b[0m\n",
      "\u001b[7A\u001b[0J  \u001b[32;1m•\u001b[0m \u001b[39mInstalling \u001b[0m\u001b[36mpackaging\u001b[0m\u001b[39m (\u001b[0m\u001b[32m20.9\u001b[0m\u001b[39m)\u001b[0m\n",
      "  \u001b[32;1m•\u001b[0m \u001b[39mInstalling \u001b[0m\u001b[36mregex\u001b[0m\u001b[39m (\u001b[0m\u001b[32m2021.4.4\u001b[0m\u001b[39m)\u001b[0m\n",
      "  \u001b[32;1m•\u001b[0m \u001b[39mInstalling \u001b[0m\u001b[36mrequests\u001b[0m\u001b[39m (\u001b[0m\u001b[32m2.25.1\u001b[0m\u001b[39m)\u001b[0m\n",
      "  \u001b[32;1m•\u001b[0m \u001b[39mInstalling \u001b[0m\u001b[36msix\u001b[0m\u001b[39m (\u001b[0m\u001b[32m1.16.0\u001b[0m\u001b[39m)\u001b[0m\n",
      "  \u001b[32;1m•\u001b[0m \u001b[39mInstalling \u001b[0m\u001b[36mtqdm\u001b[0m\u001b[39m (\u001b[0m\u001b[32m4.61.1\u001b[0m\u001b[39m)\u001b[0m\n",
      "  \u001b[32;1m•\u001b[0m \u001b[39mInstalling \u001b[0m\u001b[36mtyping-extensions\u001b[0m\u001b[39m (\u001b[0m\u001b[32m3.10.0.0\u001b[0m\u001b[39m)\u001b[0m\n",
      "\u001b[6A\u001b[0J  \u001b[32;1m•\u001b[0m \u001b[39mInstalling \u001b[0m\u001b[36mjoblib\u001b[0m\u001b[39m (\u001b[0m\u001b[32m1.0.1\u001b[0m\u001b[39m)\u001b[0m\n",
      "  \u001b[32;1m•\u001b[0m \u001b[39mInstalling \u001b[0m\u001b[36mpackaging\u001b[0m\u001b[39m (\u001b[0m\u001b[32m20.9\u001b[0m\u001b[39m)\u001b[0m\n",
      "  \u001b[32;1m•\u001b[0m \u001b[39mInstalling \u001b[0m\u001b[36mregex\u001b[0m\u001b[39m (\u001b[0m\u001b[32m2021.4.4\u001b[0m\u001b[39m)\u001b[0m\n",
      "  \u001b[32;1m•\u001b[0m \u001b[39mInstalling \u001b[0m\u001b[36mrequests\u001b[0m\u001b[39m (\u001b[0m\u001b[32m2.25.1\u001b[0m\u001b[39m)\u001b[0m\n",
      "  \u001b[32;1m•\u001b[0m \u001b[39mInstalling \u001b[0m\u001b[36msix\u001b[0m\u001b[39m (\u001b[0m\u001b[32m1.16.0\u001b[0m\u001b[39m)\u001b[0m\n",
      "  \u001b[32;1m•\u001b[0m \u001b[39mInstalling \u001b[0m\u001b[36mtqdm\u001b[0m\u001b[39m (\u001b[0m\u001b[32m4.61.1\u001b[0m\u001b[39m)\u001b[0m\n",
      "  \u001b[32;1m•\u001b[0m \u001b[39mInstalling \u001b[0m\u001b[36mtyping-extensions\u001b[0m\u001b[39m (\u001b[0m\u001b[32m3.10.0.0\u001b[0m\u001b[39m)\u001b[0m\n",
      "  \u001b[34;1m•\u001b[0m \u001b[39mInstalling \u001b[0m\u001b[36mattrs\u001b[0m\u001b[39m (\u001b[0m\u001b[39;1m21.2.0\u001b[0m\u001b[39m)\u001b[0m: \u001b[34mPending...\u001b[0m\n"
     ]
    },
    {
     "name": "stdout",
     "output_type": "stream",
     "text": [
      "  \u001b[34;1m•\u001b[0m \u001b[39mInstalling \u001b[0m\u001b[36mhuggingface-hub\u001b[0m\u001b[39m (\u001b[0m\u001b[39;1m0.0.12\u001b[0m\u001b[39m)\u001b[0m: \u001b[34mPending...\u001b[0m\n",
      "  \u001b[34;1m•\u001b[0m \u001b[39mInstalling \u001b[0m\u001b[36mmore-itertools\u001b[0m\u001b[39m (\u001b[0m\u001b[39;1m8.8.0\u001b[0m\u001b[39m)\u001b[0m: \u001b[34mPending...\u001b[0m\n",
      "  \u001b[34;1m•\u001b[0m \u001b[39mInstalling \u001b[0m\u001b[36mnumpy\u001b[0m\u001b[39m (\u001b[0m\u001b[39;1m1.21.0\u001b[0m\u001b[39m)\u001b[0m: \u001b[34mPending...\u001b[0m\n",
      "  \u001b[34;1m•\u001b[0m \u001b[39mInstalling \u001b[0m\u001b[36mpluggy\u001b[0m\u001b[39m (\u001b[0m\u001b[39;1m0.13.1\u001b[0m\u001b[39m)\u001b[0m: \u001b[34mPending...\u001b[0m\n",
      "  \u001b[34;1m•\u001b[0m \u001b[39mInstalling \u001b[0m\u001b[36mpy\u001b[0m\u001b[39m (\u001b[0m\u001b[39;1m1.10.0\u001b[0m\u001b[39m)\u001b[0m: \u001b[34mPending...\u001b[0m\n",
      "  \u001b[34;1m•\u001b[0m \u001b[39mInstalling \u001b[0m\u001b[36mpyyaml\u001b[0m\u001b[39m (\u001b[0m\u001b[39;1m5.4.1\u001b[0m\u001b[39m)\u001b[0m: \u001b[34mPending...\u001b[0m\n",
      "  \u001b[34;1m•\u001b[0m \u001b[39mInstalling \u001b[0m\u001b[36msacremoses\u001b[0m\u001b[39m (\u001b[0m\u001b[39;1m0.0.45\u001b[0m\u001b[39m)\u001b[0m: \u001b[34mPending...\u001b[0m\n",
      "  \u001b[34;1m•\u001b[0m \u001b[39mInstalling \u001b[0m\u001b[36mtokenizers\u001b[0m\u001b[39m (\u001b[0m\u001b[39;1m0.10.3\u001b[0m\u001b[39m)\u001b[0m: \u001b[34mPending...\u001b[0m\n",
      "  \u001b[34;1m•\u001b[0m \u001b[39mInstalling \u001b[0m\u001b[36mwcwidth\u001b[0m\u001b[39m (\u001b[0m\u001b[39;1m0.2.5\u001b[0m\u001b[39m)\u001b[0m: \u001b[34mPending...\u001b[0m\n",
      "\u001b[10A\u001b[0J  \u001b[34;1m•\u001b[0m \u001b[39mInstalling \u001b[0m\u001b[36mhuggingface-hub\u001b[0m\u001b[39m (\u001b[0m\u001b[39;1m0.0.12\u001b[0m\u001b[39m)\u001b[0m: \u001b[34mPending...\u001b[0m\n",
      "  \u001b[34;1m•\u001b[0m \u001b[39mInstalling \u001b[0m\u001b[36mmore-itertools\u001b[0m\u001b[39m (\u001b[0m\u001b[39;1m8.8.0\u001b[0m\u001b[39m)\u001b[0m: \u001b[34mPending...\u001b[0m\n",
      "  \u001b[34;1m•\u001b[0m \u001b[39mInstalling \u001b[0m\u001b[36mnumpy\u001b[0m\u001b[39m (\u001b[0m\u001b[39;1m1.21.0\u001b[0m\u001b[39m)\u001b[0m: \u001b[34mPending...\u001b[0m\n",
      "  \u001b[34;1m•\u001b[0m \u001b[39mInstalling \u001b[0m\u001b[36mpluggy\u001b[0m\u001b[39m (\u001b[0m\u001b[39;1m0.13.1\u001b[0m\u001b[39m)\u001b[0m: \u001b[34mPending...\u001b[0m\n",
      "  \u001b[34;1m•\u001b[0m \u001b[39mInstalling \u001b[0m\u001b[36mpy\u001b[0m\u001b[39m (\u001b[0m\u001b[39;1m1.10.0\u001b[0m\u001b[39m)\u001b[0m: \u001b[34mPending...\u001b[0m\n",
      "  \u001b[34;1m•\u001b[0m \u001b[39mInstalling \u001b[0m\u001b[36mpyyaml\u001b[0m\u001b[39m (\u001b[0m\u001b[39;1m5.4.1\u001b[0m\u001b[39m)\u001b[0m: \u001b[34mPending...\u001b[0m\n",
      "  \u001b[34;1m•\u001b[0m \u001b[39mInstalling \u001b[0m\u001b[36msacremoses\u001b[0m\u001b[39m (\u001b[0m\u001b[39;1m0.0.45\u001b[0m\u001b[39m)\u001b[0m: \u001b[34mPending...\u001b[0m\n",
      "  \u001b[34;1m•\u001b[0m \u001b[39mInstalling \u001b[0m\u001b[36mtokenizers\u001b[0m\u001b[39m (\u001b[0m\u001b[39;1m0.10.3\u001b[0m\u001b[39m)\u001b[0m: \u001b[34mPending...\u001b[0m\n",
      "  \u001b[34;1m•\u001b[0m \u001b[39mInstalling \u001b[0m\u001b[36mwcwidth\u001b[0m\u001b[39m (\u001b[0m\u001b[39;1m0.2.5\u001b[0m\u001b[39m)\u001b[0m: \u001b[34mPending...\u001b[0m\n",
      "\u001b[9A\u001b[0J  \u001b[34;1m•\u001b[0m \u001b[39mInstalling \u001b[0m\u001b[36mattrs\u001b[0m\u001b[39m (\u001b[0m\u001b[39;1m21.2.0\u001b[0m\u001b[39m)\u001b[0m: \u001b[34mInstalling...\u001b[0m\n",
      "  \u001b[34;1m•\u001b[0m \u001b[39mInstalling \u001b[0m\u001b[36mhuggingface-hub\u001b[0m\u001b[39m (\u001b[0m\u001b[39;1m0.0.12\u001b[0m\u001b[39m)\u001b[0m: \u001b[34mPending...\u001b[0m\n",
      "  \u001b[34;1m•\u001b[0m \u001b[39mInstalling \u001b[0m\u001b[36mmore-itertools\u001b[0m\u001b[39m (\u001b[0m\u001b[39;1m8.8.0\u001b[0m\u001b[39m)\u001b[0m: \u001b[34mPending...\u001b[0m\n",
      "  \u001b[34;1m•\u001b[0m \u001b[39mInstalling \u001b[0m\u001b[36mnumpy\u001b[0m\u001b[39m (\u001b[0m\u001b[39;1m1.21.0\u001b[0m\u001b[39m)\u001b[0m: \u001b[34mPending...\u001b[0m\n",
      "  \u001b[34;1m•\u001b[0m \u001b[39mInstalling \u001b[0m\u001b[36mpluggy\u001b[0m\u001b[39m (\u001b[0m\u001b[39;1m0.13.1\u001b[0m\u001b[39m)\u001b[0m: \u001b[34mPending...\u001b[0m\n",
      "  \u001b[34;1m•\u001b[0m \u001b[39mInstalling \u001b[0m\u001b[36mpy\u001b[0m\u001b[39m (\u001b[0m\u001b[39;1m1.10.0\u001b[0m\u001b[39m)\u001b[0m: \u001b[34mPending...\u001b[0m\n",
      "  \u001b[34;1m•\u001b[0m \u001b[39mInstalling \u001b[0m\u001b[36mpyyaml\u001b[0m\u001b[39m (\u001b[0m\u001b[39;1m5.4.1\u001b[0m\u001b[39m)\u001b[0m: \u001b[34mPending...\u001b[0m\n",
      "  \u001b[34;1m•\u001b[0m \u001b[39mInstalling \u001b[0m\u001b[36msacremoses\u001b[0m\u001b[39m (\u001b[0m\u001b[39;1m0.0.45\u001b[0m\u001b[39m)\u001b[0m: \u001b[34mPending...\u001b[0m\n",
      "  \u001b[34;1m•\u001b[0m \u001b[39mInstalling \u001b[0m\u001b[36mtokenizers\u001b[0m\u001b[39m (\u001b[0m\u001b[39;1m0.10.3\u001b[0m\u001b[39m)\u001b[0m: \u001b[34mPending...\u001b[0m\n",
      "  \u001b[34;1m•\u001b[0m \u001b[39mInstalling \u001b[0m\u001b[36mwcwidth\u001b[0m\u001b[39m (\u001b[0m\u001b[39;1m0.2.5\u001b[0m\u001b[39m)\u001b[0m: \u001b[34mPending...\u001b[0m\n",
      "\u001b[6A\u001b[0J  \u001b[34;1m•\u001b[0m \u001b[39mInstalling \u001b[0m\u001b[36mpy\u001b[0m\u001b[39m (\u001b[0m\u001b[39;1m1.10.0\u001b[0m\u001b[39m)\u001b[0m: \u001b[34mPending...\u001b[0m\n",
      "  \u001b[34;1m•\u001b[0m \u001b[39mInstalling \u001b[0m\u001b[36mpyyaml\u001b[0m\u001b[39m (\u001b[0m\u001b[39;1m5.4.1\u001b[0m\u001b[39m)\u001b[0m: \u001b[34mPending...\u001b[0m\n",
      "  \u001b[34;1m•\u001b[0m \u001b[39mInstalling \u001b[0m\u001b[36msacremoses\u001b[0m\u001b[39m (\u001b[0m\u001b[39;1m0.0.45\u001b[0m\u001b[39m)\u001b[0m: \u001b[34mPending...\u001b[0m\n",
      "  \u001b[34;1m•\u001b[0m \u001b[39mInstalling \u001b[0m\u001b[36mtokenizers\u001b[0m\u001b[39m (\u001b[0m\u001b[39;1m0.10.3\u001b[0m\u001b[39m)\u001b[0m: \u001b[34mPending...\u001b[0m\n",
      "  \u001b[34;1m•\u001b[0m \u001b[39mInstalling \u001b[0m\u001b[36mwcwidth\u001b[0m\u001b[39m (\u001b[0m\u001b[39;1m0.2.5\u001b[0m\u001b[39m)\u001b[0m: \u001b[34mPending...\u001b[0m\n",
      "\u001b[5A\u001b[0J  \u001b[34;1m•\u001b[0m \u001b[39mInstalling \u001b[0m\u001b[36mpluggy\u001b[0m\u001b[39m (\u001b[0m\u001b[39;1m0.13.1\u001b[0m\u001b[39m)\u001b[0m: \u001b[34mInstalling...\u001b[0m\n",
      "  \u001b[34;1m•\u001b[0m \u001b[39mInstalling \u001b[0m\u001b[36mpy\u001b[0m\u001b[39m (\u001b[0m\u001b[39;1m1.10.0\u001b[0m\u001b[39m)\u001b[0m: \u001b[34mPending...\u001b[0m\n",
      "  \u001b[34;1m•\u001b[0m \u001b[39mInstalling \u001b[0m\u001b[36mpyyaml\u001b[0m\u001b[39m (\u001b[0m\u001b[39;1m5.4.1\u001b[0m\u001b[39m)\u001b[0m: \u001b[34mPending...\u001b[0m\n",
      "  \u001b[34;1m•\u001b[0m \u001b[39mInstalling \u001b[0m\u001b[36msacremoses\u001b[0m\u001b[39m (\u001b[0m\u001b[39;1m0.0.45\u001b[0m\u001b[39m)\u001b[0m: \u001b[34mPending...\u001b[0m\n",
      "  \u001b[34;1m•\u001b[0m \u001b[39mInstalling \u001b[0m\u001b[36mtokenizers\u001b[0m\u001b[39m (\u001b[0m\u001b[39;1m0.10.3\u001b[0m\u001b[39m)\u001b[0m: \u001b[34mPending...\u001b[0m\n",
      "  \u001b[34;1m•\u001b[0m \u001b[39mInstalling \u001b[0m\u001b[36mwcwidth\u001b[0m\u001b[39m (\u001b[0m\u001b[39;1m0.2.5\u001b[0m\u001b[39m)\u001b[0m: \u001b[34mPending...\u001b[0m\n",
      "\u001b[8A\u001b[0J  \u001b[34;1m•\u001b[0m \u001b[39mInstalling \u001b[0m\u001b[36mnumpy\u001b[0m\u001b[39m (\u001b[0m\u001b[39;1m1.21.0\u001b[0m\u001b[39m)\u001b[0m: \u001b[34mPending...\u001b[0m\n",
      "  \u001b[34;1m•\u001b[0m \u001b[39mInstalling \u001b[0m\u001b[36mpluggy\u001b[0m\u001b[39m (\u001b[0m\u001b[39;1m0.13.1\u001b[0m\u001b[39m)\u001b[0m: \u001b[34mInstalling...\u001b[0m\n",
      "  \u001b[34;1m•\u001b[0m \u001b[39mInstalling \u001b[0m\u001b[36mpy\u001b[0m\u001b[39m (\u001b[0m\u001b[39;1m1.10.0\u001b[0m\u001b[39m)\u001b[0m: \u001b[34mPending...\u001b[0m\n",
      "  \u001b[34;1m•\u001b[0m \u001b[39mInstalling \u001b[0m\u001b[36mpyyaml\u001b[0m\u001b[39m (\u001b[0m\u001b[39;1m5.4.1\u001b[0m\u001b[39m)\u001b[0m: \u001b[34mPending...\u001b[0m\n",
      "  \u001b[34;1m•\u001b[0m \u001b[39mInstalling \u001b[0m\u001b[36msacremoses\u001b[0m\u001b[39m (\u001b[0m\u001b[39;1m0.0.45\u001b[0m\u001b[39m)\u001b[0m: \u001b[34mPending...\u001b[0m\n",
      "  \u001b[34;1m•\u001b[0m \u001b[39mInstalling \u001b[0m\u001b[36mtokenizers\u001b[0m\u001b[39m (\u001b[0m\u001b[39;1m0.10.3\u001b[0m\u001b[39m)\u001b[0m: \u001b[34mPending...\u001b[0m\n",
      "  \u001b[34;1m•\u001b[0m \u001b[39mInstalling \u001b[0m\u001b[36mwcwidth\u001b[0m\u001b[39m (\u001b[0m\u001b[39;1m0.2.5\u001b[0m\u001b[39m)\u001b[0m: \u001b[34mPending...\u001b[0m\n",
      "\u001b[7A\u001b[0J  \u001b[34;1m•\u001b[0m \u001b[39mInstalling \u001b[0m\u001b[36mmore-itertools\u001b[0m\u001b[39m (\u001b[0m\u001b[39;1m8.8.0\u001b[0m\u001b[39m)\u001b[0m: \u001b[34mInstalling...\u001b[0m\n",
      "  \u001b[34;1m•\u001b[0m \u001b[39mInstalling \u001b[0m\u001b[36mnumpy\u001b[0m\u001b[39m (\u001b[0m\u001b[39;1m1.21.0\u001b[0m\u001b[39m)\u001b[0m: \u001b[34mPending...\u001b[0m\n",
      "  \u001b[34;1m•\u001b[0m \u001b[39mInstalling \u001b[0m\u001b[36mpluggy\u001b[0m\u001b[39m (\u001b[0m\u001b[39;1m0.13.1\u001b[0m\u001b[39m)\u001b[0m: \u001b[34mInstalling...\u001b[0m\n",
      "  \u001b[34;1m•\u001b[0m \u001b[39mInstalling \u001b[0m\u001b[36mpy\u001b[0m\u001b[39m (\u001b[0m\u001b[39;1m1.10.0\u001b[0m\u001b[39m)\u001b[0m: \u001b[34mPending...\u001b[0m\n",
      "  \u001b[34;1m•\u001b[0m \u001b[39mInstalling \u001b[0m\u001b[36mpyyaml\u001b[0m\u001b[39m (\u001b[0m\u001b[39;1m5.4.1\u001b[0m\u001b[39m)\u001b[0m: \u001b[34mPending...\u001b[0m\n",
      "  \u001b[34;1m•\u001b[0m \u001b[39mInstalling \u001b[0m\u001b[36msacremoses\u001b[0m\u001b[39m (\u001b[0m\u001b[39;1m0.0.45\u001b[0m\u001b[39m)\u001b[0m: \u001b[34mPending...\u001b[0m\n",
      "  \u001b[34;1m•\u001b[0m \u001b[39mInstalling \u001b[0m\u001b[36mtokenizers\u001b[0m\u001b[39m (\u001b[0m\u001b[39;1m0.10.3\u001b[0m\u001b[39m)\u001b[0m: \u001b[34mPending...\u001b[0m\n",
      "  \u001b[34;1m•\u001b[0m \u001b[39mInstalling \u001b[0m\u001b[36mwcwidth\u001b[0m\u001b[39m (\u001b[0m\u001b[39;1m0.2.5\u001b[0m\u001b[39m)\u001b[0m: \u001b[34mPending...\u001b[0m\n",
      "\u001b[5A\u001b[0J  \u001b[34;1m•\u001b[0m \u001b[39mInstalling \u001b[0m\u001b[36mpyyaml\u001b[0m\u001b[39m (\u001b[0m\u001b[39;1m5.4.1\u001b[0m\u001b[39m)\u001b[0m: \u001b[34mPending...\u001b[0m\n",
      "  \u001b[34;1m•\u001b[0m \u001b[39mInstalling \u001b[0m\u001b[36msacremoses\u001b[0m\u001b[39m (\u001b[0m\u001b[39;1m0.0.45\u001b[0m\u001b[39m)\u001b[0m: \u001b[34mPending...\u001b[0m\n",
      "  \u001b[34;1m•\u001b[0m \u001b[39mInstalling \u001b[0m\u001b[36mtokenizers\u001b[0m\u001b[39m (\u001b[0m\u001b[39;1m0.10.3\u001b[0m\u001b[39m)\u001b[0m: \u001b[34mPending...\u001b[0m\n",
      "  \u001b[34;1m•\u001b[0m \u001b[39mInstalling \u001b[0m\u001b[36mwcwidth\u001b[0m\u001b[39m (\u001b[0m\u001b[39;1m0.2.5\u001b[0m\u001b[39m)\u001b[0m: \u001b[34mPending...\u001b[0m\n",
      "\u001b[4A\u001b[0J  \u001b[34;1m•\u001b[0m \u001b[39mInstalling \u001b[0m\u001b[36mpy\u001b[0m\u001b[39m (\u001b[0m\u001b[39;1m1.10.0\u001b[0m\u001b[39m)\u001b[0m: \u001b[34mInstalling...\u001b[0m\n",
      "  \u001b[34;1m•\u001b[0m \u001b[39mInstalling \u001b[0m\u001b[36mpyyaml\u001b[0m\u001b[39m (\u001b[0m\u001b[39;1m5.4.1\u001b[0m\u001b[39m)\u001b[0m: \u001b[34mPending...\u001b[0m\n",
      "  \u001b[34;1m•\u001b[0m \u001b[39mInstalling \u001b[0m\u001b[36msacremoses\u001b[0m\u001b[39m (\u001b[0m\u001b[39;1m0.0.45\u001b[0m\u001b[39m)\u001b[0m: \u001b[34mPending...\u001b[0m\n",
      "  \u001b[34;1m•\u001b[0m \u001b[39mInstalling \u001b[0m\u001b[36mtokenizers\u001b[0m\u001b[39m (\u001b[0m\u001b[39;1m0.10.3\u001b[0m\u001b[39m)\u001b[0m: \u001b[34mPending...\u001b[0m\n",
      "  \u001b[34;1m•\u001b[0m \u001b[39mInstalling \u001b[0m\u001b[36mwcwidth\u001b[0m\u001b[39m (\u001b[0m\u001b[39;1m0.2.5\u001b[0m\u001b[39m)\u001b[0m: \u001b[34mPending...\u001b[0m\n",
      "\u001b[1A\u001b[0J  \u001b[34;1m•\u001b[0m \u001b[39mInstalling \u001b[0m\u001b[36mwcwidth\u001b[0m\u001b[39m (\u001b[0m\u001b[39;1m0.2.5\u001b[0m\u001b[39m)\u001b[0m: \u001b[34mInstalling...\u001b[0m\n",
      "\u001b[4A\u001b[0J  \u001b[34;1m•\u001b[0m \u001b[39mInstalling \u001b[0m\u001b[36msacremoses\u001b[0m\u001b[39m (\u001b[0m\u001b[39;1m0.0.45\u001b[0m\u001b[39m)\u001b[0m: \u001b[34mPending...\u001b[0m\n",
      "  \u001b[34;1m•\u001b[0m \u001b[39mInstalling \u001b[0m\u001b[36mtokenizers\u001b[0m\u001b[39m (\u001b[0m\u001b[39;1m0.10.3\u001b[0m\u001b[39m)\u001b[0m: \u001b[34mPending...\u001b[0m\n",
      "  \u001b[34;1m•\u001b[0m \u001b[39mInstalling \u001b[0m\u001b[36mwcwidth\u001b[0m\u001b[39m (\u001b[0m\u001b[39;1m0.2.5\u001b[0m\u001b[39m)\u001b[0m: \u001b[34mInstalling...\u001b[0m\n",
      "\u001b[3A\u001b[0J  \u001b[34;1m•\u001b[0m \u001b[39mInstalling \u001b[0m\u001b[36mpyyaml\u001b[0m\u001b[39m (\u001b[0m\u001b[39;1m5.4.1\u001b[0m\u001b[39m)\u001b[0m: \u001b[34mInstalling...\u001b[0m\n",
      "  \u001b[34;1m•\u001b[0m \u001b[39mInstalling \u001b[0m\u001b[36msacremoses\u001b[0m\u001b[39m (\u001b[0m\u001b[39;1m0.0.45\u001b[0m\u001b[39m)\u001b[0m: \u001b[34mPending...\u001b[0m\n",
      "  \u001b[34;1m•\u001b[0m \u001b[39mInstalling \u001b[0m\u001b[36mtokenizers\u001b[0m\u001b[39m (\u001b[0m\u001b[39;1m0.10.3\u001b[0m\u001b[39m)\u001b[0m: \u001b[34mPending...\u001b[0m\n",
      "  \u001b[34;1m•\u001b[0m \u001b[39mInstalling \u001b[0m\u001b[36mwcwidth\u001b[0m\u001b[39m (\u001b[0m\u001b[39;1m0.2.5\u001b[0m\u001b[39m)\u001b[0m: \u001b[34mInstalling...\u001b[0m\n",
      "\u001b[3A\u001b[0J  \u001b[34;1m•\u001b[0m \u001b[39mInstalling \u001b[0m\u001b[36mtokenizers\u001b[0m\u001b[39m (\u001b[0m\u001b[39;1m0.10.3\u001b[0m\u001b[39m)\u001b[0m: \u001b[34mPending...\u001b[0m\n",
      "  \u001b[34;1m•\u001b[0m \u001b[39mInstalling \u001b[0m\u001b[36mwcwidth\u001b[0m\u001b[39m (\u001b[0m\u001b[39;1m0.2.5\u001b[0m\u001b[39m)\u001b[0m: \u001b[34mInstalling...\u001b[0m\n",
      "\u001b[2A\u001b[0J  \u001b[34;1m•\u001b[0m \u001b[39mInstalling \u001b[0m\u001b[36msacremoses\u001b[0m\u001b[39m (\u001b[0m\u001b[39;1m0.0.45\u001b[0m\u001b[39m)\u001b[0m: \u001b[34mInstalling...\u001b[0m\n",
      "  \u001b[34;1m•\u001b[0m \u001b[39mInstalling \u001b[0m\u001b[36mtokenizers\u001b[0m\u001b[39m (\u001b[0m\u001b[39;1m0.10.3\u001b[0m\u001b[39m)\u001b[0m: \u001b[34mPending...\u001b[0m\n",
      "  \u001b[34;1m•\u001b[0m \u001b[39mInstalling \u001b[0m\u001b[36mwcwidth\u001b[0m\u001b[39m (\u001b[0m\u001b[39;1m0.2.5\u001b[0m\u001b[39m)\u001b[0m: \u001b[34mInstalling...\u001b[0m\n"
     ]
    },
    {
     "name": "stdout",
     "output_type": "stream",
     "text": [
      "\u001b[2A\u001b[0J  \u001b[34;1m•\u001b[0m \u001b[39mInstalling \u001b[0m\u001b[36mwcwidth\u001b[0m\u001b[39m (\u001b[0m\u001b[39;1m0.2.5\u001b[0m\u001b[39m)\u001b[0m: \u001b[34mInstalling...\u001b[0m\n",
      "\u001b[1A\u001b[0J  \u001b[34;1m•\u001b[0m \u001b[39mInstalling \u001b[0m\u001b[36mtokenizers\u001b[0m\u001b[39m (\u001b[0m\u001b[39;1m0.10.3\u001b[0m\u001b[39m)\u001b[0m: \u001b[34mInstalling...\u001b[0m\n",
      "  \u001b[34;1m•\u001b[0m \u001b[39mInstalling \u001b[0m\u001b[36mwcwidth\u001b[0m\u001b[39m (\u001b[0m\u001b[39;1m0.2.5\u001b[0m\u001b[39m)\u001b[0m: \u001b[34mInstalling...\u001b[0m\n",
      "\u001b[6A\u001b[0J  \u001b[34;1m•\u001b[0m \u001b[39mInstalling \u001b[0m\u001b[36mpy\u001b[0m\u001b[39m (\u001b[0m\u001b[39;1m1.10.0\u001b[0m\u001b[39m)\u001b[0m: \u001b[34mInstalling...\u001b[0m\n",
      "  \u001b[34;1m•\u001b[0m \u001b[39mInstalling \u001b[0m\u001b[36mpyyaml\u001b[0m\u001b[39m (\u001b[0m\u001b[39;1m5.4.1\u001b[0m\u001b[39m)\u001b[0m: \u001b[34mInstalling...\u001b[0m\n",
      "  \u001b[34;1m•\u001b[0m \u001b[39mInstalling \u001b[0m\u001b[36msacremoses\u001b[0m\u001b[39m (\u001b[0m\u001b[39;1m0.0.45\u001b[0m\u001b[39m)\u001b[0m: \u001b[34mInstalling...\u001b[0m\n",
      "  \u001b[34;1m•\u001b[0m \u001b[39mInstalling \u001b[0m\u001b[36mtokenizers\u001b[0m\u001b[39m (\u001b[0m\u001b[39;1m0.10.3\u001b[0m\u001b[39m)\u001b[0m: \u001b[34mInstalling...\u001b[0m\n",
      "  \u001b[34;1m•\u001b[0m \u001b[39mInstalling \u001b[0m\u001b[36mwcwidth\u001b[0m\u001b[39m (\u001b[0m\u001b[39;1m0.2.5\u001b[0m\u001b[39m)\u001b[0m: \u001b[34mInstalling...\u001b[0m\n",
      "\u001b[5A\u001b[0J  \u001b[32;1m•\u001b[0m \u001b[39mInstalling \u001b[0m\u001b[36mpluggy\u001b[0m\u001b[39m (\u001b[0m\u001b[32m0.13.1\u001b[0m\u001b[39m)\u001b[0m\n",
      "  \u001b[34;1m•\u001b[0m \u001b[39mInstalling \u001b[0m\u001b[36mpy\u001b[0m\u001b[39m (\u001b[0m\u001b[39;1m1.10.0\u001b[0m\u001b[39m)\u001b[0m: \u001b[34mInstalling...\u001b[0m\n",
      "  \u001b[34;1m•\u001b[0m \u001b[39mInstalling \u001b[0m\u001b[36mpyyaml\u001b[0m\u001b[39m (\u001b[0m\u001b[39;1m5.4.1\u001b[0m\u001b[39m)\u001b[0m: \u001b[34mInstalling...\u001b[0m\n",
      "  \u001b[34;1m•\u001b[0m \u001b[39mInstalling \u001b[0m\u001b[36msacremoses\u001b[0m\u001b[39m (\u001b[0m\u001b[39;1m0.0.45\u001b[0m\u001b[39m)\u001b[0m: \u001b[34mInstalling...\u001b[0m\n",
      "  \u001b[34;1m•\u001b[0m \u001b[39mInstalling \u001b[0m\u001b[36mtokenizers\u001b[0m\u001b[39m (\u001b[0m\u001b[39;1m0.10.3\u001b[0m\u001b[39m)\u001b[0m: \u001b[34mInstalling...\u001b[0m\n",
      "  \u001b[34;1m•\u001b[0m \u001b[39mInstalling \u001b[0m\u001b[36mwcwidth\u001b[0m\u001b[39m (\u001b[0m\u001b[39;1m0.2.5\u001b[0m\u001b[39m)\u001b[0m: \u001b[34mInstalling...\u001b[0m\n",
      "\u001b[8A\u001b[0J  \u001b[34;1m•\u001b[0m \u001b[39mInstalling \u001b[0m\u001b[36mnumpy\u001b[0m\u001b[39m (\u001b[0m\u001b[39;1m1.21.0\u001b[0m\u001b[39m)\u001b[0m: \u001b[34mPending...\u001b[0m\n",
      "  \u001b[32;1m•\u001b[0m \u001b[39mInstalling \u001b[0m\u001b[36mpluggy\u001b[0m\u001b[39m (\u001b[0m\u001b[32m0.13.1\u001b[0m\u001b[39m)\u001b[0m\n",
      "  \u001b[34;1m•\u001b[0m \u001b[39mInstalling \u001b[0m\u001b[36mpy\u001b[0m\u001b[39m (\u001b[0m\u001b[39;1m1.10.0\u001b[0m\u001b[39m)\u001b[0m: \u001b[34mInstalling...\u001b[0m\n",
      "  \u001b[34;1m•\u001b[0m \u001b[39mInstalling \u001b[0m\u001b[36mpyyaml\u001b[0m\u001b[39m (\u001b[0m\u001b[39;1m5.4.1\u001b[0m\u001b[39m)\u001b[0m: \u001b[34mInstalling...\u001b[0m\n",
      "  \u001b[34;1m•\u001b[0m \u001b[39mInstalling \u001b[0m\u001b[36msacremoses\u001b[0m\u001b[39m (\u001b[0m\u001b[39;1m0.0.45\u001b[0m\u001b[39m)\u001b[0m: \u001b[34mInstalling...\u001b[0m\n",
      "  \u001b[34;1m•\u001b[0m \u001b[39mInstalling \u001b[0m\u001b[36mtokenizers\u001b[0m\u001b[39m (\u001b[0m\u001b[39;1m0.10.3\u001b[0m\u001b[39m)\u001b[0m: \u001b[34mInstalling...\u001b[0m\n",
      "  \u001b[34;1m•\u001b[0m \u001b[39mInstalling \u001b[0m\u001b[36mwcwidth\u001b[0m\u001b[39m (\u001b[0m\u001b[39;1m0.2.5\u001b[0m\u001b[39m)\u001b[0m: \u001b[34mInstalling...\u001b[0m\n",
      "\u001b[7A\u001b[0J  \u001b[32;1m•\u001b[0m \u001b[39mInstalling \u001b[0m\u001b[36mmore-itertools\u001b[0m\u001b[39m (\u001b[0m\u001b[32m8.8.0\u001b[0m\u001b[39m)\u001b[0m\n",
      "  \u001b[34;1m•\u001b[0m \u001b[39mInstalling \u001b[0m\u001b[36mnumpy\u001b[0m\u001b[39m (\u001b[0m\u001b[39;1m1.21.0\u001b[0m\u001b[39m)\u001b[0m: \u001b[34mPending...\u001b[0m\n",
      "  \u001b[32;1m•\u001b[0m \u001b[39mInstalling \u001b[0m\u001b[36mpluggy\u001b[0m\u001b[39m (\u001b[0m\u001b[32m0.13.1\u001b[0m\u001b[39m)\u001b[0m\n",
      "  \u001b[34;1m•\u001b[0m \u001b[39mInstalling \u001b[0m\u001b[36mpy\u001b[0m\u001b[39m (\u001b[0m\u001b[39;1m1.10.0\u001b[0m\u001b[39m)\u001b[0m: \u001b[34mInstalling...\u001b[0m\n",
      "  \u001b[34;1m•\u001b[0m \u001b[39mInstalling \u001b[0m\u001b[36mpyyaml\u001b[0m\u001b[39m (\u001b[0m\u001b[39;1m5.4.1\u001b[0m\u001b[39m)\u001b[0m: \u001b[34mInstalling...\u001b[0m\n",
      "  \u001b[34;1m•\u001b[0m \u001b[39mInstalling \u001b[0m\u001b[36msacremoses\u001b[0m\u001b[39m (\u001b[0m\u001b[39;1m0.0.45\u001b[0m\u001b[39m)\u001b[0m: \u001b[34mInstalling...\u001b[0m\n",
      "  \u001b[34;1m•\u001b[0m \u001b[39mInstalling \u001b[0m\u001b[36mtokenizers\u001b[0m\u001b[39m (\u001b[0m\u001b[39;1m0.10.3\u001b[0m\u001b[39m)\u001b[0m: \u001b[34mInstalling...\u001b[0m\n",
      "  \u001b[34;1m•\u001b[0m \u001b[39mInstalling \u001b[0m\u001b[36mwcwidth\u001b[0m\u001b[39m (\u001b[0m\u001b[39;1m0.2.5\u001b[0m\u001b[39m)\u001b[0m: \u001b[34mInstalling...\u001b[0m\n",
      "\u001b[10A\u001b[0J  \u001b[34;1m•\u001b[0m \u001b[39mInstalling \u001b[0m\u001b[36mhuggingface-hub\u001b[0m\u001b[39m (\u001b[0m\u001b[39;1m0.0.12\u001b[0m\u001b[39m)\u001b[0m: \u001b[34mPending...\u001b[0m\n",
      "  \u001b[32;1m•\u001b[0m \u001b[39mInstalling \u001b[0m\u001b[36mmore-itertools\u001b[0m\u001b[39m (\u001b[0m\u001b[32m8.8.0\u001b[0m\u001b[39m)\u001b[0m\n",
      "  \u001b[34;1m•\u001b[0m \u001b[39mInstalling \u001b[0m\u001b[36mnumpy\u001b[0m\u001b[39m (\u001b[0m\u001b[39;1m1.21.0\u001b[0m\u001b[39m)\u001b[0m: \u001b[34mPending...\u001b[0m\n",
      "  \u001b[32;1m•\u001b[0m \u001b[39mInstalling \u001b[0m\u001b[36mpluggy\u001b[0m\u001b[39m (\u001b[0m\u001b[32m0.13.1\u001b[0m\u001b[39m)\u001b[0m\n",
      "  \u001b[34;1m•\u001b[0m \u001b[39mInstalling \u001b[0m\u001b[36mpy\u001b[0m\u001b[39m (\u001b[0m\u001b[39;1m1.10.0\u001b[0m\u001b[39m)\u001b[0m: \u001b[34mInstalling...\u001b[0m\n",
      "  \u001b[34;1m•\u001b[0m \u001b[39mInstalling \u001b[0m\u001b[36mpyyaml\u001b[0m\u001b[39m (\u001b[0m\u001b[39;1m5.4.1\u001b[0m\u001b[39m)\u001b[0m: \u001b[34mInstalling...\u001b[0m\n",
      "  \u001b[34;1m•\u001b[0m \u001b[39mInstalling \u001b[0m\u001b[36msacremoses\u001b[0m\u001b[39m (\u001b[0m\u001b[39;1m0.0.45\u001b[0m\u001b[39m)\u001b[0m: \u001b[34mInstalling...\u001b[0m\n",
      "  \u001b[34;1m•\u001b[0m \u001b[39mInstalling \u001b[0m\u001b[36mtokenizers\u001b[0m\u001b[39m (\u001b[0m\u001b[39;1m0.10.3\u001b[0m\u001b[39m)\u001b[0m: \u001b[34mInstalling...\u001b[0m\n",
      "  \u001b[34;1m•\u001b[0m \u001b[39mInstalling \u001b[0m\u001b[36mwcwidth\u001b[0m\u001b[39m (\u001b[0m\u001b[39;1m0.2.5\u001b[0m\u001b[39m)\u001b[0m: \u001b[34mInstalling...\u001b[0m\n",
      "\u001b[9A\u001b[0J  \u001b[32;1m•\u001b[0m \u001b[39mInstalling \u001b[0m\u001b[36mattrs\u001b[0m\u001b[39m (\u001b[0m\u001b[32m21.2.0\u001b[0m\u001b[39m)\u001b[0m\n",
      "  \u001b[34;1m•\u001b[0m \u001b[39mInstalling \u001b[0m\u001b[36mhuggingface-hub\u001b[0m\u001b[39m (\u001b[0m\u001b[39;1m0.0.12\u001b[0m\u001b[39m)\u001b[0m: \u001b[34mPending...\u001b[0m\n",
      "  \u001b[32;1m•\u001b[0m \u001b[39mInstalling \u001b[0m\u001b[36mmore-itertools\u001b[0m\u001b[39m (\u001b[0m\u001b[32m8.8.0\u001b[0m\u001b[39m)\u001b[0m\n",
      "  \u001b[34;1m•\u001b[0m \u001b[39mInstalling \u001b[0m\u001b[36mnumpy\u001b[0m\u001b[39m (\u001b[0m\u001b[39;1m1.21.0\u001b[0m\u001b[39m)\u001b[0m: \u001b[34mPending...\u001b[0m\n",
      "  \u001b[32;1m•\u001b[0m \u001b[39mInstalling \u001b[0m\u001b[36mpluggy\u001b[0m\u001b[39m (\u001b[0m\u001b[32m0.13.1\u001b[0m\u001b[39m)\u001b[0m\n",
      "  \u001b[34;1m•\u001b[0m \u001b[39mInstalling \u001b[0m\u001b[36mpy\u001b[0m\u001b[39m (\u001b[0m\u001b[39;1m1.10.0\u001b[0m\u001b[39m)\u001b[0m: \u001b[34mInstalling...\u001b[0m\n",
      "  \u001b[34;1m•\u001b[0m \u001b[39mInstalling \u001b[0m\u001b[36mpyyaml\u001b[0m\u001b[39m (\u001b[0m\u001b[39;1m5.4.1\u001b[0m\u001b[39m)\u001b[0m: \u001b[34mInstalling...\u001b[0m\n",
      "  \u001b[34;1m•\u001b[0m \u001b[39mInstalling \u001b[0m\u001b[36msacremoses\u001b[0m\u001b[39m (\u001b[0m\u001b[39;1m0.0.45\u001b[0m\u001b[39m)\u001b[0m: \u001b[34mInstalling...\u001b[0m\n",
      "  \u001b[34;1m•\u001b[0m \u001b[39mInstalling \u001b[0m\u001b[36mtokenizers\u001b[0m\u001b[39m (\u001b[0m\u001b[39;1m0.10.3\u001b[0m\u001b[39m)\u001b[0m: \u001b[34mInstalling...\u001b[0m\n",
      "  \u001b[34;1m•\u001b[0m \u001b[39mInstalling \u001b[0m\u001b[36mwcwidth\u001b[0m\u001b[39m (\u001b[0m\u001b[39;1m0.2.5\u001b[0m\u001b[39m)\u001b[0m: \u001b[34mInstalling...\u001b[0m\n",
      "\u001b[1A\u001b[0J  \u001b[32;1m•\u001b[0m \u001b[39mInstalling \u001b[0m\u001b[36mwcwidth\u001b[0m\u001b[39m (\u001b[0m\u001b[32m0.2.5\u001b[0m\u001b[39m)\u001b[0m\n",
      "\u001b[7A\u001b[0J  \u001b[32;1m•\u001b[0m \u001b[39mInstalling \u001b[0m\u001b[36mpluggy\u001b[0m\u001b[39m (\u001b[0m\u001b[32m0.13.1\u001b[0m\u001b[39m)\u001b[0m\n",
      "  \u001b[34;1m•\u001b[0m \u001b[39mInstalling \u001b[0m\u001b[36mpy\u001b[0m\u001b[39m (\u001b[0m\u001b[39;1m1.10.0\u001b[0m\u001b[39m)\u001b[0m: \u001b[34mInstalling...\u001b[0m\n",
      "  \u001b[34;1m•\u001b[0m \u001b[39mInstalling \u001b[0m\u001b[36mpyyaml\u001b[0m\u001b[39m (\u001b[0m\u001b[39;1m5.4.1\u001b[0m\u001b[39m)\u001b[0m: \u001b[34mInstalling...\u001b[0m\n",
      "  \u001b[34;1m•\u001b[0m \u001b[39mInstalling \u001b[0m\u001b[36msacremoses\u001b[0m\u001b[39m (\u001b[0m\u001b[39;1m0.0.45\u001b[0m\u001b[39m)\u001b[0m: \u001b[34mInstalling...\u001b[0m\n",
      "  \u001b[34;1m•\u001b[0m \u001b[39mInstalling \u001b[0m\u001b[36mtokenizers\u001b[0m\u001b[39m (\u001b[0m\u001b[39;1m0.10.3\u001b[0m\u001b[39m)\u001b[0m: \u001b[34mInstalling...\u001b[0m\n",
      "  \u001b[32;1m•\u001b[0m \u001b[39mInstalling \u001b[0m\u001b[36mwcwidth\u001b[0m\u001b[39m (\u001b[0m\u001b[32m0.2.5\u001b[0m\u001b[39m)\u001b[0m\n",
      "\u001b[6A\u001b[0J  \u001b[34;1m•\u001b[0m \u001b[39mInstalling \u001b[0m\u001b[36mnumpy\u001b[0m\u001b[39m (\u001b[0m\u001b[39;1m1.21.0\u001b[0m\u001b[39m)\u001b[0m: \u001b[34mDownloading...\u001b[0m \u001b[1m0%\u001b[0m\n",
      "  \u001b[32;1m•\u001b[0m \u001b[39mInstalling \u001b[0m\u001b[36mpluggy\u001b[0m\u001b[39m (\u001b[0m\u001b[32m0.13.1\u001b[0m\u001b[39m)\u001b[0m\n",
      "  \u001b[34;1m•\u001b[0m \u001b[39mInstalling \u001b[0m\u001b[36mpy\u001b[0m\u001b[39m (\u001b[0m\u001b[39;1m1.10.0\u001b[0m\u001b[39m)\u001b[0m: \u001b[34mInstalling...\u001b[0m\n",
      "  \u001b[34;1m•\u001b[0m \u001b[39mInstalling \u001b[0m\u001b[36mpyyaml\u001b[0m\u001b[39m (\u001b[0m\u001b[39;1m5.4.1\u001b[0m\u001b[39m)\u001b[0m: \u001b[34mInstalling...\u001b[0m\n",
      "  \u001b[34;1m•\u001b[0m \u001b[39mInstalling \u001b[0m\u001b[36msacremoses\u001b[0m\u001b[39m (\u001b[0m\u001b[39;1m0.0.45\u001b[0m\u001b[39m)\u001b[0m: \u001b[34mInstalling...\u001b[0m\n",
      "  \u001b[34;1m•\u001b[0m \u001b[39mInstalling \u001b[0m\u001b[36mtokenizers\u001b[0m\u001b[39m (\u001b[0m\u001b[39;1m0.10.3\u001b[0m\u001b[39m)\u001b[0m: \u001b[34mInstalling...\u001b[0m\n",
      "  \u001b[32;1m•\u001b[0m \u001b[39mInstalling \u001b[0m\u001b[36mwcwidth\u001b[0m\u001b[39m (\u001b[0m\u001b[32m0.2.5\u001b[0m\u001b[39m)\u001b[0m\n",
      "\u001b[4A\u001b[0J  \u001b[34;1m•\u001b[0m \u001b[39mInstalling \u001b[0m\u001b[36msacremoses\u001b[0m\u001b[39m (\u001b[0m\u001b[39;1m0.0.45\u001b[0m\u001b[39m)\u001b[0m: \u001b[34mInstalling...\u001b[0m\n",
      "  \u001b[34;1m•\u001b[0m \u001b[39mInstalling \u001b[0m\u001b[36mtokenizers\u001b[0m\u001b[39m (\u001b[0m\u001b[39;1m0.10.3\u001b[0m\u001b[39m)\u001b[0m: \u001b[34mInstalling...\u001b[0m\n",
      "  \u001b[32;1m•\u001b[0m \u001b[39mInstalling \u001b[0m\u001b[36mwcwidth\u001b[0m\u001b[39m (\u001b[0m\u001b[32m0.2.5\u001b[0m\u001b[39m)\u001b[0m\n",
      "\u001b[3A\u001b[0J  \u001b[32;1m•\u001b[0m \u001b[39mInstalling \u001b[0m\u001b[36mpyyaml\u001b[0m\u001b[39m (\u001b[0m\u001b[32m5.4.1\u001b[0m\u001b[39m)\u001b[0m\n",
      "  \u001b[34;1m•\u001b[0m \u001b[39mInstalling \u001b[0m\u001b[36msacremoses\u001b[0m\u001b[39m (\u001b[0m\u001b[39;1m0.0.45\u001b[0m\u001b[39m)\u001b[0m: \u001b[34mInstalling...\u001b[0m\n",
      "  \u001b[34;1m•\u001b[0m \u001b[39mInstalling \u001b[0m\u001b[36mtokenizers\u001b[0m\u001b[39m (\u001b[0m\u001b[39;1m0.10.3\u001b[0m\u001b[39m)\u001b[0m: \u001b[34mInstalling...\u001b[0m\n",
      "  \u001b[32;1m•\u001b[0m \u001b[39mInstalling \u001b[0m\u001b[36mwcwidth\u001b[0m\u001b[39m (\u001b[0m\u001b[32m0.2.5\u001b[0m\u001b[39m)\u001b[0m\n",
      "\u001b[5A\u001b[0J  \u001b[32;1m•\u001b[0m \u001b[39mInstalling \u001b[0m\u001b[36mpyyaml\u001b[0m\u001b[39m (\u001b[0m\u001b[32m5.4.1\u001b[0m\u001b[39m)\u001b[0m\n",
      "  \u001b[34;1m•\u001b[0m \u001b[39mInstalling \u001b[0m\u001b[36msacremoses\u001b[0m\u001b[39m (\u001b[0m\u001b[39;1m0.0.45\u001b[0m\u001b[39m)\u001b[0m: \u001b[34mInstalling...\u001b[0m\n",
      "  \u001b[34;1m•\u001b[0m \u001b[39mInstalling \u001b[0m\u001b[36mtokenizers\u001b[0m\u001b[39m (\u001b[0m\u001b[39;1m0.10.3\u001b[0m\u001b[39m)\u001b[0m: \u001b[34mInstalling...\u001b[0m\n",
      "  \u001b[32;1m•\u001b[0m \u001b[39mInstalling \u001b[0m\u001b[36mwcwidth\u001b[0m\u001b[39m (\u001b[0m\u001b[32m0.2.5\u001b[0m\u001b[39m)\u001b[0m\n",
      "\u001b[4A\u001b[0J  \u001b[32;1m•\u001b[0m \u001b[39mInstalling \u001b[0m\u001b[36mpy\u001b[0m\u001b[39m (\u001b[0m\u001b[32m1.10.0\u001b[0m\u001b[39m)\u001b[0m\n",
      "  \u001b[32;1m•\u001b[0m \u001b[39mInstalling \u001b[0m\u001b[36mpyyaml\u001b[0m\u001b[39m (\u001b[0m\u001b[32m5.4.1\u001b[0m\u001b[39m)\u001b[0m\n",
      "  \u001b[34;1m•\u001b[0m \u001b[39mInstalling \u001b[0m\u001b[36msacremoses\u001b[0m\u001b[39m (\u001b[0m\u001b[39;1m0.0.45\u001b[0m\u001b[39m)\u001b[0m: \u001b[34mInstalling...\u001b[0m\n",
      "  \u001b[34;1m•\u001b[0m \u001b[39mInstalling \u001b[0m\u001b[36mtokenizers\u001b[0m\u001b[39m (\u001b[0m\u001b[39;1m0.10.3\u001b[0m\u001b[39m)\u001b[0m: \u001b[34mInstalling...\u001b[0m\n",
      "  \u001b[32;1m•\u001b[0m \u001b[39mInstalling \u001b[0m\u001b[36mwcwidth\u001b[0m\u001b[39m (\u001b[0m\u001b[32m0.2.5\u001b[0m\u001b[39m)\u001b[0m\n",
      "\u001b[9A\u001b[0J  \u001b[32;1m•\u001b[0m \u001b[39mInstalling \u001b[0m\u001b[36mmore-itertools\u001b[0m\u001b[39m (\u001b[0m\u001b[32m8.8.0\u001b[0m\u001b[39m)\u001b[0m\n",
      "  \u001b[34;1m•\u001b[0m \u001b[39mInstalling \u001b[0m\u001b[36mnumpy\u001b[0m\u001b[39m (\u001b[0m\u001b[39;1m1.21.0\u001b[0m\u001b[39m)\u001b[0m: \u001b[34mDownloading...\u001b[0m \u001b[1m0%\u001b[0m\n",
      "  \u001b[32;1m•\u001b[0m \u001b[39mInstalling \u001b[0m\u001b[36mpluggy\u001b[0m\u001b[39m (\u001b[0m\u001b[32m0.13.1\u001b[0m\u001b[39m)\u001b[0m\n",
      "  \u001b[32;1m•\u001b[0m \u001b[39mInstalling \u001b[0m\u001b[36mpy\u001b[0m\u001b[39m (\u001b[0m\u001b[32m1.10.0\u001b[0m\u001b[39m)\u001b[0m\n",
      "  \u001b[32;1m•\u001b[0m \u001b[39mInstalling \u001b[0m\u001b[36mpyyaml\u001b[0m\u001b[39m (\u001b[0m\u001b[32m5.4.1\u001b[0m\u001b[39m)\u001b[0m\n",
      "  \u001b[34;1m•\u001b[0m \u001b[39mInstalling \u001b[0m\u001b[36msacremoses\u001b[0m\u001b[39m (\u001b[0m\u001b[39;1m0.0.45\u001b[0m\u001b[39m)\u001b[0m: \u001b[34mInstalling...\u001b[0m\n",
      "  \u001b[34;1m•\u001b[0m \u001b[39mInstalling \u001b[0m\u001b[36mtokenizers\u001b[0m\u001b[39m (\u001b[0m\u001b[39;1m0.10.3\u001b[0m\u001b[39m)\u001b[0m: \u001b[34mInstalling...\u001b[0m\n",
      "  \u001b[32;1m•\u001b[0m \u001b[39mInstalling \u001b[0m\u001b[36mwcwidth\u001b[0m\u001b[39m (\u001b[0m\u001b[32m0.2.5\u001b[0m\u001b[39m)\u001b[0m\n"
     ]
    },
    {
     "name": "stdout",
     "output_type": "stream",
     "text": [
      "\u001b[8A\u001b[0J  \u001b[34;1m•\u001b[0m \u001b[39mInstalling \u001b[0m\u001b[36mhuggingface-hub\u001b[0m\u001b[39m (\u001b[0m\u001b[39;1m0.0.12\u001b[0m\u001b[39m)\u001b[0m: \u001b[34mDownloading...\u001b[0m \u001b[1m0%\u001b[0m\n",
      "  \u001b[32;1m•\u001b[0m \u001b[39mInstalling \u001b[0m\u001b[36mmore-itertools\u001b[0m\u001b[39m (\u001b[0m\u001b[32m8.8.0\u001b[0m\u001b[39m)\u001b[0m\n",
      "  \u001b[34;1m•\u001b[0m \u001b[39mInstalling \u001b[0m\u001b[36mnumpy\u001b[0m\u001b[39m (\u001b[0m\u001b[39;1m1.21.0\u001b[0m\u001b[39m)\u001b[0m: \u001b[34mDownloading...\u001b[0m \u001b[1m0%\u001b[0m\n",
      "  \u001b[32;1m•\u001b[0m \u001b[39mInstalling \u001b[0m\u001b[36mpluggy\u001b[0m\u001b[39m (\u001b[0m\u001b[32m0.13.1\u001b[0m\u001b[39m)\u001b[0m\n",
      "  \u001b[32;1m•\u001b[0m \u001b[39mInstalling \u001b[0m\u001b[36mpy\u001b[0m\u001b[39m (\u001b[0m\u001b[32m1.10.0\u001b[0m\u001b[39m)\u001b[0m\n",
      "  \u001b[32;1m•\u001b[0m \u001b[39mInstalling \u001b[0m\u001b[36mpyyaml\u001b[0m\u001b[39m (\u001b[0m\u001b[32m5.4.1\u001b[0m\u001b[39m)\u001b[0m\n",
      "  \u001b[34;1m•\u001b[0m \u001b[39mInstalling \u001b[0m\u001b[36msacremoses\u001b[0m\u001b[39m (\u001b[0m\u001b[39;1m0.0.45\u001b[0m\u001b[39m)\u001b[0m: \u001b[34mInstalling...\u001b[0m\n",
      "  \u001b[34;1m•\u001b[0m \u001b[39mInstalling \u001b[0m\u001b[36mtokenizers\u001b[0m\u001b[39m (\u001b[0m\u001b[39;1m0.10.3\u001b[0m\u001b[39m)\u001b[0m: \u001b[34mInstalling...\u001b[0m\n",
      "  \u001b[32;1m•\u001b[0m \u001b[39mInstalling \u001b[0m\u001b[36mwcwidth\u001b[0m\u001b[39m (\u001b[0m\u001b[32m0.2.5\u001b[0m\u001b[39m)\u001b[0m\n",
      "\u001b[3A\u001b[0J  \u001b[34;1m•\u001b[0m \u001b[39mInstalling \u001b[0m\u001b[36mtokenizers\u001b[0m\u001b[39m (\u001b[0m\u001b[39;1m0.10.3\u001b[0m\u001b[39m)\u001b[0m: \u001b[34mInstalling...\u001b[0m\n",
      "  \u001b[32;1m•\u001b[0m \u001b[39mInstalling \u001b[0m\u001b[36mwcwidth\u001b[0m\u001b[39m (\u001b[0m\u001b[32m0.2.5\u001b[0m\u001b[39m)\u001b[0m\n",
      "\u001b[2A\u001b[0J  \u001b[32;1m•\u001b[0m \u001b[39mInstalling \u001b[0m\u001b[36msacremoses\u001b[0m\u001b[39m (\u001b[0m\u001b[32m0.0.45\u001b[0m\u001b[39m)\u001b[0m\n",
      "  \u001b[34;1m•\u001b[0m \u001b[39mInstalling \u001b[0m\u001b[36mtokenizers\u001b[0m\u001b[39m (\u001b[0m\u001b[39;1m0.10.3\u001b[0m\u001b[39m)\u001b[0m: \u001b[34mInstalling...\u001b[0m\n",
      "  \u001b[32;1m•\u001b[0m \u001b[39mInstalling \u001b[0m\u001b[36mwcwidth\u001b[0m\u001b[39m (\u001b[0m\u001b[32m0.2.5\u001b[0m\u001b[39m)\u001b[0m\n",
      "\u001b[9A\u001b[0J  \u001b[32;1m•\u001b[0m \u001b[39mInstalling \u001b[0m\u001b[36mmore-itertools\u001b[0m\u001b[39m (\u001b[0m\u001b[32m8.8.0\u001b[0m\u001b[39m)\u001b[0m\n",
      "  \u001b[34;1m•\u001b[0m \u001b[39mInstalling \u001b[0m\u001b[36mnumpy\u001b[0m\u001b[39m (\u001b[0m\u001b[39;1m1.21.0\u001b[0m\u001b[39m)\u001b[0m: \u001b[34mDownloading...\u001b[0m \u001b[1m0%\u001b[0m\n",
      "  \u001b[32;1m•\u001b[0m \u001b[39mInstalling \u001b[0m\u001b[36mpluggy\u001b[0m\u001b[39m (\u001b[0m\u001b[32m0.13.1\u001b[0m\u001b[39m)\u001b[0m\n",
      "  \u001b[32;1m•\u001b[0m \u001b[39mInstalling \u001b[0m\u001b[36mpy\u001b[0m\u001b[39m (\u001b[0m\u001b[32m1.10.0\u001b[0m\u001b[39m)\u001b[0m\n",
      "  \u001b[32;1m•\u001b[0m \u001b[39mInstalling \u001b[0m\u001b[36mpyyaml\u001b[0m\u001b[39m (\u001b[0m\u001b[32m5.4.1\u001b[0m\u001b[39m)\u001b[0m\n",
      "  \u001b[32;1m•\u001b[0m \u001b[39mInstalling \u001b[0m\u001b[36msacremoses\u001b[0m\u001b[39m (\u001b[0m\u001b[32m0.0.45\u001b[0m\u001b[39m)\u001b[0m\n",
      "  \u001b[34;1m•\u001b[0m \u001b[39mInstalling \u001b[0m\u001b[36mtokenizers\u001b[0m\u001b[39m (\u001b[0m\u001b[39;1m0.10.3\u001b[0m\u001b[39m)\u001b[0m: \u001b[34mInstalling...\u001b[0m\n",
      "  \u001b[32;1m•\u001b[0m \u001b[39mInstalling \u001b[0m\u001b[36mwcwidth\u001b[0m\u001b[39m (\u001b[0m\u001b[32m0.2.5\u001b[0m\u001b[39m)\u001b[0m\n",
      "\u001b[8A\u001b[0J  \u001b[34;1m•\u001b[0m \u001b[39mInstalling \u001b[0m\u001b[36mhuggingface-hub\u001b[0m\u001b[39m (\u001b[0m\u001b[39;1m0.0.12\u001b[0m\u001b[39m)\u001b[0m: \u001b[34mDownloading...\u001b[0m \u001b[1m100%\u001b[0m\n",
      "  \u001b[32;1m•\u001b[0m \u001b[39mInstalling \u001b[0m\u001b[36mmore-itertools\u001b[0m\u001b[39m (\u001b[0m\u001b[32m8.8.0\u001b[0m\u001b[39m)\u001b[0m\n",
      "  \u001b[34;1m•\u001b[0m \u001b[39mInstalling \u001b[0m\u001b[36mnumpy\u001b[0m\u001b[39m (\u001b[0m\u001b[39;1m1.21.0\u001b[0m\u001b[39m)\u001b[0m: \u001b[34mDownloading...\u001b[0m \u001b[1m0%\u001b[0m\n",
      "  \u001b[32;1m•\u001b[0m \u001b[39mInstalling \u001b[0m\u001b[36mpluggy\u001b[0m\u001b[39m (\u001b[0m\u001b[32m0.13.1\u001b[0m\u001b[39m)\u001b[0m\n",
      "  \u001b[32;1m•\u001b[0m \u001b[39mInstalling \u001b[0m\u001b[36mpy\u001b[0m\u001b[39m (\u001b[0m\u001b[32m1.10.0\u001b[0m\u001b[39m)\u001b[0m\n",
      "  \u001b[32;1m•\u001b[0m \u001b[39mInstalling \u001b[0m\u001b[36mpyyaml\u001b[0m\u001b[39m (\u001b[0m\u001b[32m5.4.1\u001b[0m\u001b[39m)\u001b[0m\n",
      "  \u001b[32;1m•\u001b[0m \u001b[39mInstalling \u001b[0m\u001b[36msacremoses\u001b[0m\u001b[39m (\u001b[0m\u001b[32m0.0.45\u001b[0m\u001b[39m)\u001b[0m\n",
      "  \u001b[34;1m•\u001b[0m \u001b[39mInstalling \u001b[0m\u001b[36mtokenizers\u001b[0m\u001b[39m (\u001b[0m\u001b[39;1m0.10.3\u001b[0m\u001b[39m)\u001b[0m: \u001b[34mInstalling...\u001b[0m\n",
      "  \u001b[32;1m•\u001b[0m \u001b[39mInstalling \u001b[0m\u001b[36mwcwidth\u001b[0m\u001b[39m (\u001b[0m\u001b[32m0.2.5\u001b[0m\u001b[39m)\u001b[0m\n",
      "\u001b[2A\u001b[0J  \u001b[32;1m•\u001b[0m \u001b[39mInstalling \u001b[0m\u001b[36mwcwidth\u001b[0m\u001b[39m (\u001b[0m\u001b[32m0.2.5\u001b[0m\u001b[39m)\u001b[0m\n",
      "\u001b[1A\u001b[0J  \u001b[32;1m•\u001b[0m \u001b[39mInstalling \u001b[0m\u001b[36mtokenizers\u001b[0m\u001b[39m (\u001b[0m\u001b[32m0.10.3\u001b[0m\u001b[39m)\u001b[0m\n",
      "  \u001b[32;1m•\u001b[0m \u001b[39mInstalling \u001b[0m\u001b[36mwcwidth\u001b[0m\u001b[39m (\u001b[0m\u001b[32m0.2.5\u001b[0m\u001b[39m)\u001b[0m\n",
      "\u001b[9A\u001b[0J  \u001b[32;1m•\u001b[0m \u001b[39mInstalling \u001b[0m\u001b[36mmore-itertools\u001b[0m\u001b[39m (\u001b[0m\u001b[32m8.8.0\u001b[0m\u001b[39m)\u001b[0m\n",
      "  \u001b[34;1m•\u001b[0m \u001b[39mInstalling \u001b[0m\u001b[36mnumpy\u001b[0m\u001b[39m (\u001b[0m\u001b[39;1m1.21.0\u001b[0m\u001b[39m)\u001b[0m: \u001b[34mDownloading...\u001b[0m \u001b[1m0%\u001b[0m\n",
      "  \u001b[32;1m•\u001b[0m \u001b[39mInstalling \u001b[0m\u001b[36mpluggy\u001b[0m\u001b[39m (\u001b[0m\u001b[32m0.13.1\u001b[0m\u001b[39m)\u001b[0m\n",
      "  \u001b[32;1m•\u001b[0m \u001b[39mInstalling \u001b[0m\u001b[36mpy\u001b[0m\u001b[39m (\u001b[0m\u001b[32m1.10.0\u001b[0m\u001b[39m)\u001b[0m\n",
      "  \u001b[32;1m•\u001b[0m \u001b[39mInstalling \u001b[0m\u001b[36mpyyaml\u001b[0m\u001b[39m (\u001b[0m\u001b[32m5.4.1\u001b[0m\u001b[39m)\u001b[0m\n",
      "  \u001b[32;1m•\u001b[0m \u001b[39mInstalling \u001b[0m\u001b[36msacremoses\u001b[0m\u001b[39m (\u001b[0m\u001b[32m0.0.45\u001b[0m\u001b[39m)\u001b[0m\n",
      "  \u001b[32;1m•\u001b[0m \u001b[39mInstalling \u001b[0m\u001b[36mtokenizers\u001b[0m\u001b[39m (\u001b[0m\u001b[32m0.10.3\u001b[0m\u001b[39m)\u001b[0m\n",
      "  \u001b[32;1m•\u001b[0m \u001b[39mInstalling \u001b[0m\u001b[36mwcwidth\u001b[0m\u001b[39m (\u001b[0m\u001b[32m0.2.5\u001b[0m\u001b[39m)\u001b[0m\n",
      "\u001b[8A\u001b[0J  \u001b[34;1m•\u001b[0m \u001b[39mInstalling \u001b[0m\u001b[36mhuggingface-hub\u001b[0m\u001b[39m (\u001b[0m\u001b[39;1m0.0.12\u001b[0m\u001b[39m)\u001b[0m: \u001b[34mDownloading...\u001b[0m \u001b[1m100%\u001b[0m\n",
      "  \u001b[32;1m•\u001b[0m \u001b[39mInstalling \u001b[0m\u001b[36mmore-itertools\u001b[0m\u001b[39m (\u001b[0m\u001b[32m8.8.0\u001b[0m\u001b[39m)\u001b[0m\n",
      "  \u001b[34;1m•\u001b[0m \u001b[39mInstalling \u001b[0m\u001b[36mnumpy\u001b[0m\u001b[39m (\u001b[0m\u001b[39;1m1.21.0\u001b[0m\u001b[39m)\u001b[0m: \u001b[34mDownloading...\u001b[0m \u001b[1m0%\u001b[0m\n",
      "  \u001b[32;1m•\u001b[0m \u001b[39mInstalling \u001b[0m\u001b[36mpluggy\u001b[0m\u001b[39m (\u001b[0m\u001b[32m0.13.1\u001b[0m\u001b[39m)\u001b[0m\n",
      "  \u001b[32;1m•\u001b[0m \u001b[39mInstalling \u001b[0m\u001b[36mpy\u001b[0m\u001b[39m (\u001b[0m\u001b[32m1.10.0\u001b[0m\u001b[39m)\u001b[0m\n",
      "  \u001b[32;1m•\u001b[0m \u001b[39mInstalling \u001b[0m\u001b[36mpyyaml\u001b[0m\u001b[39m (\u001b[0m\u001b[32m5.4.1\u001b[0m\u001b[39m)\u001b[0m\n",
      "  \u001b[32;1m•\u001b[0m \u001b[39mInstalling \u001b[0m\u001b[36msacremoses\u001b[0m\u001b[39m (\u001b[0m\u001b[32m0.0.45\u001b[0m\u001b[39m)\u001b[0m\n",
      "  \u001b[32;1m•\u001b[0m \u001b[39mInstalling \u001b[0m\u001b[36mtokenizers\u001b[0m\u001b[39m (\u001b[0m\u001b[32m0.10.3\u001b[0m\u001b[39m)\u001b[0m\n",
      "  \u001b[32;1m•\u001b[0m \u001b[39mInstalling \u001b[0m\u001b[36mwcwidth\u001b[0m\u001b[39m (\u001b[0m\u001b[32m0.2.5\u001b[0m\u001b[39m)\u001b[0m\n",
      "\u001b[9A\u001b[0J  \u001b[32;1m•\u001b[0m \u001b[39mInstalling \u001b[0m\u001b[36mmore-itertools\u001b[0m\u001b[39m (\u001b[0m\u001b[32m8.8.0\u001b[0m\u001b[39m)\u001b[0m\n",
      "  \u001b[34;1m•\u001b[0m \u001b[39mInstalling \u001b[0m\u001b[36mnumpy\u001b[0m\u001b[39m (\u001b[0m\u001b[39;1m1.21.0\u001b[0m\u001b[39m)\u001b[0m: \u001b[34mDownloading...\u001b[0m \u001b[1m0%\u001b[0m\n",
      "  \u001b[32;1m•\u001b[0m \u001b[39mInstalling \u001b[0m\u001b[36mpluggy\u001b[0m\u001b[39m (\u001b[0m\u001b[32m0.13.1\u001b[0m\u001b[39m)\u001b[0m\n",
      "  \u001b[32;1m•\u001b[0m \u001b[39mInstalling \u001b[0m\u001b[36mpy\u001b[0m\u001b[39m (\u001b[0m\u001b[32m1.10.0\u001b[0m\u001b[39m)\u001b[0m\n",
      "  \u001b[32;1m•\u001b[0m \u001b[39mInstalling \u001b[0m\u001b[36mpyyaml\u001b[0m\u001b[39m (\u001b[0m\u001b[32m5.4.1\u001b[0m\u001b[39m)\u001b[0m\n",
      "  \u001b[32;1m•\u001b[0m \u001b[39mInstalling \u001b[0m\u001b[36msacremoses\u001b[0m\u001b[39m (\u001b[0m\u001b[32m0.0.45\u001b[0m\u001b[39m)\u001b[0m\n",
      "  \u001b[32;1m•\u001b[0m \u001b[39mInstalling \u001b[0m\u001b[36mtokenizers\u001b[0m\u001b[39m (\u001b[0m\u001b[32m0.10.3\u001b[0m\u001b[39m)\u001b[0m\n",
      "  \u001b[32;1m•\u001b[0m \u001b[39mInstalling \u001b[0m\u001b[36mwcwidth\u001b[0m\u001b[39m (\u001b[0m\u001b[32m0.2.5\u001b[0m\u001b[39m)\u001b[0m\n",
      "\u001b[8A\u001b[0J  \u001b[34;1m•\u001b[0m \u001b[39mInstalling \u001b[0m\u001b[36mhuggingface-hub\u001b[0m\u001b[39m (\u001b[0m\u001b[39;1m0.0.12\u001b[0m\u001b[39m)\u001b[0m: \u001b[34mInstalling...\u001b[0m\n",
      "  \u001b[32;1m•\u001b[0m \u001b[39mInstalling \u001b[0m\u001b[36mmore-itertools\u001b[0m\u001b[39m (\u001b[0m\u001b[32m8.8.0\u001b[0m\u001b[39m)\u001b[0m\n",
      "  \u001b[34;1m•\u001b[0m \u001b[39mInstalling \u001b[0m\u001b[36mnumpy\u001b[0m\u001b[39m (\u001b[0m\u001b[39;1m1.21.0\u001b[0m\u001b[39m)\u001b[0m: \u001b[34mDownloading...\u001b[0m \u001b[1m0%\u001b[0m\n",
      "  \u001b[32;1m•\u001b[0m \u001b[39mInstalling \u001b[0m\u001b[36mpluggy\u001b[0m\u001b[39m (\u001b[0m\u001b[32m0.13.1\u001b[0m\u001b[39m)\u001b[0m\n",
      "  \u001b[32;1m•\u001b[0m \u001b[39mInstalling \u001b[0m\u001b[36mpy\u001b[0m\u001b[39m (\u001b[0m\u001b[32m1.10.0\u001b[0m\u001b[39m)\u001b[0m\n",
      "  \u001b[32;1m•\u001b[0m \u001b[39mInstalling \u001b[0m\u001b[36mpyyaml\u001b[0m\u001b[39m (\u001b[0m\u001b[32m5.4.1\u001b[0m\u001b[39m)\u001b[0m\n",
      "  \u001b[32;1m•\u001b[0m \u001b[39mInstalling \u001b[0m\u001b[36msacremoses\u001b[0m\u001b[39m (\u001b[0m\u001b[32m0.0.45\u001b[0m\u001b[39m)\u001b[0m\n",
      "  \u001b[32;1m•\u001b[0m \u001b[39mInstalling \u001b[0m\u001b[36mtokenizers\u001b[0m\u001b[39m (\u001b[0m\u001b[32m0.10.3\u001b[0m\u001b[39m)\u001b[0m\n",
      "  \u001b[32;1m•\u001b[0m \u001b[39mInstalling \u001b[0m\u001b[36mwcwidth\u001b[0m\u001b[39m (\u001b[0m\u001b[32m0.2.5\u001b[0m\u001b[39m)\u001b[0m\n",
      "\u001b[9A\u001b[0J  \u001b[32;1m•\u001b[0m \u001b[39mInstalling \u001b[0m\u001b[36mmore-itertools\u001b[0m\u001b[39m (\u001b[0m\u001b[32m8.8.0\u001b[0m\u001b[39m)\u001b[0m\n",
      "  \u001b[34;1m•\u001b[0m \u001b[39mInstalling \u001b[0m\u001b[36mnumpy\u001b[0m\u001b[39m (\u001b[0m\u001b[39;1m1.21.0\u001b[0m\u001b[39m)\u001b[0m: \u001b[34mDownloading...\u001b[0m \u001b[1m0%\u001b[0m\n",
      "  \u001b[32;1m•\u001b[0m \u001b[39mInstalling \u001b[0m\u001b[36mpluggy\u001b[0m\u001b[39m (\u001b[0m\u001b[32m0.13.1\u001b[0m\u001b[39m)\u001b[0m\n",
      "  \u001b[32;1m•\u001b[0m \u001b[39mInstalling \u001b[0m\u001b[36mpy\u001b[0m\u001b[39m (\u001b[0m\u001b[32m1.10.0\u001b[0m\u001b[39m)\u001b[0m\n",
      "  \u001b[32;1m•\u001b[0m \u001b[39mInstalling \u001b[0m\u001b[36mpyyaml\u001b[0m\u001b[39m (\u001b[0m\u001b[32m5.4.1\u001b[0m\u001b[39m)\u001b[0m\n",
      "  \u001b[32;1m•\u001b[0m \u001b[39mInstalling \u001b[0m\u001b[36msacremoses\u001b[0m\u001b[39m (\u001b[0m\u001b[32m0.0.45\u001b[0m\u001b[39m)\u001b[0m\n",
      "  \u001b[32;1m•\u001b[0m \u001b[39mInstalling \u001b[0m\u001b[36mtokenizers\u001b[0m\u001b[39m (\u001b[0m\u001b[32m0.10.3\u001b[0m\u001b[39m)\u001b[0m\n",
      "  \u001b[32;1m•\u001b[0m \u001b[39mInstalling \u001b[0m\u001b[36mwcwidth\u001b[0m\u001b[39m (\u001b[0m\u001b[32m0.2.5\u001b[0m\u001b[39m)\u001b[0m\n",
      "\u001b[8A\u001b[0J  \u001b[32;1m•\u001b[0m \u001b[39mInstalling \u001b[0m\u001b[36mhuggingface-hub\u001b[0m\u001b[39m (\u001b[0m\u001b[32m0.0.12\u001b[0m\u001b[39m)\u001b[0m\n",
      "  \u001b[32;1m•\u001b[0m \u001b[39mInstalling \u001b[0m\u001b[36mmore-itertools\u001b[0m\u001b[39m (\u001b[0m\u001b[32m8.8.0\u001b[0m\u001b[39m)\u001b[0m\n",
      "  \u001b[34;1m•\u001b[0m \u001b[39mInstalling \u001b[0m\u001b[36mnumpy\u001b[0m\u001b[39m (\u001b[0m\u001b[39;1m1.21.0\u001b[0m\u001b[39m)\u001b[0m: \u001b[34mDownloading...\u001b[0m \u001b[1m0%\u001b[0m\n",
      "  \u001b[32;1m•\u001b[0m \u001b[39mInstalling \u001b[0m\u001b[36mpluggy\u001b[0m\u001b[39m (\u001b[0m\u001b[32m0.13.1\u001b[0m\u001b[39m)\u001b[0m\n",
      "  \u001b[32;1m•\u001b[0m \u001b[39mInstalling \u001b[0m\u001b[36mpy\u001b[0m\u001b[39m (\u001b[0m\u001b[32m1.10.0\u001b[0m\u001b[39m)\u001b[0m\n",
      "  \u001b[32;1m•\u001b[0m \u001b[39mInstalling \u001b[0m\u001b[36mpyyaml\u001b[0m\u001b[39m (\u001b[0m\u001b[32m5.4.1\u001b[0m\u001b[39m)\u001b[0m\n",
      "  \u001b[32;1m•\u001b[0m \u001b[39mInstalling \u001b[0m\u001b[36msacremoses\u001b[0m\u001b[39m (\u001b[0m\u001b[32m0.0.45\u001b[0m\u001b[39m)\u001b[0m\n",
      "  \u001b[32;1m•\u001b[0m \u001b[39mInstalling \u001b[0m\u001b[36mtokenizers\u001b[0m\u001b[39m (\u001b[0m\u001b[32m0.10.3\u001b[0m\u001b[39m)\u001b[0m\n",
      "  \u001b[32;1m•\u001b[0m \u001b[39mInstalling \u001b[0m\u001b[36mwcwidth\u001b[0m\u001b[39m (\u001b[0m\u001b[32m0.2.5\u001b[0m\u001b[39m)\u001b[0m\n"
     ]
    },
    {
     "name": "stdout",
     "output_type": "stream",
     "text": [
      "\u001b[7A\u001b[0J  \u001b[32;1m•\u001b[0m \u001b[39mInstalling \u001b[0m\u001b[36mpluggy\u001b[0m\u001b[39m (\u001b[0m\u001b[32m0.13.1\u001b[0m\u001b[39m)\u001b[0m\n",
      "  \u001b[32;1m•\u001b[0m \u001b[39mInstalling \u001b[0m\u001b[36mpy\u001b[0m\u001b[39m (\u001b[0m\u001b[32m1.10.0\u001b[0m\u001b[39m)\u001b[0m\n",
      "  \u001b[32;1m•\u001b[0m \u001b[39mInstalling \u001b[0m\u001b[36mpyyaml\u001b[0m\u001b[39m (\u001b[0m\u001b[32m5.4.1\u001b[0m\u001b[39m)\u001b[0m\n",
      "  \u001b[32;1m•\u001b[0m \u001b[39mInstalling \u001b[0m\u001b[36msacremoses\u001b[0m\u001b[39m (\u001b[0m\u001b[32m0.0.45\u001b[0m\u001b[39m)\u001b[0m\n",
      "  \u001b[32;1m•\u001b[0m \u001b[39mInstalling \u001b[0m\u001b[36mtokenizers\u001b[0m\u001b[39m (\u001b[0m\u001b[32m0.10.3\u001b[0m\u001b[39m)\u001b[0m\n",
      "  \u001b[32;1m•\u001b[0m \u001b[39mInstalling \u001b[0m\u001b[36mwcwidth\u001b[0m\u001b[39m (\u001b[0m\u001b[32m0.2.5\u001b[0m\u001b[39m)\u001b[0m\n",
      "\u001b[6A\u001b[0J  \u001b[34;1m•\u001b[0m \u001b[39mInstalling \u001b[0m\u001b[36mnumpy\u001b[0m\u001b[39m (\u001b[0m\u001b[39;1m1.21.0\u001b[0m\u001b[39m)\u001b[0m: \u001b[34mDownloading...\u001b[0m \u001b[1m4%\u001b[0m\n",
      "  \u001b[32;1m•\u001b[0m \u001b[39mInstalling \u001b[0m\u001b[36mpluggy\u001b[0m\u001b[39m (\u001b[0m\u001b[32m0.13.1\u001b[0m\u001b[39m)\u001b[0m\n",
      "  \u001b[32;1m•\u001b[0m \u001b[39mInstalling \u001b[0m\u001b[36mpy\u001b[0m\u001b[39m (\u001b[0m\u001b[32m1.10.0\u001b[0m\u001b[39m)\u001b[0m\n",
      "  \u001b[32;1m•\u001b[0m \u001b[39mInstalling \u001b[0m\u001b[36mpyyaml\u001b[0m\u001b[39m (\u001b[0m\u001b[32m5.4.1\u001b[0m\u001b[39m)\u001b[0m\n",
      "  \u001b[32;1m•\u001b[0m \u001b[39mInstalling \u001b[0m\u001b[36msacremoses\u001b[0m\u001b[39m (\u001b[0m\u001b[32m0.0.45\u001b[0m\u001b[39m)\u001b[0m\n",
      "  \u001b[32;1m•\u001b[0m \u001b[39mInstalling \u001b[0m\u001b[36mtokenizers\u001b[0m\u001b[39m (\u001b[0m\u001b[32m0.10.3\u001b[0m\u001b[39m)\u001b[0m\n",
      "  \u001b[32;1m•\u001b[0m \u001b[39mInstalling \u001b[0m\u001b[36mwcwidth\u001b[0m\u001b[39m (\u001b[0m\u001b[32m0.2.5\u001b[0m\u001b[39m)\u001b[0m\n",
      "\u001b[7A\u001b[0J  \u001b[32;1m•\u001b[0m \u001b[39mInstalling \u001b[0m\u001b[36mpluggy\u001b[0m\u001b[39m (\u001b[0m\u001b[32m0.13.1\u001b[0m\u001b[39m)\u001b[0m\n",
      "  \u001b[32;1m•\u001b[0m \u001b[39mInstalling \u001b[0m\u001b[36mpy\u001b[0m\u001b[39m (\u001b[0m\u001b[32m1.10.0\u001b[0m\u001b[39m)\u001b[0m\n",
      "  \u001b[32;1m•\u001b[0m \u001b[39mInstalling \u001b[0m\u001b[36mpyyaml\u001b[0m\u001b[39m (\u001b[0m\u001b[32m5.4.1\u001b[0m\u001b[39m)\u001b[0m\n",
      "  \u001b[32;1m•\u001b[0m \u001b[39mInstalling \u001b[0m\u001b[36msacremoses\u001b[0m\u001b[39m (\u001b[0m\u001b[32m0.0.45\u001b[0m\u001b[39m)\u001b[0m\n",
      "  \u001b[32;1m•\u001b[0m \u001b[39mInstalling \u001b[0m\u001b[36mtokenizers\u001b[0m\u001b[39m (\u001b[0m\u001b[32m0.10.3\u001b[0m\u001b[39m)\u001b[0m\n",
      "  \u001b[32;1m•\u001b[0m \u001b[39mInstalling \u001b[0m\u001b[36mwcwidth\u001b[0m\u001b[39m (\u001b[0m\u001b[32m0.2.5\u001b[0m\u001b[39m)\u001b[0m\n",
      "\u001b[6A\u001b[0J  \u001b[34;1m•\u001b[0m \u001b[39mInstalling \u001b[0m\u001b[36mnumpy\u001b[0m\u001b[39m (\u001b[0m\u001b[39;1m1.21.0\u001b[0m\u001b[39m)\u001b[0m: \u001b[34mDownloading...\u001b[0m \u001b[1m10%\u001b[0m\n",
      "  \u001b[32;1m•\u001b[0m \u001b[39mInstalling \u001b[0m\u001b[36mpluggy\u001b[0m\u001b[39m (\u001b[0m\u001b[32m0.13.1\u001b[0m\u001b[39m)\u001b[0m\n",
      "  \u001b[32;1m•\u001b[0m \u001b[39mInstalling \u001b[0m\u001b[36mpy\u001b[0m\u001b[39m (\u001b[0m\u001b[32m1.10.0\u001b[0m\u001b[39m)\u001b[0m\n",
      "  \u001b[32;1m•\u001b[0m \u001b[39mInstalling \u001b[0m\u001b[36mpyyaml\u001b[0m\u001b[39m (\u001b[0m\u001b[32m5.4.1\u001b[0m\u001b[39m)\u001b[0m\n",
      "  \u001b[32;1m•\u001b[0m \u001b[39mInstalling \u001b[0m\u001b[36msacremoses\u001b[0m\u001b[39m (\u001b[0m\u001b[32m0.0.45\u001b[0m\u001b[39m)\u001b[0m\n",
      "  \u001b[32;1m•\u001b[0m \u001b[39mInstalling \u001b[0m\u001b[36mtokenizers\u001b[0m\u001b[39m (\u001b[0m\u001b[32m0.10.3\u001b[0m\u001b[39m)\u001b[0m\n",
      "  \u001b[32;1m•\u001b[0m \u001b[39mInstalling \u001b[0m\u001b[36mwcwidth\u001b[0m\u001b[39m (\u001b[0m\u001b[32m0.2.5\u001b[0m\u001b[39m)\u001b[0m\n",
      "\u001b[7A\u001b[0J  \u001b[32;1m•\u001b[0m \u001b[39mInstalling \u001b[0m\u001b[36mpluggy\u001b[0m\u001b[39m (\u001b[0m\u001b[32m0.13.1\u001b[0m\u001b[39m)\u001b[0m\n",
      "  \u001b[32;1m•\u001b[0m \u001b[39mInstalling \u001b[0m\u001b[36mpy\u001b[0m\u001b[39m (\u001b[0m\u001b[32m1.10.0\u001b[0m\u001b[39m)\u001b[0m\n",
      "  \u001b[32;1m•\u001b[0m \u001b[39mInstalling \u001b[0m\u001b[36mpyyaml\u001b[0m\u001b[39m (\u001b[0m\u001b[32m5.4.1\u001b[0m\u001b[39m)\u001b[0m\n",
      "  \u001b[32;1m•\u001b[0m \u001b[39mInstalling \u001b[0m\u001b[36msacremoses\u001b[0m\u001b[39m (\u001b[0m\u001b[32m0.0.45\u001b[0m\u001b[39m)\u001b[0m\n",
      "  \u001b[32;1m•\u001b[0m \u001b[39mInstalling \u001b[0m\u001b[36mtokenizers\u001b[0m\u001b[39m (\u001b[0m\u001b[32m0.10.3\u001b[0m\u001b[39m)\u001b[0m\n",
      "  \u001b[32;1m•\u001b[0m \u001b[39mInstalling \u001b[0m\u001b[36mwcwidth\u001b[0m\u001b[39m (\u001b[0m\u001b[32m0.2.5\u001b[0m\u001b[39m)\u001b[0m\n",
      "\u001b[6A\u001b[0J  \u001b[34;1m•\u001b[0m \u001b[39mInstalling \u001b[0m\u001b[36mnumpy\u001b[0m\u001b[39m (\u001b[0m\u001b[39;1m1.21.0\u001b[0m\u001b[39m)\u001b[0m: \u001b[34mDownloading...\u001b[0m \u001b[1m20%\u001b[0m\n",
      "  \u001b[32;1m•\u001b[0m \u001b[39mInstalling \u001b[0m\u001b[36mpluggy\u001b[0m\u001b[39m (\u001b[0m\u001b[32m0.13.1\u001b[0m\u001b[39m)\u001b[0m\n",
      "  \u001b[32;1m•\u001b[0m \u001b[39mInstalling \u001b[0m\u001b[36mpy\u001b[0m\u001b[39m (\u001b[0m\u001b[32m1.10.0\u001b[0m\u001b[39m)\u001b[0m\n",
      "  \u001b[32;1m•\u001b[0m \u001b[39mInstalling \u001b[0m\u001b[36mpyyaml\u001b[0m\u001b[39m (\u001b[0m\u001b[32m5.4.1\u001b[0m\u001b[39m)\u001b[0m\n",
      "  \u001b[32;1m•\u001b[0m \u001b[39mInstalling \u001b[0m\u001b[36msacremoses\u001b[0m\u001b[39m (\u001b[0m\u001b[32m0.0.45\u001b[0m\u001b[39m)\u001b[0m\n",
      "  \u001b[32;1m•\u001b[0m \u001b[39mInstalling \u001b[0m\u001b[36mtokenizers\u001b[0m\u001b[39m (\u001b[0m\u001b[32m0.10.3\u001b[0m\u001b[39m)\u001b[0m\n",
      "  \u001b[32;1m•\u001b[0m \u001b[39mInstalling \u001b[0m\u001b[36mwcwidth\u001b[0m\u001b[39m (\u001b[0m\u001b[32m0.2.5\u001b[0m\u001b[39m)\u001b[0m\n",
      "\u001b[7A\u001b[0J  \u001b[32;1m•\u001b[0m \u001b[39mInstalling \u001b[0m\u001b[36mpluggy\u001b[0m\u001b[39m (\u001b[0m\u001b[32m0.13.1\u001b[0m\u001b[39m)\u001b[0m\n",
      "  \u001b[32;1m•\u001b[0m \u001b[39mInstalling \u001b[0m\u001b[36mpy\u001b[0m\u001b[39m (\u001b[0m\u001b[32m1.10.0\u001b[0m\u001b[39m)\u001b[0m\n",
      "  \u001b[32;1m•\u001b[0m \u001b[39mInstalling \u001b[0m\u001b[36mpyyaml\u001b[0m\u001b[39m (\u001b[0m\u001b[32m5.4.1\u001b[0m\u001b[39m)\u001b[0m\n",
      "  \u001b[32;1m•\u001b[0m \u001b[39mInstalling \u001b[0m\u001b[36msacremoses\u001b[0m\u001b[39m (\u001b[0m\u001b[32m0.0.45\u001b[0m\u001b[39m)\u001b[0m\n",
      "  \u001b[32;1m•\u001b[0m \u001b[39mInstalling \u001b[0m\u001b[36mtokenizers\u001b[0m\u001b[39m (\u001b[0m\u001b[32m0.10.3\u001b[0m\u001b[39m)\u001b[0m\n",
      "  \u001b[32;1m•\u001b[0m \u001b[39mInstalling \u001b[0m\u001b[36mwcwidth\u001b[0m\u001b[39m (\u001b[0m\u001b[32m0.2.5\u001b[0m\u001b[39m)\u001b[0m\n",
      "\u001b[6A\u001b[0J  \u001b[34;1m•\u001b[0m \u001b[39mInstalling \u001b[0m\u001b[36mnumpy\u001b[0m\u001b[39m (\u001b[0m\u001b[39;1m1.21.0\u001b[0m\u001b[39m)\u001b[0m: \u001b[34mDownloading...\u001b[0m \u001b[1m40%\u001b[0m\n",
      "  \u001b[32;1m•\u001b[0m \u001b[39mInstalling \u001b[0m\u001b[36mpluggy\u001b[0m\u001b[39m (\u001b[0m\u001b[32m0.13.1\u001b[0m\u001b[39m)\u001b[0m\n",
      "  \u001b[32;1m•\u001b[0m \u001b[39mInstalling \u001b[0m\u001b[36mpy\u001b[0m\u001b[39m (\u001b[0m\u001b[32m1.10.0\u001b[0m\u001b[39m)\u001b[0m\n",
      "  \u001b[32;1m•\u001b[0m \u001b[39mInstalling \u001b[0m\u001b[36mpyyaml\u001b[0m\u001b[39m (\u001b[0m\u001b[32m5.4.1\u001b[0m\u001b[39m)\u001b[0m\n",
      "  \u001b[32;1m•\u001b[0m \u001b[39mInstalling \u001b[0m\u001b[36msacremoses\u001b[0m\u001b[39m (\u001b[0m\u001b[32m0.0.45\u001b[0m\u001b[39m)\u001b[0m\n",
      "  \u001b[32;1m•\u001b[0m \u001b[39mInstalling \u001b[0m\u001b[36mtokenizers\u001b[0m\u001b[39m (\u001b[0m\u001b[32m0.10.3\u001b[0m\u001b[39m)\u001b[0m\n",
      "  \u001b[32;1m•\u001b[0m \u001b[39mInstalling \u001b[0m\u001b[36mwcwidth\u001b[0m\u001b[39m (\u001b[0m\u001b[32m0.2.5\u001b[0m\u001b[39m)\u001b[0m\n",
      "\u001b[7A\u001b[0J  \u001b[32;1m•\u001b[0m \u001b[39mInstalling \u001b[0m\u001b[36mpluggy\u001b[0m\u001b[39m (\u001b[0m\u001b[32m0.13.1\u001b[0m\u001b[39m)\u001b[0m\n",
      "  \u001b[32;1m•\u001b[0m \u001b[39mInstalling \u001b[0m\u001b[36mpy\u001b[0m\u001b[39m (\u001b[0m\u001b[32m1.10.0\u001b[0m\u001b[39m)\u001b[0m\n",
      "  \u001b[32;1m•\u001b[0m \u001b[39mInstalling \u001b[0m\u001b[36mpyyaml\u001b[0m\u001b[39m (\u001b[0m\u001b[32m5.4.1\u001b[0m\u001b[39m)\u001b[0m\n",
      "  \u001b[32;1m•\u001b[0m \u001b[39mInstalling \u001b[0m\u001b[36msacremoses\u001b[0m\u001b[39m (\u001b[0m\u001b[32m0.0.45\u001b[0m\u001b[39m)\u001b[0m\n",
      "  \u001b[32;1m•\u001b[0m \u001b[39mInstalling \u001b[0m\u001b[36mtokenizers\u001b[0m\u001b[39m (\u001b[0m\u001b[32m0.10.3\u001b[0m\u001b[39m)\u001b[0m\n",
      "  \u001b[32;1m•\u001b[0m \u001b[39mInstalling \u001b[0m\u001b[36mwcwidth\u001b[0m\u001b[39m (\u001b[0m\u001b[32m0.2.5\u001b[0m\u001b[39m)\u001b[0m\n",
      "\u001b[6A\u001b[0J  \u001b[34;1m•\u001b[0m \u001b[39mInstalling \u001b[0m\u001b[36mnumpy\u001b[0m\u001b[39m (\u001b[0m\u001b[39;1m1.21.0\u001b[0m\u001b[39m)\u001b[0m: \u001b[34mDownloading...\u001b[0m \u001b[1m50%\u001b[0m\n",
      "  \u001b[32;1m•\u001b[0m \u001b[39mInstalling \u001b[0m\u001b[36mpluggy\u001b[0m\u001b[39m (\u001b[0m\u001b[32m0.13.1\u001b[0m\u001b[39m)\u001b[0m\n",
      "  \u001b[32;1m•\u001b[0m \u001b[39mInstalling \u001b[0m\u001b[36mpy\u001b[0m\u001b[39m (\u001b[0m\u001b[32m1.10.0\u001b[0m\u001b[39m)\u001b[0m\n",
      "  \u001b[32;1m•\u001b[0m \u001b[39mInstalling \u001b[0m\u001b[36mpyyaml\u001b[0m\u001b[39m (\u001b[0m\u001b[32m5.4.1\u001b[0m\u001b[39m)\u001b[0m\n",
      "  \u001b[32;1m•\u001b[0m \u001b[39mInstalling \u001b[0m\u001b[36msacremoses\u001b[0m\u001b[39m (\u001b[0m\u001b[32m0.0.45\u001b[0m\u001b[39m)\u001b[0m\n",
      "  \u001b[32;1m•\u001b[0m \u001b[39mInstalling \u001b[0m\u001b[36mtokenizers\u001b[0m\u001b[39m (\u001b[0m\u001b[32m0.10.3\u001b[0m\u001b[39m)\u001b[0m\n",
      "  \u001b[32;1m•\u001b[0m \u001b[39mInstalling \u001b[0m\u001b[36mwcwidth\u001b[0m\u001b[39m (\u001b[0m\u001b[32m0.2.5\u001b[0m\u001b[39m)\u001b[0m\n",
      "\u001b[7A\u001b[0J  \u001b[32;1m•\u001b[0m \u001b[39mInstalling \u001b[0m\u001b[36mpluggy\u001b[0m\u001b[39m (\u001b[0m\u001b[32m0.13.1\u001b[0m\u001b[39m)\u001b[0m\n",
      "  \u001b[32;1m•\u001b[0m \u001b[39mInstalling \u001b[0m\u001b[36mpy\u001b[0m\u001b[39m (\u001b[0m\u001b[32m1.10.0\u001b[0m\u001b[39m)\u001b[0m\n",
      "  \u001b[32;1m•\u001b[0m \u001b[39mInstalling \u001b[0m\u001b[36mpyyaml\u001b[0m\u001b[39m (\u001b[0m\u001b[32m5.4.1\u001b[0m\u001b[39m)\u001b[0m\n",
      "  \u001b[32;1m•\u001b[0m \u001b[39mInstalling \u001b[0m\u001b[36msacremoses\u001b[0m\u001b[39m (\u001b[0m\u001b[32m0.0.45\u001b[0m\u001b[39m)\u001b[0m\n",
      "  \u001b[32;1m•\u001b[0m \u001b[39mInstalling \u001b[0m\u001b[36mtokenizers\u001b[0m\u001b[39m (\u001b[0m\u001b[32m0.10.3\u001b[0m\u001b[39m)\u001b[0m\n",
      "  \u001b[32;1m•\u001b[0m \u001b[39mInstalling \u001b[0m\u001b[36mwcwidth\u001b[0m\u001b[39m (\u001b[0m\u001b[32m0.2.5\u001b[0m\u001b[39m)\u001b[0m\n",
      "\u001b[6A\u001b[0J  \u001b[34;1m•\u001b[0m \u001b[39mInstalling \u001b[0m\u001b[36mnumpy\u001b[0m\u001b[39m (\u001b[0m\u001b[39;1m1.21.0\u001b[0m\u001b[39m)\u001b[0m: \u001b[34mDownloading...\u001b[0m \u001b[1m70%\u001b[0m\n",
      "  \u001b[32;1m•\u001b[0m \u001b[39mInstalling \u001b[0m\u001b[36mpluggy\u001b[0m\u001b[39m (\u001b[0m\u001b[32m0.13.1\u001b[0m\u001b[39m)\u001b[0m\n",
      "  \u001b[32;1m•\u001b[0m \u001b[39mInstalling \u001b[0m\u001b[36mpy\u001b[0m\u001b[39m (\u001b[0m\u001b[32m1.10.0\u001b[0m\u001b[39m)\u001b[0m\n",
      "  \u001b[32;1m•\u001b[0m \u001b[39mInstalling \u001b[0m\u001b[36mpyyaml\u001b[0m\u001b[39m (\u001b[0m\u001b[32m5.4.1\u001b[0m\u001b[39m)\u001b[0m\n",
      "  \u001b[32;1m•\u001b[0m \u001b[39mInstalling \u001b[0m\u001b[36msacremoses\u001b[0m\u001b[39m (\u001b[0m\u001b[32m0.0.45\u001b[0m\u001b[39m)\u001b[0m\n",
      "  \u001b[32;1m•\u001b[0m \u001b[39mInstalling \u001b[0m\u001b[36mtokenizers\u001b[0m\u001b[39m (\u001b[0m\u001b[32m0.10.3\u001b[0m\u001b[39m)\u001b[0m\n",
      "  \u001b[32;1m•\u001b[0m \u001b[39mInstalling \u001b[0m\u001b[36mwcwidth\u001b[0m\u001b[39m (\u001b[0m\u001b[32m0.2.5\u001b[0m\u001b[39m)\u001b[0m\n",
      "\u001b[7A\u001b[0J  \u001b[32;1m•\u001b[0m \u001b[39mInstalling \u001b[0m\u001b[36mpluggy\u001b[0m\u001b[39m (\u001b[0m\u001b[32m0.13.1\u001b[0m\u001b[39m)\u001b[0m\n",
      "  \u001b[32;1m•\u001b[0m \u001b[39mInstalling \u001b[0m\u001b[36mpy\u001b[0m\u001b[39m (\u001b[0m\u001b[32m1.10.0\u001b[0m\u001b[39m)\u001b[0m\n",
      "  \u001b[32;1m•\u001b[0m \u001b[39mInstalling \u001b[0m\u001b[36mpyyaml\u001b[0m\u001b[39m (\u001b[0m\u001b[32m5.4.1\u001b[0m\u001b[39m)\u001b[0m\n",
      "  \u001b[32;1m•\u001b[0m \u001b[39mInstalling \u001b[0m\u001b[36msacremoses\u001b[0m\u001b[39m (\u001b[0m\u001b[32m0.0.45\u001b[0m\u001b[39m)\u001b[0m\n",
      "  \u001b[32;1m•\u001b[0m \u001b[39mInstalling \u001b[0m\u001b[36mtokenizers\u001b[0m\u001b[39m (\u001b[0m\u001b[32m0.10.3\u001b[0m\u001b[39m)\u001b[0m\n",
      "  \u001b[32;1m•\u001b[0m \u001b[39mInstalling \u001b[0m\u001b[36mwcwidth\u001b[0m\u001b[39m (\u001b[0m\u001b[32m0.2.5\u001b[0m\u001b[39m)\u001b[0m\n",
      "\u001b[6A\u001b[0J  \u001b[34;1m•\u001b[0m \u001b[39mInstalling \u001b[0m\u001b[36mnumpy\u001b[0m\u001b[39m (\u001b[0m\u001b[39;1m1.21.0\u001b[0m\u001b[39m)\u001b[0m: \u001b[34mDownloading...\u001b[0m \u001b[1m80%\u001b[0m\n",
      "  \u001b[32;1m•\u001b[0m \u001b[39mInstalling \u001b[0m\u001b[36mpluggy\u001b[0m\u001b[39m (\u001b[0m\u001b[32m0.13.1\u001b[0m\u001b[39m)\u001b[0m\n",
      "  \u001b[32;1m•\u001b[0m \u001b[39mInstalling \u001b[0m\u001b[36mpy\u001b[0m\u001b[39m (\u001b[0m\u001b[32m1.10.0\u001b[0m\u001b[39m)\u001b[0m\n",
      "  \u001b[32;1m•\u001b[0m \u001b[39mInstalling \u001b[0m\u001b[36mpyyaml\u001b[0m\u001b[39m (\u001b[0m\u001b[32m5.4.1\u001b[0m\u001b[39m)\u001b[0m\n",
      "  \u001b[32;1m•\u001b[0m \u001b[39mInstalling \u001b[0m\u001b[36msacremoses\u001b[0m\u001b[39m (\u001b[0m\u001b[32m0.0.45\u001b[0m\u001b[39m)\u001b[0m\n",
      "  \u001b[32;1m•\u001b[0m \u001b[39mInstalling \u001b[0m\u001b[36mtokenizers\u001b[0m\u001b[39m (\u001b[0m\u001b[32m0.10.3\u001b[0m\u001b[39m)\u001b[0m\n",
      "  \u001b[32;1m•\u001b[0m \u001b[39mInstalling \u001b[0m\u001b[36mwcwidth\u001b[0m\u001b[39m (\u001b[0m\u001b[32m0.2.5\u001b[0m\u001b[39m)\u001b[0m\n"
     ]
    },
    {
     "name": "stdout",
     "output_type": "stream",
     "text": [
      "\u001b[7A\u001b[0J  \u001b[32;1m•\u001b[0m \u001b[39mInstalling \u001b[0m\u001b[36mpluggy\u001b[0m\u001b[39m (\u001b[0m\u001b[32m0.13.1\u001b[0m\u001b[39m)\u001b[0m\n",
      "  \u001b[32;1m•\u001b[0m \u001b[39mInstalling \u001b[0m\u001b[36mpy\u001b[0m\u001b[39m (\u001b[0m\u001b[32m1.10.0\u001b[0m\u001b[39m)\u001b[0m\n",
      "  \u001b[32;1m•\u001b[0m \u001b[39mInstalling \u001b[0m\u001b[36mpyyaml\u001b[0m\u001b[39m (\u001b[0m\u001b[32m5.4.1\u001b[0m\u001b[39m)\u001b[0m\n",
      "  \u001b[32;1m•\u001b[0m \u001b[39mInstalling \u001b[0m\u001b[36msacremoses\u001b[0m\u001b[39m (\u001b[0m\u001b[32m0.0.45\u001b[0m\u001b[39m)\u001b[0m\n",
      "  \u001b[32;1m•\u001b[0m \u001b[39mInstalling \u001b[0m\u001b[36mtokenizers\u001b[0m\u001b[39m (\u001b[0m\u001b[32m0.10.3\u001b[0m\u001b[39m)\u001b[0m\n",
      "  \u001b[32;1m•\u001b[0m \u001b[39mInstalling \u001b[0m\u001b[36mwcwidth\u001b[0m\u001b[39m (\u001b[0m\u001b[32m0.2.5\u001b[0m\u001b[39m)\u001b[0m\n",
      "\u001b[6A\u001b[0J  \u001b[34;1m•\u001b[0m \u001b[39mInstalling \u001b[0m\u001b[36mnumpy\u001b[0m\u001b[39m (\u001b[0m\u001b[39;1m1.21.0\u001b[0m\u001b[39m)\u001b[0m: \u001b[34mDownloading...\u001b[0m \u001b[1m100%\u001b[0m\n",
      "  \u001b[32;1m•\u001b[0m \u001b[39mInstalling \u001b[0m\u001b[36mpluggy\u001b[0m\u001b[39m (\u001b[0m\u001b[32m0.13.1\u001b[0m\u001b[39m)\u001b[0m\n",
      "  \u001b[32;1m•\u001b[0m \u001b[39mInstalling \u001b[0m\u001b[36mpy\u001b[0m\u001b[39m (\u001b[0m\u001b[32m1.10.0\u001b[0m\u001b[39m)\u001b[0m\n",
      "  \u001b[32;1m•\u001b[0m \u001b[39mInstalling \u001b[0m\u001b[36mpyyaml\u001b[0m\u001b[39m (\u001b[0m\u001b[32m5.4.1\u001b[0m\u001b[39m)\u001b[0m\n",
      "  \u001b[32;1m•\u001b[0m \u001b[39mInstalling \u001b[0m\u001b[36msacremoses\u001b[0m\u001b[39m (\u001b[0m\u001b[32m0.0.45\u001b[0m\u001b[39m)\u001b[0m\n",
      "  \u001b[32;1m•\u001b[0m \u001b[39mInstalling \u001b[0m\u001b[36mtokenizers\u001b[0m\u001b[39m (\u001b[0m\u001b[32m0.10.3\u001b[0m\u001b[39m)\u001b[0m\n",
      "  \u001b[32;1m•\u001b[0m \u001b[39mInstalling \u001b[0m\u001b[36mwcwidth\u001b[0m\u001b[39m (\u001b[0m\u001b[32m0.2.5\u001b[0m\u001b[39m)\u001b[0m\n",
      "\u001b[7A\u001b[0J  \u001b[32;1m•\u001b[0m \u001b[39mInstalling \u001b[0m\u001b[36mpluggy\u001b[0m\u001b[39m (\u001b[0m\u001b[32m0.13.1\u001b[0m\u001b[39m)\u001b[0m\n",
      "  \u001b[32;1m•\u001b[0m \u001b[39mInstalling \u001b[0m\u001b[36mpy\u001b[0m\u001b[39m (\u001b[0m\u001b[32m1.10.0\u001b[0m\u001b[39m)\u001b[0m\n",
      "  \u001b[32;1m•\u001b[0m \u001b[39mInstalling \u001b[0m\u001b[36mpyyaml\u001b[0m\u001b[39m (\u001b[0m\u001b[32m5.4.1\u001b[0m\u001b[39m)\u001b[0m\n",
      "  \u001b[32;1m•\u001b[0m \u001b[39mInstalling \u001b[0m\u001b[36msacremoses\u001b[0m\u001b[39m (\u001b[0m\u001b[32m0.0.45\u001b[0m\u001b[39m)\u001b[0m\n",
      "  \u001b[32;1m•\u001b[0m \u001b[39mInstalling \u001b[0m\u001b[36mtokenizers\u001b[0m\u001b[39m (\u001b[0m\u001b[32m0.10.3\u001b[0m\u001b[39m)\u001b[0m\n",
      "  \u001b[32;1m•\u001b[0m \u001b[39mInstalling \u001b[0m\u001b[36mwcwidth\u001b[0m\u001b[39m (\u001b[0m\u001b[32m0.2.5\u001b[0m\u001b[39m)\u001b[0m\n",
      "\u001b[6A\u001b[0J  \u001b[34;1m•\u001b[0m \u001b[39mInstalling \u001b[0m\u001b[36mnumpy\u001b[0m\u001b[39m (\u001b[0m\u001b[39;1m1.21.0\u001b[0m\u001b[39m)\u001b[0m: \u001b[34mDownloading...\u001b[0m \u001b[1m100%\u001b[0m\n",
      "  \u001b[32;1m•\u001b[0m \u001b[39mInstalling \u001b[0m\u001b[36mpluggy\u001b[0m\u001b[39m (\u001b[0m\u001b[32m0.13.1\u001b[0m\u001b[39m)\u001b[0m\n",
      "  \u001b[32;1m•\u001b[0m \u001b[39mInstalling \u001b[0m\u001b[36mpy\u001b[0m\u001b[39m (\u001b[0m\u001b[32m1.10.0\u001b[0m\u001b[39m)\u001b[0m\n",
      "  \u001b[32;1m•\u001b[0m \u001b[39mInstalling \u001b[0m\u001b[36mpyyaml\u001b[0m\u001b[39m (\u001b[0m\u001b[32m5.4.1\u001b[0m\u001b[39m)\u001b[0m\n",
      "  \u001b[32;1m•\u001b[0m \u001b[39mInstalling \u001b[0m\u001b[36msacremoses\u001b[0m\u001b[39m (\u001b[0m\u001b[32m0.0.45\u001b[0m\u001b[39m)\u001b[0m\n",
      "  \u001b[32;1m•\u001b[0m \u001b[39mInstalling \u001b[0m\u001b[36mtokenizers\u001b[0m\u001b[39m (\u001b[0m\u001b[32m0.10.3\u001b[0m\u001b[39m)\u001b[0m\n",
      "  \u001b[32;1m•\u001b[0m \u001b[39mInstalling \u001b[0m\u001b[36mwcwidth\u001b[0m\u001b[39m (\u001b[0m\u001b[32m0.2.5\u001b[0m\u001b[39m)\u001b[0m\n",
      "\u001b[7A\u001b[0J  \u001b[32;1m•\u001b[0m \u001b[39mInstalling \u001b[0m\u001b[36mpluggy\u001b[0m\u001b[39m (\u001b[0m\u001b[32m0.13.1\u001b[0m\u001b[39m)\u001b[0m\n",
      "  \u001b[32;1m•\u001b[0m \u001b[39mInstalling \u001b[0m\u001b[36mpy\u001b[0m\u001b[39m (\u001b[0m\u001b[32m1.10.0\u001b[0m\u001b[39m)\u001b[0m\n",
      "  \u001b[32;1m•\u001b[0m \u001b[39mInstalling \u001b[0m\u001b[36mpyyaml\u001b[0m\u001b[39m (\u001b[0m\u001b[32m5.4.1\u001b[0m\u001b[39m)\u001b[0m\n",
      "  \u001b[32;1m•\u001b[0m \u001b[39mInstalling \u001b[0m\u001b[36msacremoses\u001b[0m\u001b[39m (\u001b[0m\u001b[32m0.0.45\u001b[0m\u001b[39m)\u001b[0m\n",
      "  \u001b[32;1m•\u001b[0m \u001b[39mInstalling \u001b[0m\u001b[36mtokenizers\u001b[0m\u001b[39m (\u001b[0m\u001b[32m0.10.3\u001b[0m\u001b[39m)\u001b[0m\n",
      "  \u001b[32;1m•\u001b[0m \u001b[39mInstalling \u001b[0m\u001b[36mwcwidth\u001b[0m\u001b[39m (\u001b[0m\u001b[32m0.2.5\u001b[0m\u001b[39m)\u001b[0m\n",
      "\u001b[6A\u001b[0J  \u001b[34;1m•\u001b[0m \u001b[39mInstalling \u001b[0m\u001b[36mnumpy\u001b[0m\u001b[39m (\u001b[0m\u001b[39;1m1.21.0\u001b[0m\u001b[39m)\u001b[0m: \u001b[34mInstalling...\u001b[0m\n",
      "  \u001b[32;1m•\u001b[0m \u001b[39mInstalling \u001b[0m\u001b[36mpluggy\u001b[0m\u001b[39m (\u001b[0m\u001b[32m0.13.1\u001b[0m\u001b[39m)\u001b[0m\n",
      "  \u001b[32;1m•\u001b[0m \u001b[39mInstalling \u001b[0m\u001b[36mpy\u001b[0m\u001b[39m (\u001b[0m\u001b[32m1.10.0\u001b[0m\u001b[39m)\u001b[0m\n",
      "  \u001b[32;1m•\u001b[0m \u001b[39mInstalling \u001b[0m\u001b[36mpyyaml\u001b[0m\u001b[39m (\u001b[0m\u001b[32m5.4.1\u001b[0m\u001b[39m)\u001b[0m\n",
      "  \u001b[32;1m•\u001b[0m \u001b[39mInstalling \u001b[0m\u001b[36msacremoses\u001b[0m\u001b[39m (\u001b[0m\u001b[32m0.0.45\u001b[0m\u001b[39m)\u001b[0m\n",
      "  \u001b[32;1m•\u001b[0m \u001b[39mInstalling \u001b[0m\u001b[36mtokenizers\u001b[0m\u001b[39m (\u001b[0m\u001b[32m0.10.3\u001b[0m\u001b[39m)\u001b[0m\n",
      "  \u001b[32;1m•\u001b[0m \u001b[39mInstalling \u001b[0m\u001b[36mwcwidth\u001b[0m\u001b[39m (\u001b[0m\u001b[32m0.2.5\u001b[0m\u001b[39m)\u001b[0m\n",
      "\u001b[7A\u001b[0J  \u001b[32;1m•\u001b[0m \u001b[39mInstalling \u001b[0m\u001b[36mpluggy\u001b[0m\u001b[39m (\u001b[0m\u001b[32m0.13.1\u001b[0m\u001b[39m)\u001b[0m\n",
      "  \u001b[32;1m•\u001b[0m \u001b[39mInstalling \u001b[0m\u001b[36mpy\u001b[0m\u001b[39m (\u001b[0m\u001b[32m1.10.0\u001b[0m\u001b[39m)\u001b[0m\n",
      "  \u001b[32;1m•\u001b[0m \u001b[39mInstalling \u001b[0m\u001b[36mpyyaml\u001b[0m\u001b[39m (\u001b[0m\u001b[32m5.4.1\u001b[0m\u001b[39m)\u001b[0m\n",
      "  \u001b[32;1m•\u001b[0m \u001b[39mInstalling \u001b[0m\u001b[36msacremoses\u001b[0m\u001b[39m (\u001b[0m\u001b[32m0.0.45\u001b[0m\u001b[39m)\u001b[0m\n",
      "  \u001b[32;1m•\u001b[0m \u001b[39mInstalling \u001b[0m\u001b[36mtokenizers\u001b[0m\u001b[39m (\u001b[0m\u001b[32m0.10.3\u001b[0m\u001b[39m)\u001b[0m\n",
      "  \u001b[32;1m•\u001b[0m \u001b[39mInstalling \u001b[0m\u001b[36mwcwidth\u001b[0m\u001b[39m (\u001b[0m\u001b[32m0.2.5\u001b[0m\u001b[39m)\u001b[0m\n",
      "\u001b[6A\u001b[0J  \u001b[32;1m•\u001b[0m \u001b[39mInstalling \u001b[0m\u001b[36mnumpy\u001b[0m\u001b[39m (\u001b[0m\u001b[32m1.21.0\u001b[0m\u001b[39m)\u001b[0m\n",
      "  \u001b[32;1m•\u001b[0m \u001b[39mInstalling \u001b[0m\u001b[36mpluggy\u001b[0m\u001b[39m (\u001b[0m\u001b[32m0.13.1\u001b[0m\u001b[39m)\u001b[0m\n",
      "  \u001b[32;1m•\u001b[0m \u001b[39mInstalling \u001b[0m\u001b[36mpy\u001b[0m\u001b[39m (\u001b[0m\u001b[32m1.10.0\u001b[0m\u001b[39m)\u001b[0m\n",
      "  \u001b[32;1m•\u001b[0m \u001b[39mInstalling \u001b[0m\u001b[36mpyyaml\u001b[0m\u001b[39m (\u001b[0m\u001b[32m5.4.1\u001b[0m\u001b[39m)\u001b[0m\n",
      "  \u001b[32;1m•\u001b[0m \u001b[39mInstalling \u001b[0m\u001b[36msacremoses\u001b[0m\u001b[39m (\u001b[0m\u001b[32m0.0.45\u001b[0m\u001b[39m)\u001b[0m\n",
      "  \u001b[32;1m•\u001b[0m \u001b[39mInstalling \u001b[0m\u001b[36mtokenizers\u001b[0m\u001b[39m (\u001b[0m\u001b[32m0.10.3\u001b[0m\u001b[39m)\u001b[0m\n",
      "  \u001b[32;1m•\u001b[0m \u001b[39mInstalling \u001b[0m\u001b[36mwcwidth\u001b[0m\u001b[39m (\u001b[0m\u001b[32m0.2.5\u001b[0m\u001b[39m)\u001b[0m\n",
      "  \u001b[34;1m•\u001b[0m \u001b[39mInstalling \u001b[0m\u001b[36mcoverage\u001b[0m\u001b[39m (\u001b[0m\u001b[39;1m5.5\u001b[0m\u001b[39m)\u001b[0m: \u001b[34mPending...\u001b[0m\n",
      "  \u001b[34;1m•\u001b[0m \u001b[39mInstalling \u001b[0m\u001b[36mpytest\u001b[0m\u001b[39m (\u001b[0m\u001b[39;1m5.4.3\u001b[0m\u001b[39m)\u001b[0m: \u001b[34mPending...\u001b[0m\n",
      "  \u001b[34;1m•\u001b[0m \u001b[39mInstalling \u001b[0m\u001b[36mpython-dateutil\u001b[0m\u001b[39m (\u001b[0m\u001b[39;1m2.8.1\u001b[0m\u001b[39m)\u001b[0m: \u001b[34mPending...\u001b[0m\n",
      "  \u001b[34;1m•\u001b[0m \u001b[39mInstalling \u001b[0m\u001b[36mpytz\u001b[0m\u001b[39m (\u001b[0m\u001b[39;1m2021.1\u001b[0m\u001b[39m)\u001b[0m: \u001b[34mPending...\u001b[0m\n",
      "  \u001b[34;1m•\u001b[0m \u001b[39mInstalling \u001b[0m\u001b[36msentencepiece\u001b[0m\u001b[39m (\u001b[0m\u001b[39;1m0.1.96\u001b[0m\u001b[39m)\u001b[0m: \u001b[34mPending...\u001b[0m\n",
      "  \u001b[34;1m•\u001b[0m \u001b[39mInstalling \u001b[0m\u001b[36mtoml\u001b[0m\u001b[39m (\u001b[0m\u001b[39;1m0.10.2\u001b[0m\u001b[39m)\u001b[0m: \u001b[34mPending...\u001b[0m\n",
      "  \u001b[34;1m•\u001b[0m \u001b[39mInstalling \u001b[0m\u001b[36mtorch\u001b[0m\u001b[39m (\u001b[0m\u001b[39;1m1.9.0\u001b[0m\u001b[39m)\u001b[0m: \u001b[34mPending...\u001b[0m\n",
      "  \u001b[34;1m•\u001b[0m \u001b[39mInstalling \u001b[0m\u001b[36mtransformers\u001b[0m\u001b[39m (\u001b[0m\u001b[39;1m4.8.0\u001b[0m\u001b[39m)\u001b[0m: \u001b[34mPending...\u001b[0m\n",
      "\u001b[2A\u001b[0J  \u001b[34;1m•\u001b[0m \u001b[39mInstalling \u001b[0m\u001b[36mtransformers\u001b[0m\u001b[39m (\u001b[0m\u001b[39;1m4.8.0\u001b[0m\u001b[39m)\u001b[0m: \u001b[34mPending...\u001b[0m\n",
      "\u001b[1A\u001b[0J  \u001b[34;1m•\u001b[0m \u001b[39mInstalling \u001b[0m\u001b[36mtorch\u001b[0m\u001b[39m (\u001b[0m\u001b[39;1m1.9.0\u001b[0m\u001b[39m)\u001b[0m: \u001b[34mInstalling...\u001b[0m\n",
      "  \u001b[34;1m•\u001b[0m \u001b[39mInstalling \u001b[0m\u001b[36mtransformers\u001b[0m\u001b[39m (\u001b[0m\u001b[39;1m4.8.0\u001b[0m\u001b[39m)\u001b[0m: \u001b[34mPending...\u001b[0m\n",
      "\u001b[3A\u001b[0J  \u001b[34;1m•\u001b[0m \u001b[39mInstalling \u001b[0m\u001b[36mtorch\u001b[0m\u001b[39m (\u001b[0m\u001b[39;1m1.9.0\u001b[0m\u001b[39m)\u001b[0m: \u001b[34mInstalling...\u001b[0m\n",
      "  \u001b[34;1m•\u001b[0m \u001b[39mInstalling \u001b[0m\u001b[36mtransformers\u001b[0m\u001b[39m (\u001b[0m\u001b[39;1m4.8.0\u001b[0m\u001b[39m)\u001b[0m: \u001b[34mPending...\u001b[0m\n",
      "\u001b[2A\u001b[0J  \u001b[34;1m•\u001b[0m \u001b[39mInstalling \u001b[0m\u001b[36mtoml\u001b[0m\u001b[39m (\u001b[0m\u001b[39;1m0.10.2\u001b[0m\u001b[39m)\u001b[0m: \u001b[34mInstalling...\u001b[0m\n",
      "  \u001b[34;1m•\u001b[0m \u001b[39mInstalling \u001b[0m\u001b[36mtorch\u001b[0m\u001b[39m (\u001b[0m\u001b[39;1m1.9.0\u001b[0m\u001b[39m)\u001b[0m: \u001b[34mInstalling...\u001b[0m\n",
      "  \u001b[34;1m•\u001b[0m \u001b[39mInstalling \u001b[0m\u001b[36mtransformers\u001b[0m\u001b[39m (\u001b[0m\u001b[39;1m4.8.0\u001b[0m\u001b[39m)\u001b[0m: \u001b[34mPending...\u001b[0m\n",
      "\u001b[6A\u001b[0J  \u001b[34;1m•\u001b[0m \u001b[39mInstalling \u001b[0m\u001b[36mpytz\u001b[0m\u001b[39m (\u001b[0m\u001b[39;1m2021.1\u001b[0m\u001b[39m)\u001b[0m: \u001b[34mPending...\u001b[0m\n",
      "  \u001b[34;1m•\u001b[0m \u001b[39mInstalling \u001b[0m\u001b[36msentencepiece\u001b[0m\u001b[39m (\u001b[0m\u001b[39;1m0.1.96\u001b[0m\u001b[39m)\u001b[0m: \u001b[34mPending...\u001b[0m\n",
      "  \u001b[34;1m•\u001b[0m \u001b[39mInstalling \u001b[0m\u001b[36mtoml\u001b[0m\u001b[39m (\u001b[0m\u001b[39;1m0.10.2\u001b[0m\u001b[39m)\u001b[0m: \u001b[34mInstalling...\u001b[0m\n",
      "  \u001b[34;1m•\u001b[0m \u001b[39mInstalling \u001b[0m\u001b[36mtorch\u001b[0m\u001b[39m (\u001b[0m\u001b[39;1m1.9.0\u001b[0m\u001b[39m)\u001b[0m: \u001b[34mInstalling...\u001b[0m\n",
      "  \u001b[34;1m•\u001b[0m \u001b[39mInstalling \u001b[0m\u001b[36mtransformers\u001b[0m\u001b[39m (\u001b[0m\u001b[39;1m4.8.0\u001b[0m\u001b[39m)\u001b[0m: \u001b[34mPending...\u001b[0m\n",
      "\u001b[5A\u001b[0J  \u001b[34;1m•\u001b[0m \u001b[39mInstalling \u001b[0m\u001b[36mpython-dateutil\u001b[0m\u001b[39m (\u001b[0m\u001b[39;1m2.8.1\u001b[0m\u001b[39m)\u001b[0m: \u001b[34mInstalling...\u001b[0m\n",
      "  \u001b[34;1m•\u001b[0m \u001b[39mInstalling \u001b[0m\u001b[36mpytz\u001b[0m\u001b[39m (\u001b[0m\u001b[39;1m2021.1\u001b[0m\u001b[39m)\u001b[0m: \u001b[34mPending...\u001b[0m\n",
      "  \u001b[34;1m•\u001b[0m \u001b[39mInstalling \u001b[0m\u001b[36msentencepiece\u001b[0m\u001b[39m (\u001b[0m\u001b[39;1m0.1.96\u001b[0m\u001b[39m)\u001b[0m: \u001b[34mPending...\u001b[0m\n",
      "  \u001b[34;1m•\u001b[0m \u001b[39mInstalling \u001b[0m\u001b[36mtoml\u001b[0m\u001b[39m (\u001b[0m\u001b[39;1m0.10.2\u001b[0m\u001b[39m)\u001b[0m: \u001b[34mInstalling...\u001b[0m\n",
      "  \u001b[34;1m•\u001b[0m \u001b[39mInstalling \u001b[0m\u001b[36mtorch\u001b[0m\u001b[39m (\u001b[0m\u001b[39;1m1.9.0\u001b[0m\u001b[39m)\u001b[0m: \u001b[34mInstalling...\u001b[0m\n",
      "  \u001b[34;1m•\u001b[0m \u001b[39mInstalling \u001b[0m\u001b[36mtransformers\u001b[0m\u001b[39m (\u001b[0m\u001b[39;1m4.8.0\u001b[0m\u001b[39m)\u001b[0m: \u001b[34mPending...\u001b[0m\n",
      "\u001b[7A\u001b[0J  \u001b[34;1m•\u001b[0m \u001b[39mInstalling \u001b[0m\u001b[36mpython-dateutil\u001b[0m\u001b[39m (\u001b[0m\u001b[39;1m2.8.1\u001b[0m\u001b[39m)\u001b[0m: \u001b[34mInstalling...\u001b[0m\n",
      "  \u001b[34;1m•\u001b[0m \u001b[39mInstalling \u001b[0m\u001b[36mpytz\u001b[0m\u001b[39m (\u001b[0m\u001b[39;1m2021.1\u001b[0m\u001b[39m)\u001b[0m: \u001b[34mPending...\u001b[0m\n",
      "  \u001b[34;1m•\u001b[0m \u001b[39mInstalling \u001b[0m\u001b[36msentencepiece\u001b[0m\u001b[39m (\u001b[0m\u001b[39;1m0.1.96\u001b[0m\u001b[39m)\u001b[0m: \u001b[34mPending...\u001b[0m\n",
      "  \u001b[34;1m•\u001b[0m \u001b[39mInstalling \u001b[0m\u001b[36mtoml\u001b[0m\u001b[39m (\u001b[0m\u001b[39;1m0.10.2\u001b[0m\u001b[39m)\u001b[0m: \u001b[34mInstalling...\u001b[0m\n",
      "  \u001b[34;1m•\u001b[0m \u001b[39mInstalling \u001b[0m\u001b[36mtorch\u001b[0m\u001b[39m (\u001b[0m\u001b[39;1m1.9.0\u001b[0m\u001b[39m)\u001b[0m: \u001b[34mInstalling...\u001b[0m\n",
      "  \u001b[34;1m•\u001b[0m \u001b[39mInstalling \u001b[0m\u001b[36mtransformers\u001b[0m\u001b[39m (\u001b[0m\u001b[39;1m4.8.0\u001b[0m\u001b[39m)\u001b[0m: \u001b[34mPending...\u001b[0m\n",
      "\u001b[6A\u001b[0J  \u001b[34;1m•\u001b[0m \u001b[39mInstalling \u001b[0m\u001b[36mpytest\u001b[0m\u001b[39m (\u001b[0m\u001b[39;1m5.4.3\u001b[0m\u001b[39m)\u001b[0m: \u001b[34mInstalling...\u001b[0m\n",
      "  \u001b[34;1m•\u001b[0m \u001b[39mInstalling \u001b[0m\u001b[36mpython-dateutil\u001b[0m\u001b[39m (\u001b[0m\u001b[39;1m2.8.1\u001b[0m\u001b[39m)\u001b[0m: \u001b[34mInstalling...\u001b[0m\n",
      "  \u001b[34;1m•\u001b[0m \u001b[39mInstalling \u001b[0m\u001b[36mpytz\u001b[0m\u001b[39m (\u001b[0m\u001b[39;1m2021.1\u001b[0m\u001b[39m)\u001b[0m: \u001b[34mPending...\u001b[0m\n",
      "  \u001b[34;1m•\u001b[0m \u001b[39mInstalling \u001b[0m\u001b[36msentencepiece\u001b[0m\u001b[39m (\u001b[0m\u001b[39;1m0.1.96\u001b[0m\u001b[39m)\u001b[0m: \u001b[34mPending...\u001b[0m\n",
      "  \u001b[34;1m•\u001b[0m \u001b[39mInstalling \u001b[0m\u001b[36mtoml\u001b[0m\u001b[39m (\u001b[0m\u001b[39;1m0.10.2\u001b[0m\u001b[39m)\u001b[0m: \u001b[34mInstalling...\u001b[0m\n",
      "  \u001b[34;1m•\u001b[0m \u001b[39mInstalling \u001b[0m\u001b[36mtorch\u001b[0m\u001b[39m (\u001b[0m\u001b[39;1m1.9.0\u001b[0m\u001b[39m)\u001b[0m: \u001b[34mInstalling...\u001b[0m\n",
      "  \u001b[34;1m•\u001b[0m \u001b[39mInstalling \u001b[0m\u001b[36mtransformers\u001b[0m\u001b[39m (\u001b[0m\u001b[39;1m4.8.0\u001b[0m\u001b[39m)\u001b[0m: \u001b[34mPending...\u001b[0m\n"
     ]
    },
    {
     "name": "stdout",
     "output_type": "stream",
     "text": [
      "\u001b[4A\u001b[0J  \u001b[34;1m•\u001b[0m \u001b[39mInstalling \u001b[0m\u001b[36mtoml\u001b[0m\u001b[39m (\u001b[0m\u001b[39;1m0.10.2\u001b[0m\u001b[39m)\u001b[0m: \u001b[34mInstalling...\u001b[0m\n",
      "  \u001b[34;1m•\u001b[0m \u001b[39mInstalling \u001b[0m\u001b[36mtorch\u001b[0m\u001b[39m (\u001b[0m\u001b[39;1m1.9.0\u001b[0m\u001b[39m)\u001b[0m: \u001b[34mInstalling...\u001b[0m\n",
      "  \u001b[34;1m•\u001b[0m \u001b[39mInstalling \u001b[0m\u001b[36mtransformers\u001b[0m\u001b[39m (\u001b[0m\u001b[39;1m4.8.0\u001b[0m\u001b[39m)\u001b[0m: \u001b[34mPending...\u001b[0m\n",
      "\u001b[3A\u001b[0J  \u001b[34;1m•\u001b[0m \u001b[39mInstalling \u001b[0m\u001b[36msentencepiece\u001b[0m\u001b[39m (\u001b[0m\u001b[39;1m0.1.96\u001b[0m\u001b[39m)\u001b[0m: \u001b[34mInstalling...\u001b[0m\n",
      "  \u001b[34;1m•\u001b[0m \u001b[39mInstalling \u001b[0m\u001b[36mtoml\u001b[0m\u001b[39m (\u001b[0m\u001b[39;1m0.10.2\u001b[0m\u001b[39m)\u001b[0m: \u001b[34mInstalling...\u001b[0m\n",
      "  \u001b[34;1m•\u001b[0m \u001b[39mInstalling \u001b[0m\u001b[36mtorch\u001b[0m\u001b[39m (\u001b[0m\u001b[39;1m1.9.0\u001b[0m\u001b[39m)\u001b[0m: \u001b[34mInstalling...\u001b[0m\n",
      "  \u001b[34;1m•\u001b[0m \u001b[39mInstalling \u001b[0m\u001b[36mtransformers\u001b[0m\u001b[39m (\u001b[0m\u001b[39;1m4.8.0\u001b[0m\u001b[39m)\u001b[0m: \u001b[34mPending...\u001b[0m\n",
      "\u001b[5A\u001b[0J  \u001b[34;1m•\u001b[0m \u001b[39mInstalling \u001b[0m\u001b[36msentencepiece\u001b[0m\u001b[39m (\u001b[0m\u001b[39;1m0.1.96\u001b[0m\u001b[39m)\u001b[0m: \u001b[34mInstalling...\u001b[0m\n",
      "  \u001b[34;1m•\u001b[0m \u001b[39mInstalling \u001b[0m\u001b[36mtoml\u001b[0m\u001b[39m (\u001b[0m\u001b[39;1m0.10.2\u001b[0m\u001b[39m)\u001b[0m: \u001b[34mInstalling...\u001b[0m\n",
      "  \u001b[34;1m•\u001b[0m \u001b[39mInstalling \u001b[0m\u001b[36mtorch\u001b[0m\u001b[39m (\u001b[0m\u001b[39;1m1.9.0\u001b[0m\u001b[39m)\u001b[0m: \u001b[34mInstalling...\u001b[0m\n",
      "  \u001b[34;1m•\u001b[0m \u001b[39mInstalling \u001b[0m\u001b[36mtransformers\u001b[0m\u001b[39m (\u001b[0m\u001b[39;1m4.8.0\u001b[0m\u001b[39m)\u001b[0m: \u001b[34mPending...\u001b[0m\n",
      "\u001b[4A\u001b[0J  \u001b[34;1m•\u001b[0m \u001b[39mInstalling \u001b[0m\u001b[36mpytz\u001b[0m\u001b[39m (\u001b[0m\u001b[39;1m2021.1\u001b[0m\u001b[39m)\u001b[0m: \u001b[34mInstalling...\u001b[0m\n",
      "  \u001b[34;1m•\u001b[0m \u001b[39mInstalling \u001b[0m\u001b[36msentencepiece\u001b[0m\u001b[39m (\u001b[0m\u001b[39;1m0.1.96\u001b[0m\u001b[39m)\u001b[0m: \u001b[34mInstalling...\u001b[0m\n",
      "  \u001b[34;1m•\u001b[0m \u001b[39mInstalling \u001b[0m\u001b[36mtoml\u001b[0m\u001b[39m (\u001b[0m\u001b[39;1m0.10.2\u001b[0m\u001b[39m)\u001b[0m: \u001b[34mInstalling...\u001b[0m\n",
      "  \u001b[34;1m•\u001b[0m \u001b[39mInstalling \u001b[0m\u001b[36mtorch\u001b[0m\u001b[39m (\u001b[0m\u001b[39;1m1.9.0\u001b[0m\u001b[39m)\u001b[0m: \u001b[34mInstalling...\u001b[0m\n",
      "  \u001b[34;1m•\u001b[0m \u001b[39mInstalling \u001b[0m\u001b[36mtransformers\u001b[0m\u001b[39m (\u001b[0m\u001b[39;1m4.8.0\u001b[0m\u001b[39m)\u001b[0m: \u001b[34mPending...\u001b[0m\n",
      "\u001b[8A\u001b[0J  \u001b[34;1m•\u001b[0m \u001b[39mInstalling \u001b[0m\u001b[36mpytest\u001b[0m\u001b[39m (\u001b[0m\u001b[39;1m5.4.3\u001b[0m\u001b[39m)\u001b[0m: \u001b[34mInstalling...\u001b[0m\n",
      "  \u001b[34;1m•\u001b[0m \u001b[39mInstalling \u001b[0m\u001b[36mpython-dateutil\u001b[0m\u001b[39m (\u001b[0m\u001b[39;1m2.8.1\u001b[0m\u001b[39m)\u001b[0m: \u001b[34mInstalling...\u001b[0m\n",
      "  \u001b[34;1m•\u001b[0m \u001b[39mInstalling \u001b[0m\u001b[36mpytz\u001b[0m\u001b[39m (\u001b[0m\u001b[39;1m2021.1\u001b[0m\u001b[39m)\u001b[0m: \u001b[34mInstalling...\u001b[0m\n",
      "  \u001b[34;1m•\u001b[0m \u001b[39mInstalling \u001b[0m\u001b[36msentencepiece\u001b[0m\u001b[39m (\u001b[0m\u001b[39;1m0.1.96\u001b[0m\u001b[39m)\u001b[0m: \u001b[34mInstalling...\u001b[0m\n",
      "  \u001b[34;1m•\u001b[0m \u001b[39mInstalling \u001b[0m\u001b[36mtoml\u001b[0m\u001b[39m (\u001b[0m\u001b[39;1m0.10.2\u001b[0m\u001b[39m)\u001b[0m: \u001b[34mInstalling...\u001b[0m\n",
      "  \u001b[34;1m•\u001b[0m \u001b[39mInstalling \u001b[0m\u001b[36mtorch\u001b[0m\u001b[39m (\u001b[0m\u001b[39;1m1.9.0\u001b[0m\u001b[39m)\u001b[0m: \u001b[34mInstalling...\u001b[0m\n",
      "  \u001b[34;1m•\u001b[0m \u001b[39mInstalling \u001b[0m\u001b[36mtransformers\u001b[0m\u001b[39m (\u001b[0m\u001b[39;1m4.8.0\u001b[0m\u001b[39m)\u001b[0m: \u001b[34mPending...\u001b[0m\n",
      "\u001b[7A\u001b[0J  \u001b[34;1m•\u001b[0m \u001b[39mInstalling \u001b[0m\u001b[36mcoverage\u001b[0m\u001b[39m (\u001b[0m\u001b[39;1m5.5\u001b[0m\u001b[39m)\u001b[0m: \u001b[34mInstalling...\u001b[0m\n",
      "  \u001b[34;1m•\u001b[0m \u001b[39mInstalling \u001b[0m\u001b[36mpytest\u001b[0m\u001b[39m (\u001b[0m\u001b[39;1m5.4.3\u001b[0m\u001b[39m)\u001b[0m: \u001b[34mInstalling...\u001b[0m\n",
      "  \u001b[34;1m•\u001b[0m \u001b[39mInstalling \u001b[0m\u001b[36mpython-dateutil\u001b[0m\u001b[39m (\u001b[0m\u001b[39;1m2.8.1\u001b[0m\u001b[39m)\u001b[0m: \u001b[34mInstalling...\u001b[0m\n",
      "  \u001b[34;1m•\u001b[0m \u001b[39mInstalling \u001b[0m\u001b[36mpytz\u001b[0m\u001b[39m (\u001b[0m\u001b[39;1m2021.1\u001b[0m\u001b[39m)\u001b[0m: \u001b[34mInstalling...\u001b[0m\n",
      "  \u001b[34;1m•\u001b[0m \u001b[39mInstalling \u001b[0m\u001b[36msentencepiece\u001b[0m\u001b[39m (\u001b[0m\u001b[39;1m0.1.96\u001b[0m\u001b[39m)\u001b[0m: \u001b[34mInstalling...\u001b[0m\n",
      "  \u001b[34;1m•\u001b[0m \u001b[39mInstalling \u001b[0m\u001b[36mtoml\u001b[0m\u001b[39m (\u001b[0m\u001b[39;1m0.10.2\u001b[0m\u001b[39m)\u001b[0m: \u001b[34mInstalling...\u001b[0m\n",
      "  \u001b[34;1m•\u001b[0m \u001b[39mInstalling \u001b[0m\u001b[36mtorch\u001b[0m\u001b[39m (\u001b[0m\u001b[39;1m1.9.0\u001b[0m\u001b[39m)\u001b[0m: \u001b[34mInstalling...\u001b[0m\n",
      "  \u001b[34;1m•\u001b[0m \u001b[39mInstalling \u001b[0m\u001b[36mtransformers\u001b[0m\u001b[39m (\u001b[0m\u001b[39;1m4.8.0\u001b[0m\u001b[39m)\u001b[0m: \u001b[34mPending...\u001b[0m\n",
      "\u001b[1A\u001b[0J  \u001b[34;1m•\u001b[0m \u001b[39mInstalling \u001b[0m\u001b[36mtransformers\u001b[0m\u001b[39m (\u001b[0m\u001b[39;1m4.8.0\u001b[0m\u001b[39m)\u001b[0m: \u001b[34mDownloading...\u001b[0m \u001b[1m0%\u001b[0m\n",
      "\u001b[1A\u001b[0J  \u001b[34;1m•\u001b[0m \u001b[39mInstalling \u001b[0m\u001b[36mtransformers\u001b[0m\u001b[39m (\u001b[0m\u001b[39;1m4.8.0\u001b[0m\u001b[39m)\u001b[0m: \u001b[34mDownloading...\u001b[0m \u001b[1m10%\u001b[0m\n",
      "\u001b[3A\u001b[0J  \u001b[34;1m•\u001b[0m \u001b[39mInstalling \u001b[0m\u001b[36mtorch\u001b[0m\u001b[39m (\u001b[0m\u001b[39;1m1.9.0\u001b[0m\u001b[39m)\u001b[0m: \u001b[34mInstalling...\u001b[0m\n",
      "  \u001b[34;1m•\u001b[0m \u001b[39mInstalling \u001b[0m\u001b[36mtransformers\u001b[0m\u001b[39m (\u001b[0m\u001b[39;1m4.8.0\u001b[0m\u001b[39m)\u001b[0m: \u001b[34mDownloading...\u001b[0m \u001b[1m10%\u001b[0m\n",
      "\u001b[2A\u001b[0J  \u001b[32;1m•\u001b[0m \u001b[39mInstalling \u001b[0m\u001b[36mtoml\u001b[0m\u001b[39m (\u001b[0m\u001b[32m0.10.2\u001b[0m\u001b[39m)\u001b[0m\n",
      "  \u001b[34;1m•\u001b[0m \u001b[39mInstalling \u001b[0m\u001b[36mtorch\u001b[0m\u001b[39m (\u001b[0m\u001b[39;1m1.9.0\u001b[0m\u001b[39m)\u001b[0m: \u001b[34mInstalling...\u001b[0m\n",
      "  \u001b[34;1m•\u001b[0m \u001b[39mInstalling \u001b[0m\u001b[36mtransformers\u001b[0m\u001b[39m (\u001b[0m\u001b[39;1m4.8.0\u001b[0m\u001b[39m)\u001b[0m: \u001b[34mDownloading...\u001b[0m \u001b[1m10%\u001b[0m\n",
      "\u001b[1A\u001b[0J  \u001b[34;1m•\u001b[0m \u001b[39mInstalling \u001b[0m\u001b[36mtransformers\u001b[0m\u001b[39m (\u001b[0m\u001b[39;1m4.8.0\u001b[0m\u001b[39m)\u001b[0m: \u001b[34mDownloading...\u001b[0m \u001b[1m30%\u001b[0m\n",
      "\u001b[6A\u001b[0J  \u001b[34;1m•\u001b[0m \u001b[39mInstalling \u001b[0m\u001b[36mpytz\u001b[0m\u001b[39m (\u001b[0m\u001b[39;1m2021.1\u001b[0m\u001b[39m)\u001b[0m: \u001b[34mInstalling...\u001b[0m\n",
      "  \u001b[34;1m•\u001b[0m \u001b[39mInstalling \u001b[0m\u001b[36msentencepiece\u001b[0m\u001b[39m (\u001b[0m\u001b[39;1m0.1.96\u001b[0m\u001b[39m)\u001b[0m: \u001b[34mInstalling...\u001b[0m\n",
      "  \u001b[32;1m•\u001b[0m \u001b[39mInstalling \u001b[0m\u001b[36mtoml\u001b[0m\u001b[39m (\u001b[0m\u001b[32m0.10.2\u001b[0m\u001b[39m)\u001b[0m\n",
      "  \u001b[34;1m•\u001b[0m \u001b[39mInstalling \u001b[0m\u001b[36mtorch\u001b[0m\u001b[39m (\u001b[0m\u001b[39;1m1.9.0\u001b[0m\u001b[39m)\u001b[0m: \u001b[34mInstalling...\u001b[0m\n",
      "  \u001b[34;1m•\u001b[0m \u001b[39mInstalling \u001b[0m\u001b[36mtransformers\u001b[0m\u001b[39m (\u001b[0m\u001b[39;1m4.8.0\u001b[0m\u001b[39m)\u001b[0m: \u001b[34mDownloading...\u001b[0m \u001b[1m30%\u001b[0m\n",
      "\u001b[5A\u001b[0J  \u001b[32;1m•\u001b[0m \u001b[39mInstalling \u001b[0m\u001b[36mpython-dateutil\u001b[0m\u001b[39m (\u001b[0m\u001b[32m2.8.1\u001b[0m\u001b[39m)\u001b[0m\n",
      "  \u001b[34;1m•\u001b[0m \u001b[39mInstalling \u001b[0m\u001b[36mpytz\u001b[0m\u001b[39m (\u001b[0m\u001b[39;1m2021.1\u001b[0m\u001b[39m)\u001b[0m: \u001b[34mInstalling...\u001b[0m\n",
      "  \u001b[34;1m•\u001b[0m \u001b[39mInstalling \u001b[0m\u001b[36msentencepiece\u001b[0m\u001b[39m (\u001b[0m\u001b[39;1m0.1.96\u001b[0m\u001b[39m)\u001b[0m: \u001b[34mInstalling...\u001b[0m\n",
      "  \u001b[32;1m•\u001b[0m \u001b[39mInstalling \u001b[0m\u001b[36mtoml\u001b[0m\u001b[39m (\u001b[0m\u001b[32m0.10.2\u001b[0m\u001b[39m)\u001b[0m\n",
      "  \u001b[34;1m•\u001b[0m \u001b[39mInstalling \u001b[0m\u001b[36mtorch\u001b[0m\u001b[39m (\u001b[0m\u001b[39;1m1.9.0\u001b[0m\u001b[39m)\u001b[0m: \u001b[34mInstalling...\u001b[0m\n",
      "  \u001b[34;1m•\u001b[0m \u001b[39mInstalling \u001b[0m\u001b[36mtransformers\u001b[0m\u001b[39m (\u001b[0m\u001b[39;1m4.8.0\u001b[0m\u001b[39m)\u001b[0m: \u001b[34mDownloading...\u001b[0m \u001b[1m30%\u001b[0m\n",
      "\u001b[4A\u001b[0J  \u001b[32;1m•\u001b[0m \u001b[39mInstalling \u001b[0m\u001b[36mtoml\u001b[0m\u001b[39m (\u001b[0m\u001b[32m0.10.2\u001b[0m\u001b[39m)\u001b[0m\n",
      "  \u001b[34;1m•\u001b[0m \u001b[39mInstalling \u001b[0m\u001b[36mtorch\u001b[0m\u001b[39m (\u001b[0m\u001b[39;1m1.9.0\u001b[0m\u001b[39m)\u001b[0m: \u001b[34mInstalling...\u001b[0m\n",
      "  \u001b[34;1m•\u001b[0m \u001b[39mInstalling \u001b[0m\u001b[36mtransformers\u001b[0m\u001b[39m (\u001b[0m\u001b[39;1m4.8.0\u001b[0m\u001b[39m)\u001b[0m: \u001b[34mDownloading...\u001b[0m \u001b[1m30%\u001b[0m\n",
      "\u001b[3A\u001b[0J  \u001b[32;1m•\u001b[0m \u001b[39mInstalling \u001b[0m\u001b[36msentencepiece\u001b[0m\u001b[39m (\u001b[0m\u001b[32m0.1.96\u001b[0m\u001b[39m)\u001b[0m\n",
      "  \u001b[32;1m•\u001b[0m \u001b[39mInstalling \u001b[0m\u001b[36mtoml\u001b[0m\u001b[39m (\u001b[0m\u001b[32m0.10.2\u001b[0m\u001b[39m)\u001b[0m\n",
      "  \u001b[34;1m•\u001b[0m \u001b[39mInstalling \u001b[0m\u001b[36mtorch\u001b[0m\u001b[39m (\u001b[0m\u001b[39;1m1.9.0\u001b[0m\u001b[39m)\u001b[0m: \u001b[34mInstalling...\u001b[0m\n",
      "  \u001b[34;1m•\u001b[0m \u001b[39mInstalling \u001b[0m\u001b[36mtransformers\u001b[0m\u001b[39m (\u001b[0m\u001b[39;1m4.8.0\u001b[0m\u001b[39m)\u001b[0m: \u001b[34mDownloading...\u001b[0m \u001b[1m30%\u001b[0m\n",
      "\u001b[1A\u001b[0J  \u001b[34;1m•\u001b[0m \u001b[39mInstalling \u001b[0m\u001b[36mtransformers\u001b[0m\u001b[39m (\u001b[0m\u001b[39;1m4.8.0\u001b[0m\u001b[39m)\u001b[0m: \u001b[34mDownloading...\u001b[0m \u001b[1m50%\u001b[0m\n",
      "\u001b[1A\u001b[0J  \u001b[34;1m•\u001b[0m \u001b[39mInstalling \u001b[0m\u001b[36mtransformers\u001b[0m\u001b[39m (\u001b[0m\u001b[39;1m4.8.0\u001b[0m\u001b[39m)\u001b[0m: \u001b[34mDownloading...\u001b[0m \u001b[1m70%\u001b[0m\n",
      "\u001b[8A\u001b[0J  \u001b[34;1m•\u001b[0m \u001b[39mInstalling \u001b[0m\u001b[36mpytest\u001b[0m\u001b[39m (\u001b[0m\u001b[39;1m5.4.3\u001b[0m\u001b[39m)\u001b[0m: \u001b[34mInstalling...\u001b[0m\n",
      "  \u001b[32;1m•\u001b[0m \u001b[39mInstalling \u001b[0m\u001b[36mpython-dateutil\u001b[0m\u001b[39m (\u001b[0m\u001b[32m2.8.1\u001b[0m\u001b[39m)\u001b[0m\n",
      "  \u001b[34;1m•\u001b[0m \u001b[39mInstalling \u001b[0m\u001b[36mpytz\u001b[0m\u001b[39m (\u001b[0m\u001b[39;1m2021.1\u001b[0m\u001b[39m)\u001b[0m: \u001b[34mInstalling...\u001b[0m\n",
      "  \u001b[32;1m•\u001b[0m \u001b[39mInstalling \u001b[0m\u001b[36msentencepiece\u001b[0m\u001b[39m (\u001b[0m\u001b[32m0.1.96\u001b[0m\u001b[39m)\u001b[0m\n",
      "  \u001b[32;1m•\u001b[0m \u001b[39mInstalling \u001b[0m\u001b[36mtoml\u001b[0m\u001b[39m (\u001b[0m\u001b[32m0.10.2\u001b[0m\u001b[39m)\u001b[0m\n",
      "  \u001b[34;1m•\u001b[0m \u001b[39mInstalling \u001b[0m\u001b[36mtorch\u001b[0m\u001b[39m (\u001b[0m\u001b[39;1m1.9.0\u001b[0m\u001b[39m)\u001b[0m: \u001b[34mInstalling...\u001b[0m\n",
      "  \u001b[34;1m•\u001b[0m \u001b[39mInstalling \u001b[0m\u001b[36mtransformers\u001b[0m\u001b[39m (\u001b[0m\u001b[39;1m4.8.0\u001b[0m\u001b[39m)\u001b[0m: \u001b[34mDownloading...\u001b[0m \u001b[1m70%\u001b[0m\n",
      "\u001b[7A\u001b[0J  \u001b[32;1m•\u001b[0m \u001b[39mInstalling \u001b[0m\u001b[36mcoverage\u001b[0m\u001b[39m (\u001b[0m\u001b[32m5.5\u001b[0m\u001b[39m)\u001b[0m\n",
      "  \u001b[34;1m•\u001b[0m \u001b[39mInstalling \u001b[0m\u001b[36mpytest\u001b[0m\u001b[39m (\u001b[0m\u001b[39;1m5.4.3\u001b[0m\u001b[39m)\u001b[0m: \u001b[34mInstalling...\u001b[0m\n",
      "  \u001b[32;1m•\u001b[0m \u001b[39mInstalling \u001b[0m\u001b[36mpython-dateutil\u001b[0m\u001b[39m (\u001b[0m\u001b[32m2.8.1\u001b[0m\u001b[39m)\u001b[0m\n",
      "  \u001b[34;1m•\u001b[0m \u001b[39mInstalling \u001b[0m\u001b[36mpytz\u001b[0m\u001b[39m (\u001b[0m\u001b[39;1m2021.1\u001b[0m\u001b[39m)\u001b[0m: \u001b[34mInstalling...\u001b[0m\n",
      "  \u001b[32;1m•\u001b[0m \u001b[39mInstalling \u001b[0m\u001b[36msentencepiece\u001b[0m\u001b[39m (\u001b[0m\u001b[32m0.1.96\u001b[0m\u001b[39m)\u001b[0m\n",
      "  \u001b[32;1m•\u001b[0m \u001b[39mInstalling \u001b[0m\u001b[36mtoml\u001b[0m\u001b[39m (\u001b[0m\u001b[32m0.10.2\u001b[0m\u001b[39m)\u001b[0m\n",
      "  \u001b[34;1m•\u001b[0m \u001b[39mInstalling \u001b[0m\u001b[36mtorch\u001b[0m\u001b[39m (\u001b[0m\u001b[39;1m1.9.0\u001b[0m\u001b[39m)\u001b[0m: \u001b[34mInstalling...\u001b[0m\n",
      "  \u001b[34;1m•\u001b[0m \u001b[39mInstalling \u001b[0m\u001b[36mtransformers\u001b[0m\u001b[39m (\u001b[0m\u001b[39;1m4.8.0\u001b[0m\u001b[39m)\u001b[0m: \u001b[34mDownloading...\u001b[0m \u001b[1m70%\u001b[0m\n"
     ]
    },
    {
     "name": "stdout",
     "output_type": "stream",
     "text": [
      "\u001b[7A\u001b[0J  \u001b[32;1m•\u001b[0m \u001b[39mInstalling \u001b[0m\u001b[36mpython-dateutil\u001b[0m\u001b[39m (\u001b[0m\u001b[32m2.8.1\u001b[0m\u001b[39m)\u001b[0m\n",
      "  \u001b[34;1m•\u001b[0m \u001b[39mInstalling \u001b[0m\u001b[36mpytz\u001b[0m\u001b[39m (\u001b[0m\u001b[39;1m2021.1\u001b[0m\u001b[39m)\u001b[0m: \u001b[34mInstalling...\u001b[0m\n",
      "  \u001b[32;1m•\u001b[0m \u001b[39mInstalling \u001b[0m\u001b[36msentencepiece\u001b[0m\u001b[39m (\u001b[0m\u001b[32m0.1.96\u001b[0m\u001b[39m)\u001b[0m\n",
      "  \u001b[32;1m•\u001b[0m \u001b[39mInstalling \u001b[0m\u001b[36mtoml\u001b[0m\u001b[39m (\u001b[0m\u001b[32m0.10.2\u001b[0m\u001b[39m)\u001b[0m\n",
      "  \u001b[34;1m•\u001b[0m \u001b[39mInstalling \u001b[0m\u001b[36mtorch\u001b[0m\u001b[39m (\u001b[0m\u001b[39;1m1.9.0\u001b[0m\u001b[39m)\u001b[0m: \u001b[34mInstalling...\u001b[0m\n",
      "  \u001b[34;1m•\u001b[0m \u001b[39mInstalling \u001b[0m\u001b[36mtransformers\u001b[0m\u001b[39m (\u001b[0m\u001b[39;1m4.8.0\u001b[0m\u001b[39m)\u001b[0m: \u001b[34mDownloading...\u001b[0m \u001b[1m70%\u001b[0m\n",
      "\u001b[6A\u001b[0J  \u001b[32;1m•\u001b[0m \u001b[39mInstalling \u001b[0m\u001b[36mpytest\u001b[0m\u001b[39m (\u001b[0m\u001b[32m5.4.3\u001b[0m\u001b[39m)\u001b[0m\n",
      "  \u001b[32;1m•\u001b[0m \u001b[39mInstalling \u001b[0m\u001b[36mpython-dateutil\u001b[0m\u001b[39m (\u001b[0m\u001b[32m2.8.1\u001b[0m\u001b[39m)\u001b[0m\n",
      "  \u001b[34;1m•\u001b[0m \u001b[39mInstalling \u001b[0m\u001b[36mpytz\u001b[0m\u001b[39m (\u001b[0m\u001b[39;1m2021.1\u001b[0m\u001b[39m)\u001b[0m: \u001b[34mInstalling...\u001b[0m\n",
      "  \u001b[32;1m•\u001b[0m \u001b[39mInstalling \u001b[0m\u001b[36msentencepiece\u001b[0m\u001b[39m (\u001b[0m\u001b[32m0.1.96\u001b[0m\u001b[39m)\u001b[0m\n",
      "  \u001b[32;1m•\u001b[0m \u001b[39mInstalling \u001b[0m\u001b[36mtoml\u001b[0m\u001b[39m (\u001b[0m\u001b[32m0.10.2\u001b[0m\u001b[39m)\u001b[0m\n",
      "  \u001b[34;1m•\u001b[0m \u001b[39mInstalling \u001b[0m\u001b[36mtorch\u001b[0m\u001b[39m (\u001b[0m\u001b[39;1m1.9.0\u001b[0m\u001b[39m)\u001b[0m: \u001b[34mInstalling...\u001b[0m\n",
      "  \u001b[34;1m•\u001b[0m \u001b[39mInstalling \u001b[0m\u001b[36mtransformers\u001b[0m\u001b[39m (\u001b[0m\u001b[39;1m4.8.0\u001b[0m\u001b[39m)\u001b[0m: \u001b[34mDownloading...\u001b[0m \u001b[1m70%\u001b[0m\n",
      "\u001b[1A\u001b[0J  \u001b[34;1m•\u001b[0m \u001b[39mInstalling \u001b[0m\u001b[36mtransformers\u001b[0m\u001b[39m (\u001b[0m\u001b[39;1m4.8.0\u001b[0m\u001b[39m)\u001b[0m: \u001b[34mDownloading...\u001b[0m \u001b[1m90%\u001b[0m\n",
      "\u001b[5A\u001b[0J  \u001b[32;1m•\u001b[0m \u001b[39mInstalling \u001b[0m\u001b[36msentencepiece\u001b[0m\u001b[39m (\u001b[0m\u001b[32m0.1.96\u001b[0m\u001b[39m)\u001b[0m\n",
      "  \u001b[32;1m•\u001b[0m \u001b[39mInstalling \u001b[0m\u001b[36mtoml\u001b[0m\u001b[39m (\u001b[0m\u001b[32m0.10.2\u001b[0m\u001b[39m)\u001b[0m\n",
      "  \u001b[34;1m•\u001b[0m \u001b[39mInstalling \u001b[0m\u001b[36mtorch\u001b[0m\u001b[39m (\u001b[0m\u001b[39;1m1.9.0\u001b[0m\u001b[39m)\u001b[0m: \u001b[34mInstalling...\u001b[0m\n",
      "  \u001b[34;1m•\u001b[0m \u001b[39mInstalling \u001b[0m\u001b[36mtransformers\u001b[0m\u001b[39m (\u001b[0m\u001b[39;1m4.8.0\u001b[0m\u001b[39m)\u001b[0m: \u001b[34mDownloading...\u001b[0m \u001b[1m90%\u001b[0m\n",
      "\u001b[4A\u001b[0J  \u001b[32;1m•\u001b[0m \u001b[39mInstalling \u001b[0m\u001b[36mpytz\u001b[0m\u001b[39m (\u001b[0m\u001b[32m2021.1\u001b[0m\u001b[39m)\u001b[0m\n",
      "  \u001b[32;1m•\u001b[0m \u001b[39mInstalling \u001b[0m\u001b[36msentencepiece\u001b[0m\u001b[39m (\u001b[0m\u001b[32m0.1.96\u001b[0m\u001b[39m)\u001b[0m\n",
      "  \u001b[32;1m•\u001b[0m \u001b[39mInstalling \u001b[0m\u001b[36mtoml\u001b[0m\u001b[39m (\u001b[0m\u001b[32m0.10.2\u001b[0m\u001b[39m)\u001b[0m\n",
      "  \u001b[34;1m•\u001b[0m \u001b[39mInstalling \u001b[0m\u001b[36mtorch\u001b[0m\u001b[39m (\u001b[0m\u001b[39;1m1.9.0\u001b[0m\u001b[39m)\u001b[0m: \u001b[34mInstalling...\u001b[0m\n",
      "  \u001b[34;1m•\u001b[0m \u001b[39mInstalling \u001b[0m\u001b[36mtransformers\u001b[0m\u001b[39m (\u001b[0m\u001b[39;1m4.8.0\u001b[0m\u001b[39m)\u001b[0m: \u001b[34mDownloading...\u001b[0m \u001b[1m90%\u001b[0m\n",
      "\u001b[1A\u001b[0J  \u001b[34;1m•\u001b[0m \u001b[39mInstalling \u001b[0m\u001b[36mtransformers\u001b[0m\u001b[39m (\u001b[0m\u001b[39;1m4.8.0\u001b[0m\u001b[39m)\u001b[0m: \u001b[34mDownloading...\u001b[0m \u001b[1m100%\u001b[0m\n",
      "\u001b[1A\u001b[0J  \u001b[34;1m•\u001b[0m \u001b[39mInstalling \u001b[0m\u001b[36mtransformers\u001b[0m\u001b[39m (\u001b[0m\u001b[39;1m4.8.0\u001b[0m\u001b[39m)\u001b[0m: \u001b[34mDownloading...\u001b[0m \u001b[1m100%\u001b[0m\n",
      "\u001b[1A\u001b[0J  \u001b[34;1m•\u001b[0m \u001b[39mInstalling \u001b[0m\u001b[36mtransformers\u001b[0m\u001b[39m (\u001b[0m\u001b[39;1m4.8.0\u001b[0m\u001b[39m)\u001b[0m: \u001b[34mInstalling...\u001b[0m\n",
      "\u001b[1A\u001b[0J  \u001b[32;1m•\u001b[0m \u001b[39mInstalling \u001b[0m\u001b[36mtransformers\u001b[0m\u001b[39m (\u001b[0m\u001b[32m4.8.0\u001b[0m\u001b[39m)\u001b[0m\n",
      "\u001b[2A\u001b[0J  \u001b[32;1m•\u001b[0m \u001b[39mInstalling \u001b[0m\u001b[36mtransformers\u001b[0m\u001b[39m (\u001b[0m\u001b[32m4.8.0\u001b[0m\u001b[39m)\u001b[0m\n",
      "\u001b[1A\u001b[0J  \u001b[32;1m•\u001b[0m \u001b[39mInstalling \u001b[0m\u001b[36mtorch\u001b[0m\u001b[39m (\u001b[0m\u001b[32m1.9.0\u001b[0m\u001b[39m)\u001b[0m\n",
      "  \u001b[32;1m•\u001b[0m \u001b[39mInstalling \u001b[0m\u001b[36mtransformers\u001b[0m\u001b[39m (\u001b[0m\u001b[32m4.8.0\u001b[0m\u001b[39m)\u001b[0m\n",
      "  \u001b[34;1m•\u001b[0m \u001b[39mInstalling \u001b[0m\u001b[36mdetoxify\u001b[0m\u001b[39m (\u001b[0m\u001b[39;1m0.2.2\u001b[0m\u001b[39m)\u001b[0m: \u001b[34mPending...\u001b[0m\n",
      "  \u001b[34;1m•\u001b[0m \u001b[39mInstalling \u001b[0m\u001b[36mpandas\u001b[0m\u001b[39m (\u001b[0m\u001b[39;1m1.2.5\u001b[0m\u001b[39m)\u001b[0m: \u001b[34mPending...\u001b[0m\n",
      "  \u001b[34;1m•\u001b[0m \u001b[39mInstalling \u001b[0m\u001b[36mpytest-cov\u001b[0m\u001b[39m (\u001b[0m\u001b[39;1m2.12.1\u001b[0m\u001b[39m)\u001b[0m: \u001b[34mPending...\u001b[0m\n",
      "\u001b[1A\u001b[0J  \u001b[34;1m•\u001b[0m \u001b[39mInstalling \u001b[0m\u001b[36mpytest-cov\u001b[0m\u001b[39m (\u001b[0m\u001b[39;1m2.12.1\u001b[0m\u001b[39m)\u001b[0m: \u001b[34mInstalling...\u001b[0m\n",
      "\u001b[3A\u001b[0J  \u001b[34;1m•\u001b[0m \u001b[39mInstalling \u001b[0m\u001b[36mpandas\u001b[0m\u001b[39m (\u001b[0m\u001b[39;1m1.2.5\u001b[0m\u001b[39m)\u001b[0m: \u001b[34mPending...\u001b[0m\n",
      "  \u001b[34;1m•\u001b[0m \u001b[39mInstalling \u001b[0m\u001b[36mpytest-cov\u001b[0m\u001b[39m (\u001b[0m\u001b[39;1m2.12.1\u001b[0m\u001b[39m)\u001b[0m: \u001b[34mInstalling...\u001b[0m\n",
      "\u001b[2A\u001b[0J  \u001b[34;1m•\u001b[0m \u001b[39mInstalling \u001b[0m\u001b[36mdetoxify\u001b[0m\u001b[39m (\u001b[0m\u001b[39;1m0.2.2\u001b[0m\u001b[39m)\u001b[0m: \u001b[34mInstalling...\u001b[0m\n",
      "  \u001b[34;1m•\u001b[0m \u001b[39mInstalling \u001b[0m\u001b[36mpandas\u001b[0m\u001b[39m (\u001b[0m\u001b[39;1m1.2.5\u001b[0m\u001b[39m)\u001b[0m: \u001b[34mPending...\u001b[0m\n",
      "  \u001b[34;1m•\u001b[0m \u001b[39mInstalling \u001b[0m\u001b[36mpytest-cov\u001b[0m\u001b[39m (\u001b[0m\u001b[39;1m2.12.1\u001b[0m\u001b[39m)\u001b[0m: \u001b[34mInstalling...\u001b[0m\n",
      "\u001b[1A\u001b[0J  \u001b[32;1m•\u001b[0m \u001b[39mInstalling \u001b[0m\u001b[36mpytest-cov\u001b[0m\u001b[39m (\u001b[0m\u001b[32m2.12.1\u001b[0m\u001b[39m)\u001b[0m\n",
      "\u001b[3A\u001b[0J  \u001b[34;1m•\u001b[0m \u001b[39mInstalling \u001b[0m\u001b[36mpandas\u001b[0m\u001b[39m (\u001b[0m\u001b[39;1m1.2.5\u001b[0m\u001b[39m)\u001b[0m: \u001b[34mPending...\u001b[0m\n",
      "  \u001b[32;1m•\u001b[0m \u001b[39mInstalling \u001b[0m\u001b[36mpytest-cov\u001b[0m\u001b[39m (\u001b[0m\u001b[32m2.12.1\u001b[0m\u001b[39m)\u001b[0m\n",
      "\u001b[2A\u001b[0J  \u001b[32;1m•\u001b[0m \u001b[39mInstalling \u001b[0m\u001b[36mdetoxify\u001b[0m\u001b[39m (\u001b[0m\u001b[32m0.2.2\u001b[0m\u001b[39m)\u001b[0m\n",
      "  \u001b[34;1m•\u001b[0m \u001b[39mInstalling \u001b[0m\u001b[36mpandas\u001b[0m\u001b[39m (\u001b[0m\u001b[39;1m1.2.5\u001b[0m\u001b[39m)\u001b[0m: \u001b[34mPending...\u001b[0m\n",
      "  \u001b[32;1m•\u001b[0m \u001b[39mInstalling \u001b[0m\u001b[36mpytest-cov\u001b[0m\u001b[39m (\u001b[0m\u001b[32m2.12.1\u001b[0m\u001b[39m)\u001b[0m\n",
      "\u001b[2A\u001b[0J  \u001b[32;1m•\u001b[0m \u001b[39mInstalling \u001b[0m\u001b[36mpytest-cov\u001b[0m\u001b[39m (\u001b[0m\u001b[32m2.12.1\u001b[0m\u001b[39m)\u001b[0m\n",
      "\u001b[1A\u001b[0J  \u001b[34;1m•\u001b[0m \u001b[39mInstalling \u001b[0m\u001b[36mpandas\u001b[0m\u001b[39m (\u001b[0m\u001b[39;1m1.2.5\u001b[0m\u001b[39m)\u001b[0m: \u001b[34mDownloading...\u001b[0m \u001b[1m0%\u001b[0m\n",
      "  \u001b[32;1m•\u001b[0m \u001b[39mInstalling \u001b[0m\u001b[36mpytest-cov\u001b[0m\u001b[39m (\u001b[0m\u001b[32m2.12.1\u001b[0m\u001b[39m)\u001b[0m\n",
      "\u001b[2A\u001b[0J  \u001b[32;1m•\u001b[0m \u001b[39mInstalling \u001b[0m\u001b[36mpytest-cov\u001b[0m\u001b[39m (\u001b[0m\u001b[32m2.12.1\u001b[0m\u001b[39m)\u001b[0m\n",
      "\u001b[1A\u001b[0J  \u001b[34;1m•\u001b[0m \u001b[39mInstalling \u001b[0m\u001b[36mpandas\u001b[0m\u001b[39m (\u001b[0m\u001b[39;1m1.2.5\u001b[0m\u001b[39m)\u001b[0m: \u001b[34mDownloading...\u001b[0m \u001b[1m7%\u001b[0m\n",
      "  \u001b[32;1m•\u001b[0m \u001b[39mInstalling \u001b[0m\u001b[36mpytest-cov\u001b[0m\u001b[39m (\u001b[0m\u001b[32m2.12.1\u001b[0m\u001b[39m)\u001b[0m\n",
      "\u001b[2A\u001b[0J  \u001b[32;1m•\u001b[0m \u001b[39mInstalling \u001b[0m\u001b[36mpytest-cov\u001b[0m\u001b[39m (\u001b[0m\u001b[32m2.12.1\u001b[0m\u001b[39m)\u001b[0m\n",
      "\u001b[1A\u001b[0J  \u001b[34;1m•\u001b[0m \u001b[39mInstalling \u001b[0m\u001b[36mpandas\u001b[0m\u001b[39m (\u001b[0m\u001b[39;1m1.2.5\u001b[0m\u001b[39m)\u001b[0m: \u001b[34mDownloading...\u001b[0m \u001b[1m20%\u001b[0m\n",
      "  \u001b[32;1m•\u001b[0m \u001b[39mInstalling \u001b[0m\u001b[36mpytest-cov\u001b[0m\u001b[39m (\u001b[0m\u001b[32m2.12.1\u001b[0m\u001b[39m)\u001b[0m\n",
      "\u001b[2A\u001b[0J  \u001b[32;1m•\u001b[0m \u001b[39mInstalling \u001b[0m\u001b[36mpytest-cov\u001b[0m\u001b[39m (\u001b[0m\u001b[32m2.12.1\u001b[0m\u001b[39m)\u001b[0m\n",
      "\u001b[1A\u001b[0J  \u001b[34;1m•\u001b[0m \u001b[39mInstalling \u001b[0m\u001b[36mpandas\u001b[0m\u001b[39m (\u001b[0m\u001b[39;1m1.2.5\u001b[0m\u001b[39m)\u001b[0m: \u001b[34mDownloading...\u001b[0m \u001b[1m30%\u001b[0m\n",
      "  \u001b[32;1m•\u001b[0m \u001b[39mInstalling \u001b[0m\u001b[36mpytest-cov\u001b[0m\u001b[39m (\u001b[0m\u001b[32m2.12.1\u001b[0m\u001b[39m)\u001b[0m\n",
      "\u001b[2A\u001b[0J  \u001b[32;1m•\u001b[0m \u001b[39mInstalling \u001b[0m\u001b[36mpytest-cov\u001b[0m\u001b[39m (\u001b[0m\u001b[32m2.12.1\u001b[0m\u001b[39m)\u001b[0m\n",
      "\u001b[1A\u001b[0J  \u001b[34;1m•\u001b[0m \u001b[39mInstalling \u001b[0m\u001b[36mpandas\u001b[0m\u001b[39m (\u001b[0m\u001b[39;1m1.2.5\u001b[0m\u001b[39m)\u001b[0m: \u001b[34mDownloading...\u001b[0m \u001b[1m50%\u001b[0m\n",
      "  \u001b[32;1m•\u001b[0m \u001b[39mInstalling \u001b[0m\u001b[36mpytest-cov\u001b[0m\u001b[39m (\u001b[0m\u001b[32m2.12.1\u001b[0m\u001b[39m)\u001b[0m\n",
      "\u001b[2A\u001b[0J  \u001b[32;1m•\u001b[0m \u001b[39mInstalling \u001b[0m\u001b[36mpytest-cov\u001b[0m\u001b[39m (\u001b[0m\u001b[32m2.12.1\u001b[0m\u001b[39m)\u001b[0m\n",
      "\u001b[1A\u001b[0J  \u001b[34;1m•\u001b[0m \u001b[39mInstalling \u001b[0m\u001b[36mpandas\u001b[0m\u001b[39m (\u001b[0m\u001b[39;1m1.2.5\u001b[0m\u001b[39m)\u001b[0m: \u001b[34mDownloading...\u001b[0m \u001b[1m70%\u001b[0m\n",
      "  \u001b[32;1m•\u001b[0m \u001b[39mInstalling \u001b[0m\u001b[36mpytest-cov\u001b[0m\u001b[39m (\u001b[0m\u001b[32m2.12.1\u001b[0m\u001b[39m)\u001b[0m\n",
      "\u001b[2A\u001b[0J  \u001b[32;1m•\u001b[0m \u001b[39mInstalling \u001b[0m\u001b[36mpytest-cov\u001b[0m\u001b[39m (\u001b[0m\u001b[32m2.12.1\u001b[0m\u001b[39m)\u001b[0m\n",
      "\u001b[1A\u001b[0J  \u001b[34;1m•\u001b[0m \u001b[39mInstalling \u001b[0m\u001b[36mpandas\u001b[0m\u001b[39m (\u001b[0m\u001b[39;1m1.2.5\u001b[0m\u001b[39m)\u001b[0m: \u001b[34mDownloading...\u001b[0m \u001b[1m100%\u001b[0m\n",
      "  \u001b[32;1m•\u001b[0m \u001b[39mInstalling \u001b[0m\u001b[36mpytest-cov\u001b[0m\u001b[39m (\u001b[0m\u001b[32m2.12.1\u001b[0m\u001b[39m)\u001b[0m\n",
      "\u001b[2A\u001b[0J  \u001b[32;1m•\u001b[0m \u001b[39mInstalling \u001b[0m\u001b[36mpytest-cov\u001b[0m\u001b[39m (\u001b[0m\u001b[32m2.12.1\u001b[0m\u001b[39m)\u001b[0m\n",
      "\u001b[1A\u001b[0J  \u001b[34;1m•\u001b[0m \u001b[39mInstalling \u001b[0m\u001b[36mpandas\u001b[0m\u001b[39m (\u001b[0m\u001b[39;1m1.2.5\u001b[0m\u001b[39m)\u001b[0m: \u001b[34mDownloading...\u001b[0m \u001b[1m100%\u001b[0m\n",
      "  \u001b[32;1m•\u001b[0m \u001b[39mInstalling \u001b[0m\u001b[36mpytest-cov\u001b[0m\u001b[39m (\u001b[0m\u001b[32m2.12.1\u001b[0m\u001b[39m)\u001b[0m\n",
      "\u001b[2A\u001b[0J  \u001b[32;1m•\u001b[0m \u001b[39mInstalling \u001b[0m\u001b[36mpytest-cov\u001b[0m\u001b[39m (\u001b[0m\u001b[32m2.12.1\u001b[0m\u001b[39m)\u001b[0m\n",
      "\u001b[1A\u001b[0J  \u001b[34;1m•\u001b[0m \u001b[39mInstalling \u001b[0m\u001b[36mpandas\u001b[0m\u001b[39m (\u001b[0m\u001b[39;1m1.2.5\u001b[0m\u001b[39m)\u001b[0m: \u001b[34mInstalling...\u001b[0m\n",
      "  \u001b[32;1m•\u001b[0m \u001b[39mInstalling \u001b[0m\u001b[36mpytest-cov\u001b[0m\u001b[39m (\u001b[0m\u001b[32m2.12.1\u001b[0m\u001b[39m)\u001b[0m\n",
      "\u001b[2A\u001b[0J  \u001b[32;1m•\u001b[0m \u001b[39mInstalling \u001b[0m\u001b[36mpytest-cov\u001b[0m\u001b[39m (\u001b[0m\u001b[32m2.12.1\u001b[0m\u001b[39m)\u001b[0m\n",
      "\u001b[1A\u001b[0J  \u001b[32;1m•\u001b[0m \u001b[39mInstalling \u001b[0m\u001b[36mpandas\u001b[0m\u001b[39m (\u001b[0m\u001b[32m1.2.5\u001b[0m\u001b[39m)\u001b[0m\n",
      "  \u001b[32;1m•\u001b[0m \u001b[39mInstalling \u001b[0m\u001b[36mpytest-cov\u001b[0m\u001b[39m (\u001b[0m\u001b[32m2.12.1\u001b[0m\u001b[39m)\u001b[0m\n",
      "\n",
      "\u001b[1mInstalling\u001b[0m the current project: \u001b[36minsult-ai\u001b[0m (\u001b[39;1m0.2.0\u001b[0m\u001b[1mInstalling\u001b[0m the current project: \u001b[36minsult-ai\u001b[0m (\u001b[32m0.2.0\u001b[0m)\n"
     ]
    },
    {
     "name": "stdout",
     "output_type": "stream",
     "text": [
      "\u001b[36mnox > \u001b[34mpytest --cov\u001b[0m\n",
      "\u001b[1m============================= test session starts ==============================\u001b[0m\n",
      "platform darwin -- Python 3.8.2, pytest-5.4.3, py-1.10.0, pluggy-0.13.1\n",
      "rootdir: /Users/rjbrooker/Documents/github_repos/modern-python-tutorial/insult-ai\n",
      "plugins: cov-2.12.1\n",
      "collected 1 item                                                               \u001b[0m\u001b[1m\n",
      "\n",
      "tests/test_insult_ai.py \u001b[32m.\u001b[0m\u001b[32m                                                [100%]\u001b[0m\n",
      "\n",
      "---------- coverage: platform darwin, python 3.8.2-final-0 -----------\n",
      "Name                    Stmts   Miss Branch BrPart  Cover   Missing\n",
      "-------------------------------------------------------------------\n",
      "insult_ai/__init__.py       1      0      0      0   100%\n",
      "insult_ai/console.py       12      0      0      0   100%\n",
      "-------------------------------------------------------------------\n",
      "TOTAL                      13      0      0      0   100%\n",
      "\n",
      "\u001b[32mRequired test coverage of 99.0% reached. Total coverage: 100.00%\n",
      "\u001b[0m\n",
      "\u001b[32m============================== \u001b[32m\u001b[1m1 passed\u001b[0m\u001b[32m in 29.80s\u001b[0m\u001b[32m ==============================\u001b[0m\n",
      "\u001b[36mnox > \u001b[32mSession tests-3.8 was successful.\u001b[0m\n",
      "\u001b[36mnox > \u001b[33mRunning session tests-3.9\u001b[0m\n",
      "\u001b[36mnox > \u001b[34mCreating virtual environment (virtualenv) using python3.9 in .nox/tests-3-9\u001b[0m\n",
      "\u001b[36mnox > \u001b[34mpoetry install\u001b[0m\n",
      "\u001b[34mInstalling dependencies from lock file\u001b[0m\n",
      "\n",
      "\u001b[1mPackage operations\u001b[0m: \u001b[34m35\u001b[0m installs, \u001b[34m0\u001b[0m updates, \u001b[34m0\u001b[0m removals\n",
      "\n",
      "  \u001b[34;1m•\u001b[0m \u001b[39mInstalling \u001b[0m\u001b[36mcertifi\u001b[0m\u001b[39m (\u001b[0m\u001b[39;1m2021.5.30\u001b[0m\u001b[39m)\u001b[0m: \u001b[34mPending...\u001b[0m\n",
      "  \u001b[34;1m•\u001b[0m \u001b[39mInstalling \u001b[0m\u001b[36mchardet\u001b[0m\u001b[39m (\u001b[0m\u001b[39;1m4.0.0\u001b[0m\u001b[39m)\u001b[0m: \u001b[34mPending...\u001b[0m\n",
      "  \u001b[34;1m•\u001b[0m \u001b[39mInstalling \u001b[0m\u001b[36midna\u001b[0m\u001b[39m (\u001b[0m\u001b[39;1m2.10\u001b[0m\u001b[39m)\u001b[0m: \u001b[34mPending...\u001b[0m\n",
      "  \u001b[34;1m•\u001b[0m \u001b[39mInstalling \u001b[0m\u001b[36mpyparsing\u001b[0m\u001b[39m (\u001b[0m\u001b[39;1m2.4.7\u001b[0m\u001b[39m)\u001b[0m: \u001b[34mPending...\u001b[0m\n",
      "  \u001b[34;1m•\u001b[0m \u001b[39mInstalling \u001b[0m\u001b[36murllib3\u001b[0m\u001b[39m (\u001b[0m\u001b[39;1m1.26.5\u001b[0m\u001b[39m)\u001b[0m: \u001b[34mPending...\u001b[0m\n",
      "\u001b[3A\u001b[0J  \u001b[34;1m•\u001b[0m \u001b[39mInstalling \u001b[0m\u001b[36mpyparsing\u001b[0m\u001b[39m (\u001b[0m\u001b[39;1m2.4.7\u001b[0m\u001b[39m)\u001b[0m: \u001b[34mPending...\u001b[0m\n",
      "  \u001b[34;1m•\u001b[0m \u001b[39mInstalling \u001b[0m\u001b[36murllib3\u001b[0m\u001b[39m (\u001b[0m\u001b[39;1m1.26.5\u001b[0m\u001b[39m)\u001b[0m: \u001b[34mPending...\u001b[0m\n",
      "\u001b[2A\u001b[0J  \u001b[34;1m•\u001b[0m \u001b[39mInstalling \u001b[0m\u001b[36midna\u001b[0m\u001b[39m (\u001b[0m\u001b[39;1m2.10\u001b[0m\u001b[39m)\u001b[0m: \u001b[34mInstalling...\u001b[0m\n",
      "  \u001b[34;1m•\u001b[0m \u001b[39mInstalling \u001b[0m\u001b[36mpyparsing\u001b[0m\u001b[39m (\u001b[0m\u001b[39;1m2.4.7\u001b[0m\u001b[39m)\u001b[0m: \u001b[34mPending...\u001b[0m\n",
      "  \u001b[34;1m•\u001b[0m \u001b[39mInstalling \u001b[0m\u001b[36murllib3\u001b[0m\u001b[39m (\u001b[0m\u001b[39;1m1.26.5\u001b[0m\u001b[39m)\u001b[0m: \u001b[34mPending...\u001b[0m\n",
      "\u001b[1A\u001b[0J  \u001b[34;1m•\u001b[0m \u001b[39mInstalling \u001b[0m\u001b[36murllib3\u001b[0m\u001b[39m (\u001b[0m\u001b[39;1m1.26.5\u001b[0m\u001b[39m)\u001b[0m: \u001b[34mInstalling...\u001b[0m\n",
      "\u001b[2A\u001b[0J  \u001b[34;1m•\u001b[0m \u001b[39mInstalling \u001b[0m\u001b[36murllib3\u001b[0m\u001b[39m (\u001b[0m\u001b[39;1m1.26.5\u001b[0m\u001b[39m)\u001b[0m: \u001b[34mInstalling...\u001b[0m\n",
      "\u001b[1A\u001b[0J  \u001b[34;1m•\u001b[0m \u001b[39mInstalling \u001b[0m\u001b[36mpyparsing\u001b[0m\u001b[39m (\u001b[0m\u001b[39;1m2.4.7\u001b[0m\u001b[39m)\u001b[0m: \u001b[34mInstalling...\u001b[0m\n",
      "  \u001b[34;1m•\u001b[0m \u001b[39mInstalling \u001b[0m\u001b[36murllib3\u001b[0m\u001b[39m (\u001b[0m\u001b[39;1m1.26.5\u001b[0m\u001b[39m)\u001b[0m: \u001b[34mInstalling...\u001b[0m\n",
      "\u001b[5A\u001b[0J  \u001b[34;1m•\u001b[0m \u001b[39mInstalling \u001b[0m\u001b[36mchardet\u001b[0m\u001b[39m (\u001b[0m\u001b[39;1m4.0.0\u001b[0m\u001b[39m)\u001b[0m: \u001b[34mPending...\u001b[0m\n",
      "  \u001b[34;1m•\u001b[0m \u001b[39mInstalling \u001b[0m\u001b[36midna\u001b[0m\u001b[39m (\u001b[0m\u001b[39;1m2.10\u001b[0m\u001b[39m)\u001b[0m: \u001b[34mInstalling...\u001b[0m\n",
      "  \u001b[34;1m•\u001b[0m \u001b[39mInstalling \u001b[0m\u001b[36mpyparsing\u001b[0m\u001b[39m (\u001b[0m\u001b[39;1m2.4.7\u001b[0m\u001b[39m)\u001b[0m: \u001b[34mInstalling...\u001b[0m\n",
      "  \u001b[34;1m•\u001b[0m \u001b[39mInstalling \u001b[0m\u001b[36murllib3\u001b[0m\u001b[39m (\u001b[0m\u001b[39;1m1.26.5\u001b[0m\u001b[39m)\u001b[0m: \u001b[34mInstalling...\u001b[0m\n",
      "\u001b[4A\u001b[0J  \u001b[34;1m•\u001b[0m \u001b[39mInstalling \u001b[0m\u001b[36mcertifi\u001b[0m\u001b[39m (\u001b[0m\u001b[39;1m2021.5.30\u001b[0m\u001b[39m)\u001b[0m: \u001b[34mInstalling...\u001b[0m\n",
      "  \u001b[34;1m•\u001b[0m \u001b[39mInstalling \u001b[0m\u001b[36mchardet\u001b[0m\u001b[39m (\u001b[0m\u001b[39;1m4.0.0\u001b[0m\u001b[39m)\u001b[0m: \u001b[34mPending...\u001b[0m\n",
      "  \u001b[34;1m•\u001b[0m \u001b[39mInstalling \u001b[0m\u001b[36midna\u001b[0m\u001b[39m (\u001b[0m\u001b[39;1m2.10\u001b[0m\u001b[39m)\u001b[0m: \u001b[34mInstalling...\u001b[0m\n",
      "  \u001b[34;1m•\u001b[0m \u001b[39mInstalling \u001b[0m\u001b[36mpyparsing\u001b[0m\u001b[39m (\u001b[0m\u001b[39;1m2.4.7\u001b[0m\u001b[39m)\u001b[0m: \u001b[34mInstalling...\u001b[0m\n",
      "  \u001b[34;1m•\u001b[0m \u001b[39mInstalling \u001b[0m\u001b[36murllib3\u001b[0m\u001b[39m (\u001b[0m\u001b[39;1m1.26.5\u001b[0m\u001b[39m)\u001b[0m: \u001b[34mInstalling...\u001b[0m\n",
      "\u001b[4A\u001b[0J  \u001b[34;1m•\u001b[0m \u001b[39mInstalling \u001b[0m\u001b[36midna\u001b[0m\u001b[39m (\u001b[0m\u001b[39;1m2.10\u001b[0m\u001b[39m)\u001b[0m: \u001b[34mInstalling...\u001b[0m\n",
      "  \u001b[34;1m•\u001b[0m \u001b[39mInstalling \u001b[0m\u001b[36mpyparsing\u001b[0m\u001b[39m (\u001b[0m\u001b[39;1m2.4.7\u001b[0m\u001b[39m)\u001b[0m: \u001b[34mInstalling...\u001b[0m\n",
      "  \u001b[34;1m•\u001b[0m \u001b[39mInstalling \u001b[0m\u001b[36murllib3\u001b[0m\u001b[39m (\u001b[0m\u001b[39;1m1.26.5\u001b[0m\u001b[39m)\u001b[0m: \u001b[34mInstalling...\u001b[0m\n",
      "\u001b[3A\u001b[0J  \u001b[34;1m•\u001b[0m \u001b[39mInstalling \u001b[0m\u001b[36mchardet\u001b[0m\u001b[39m (\u001b[0m\u001b[39;1m4.0.0\u001b[0m\u001b[39m)\u001b[0m: \u001b[34mInstalling...\u001b[0m\n",
      "  \u001b[34;1m•\u001b[0m \u001b[39mInstalling \u001b[0m\u001b[36midna\u001b[0m\u001b[39m (\u001b[0m\u001b[39;1m2.10\u001b[0m\u001b[39m)\u001b[0m: \u001b[34mInstalling...\u001b[0m\n",
      "  \u001b[34;1m•\u001b[0m \u001b[39mInstalling \u001b[0m\u001b[36mpyparsing\u001b[0m\u001b[39m (\u001b[0m\u001b[39;1m2.4.7\u001b[0m\u001b[39m)\u001b[0m: \u001b[34mInstalling...\u001b[0m\n",
      "  \u001b[34;1m•\u001b[0m \u001b[39mInstalling \u001b[0m\u001b[36murllib3\u001b[0m\u001b[39m (\u001b[0m\u001b[39;1m1.26.5\u001b[0m\u001b[39m)\u001b[0m: \u001b[34mInstalling...\u001b[0m\n",
      "\u001b[5A\u001b[0J  \u001b[34;1m•\u001b[0m \u001b[39mInstalling \u001b[0m\u001b[36mchardet\u001b[0m\u001b[39m (\u001b[0m\u001b[39;1m4.0.0\u001b[0m\u001b[39m)\u001b[0m: \u001b[34mInstalling...\u001b[0m\n",
      "  \u001b[34;1m•\u001b[0m \u001b[39mInstalling \u001b[0m\u001b[36midna\u001b[0m\u001b[39m (\u001b[0m\u001b[39;1m2.10\u001b[0m\u001b[39m)\u001b[0m: \u001b[34mInstalling...\u001b[0m\n",
      "  \u001b[34;1m•\u001b[0m \u001b[39mInstalling \u001b[0m\u001b[36mpyparsing\u001b[0m\u001b[39m (\u001b[0m\u001b[39;1m2.4.7\u001b[0m\u001b[39m)\u001b[0m: \u001b[34mInstalling...\u001b[0m\n",
      "  \u001b[34;1m•\u001b[0m \u001b[39mInstalling \u001b[0m\u001b[36murllib3\u001b[0m\u001b[39m (\u001b[0m\u001b[39;1m1.26.5\u001b[0m\u001b[39m)\u001b[0m: \u001b[34mInstalling...\u001b[0m\n",
      "\u001b[4A\u001b[0J  \u001b[32;1m•\u001b[0m \u001b[39mInstalling \u001b[0m\u001b[36mcertifi\u001b[0m\u001b[39m (\u001b[0m\u001b[32m2021.5.30\u001b[0m\u001b[39m)\u001b[0m\n",
      "  \u001b[34;1m•\u001b[0m \u001b[39mInstalling \u001b[0m\u001b[36mchardet\u001b[0m\u001b[39m (\u001b[0m\u001b[39;1m4.0.0\u001b[0m\u001b[39m)\u001b[0m: \u001b[34mInstalling...\u001b[0m\n",
      "  \u001b[34;1m•\u001b[0m \u001b[39mInstalling \u001b[0m\u001b[36midna\u001b[0m\u001b[39m (\u001b[0m\u001b[39;1m2.10\u001b[0m\u001b[39m)\u001b[0m: \u001b[34mInstalling...\u001b[0m\n",
      "  \u001b[34;1m•\u001b[0m \u001b[39mInstalling \u001b[0m\u001b[36mpyparsing\u001b[0m\u001b[39m (\u001b[0m\u001b[39;1m2.4.7\u001b[0m\u001b[39m)\u001b[0m: \u001b[34mInstalling...\u001b[0m\n",
      "  \u001b[34;1m•\u001b[0m \u001b[39mInstalling \u001b[0m\u001b[36murllib3\u001b[0m\u001b[39m (\u001b[0m\u001b[39;1m1.26.5\u001b[0m\u001b[39m)\u001b[0m: \u001b[34mInstalling...\u001b[0m\n",
      "\u001b[2A\u001b[0J  \u001b[34;1m•\u001b[0m \u001b[39mInstalling \u001b[0m\u001b[36murllib3\u001b[0m\u001b[39m (\u001b[0m\u001b[39;1m1.26.5\u001b[0m\u001b[39m)\u001b[0m: \u001b[34mInstalling...\u001b[0m\n",
      "\u001b[1A\u001b[0J  \u001b[32;1m•\u001b[0m \u001b[39mInstalling \u001b[0m\u001b[36mpyparsing\u001b[0m\u001b[39m (\u001b[0m\u001b[32m2.4.7\u001b[0m\u001b[39m)\u001b[0m\n",
      "  \u001b[34;1m•\u001b[0m \u001b[39mInstalling \u001b[0m\u001b[36murllib3\u001b[0m\u001b[39m (\u001b[0m\u001b[39;1m1.26.5\u001b[0m\u001b[39m)\u001b[0m: \u001b[34mInstalling...\u001b[0m\n",
      "\u001b[3A\u001b[0J  \u001b[32;1m•\u001b[0m \u001b[39mInstalling \u001b[0m\u001b[36mpyparsing\u001b[0m\u001b[39m (\u001b[0m\u001b[32m2.4.7\u001b[0m\u001b[39m)\u001b[0m\n",
      "  \u001b[34;1m•\u001b[0m \u001b[39mInstalling \u001b[0m\u001b[36murllib3\u001b[0m\u001b[39m (\u001b[0m\u001b[39;1m1.26.5\u001b[0m\u001b[39m)\u001b[0m: \u001b[34mInstalling...\u001b[0m\n",
      "\u001b[2A\u001b[0J  \u001b[32;1m•\u001b[0m \u001b[39mInstalling \u001b[0m\u001b[36midna\u001b[0m\u001b[39m (\u001b[0m\u001b[32m2.10\u001b[0m\u001b[39m)\u001b[0m\n",
      "  \u001b[32;1m•\u001b[0m \u001b[39mInstalling \u001b[0m\u001b[36mpyparsing\u001b[0m\u001b[39m (\u001b[0m\u001b[32m2.4.7\u001b[0m\u001b[39m)\u001b[0m\n",
      "  \u001b[34;1m•\u001b[0m \u001b[39mInstalling \u001b[0m\u001b[36murllib3\u001b[0m\u001b[39m (\u001b[0m\u001b[39;1m1.26.5\u001b[0m\u001b[39m)\u001b[0m: \u001b[34mInstalling...\u001b[0m\n",
      "\u001b[1A\u001b[0J  \u001b[32;1m•\u001b[0m \u001b[39mInstalling \u001b[0m\u001b[36murllib3\u001b[0m\u001b[39m (\u001b[0m\u001b[32m1.26.5\u001b[0m\u001b[39m)\u001b[0m\n",
      "\u001b[4A\u001b[0J  \u001b[32;1m•\u001b[0m \u001b[39mInstalling \u001b[0m\u001b[36midna\u001b[0m\u001b[39m (\u001b[0m\u001b[32m2.10\u001b[0m\u001b[39m)\u001b[0m\n",
      "  \u001b[32;1m•\u001b[0m \u001b[39mInstalling \u001b[0m\u001b[36mpyparsing\u001b[0m\u001b[39m (\u001b[0m\u001b[32m2.4.7\u001b[0m\u001b[39m)\u001b[0m\n",
      "  \u001b[32;1m•\u001b[0m \u001b[39mInstalling \u001b[0m\u001b[36murllib3\u001b[0m\u001b[39m (\u001b[0m\u001b[32m1.26.5\u001b[0m\u001b[39m)\u001b[0m\n",
      "\u001b[3A\u001b[0J  \u001b[32;1m•\u001b[0m \u001b[39mInstalling \u001b[0m\u001b[36mchardet\u001b[0m\u001b[39m (\u001b[0m\u001b[32m4.0.0\u001b[0m\u001b[39m)\u001b[0m\n",
      "  \u001b[32;1m•\u001b[0m \u001b[39mInstalling \u001b[0m\u001b[36midna\u001b[0m\u001b[39m (\u001b[0m\u001b[32m2.10\u001b[0m\u001b[39m)\u001b[0m\n",
      "  \u001b[32;1m•\u001b[0m \u001b[39mInstalling \u001b[0m\u001b[36mpyparsing\u001b[0m\u001b[39m (\u001b[0m\u001b[32m2.4.7\u001b[0m\u001b[39m)\u001b[0m\n",
      "  \u001b[32;1m•\u001b[0m \u001b[39mInstalling \u001b[0m\u001b[36murllib3\u001b[0m\u001b[39m (\u001b[0m\u001b[32m1.26.5\u001b[0m\u001b[39m)\u001b[0m\n",
      "  \u001b[34;1m•\u001b[0m \u001b[39mInstalling \u001b[0m\u001b[36mclick\u001b[0m\u001b[39m (\u001b[0m\u001b[39;1m8.0.1\u001b[0m\u001b[39m)\u001b[0m: \u001b[34mPending...\u001b[0m\n",
      "  \u001b[34;1m•\u001b[0m \u001b[39mInstalling \u001b[0m\u001b[36mfilelock\u001b[0m\u001b[39m (\u001b[0m\u001b[39;1m3.0.12\u001b[0m\u001b[39m)\u001b[0m: \u001b[34mPending...\u001b[0m\n",
      "  \u001b[34;1m•\u001b[0m \u001b[39mInstalling \u001b[0m\u001b[36mjoblib\u001b[0m\u001b[39m (\u001b[0m\u001b[39;1m1.0.1\u001b[0m\u001b[39m)\u001b[0m: \u001b[34mPending...\u001b[0m\n",
      "  \u001b[34;1m•\u001b[0m \u001b[39mInstalling \u001b[0m\u001b[36mpackaging\u001b[0m\u001b[39m (\u001b[0m\u001b[39;1m20.9\u001b[0m\u001b[39m)\u001b[0m: \u001b[34mPending...\u001b[0m\n",
      "  \u001b[34;1m•\u001b[0m \u001b[39mInstalling \u001b[0m\u001b[36mregex\u001b[0m\u001b[39m (\u001b[0m\u001b[39;1m2021.4.4\u001b[0m\u001b[39m)\u001b[0m: \u001b[34mPending...\u001b[0m\n",
      "  \u001b[34;1m•\u001b[0m \u001b[39mInstalling \u001b[0m\u001b[36mrequests\u001b[0m\u001b[39m (\u001b[0m\u001b[39;1m2.25.1\u001b[0m\u001b[39m)\u001b[0m: \u001b[34mPending...\u001b[0m\n",
      "  \u001b[34;1m•\u001b[0m \u001b[39mInstalling \u001b[0m\u001b[36msix\u001b[0m\u001b[39m (\u001b[0m\u001b[39;1m1.16.0\u001b[0m\u001b[39m)\u001b[0m: \u001b[34mPending...\u001b[0m\n",
      "  \u001b[34;1m•\u001b[0m \u001b[39mInstalling \u001b[0m\u001b[36mtqdm\u001b[0m\u001b[39m (\u001b[0m\u001b[39;1m4.61.1\u001b[0m\u001b[39m)\u001b[0m: \u001b[34mPending...\u001b[0m\n",
      "  \u001b[34;1m•\u001b[0m \u001b[39mInstalling \u001b[0m\u001b[36mtyping-extensions\u001b[0m\u001b[39m (\u001b[0m\u001b[39;1m3.10.0.0\u001b[0m\u001b[39m)\u001b[0m: \u001b[34mPending...\u001b[0m\n"
     ]
    },
    {
     "name": "stdout",
     "output_type": "stream",
     "text": [
      "\u001b[9A\u001b[0J  \u001b[34;1m•\u001b[0m \u001b[39mInstalling \u001b[0m\u001b[36mfilelock\u001b[0m\u001b[39m (\u001b[0m\u001b[39;1m3.0.12\u001b[0m\u001b[39m)\u001b[0m: \u001b[34mPending...\u001b[0m\n",
      "  \u001b[34;1m•\u001b[0m \u001b[39mInstalling \u001b[0m\u001b[36mjoblib\u001b[0m\u001b[39m (\u001b[0m\u001b[39;1m1.0.1\u001b[0m\u001b[39m)\u001b[0m: \u001b[34mPending...\u001b[0m\n",
      "  \u001b[34;1m•\u001b[0m \u001b[39mInstalling \u001b[0m\u001b[36mpackaging\u001b[0m\u001b[39m (\u001b[0m\u001b[39;1m20.9\u001b[0m\u001b[39m)\u001b[0m: \u001b[34mPending...\u001b[0m\n",
      "  \u001b[34;1m•\u001b[0m \u001b[39mInstalling \u001b[0m\u001b[36mregex\u001b[0m\u001b[39m (\u001b[0m\u001b[39;1m2021.4.4\u001b[0m\u001b[39m)\u001b[0m: \u001b[34mPending...\u001b[0m\n",
      "  \u001b[34;1m•\u001b[0m \u001b[39mInstalling \u001b[0m\u001b[36mrequests\u001b[0m\u001b[39m (\u001b[0m\u001b[39;1m2.25.1\u001b[0m\u001b[39m)\u001b[0m: \u001b[34mPending...\u001b[0m\n",
      "  \u001b[34;1m•\u001b[0m \u001b[39mInstalling \u001b[0m\u001b[36msix\u001b[0m\u001b[39m (\u001b[0m\u001b[39;1m1.16.0\u001b[0m\u001b[39m)\u001b[0m: \u001b[34mPending...\u001b[0m\n",
      "  \u001b[34;1m•\u001b[0m \u001b[39mInstalling \u001b[0m\u001b[36mtqdm\u001b[0m\u001b[39m (\u001b[0m\u001b[39;1m4.61.1\u001b[0m\u001b[39m)\u001b[0m: \u001b[34mPending...\u001b[0m\n",
      "  \u001b[34;1m•\u001b[0m \u001b[39mInstalling \u001b[0m\u001b[36mtyping-extensions\u001b[0m\u001b[39m (\u001b[0m\u001b[39;1m3.10.0.0\u001b[0m\u001b[39m)\u001b[0m: \u001b[34mPending...\u001b[0m\n",
      "\u001b[8A\u001b[0J  \u001b[34;1m•\u001b[0m \u001b[39mInstalling \u001b[0m\u001b[36mclick\u001b[0m\u001b[39m (\u001b[0m\u001b[39;1m8.0.1\u001b[0m\u001b[39m)\u001b[0m: \u001b[34mInstalling...\u001b[0m\n",
      "  \u001b[34;1m•\u001b[0m \u001b[39mInstalling \u001b[0m\u001b[36mfilelock\u001b[0m\u001b[39m (\u001b[0m\u001b[39;1m3.0.12\u001b[0m\u001b[39m)\u001b[0m: \u001b[34mPending...\u001b[0m\n",
      "  \u001b[34;1m•\u001b[0m \u001b[39mInstalling \u001b[0m\u001b[36mjoblib\u001b[0m\u001b[39m (\u001b[0m\u001b[39;1m1.0.1\u001b[0m\u001b[39m)\u001b[0m: \u001b[34mPending...\u001b[0m\n",
      "  \u001b[34;1m•\u001b[0m \u001b[39mInstalling \u001b[0m\u001b[36mpackaging\u001b[0m\u001b[39m (\u001b[0m\u001b[39;1m20.9\u001b[0m\u001b[39m)\u001b[0m: \u001b[34mPending...\u001b[0m\n",
      "  \u001b[34;1m•\u001b[0m \u001b[39mInstalling \u001b[0m\u001b[36mregex\u001b[0m\u001b[39m (\u001b[0m\u001b[39;1m2021.4.4\u001b[0m\u001b[39m)\u001b[0m: \u001b[34mPending...\u001b[0m\n",
      "  \u001b[34;1m•\u001b[0m \u001b[39mInstalling \u001b[0m\u001b[36mrequests\u001b[0m\u001b[39m (\u001b[0m\u001b[39;1m2.25.1\u001b[0m\u001b[39m)\u001b[0m: \u001b[34mPending...\u001b[0m\n",
      "  \u001b[34;1m•\u001b[0m \u001b[39mInstalling \u001b[0m\u001b[36msix\u001b[0m\u001b[39m (\u001b[0m\u001b[39;1m1.16.0\u001b[0m\u001b[39m)\u001b[0m: \u001b[34mPending...\u001b[0m\n",
      "  \u001b[34;1m•\u001b[0m \u001b[39mInstalling \u001b[0m\u001b[36mtqdm\u001b[0m\u001b[39m (\u001b[0m\u001b[39;1m4.61.1\u001b[0m\u001b[39m)\u001b[0m: \u001b[34mPending...\u001b[0m\n",
      "  \u001b[34;1m•\u001b[0m \u001b[39mInstalling \u001b[0m\u001b[36mtyping-extensions\u001b[0m\u001b[39m (\u001b[0m\u001b[39;1m3.10.0.0\u001b[0m\u001b[39m)\u001b[0m: \u001b[34mPending...\u001b[0m\n",
      "\u001b[3A\u001b[0J  \u001b[34;1m•\u001b[0m \u001b[39mInstalling \u001b[0m\u001b[36mtqdm\u001b[0m\u001b[39m (\u001b[0m\u001b[39;1m4.61.1\u001b[0m\u001b[39m)\u001b[0m: \u001b[34mPending...\u001b[0m\n",
      "  \u001b[34;1m•\u001b[0m \u001b[39mInstalling \u001b[0m\u001b[36mtyping-extensions\u001b[0m\u001b[39m (\u001b[0m\u001b[39;1m3.10.0.0\u001b[0m\u001b[39m)\u001b[0m: \u001b[34mPending...\u001b[0m\n",
      "\u001b[2A\u001b[0J  \u001b[34;1m•\u001b[0m \u001b[39mInstalling \u001b[0m\u001b[36msix\u001b[0m\u001b[39m (\u001b[0m\u001b[39;1m1.16.0\u001b[0m\u001b[39m)\u001b[0m: \u001b[34mInstalling...\u001b[0m\n",
      "  \u001b[34;1m•\u001b[0m \u001b[39mInstalling \u001b[0m\u001b[36mtqdm\u001b[0m\u001b[39m (\u001b[0m\u001b[39;1m4.61.1\u001b[0m\u001b[39m)\u001b[0m: \u001b[34mPending...\u001b[0m\n",
      "  \u001b[34;1m•\u001b[0m \u001b[39mInstalling \u001b[0m\u001b[36mtyping-extensions\u001b[0m\u001b[39m (\u001b[0m\u001b[39;1m3.10.0.0\u001b[0m\u001b[39m)\u001b[0m: \u001b[34mPending...\u001b[0m\n",
      "\u001b[8A\u001b[0J  \u001b[34;1m•\u001b[0m \u001b[39mInstalling \u001b[0m\u001b[36mjoblib\u001b[0m\u001b[39m (\u001b[0m\u001b[39;1m1.0.1\u001b[0m\u001b[39m)\u001b[0m: \u001b[34mPending...\u001b[0m\n",
      "  \u001b[34;1m•\u001b[0m \u001b[39mInstalling \u001b[0m\u001b[36mpackaging\u001b[0m\u001b[39m (\u001b[0m\u001b[39;1m20.9\u001b[0m\u001b[39m)\u001b[0m: \u001b[34mPending...\u001b[0m\n",
      "  \u001b[34;1m•\u001b[0m \u001b[39mInstalling \u001b[0m\u001b[36mregex\u001b[0m\u001b[39m (\u001b[0m\u001b[39;1m2021.4.4\u001b[0m\u001b[39m)\u001b[0m: \u001b[34mPending...\u001b[0m\n",
      "  \u001b[34;1m•\u001b[0m \u001b[39mInstalling \u001b[0m\u001b[36mrequests\u001b[0m\u001b[39m (\u001b[0m\u001b[39;1m2.25.1\u001b[0m\u001b[39m)\u001b[0m: \u001b[34mPending...\u001b[0m\n",
      "  \u001b[34;1m•\u001b[0m \u001b[39mInstalling \u001b[0m\u001b[36msix\u001b[0m\u001b[39m (\u001b[0m\u001b[39;1m1.16.0\u001b[0m\u001b[39m)\u001b[0m: \u001b[34mInstalling...\u001b[0m\n",
      "  \u001b[34;1m•\u001b[0m \u001b[39mInstalling \u001b[0m\u001b[36mtqdm\u001b[0m\u001b[39m (\u001b[0m\u001b[39;1m4.61.1\u001b[0m\u001b[39m)\u001b[0m: \u001b[34mPending...\u001b[0m\n",
      "  \u001b[34;1m•\u001b[0m \u001b[39mInstalling \u001b[0m\u001b[36mtyping-extensions\u001b[0m\u001b[39m (\u001b[0m\u001b[39;1m3.10.0.0\u001b[0m\u001b[39m)\u001b[0m: \u001b[34mPending...\u001b[0m\n",
      "\u001b[7A\u001b[0J  \u001b[34;1m•\u001b[0m \u001b[39mInstalling \u001b[0m\u001b[36mfilelock\u001b[0m\u001b[39m (\u001b[0m\u001b[39;1m3.0.12\u001b[0m\u001b[39m)\u001b[0m: \u001b[34mInstalling...\u001b[0m\n",
      "  \u001b[34;1m•\u001b[0m \u001b[39mInstalling \u001b[0m\u001b[36mjoblib\u001b[0m\u001b[39m (\u001b[0m\u001b[39;1m1.0.1\u001b[0m\u001b[39m)\u001b[0m: \u001b[34mPending...\u001b[0m\n",
      "  \u001b[34;1m•\u001b[0m \u001b[39mInstalling \u001b[0m\u001b[36mpackaging\u001b[0m\u001b[39m (\u001b[0m\u001b[39;1m20.9\u001b[0m\u001b[39m)\u001b[0m: \u001b[34mPending...\u001b[0m\n",
      "  \u001b[34;1m•\u001b[0m \u001b[39mInstalling \u001b[0m\u001b[36mregex\u001b[0m\u001b[39m (\u001b[0m\u001b[39;1m2021.4.4\u001b[0m\u001b[39m)\u001b[0m: \u001b[34mPending...\u001b[0m\n",
      "  \u001b[34;1m•\u001b[0m \u001b[39mInstalling \u001b[0m\u001b[36mrequests\u001b[0m\u001b[39m (\u001b[0m\u001b[39;1m2.25.1\u001b[0m\u001b[39m)\u001b[0m: \u001b[34mPending...\u001b[0m\n",
      "  \u001b[34;1m•\u001b[0m \u001b[39mInstalling \u001b[0m\u001b[36msix\u001b[0m\u001b[39m (\u001b[0m\u001b[39;1m1.16.0\u001b[0m\u001b[39m)\u001b[0m: \u001b[34mInstalling...\u001b[0m\n",
      "  \u001b[34;1m•\u001b[0m \u001b[39mInstalling \u001b[0m\u001b[36mtqdm\u001b[0m\u001b[39m (\u001b[0m\u001b[39;1m4.61.1\u001b[0m\u001b[39m)\u001b[0m: \u001b[34mPending...\u001b[0m\n",
      "  \u001b[34;1m•\u001b[0m \u001b[39mInstalling \u001b[0m\u001b[36mtyping-extensions\u001b[0m\u001b[39m (\u001b[0m\u001b[39;1m3.10.0.0\u001b[0m\u001b[39m)\u001b[0m: \u001b[34mPending...\u001b[0m\n",
      "\u001b[6A\u001b[0J  \u001b[34;1m•\u001b[0m \u001b[39mInstalling \u001b[0m\u001b[36mregex\u001b[0m\u001b[39m (\u001b[0m\u001b[39;1m2021.4.4\u001b[0m\u001b[39m)\u001b[0m: \u001b[34mPending...\u001b[0m\n",
      "  \u001b[34;1m•\u001b[0m \u001b[39mInstalling \u001b[0m\u001b[36mrequests\u001b[0m\u001b[39m (\u001b[0m\u001b[39;1m2.25.1\u001b[0m\u001b[39m)\u001b[0m: \u001b[34mPending...\u001b[0m\n",
      "  \u001b[34;1m•\u001b[0m \u001b[39mInstalling \u001b[0m\u001b[36msix\u001b[0m\u001b[39m (\u001b[0m\u001b[39;1m1.16.0\u001b[0m\u001b[39m)\u001b[0m: \u001b[34mInstalling...\u001b[0m\n",
      "  \u001b[34;1m•\u001b[0m \u001b[39mInstalling \u001b[0m\u001b[36mtqdm\u001b[0m\u001b[39m (\u001b[0m\u001b[39;1m4.61.1\u001b[0m\u001b[39m)\u001b[0m: \u001b[34mPending...\u001b[0m\n",
      "  \u001b[34;1m•\u001b[0m \u001b[39mInstalling \u001b[0m\u001b[36mtyping-extensions\u001b[0m\u001b[39m (\u001b[0m\u001b[39;1m3.10.0.0\u001b[0m\u001b[39m)\u001b[0m: \u001b[34mPending...\u001b[0m\n",
      "\u001b[5A\u001b[0J  \u001b[34;1m•\u001b[0m \u001b[39mInstalling \u001b[0m\u001b[36mpackaging\u001b[0m\u001b[39m (\u001b[0m\u001b[39;1m20.9\u001b[0m\u001b[39m)\u001b[0m: \u001b[34mInstalling...\u001b[0m\n",
      "  \u001b[34;1m•\u001b[0m \u001b[39mInstalling \u001b[0m\u001b[36mregex\u001b[0m\u001b[39m (\u001b[0m\u001b[39;1m2021.4.4\u001b[0m\u001b[39m)\u001b[0m: \u001b[34mPending...\u001b[0m\n",
      "  \u001b[34;1m•\u001b[0m \u001b[39mInstalling \u001b[0m\u001b[36mrequests\u001b[0m\u001b[39m (\u001b[0m\u001b[39;1m2.25.1\u001b[0m\u001b[39m)\u001b[0m: \u001b[34mPending...\u001b[0m\n",
      "  \u001b[34;1m•\u001b[0m \u001b[39mInstalling \u001b[0m\u001b[36msix\u001b[0m\u001b[39m (\u001b[0m\u001b[39;1m1.16.0\u001b[0m\u001b[39m)\u001b[0m: \u001b[34mInstalling...\u001b[0m\n",
      "  \u001b[34;1m•\u001b[0m \u001b[39mInstalling \u001b[0m\u001b[36mtqdm\u001b[0m\u001b[39m (\u001b[0m\u001b[39;1m4.61.1\u001b[0m\u001b[39m)\u001b[0m: \u001b[34mPending...\u001b[0m\n",
      "  \u001b[34;1m•\u001b[0m \u001b[39mInstalling \u001b[0m\u001b[36mtyping-extensions\u001b[0m\u001b[39m (\u001b[0m\u001b[39;1m3.10.0.0\u001b[0m\u001b[39m)\u001b[0m: \u001b[34mPending...\u001b[0m\n",
      "\u001b[1A\u001b[0J  \u001b[34;1m•\u001b[0m \u001b[39mInstalling \u001b[0m\u001b[36mtyping-extensions\u001b[0m\u001b[39m (\u001b[0m\u001b[39;1m3.10.0.0\u001b[0m\u001b[39m)\u001b[0m: \u001b[34mInstalling...\u001b[0m\n",
      "\u001b[7A\u001b[0J  \u001b[34;1m•\u001b[0m \u001b[39mInstalling \u001b[0m\u001b[36mpackaging\u001b[0m\u001b[39m (\u001b[0m\u001b[39;1m20.9\u001b[0m\u001b[39m)\u001b[0m: \u001b[34mInstalling...\u001b[0m\n",
      "  \u001b[34;1m•\u001b[0m \u001b[39mInstalling \u001b[0m\u001b[36mregex\u001b[0m\u001b[39m (\u001b[0m\u001b[39;1m2021.4.4\u001b[0m\u001b[39m)\u001b[0m: \u001b[34mPending...\u001b[0m\n",
      "  \u001b[34;1m•\u001b[0m \u001b[39mInstalling \u001b[0m\u001b[36mrequests\u001b[0m\u001b[39m (\u001b[0m\u001b[39;1m2.25.1\u001b[0m\u001b[39m)\u001b[0m: \u001b[34mPending...\u001b[0m\n",
      "  \u001b[34;1m•\u001b[0m \u001b[39mInstalling \u001b[0m\u001b[36msix\u001b[0m\u001b[39m (\u001b[0m\u001b[39;1m1.16.0\u001b[0m\u001b[39m)\u001b[0m: \u001b[34mInstalling...\u001b[0m\n",
      "  \u001b[34;1m•\u001b[0m \u001b[39mInstalling \u001b[0m\u001b[36mtqdm\u001b[0m\u001b[39m (\u001b[0m\u001b[39;1m4.61.1\u001b[0m\u001b[39m)\u001b[0m: \u001b[34mPending...\u001b[0m\n",
      "  \u001b[34;1m•\u001b[0m \u001b[39mInstalling \u001b[0m\u001b[36mtyping-extensions\u001b[0m\u001b[39m (\u001b[0m\u001b[39;1m3.10.0.0\u001b[0m\u001b[39m)\u001b[0m: \u001b[34mInstalling...\u001b[0m\n",
      "\u001b[6A\u001b[0J  \u001b[34;1m•\u001b[0m \u001b[39mInstalling \u001b[0m\u001b[36mjoblib\u001b[0m\u001b[39m (\u001b[0m\u001b[39;1m1.0.1\u001b[0m\u001b[39m)\u001b[0m: \u001b[34mInstalling...\u001b[0m\n",
      "  \u001b[34;1m•\u001b[0m \u001b[39mInstalling \u001b[0m\u001b[36mpackaging\u001b[0m\u001b[39m (\u001b[0m\u001b[39;1m20.9\u001b[0m\u001b[39m)\u001b[0m: \u001b[34mInstalling...\u001b[0m\n",
      "  \u001b[34;1m•\u001b[0m \u001b[39mInstalling \u001b[0m\u001b[36mregex\u001b[0m\u001b[39m (\u001b[0m\u001b[39;1m2021.4.4\u001b[0m\u001b[39m)\u001b[0m: \u001b[34mPending...\u001b[0m\n",
      "  \u001b[34;1m•\u001b[0m \u001b[39mInstalling \u001b[0m\u001b[36mrequests\u001b[0m\u001b[39m (\u001b[0m\u001b[39;1m2.25.1\u001b[0m\u001b[39m)\u001b[0m: \u001b[34mPending...\u001b[0m\n",
      "  \u001b[34;1m•\u001b[0m \u001b[39mInstalling \u001b[0m\u001b[36msix\u001b[0m\u001b[39m (\u001b[0m\u001b[39;1m1.16.0\u001b[0m\u001b[39m)\u001b[0m: \u001b[34mInstalling...\u001b[0m\n",
      "  \u001b[34;1m•\u001b[0m \u001b[39mInstalling \u001b[0m\u001b[36mtqdm\u001b[0m\u001b[39m (\u001b[0m\u001b[39;1m4.61.1\u001b[0m\u001b[39m)\u001b[0m: \u001b[34mPending...\u001b[0m\n",
      "  \u001b[34;1m•\u001b[0m \u001b[39mInstalling \u001b[0m\u001b[36mtyping-extensions\u001b[0m\u001b[39m (\u001b[0m\u001b[39;1m3.10.0.0\u001b[0m\u001b[39m)\u001b[0m: \u001b[34mInstalling...\u001b[0m\n",
      "\u001b[4A\u001b[0J  \u001b[34;1m•\u001b[0m \u001b[39mInstalling \u001b[0m\u001b[36msix\u001b[0m\u001b[39m (\u001b[0m\u001b[39;1m1.16.0\u001b[0m\u001b[39m)\u001b[0m: \u001b[34mInstalling...\u001b[0m\n",
      "  \u001b[34;1m•\u001b[0m \u001b[39mInstalling \u001b[0m\u001b[36mtqdm\u001b[0m\u001b[39m (\u001b[0m\u001b[39;1m4.61.1\u001b[0m\u001b[39m)\u001b[0m: \u001b[34mPending...\u001b[0m\n",
      "  \u001b[34;1m•\u001b[0m \u001b[39mInstalling \u001b[0m\u001b[36mtyping-extensions\u001b[0m\u001b[39m (\u001b[0m\u001b[39;1m3.10.0.0\u001b[0m\u001b[39m)\u001b[0m: \u001b[34mInstalling...\u001b[0m\n",
      "\u001b[3A\u001b[0J  \u001b[34;1m•\u001b[0m \u001b[39mInstalling \u001b[0m\u001b[36mrequests\u001b[0m\u001b[39m (\u001b[0m\u001b[39;1m2.25.1\u001b[0m\u001b[39m)\u001b[0m: \u001b[34mInstalling...\u001b[0m\n",
      "  \u001b[34;1m•\u001b[0m \u001b[39mInstalling \u001b[0m\u001b[36msix\u001b[0m\u001b[39m (\u001b[0m\u001b[39;1m1.16.0\u001b[0m\u001b[39m)\u001b[0m: \u001b[34mInstalling...\u001b[0m\n",
      "  \u001b[34;1m•\u001b[0m \u001b[39mInstalling \u001b[0m\u001b[36mtqdm\u001b[0m\u001b[39m (\u001b[0m\u001b[39;1m4.61.1\u001b[0m\u001b[39m)\u001b[0m: \u001b[34mPending...\u001b[0m\n",
      "  \u001b[34;1m•\u001b[0m \u001b[39mInstalling \u001b[0m\u001b[36mtyping-extensions\u001b[0m\u001b[39m (\u001b[0m\u001b[39;1m3.10.0.0\u001b[0m\u001b[39m)\u001b[0m: \u001b[34mInstalling...\u001b[0m\n",
      "\u001b[2A\u001b[0J  \u001b[34;1m•\u001b[0m \u001b[39mInstalling \u001b[0m\u001b[36mtyping-extensions\u001b[0m\u001b[39m (\u001b[0m\u001b[39;1m3.10.0.0\u001b[0m\u001b[39m)\u001b[0m: \u001b[34mInstalling...\u001b[0m\n",
      "\u001b[1A\u001b[0J  \u001b[34;1m•\u001b[0m \u001b[39mInstalling \u001b[0m\u001b[36mtqdm\u001b[0m\u001b[39m (\u001b[0m\u001b[39;1m4.61.1\u001b[0m\u001b[39m)\u001b[0m: \u001b[34mInstalling...\u001b[0m\n",
      "  \u001b[34;1m•\u001b[0m \u001b[39mInstalling \u001b[0m\u001b[36mtyping-extensions\u001b[0m\u001b[39m (\u001b[0m\u001b[39;1m3.10.0.0\u001b[0m\u001b[39m)\u001b[0m: \u001b[34mInstalling...\u001b[0m\n"
     ]
    },
    {
     "name": "stdout",
     "output_type": "stream",
     "text": [
      "\u001b[5A\u001b[0J  \u001b[34;1m•\u001b[0m \u001b[39mInstalling \u001b[0m\u001b[36mrequests\u001b[0m\u001b[39m (\u001b[0m\u001b[39;1m2.25.1\u001b[0m\u001b[39m)\u001b[0m: \u001b[34mInstalling...\u001b[0m\n",
      "  \u001b[34;1m•\u001b[0m \u001b[39mInstalling \u001b[0m\u001b[36msix\u001b[0m\u001b[39m (\u001b[0m\u001b[39;1m1.16.0\u001b[0m\u001b[39m)\u001b[0m: \u001b[34mInstalling...\u001b[0m\n",
      "  \u001b[34;1m•\u001b[0m \u001b[39mInstalling \u001b[0m\u001b[36mtqdm\u001b[0m\u001b[39m (\u001b[0m\u001b[39;1m4.61.1\u001b[0m\u001b[39m)\u001b[0m: \u001b[34mInstalling...\u001b[0m\n",
      "  \u001b[34;1m•\u001b[0m \u001b[39mInstalling \u001b[0m\u001b[36mtyping-extensions\u001b[0m\u001b[39m (\u001b[0m\u001b[39;1m3.10.0.0\u001b[0m\u001b[39m)\u001b[0m: \u001b[34mInstalling...\u001b[0m\n",
      "\u001b[4A\u001b[0J  \u001b[34;1m•\u001b[0m \u001b[39mInstalling \u001b[0m\u001b[36mregex\u001b[0m\u001b[39m (\u001b[0m\u001b[39;1m2021.4.4\u001b[0m\u001b[39m)\u001b[0m: \u001b[34mInstalling...\u001b[0m\n",
      "  \u001b[34;1m•\u001b[0m \u001b[39mInstalling \u001b[0m\u001b[36mrequests\u001b[0m\u001b[39m (\u001b[0m\u001b[39;1m2.25.1\u001b[0m\u001b[39m)\u001b[0m: \u001b[34mInstalling...\u001b[0m\n",
      "  \u001b[34;1m•\u001b[0m \u001b[39mInstalling \u001b[0m\u001b[36msix\u001b[0m\u001b[39m (\u001b[0m\u001b[39;1m1.16.0\u001b[0m\u001b[39m)\u001b[0m: \u001b[34mInstalling...\u001b[0m\n",
      "  \u001b[34;1m•\u001b[0m \u001b[39mInstalling \u001b[0m\u001b[36mtqdm\u001b[0m\u001b[39m (\u001b[0m\u001b[39;1m4.61.1\u001b[0m\u001b[39m)\u001b[0m: \u001b[34mInstalling...\u001b[0m\n",
      "  \u001b[34;1m•\u001b[0m \u001b[39mInstalling \u001b[0m\u001b[36mtyping-extensions\u001b[0m\u001b[39m (\u001b[0m\u001b[39;1m3.10.0.0\u001b[0m\u001b[39m)\u001b[0m: \u001b[34mInstalling...\u001b[0m\n",
      "\u001b[8A\u001b[0J  \u001b[34;1m•\u001b[0m \u001b[39mInstalling \u001b[0m\u001b[36mjoblib\u001b[0m\u001b[39m (\u001b[0m\u001b[39;1m1.0.1\u001b[0m\u001b[39m)\u001b[0m: \u001b[34mInstalling...\u001b[0m\n",
      "  \u001b[34;1m•\u001b[0m \u001b[39mInstalling \u001b[0m\u001b[36mpackaging\u001b[0m\u001b[39m (\u001b[0m\u001b[39;1m20.9\u001b[0m\u001b[39m)\u001b[0m: \u001b[34mInstalling...\u001b[0m\n",
      "  \u001b[34;1m•\u001b[0m \u001b[39mInstalling \u001b[0m\u001b[36mregex\u001b[0m\u001b[39m (\u001b[0m\u001b[39;1m2021.4.4\u001b[0m\u001b[39m)\u001b[0m: \u001b[34mInstalling...\u001b[0m\n",
      "  \u001b[34;1m•\u001b[0m \u001b[39mInstalling \u001b[0m\u001b[36mrequests\u001b[0m\u001b[39m (\u001b[0m\u001b[39;1m2.25.1\u001b[0m\u001b[39m)\u001b[0m: \u001b[34mInstalling...\u001b[0m\n",
      "  \u001b[34;1m•\u001b[0m \u001b[39mInstalling \u001b[0m\u001b[36msix\u001b[0m\u001b[39m (\u001b[0m\u001b[39;1m1.16.0\u001b[0m\u001b[39m)\u001b[0m: \u001b[34mInstalling...\u001b[0m\n",
      "  \u001b[34;1m•\u001b[0m \u001b[39mInstalling \u001b[0m\u001b[36mtqdm\u001b[0m\u001b[39m (\u001b[0m\u001b[39;1m4.61.1\u001b[0m\u001b[39m)\u001b[0m: \u001b[34mInstalling...\u001b[0m\n",
      "  \u001b[34;1m•\u001b[0m \u001b[39mInstalling \u001b[0m\u001b[36mtyping-extensions\u001b[0m\u001b[39m (\u001b[0m\u001b[39;1m3.10.0.0\u001b[0m\u001b[39m)\u001b[0m: \u001b[34mInstalling...\u001b[0m\n",
      "\u001b[7A\u001b[0J  \u001b[32;1m•\u001b[0m \u001b[39mInstalling \u001b[0m\u001b[36mfilelock\u001b[0m\u001b[39m (\u001b[0m\u001b[32m3.0.12\u001b[0m\u001b[39m)\u001b[0m\n",
      "  \u001b[34;1m•\u001b[0m \u001b[39mInstalling \u001b[0m\u001b[36mjoblib\u001b[0m\u001b[39m (\u001b[0m\u001b[39;1m1.0.1\u001b[0m\u001b[39m)\u001b[0m: \u001b[34mInstalling...\u001b[0m\n",
      "  \u001b[34;1m•\u001b[0m \u001b[39mInstalling \u001b[0m\u001b[36mpackaging\u001b[0m\u001b[39m (\u001b[0m\u001b[39;1m20.9\u001b[0m\u001b[39m)\u001b[0m: \u001b[34mInstalling...\u001b[0m\n",
      "  \u001b[34;1m•\u001b[0m \u001b[39mInstalling \u001b[0m\u001b[36mregex\u001b[0m\u001b[39m (\u001b[0m\u001b[39;1m2021.4.4\u001b[0m\u001b[39m)\u001b[0m: \u001b[34mInstalling...\u001b[0m\n",
      "  \u001b[34;1m•\u001b[0m \u001b[39mInstalling \u001b[0m\u001b[36mrequests\u001b[0m\u001b[39m (\u001b[0m\u001b[39;1m2.25.1\u001b[0m\u001b[39m)\u001b[0m: \u001b[34mInstalling...\u001b[0m\n",
      "  \u001b[34;1m•\u001b[0m \u001b[39mInstalling \u001b[0m\u001b[36msix\u001b[0m\u001b[39m (\u001b[0m\u001b[39;1m1.16.0\u001b[0m\u001b[39m)\u001b[0m: \u001b[34mInstalling...\u001b[0m\n",
      "  \u001b[34;1m•\u001b[0m \u001b[39mInstalling \u001b[0m\u001b[36mtqdm\u001b[0m\u001b[39m (\u001b[0m\u001b[39;1m4.61.1\u001b[0m\u001b[39m)\u001b[0m: \u001b[34mInstalling...\u001b[0m\n",
      "  \u001b[34;1m•\u001b[0m \u001b[39mInstalling \u001b[0m\u001b[36mtyping-extensions\u001b[0m\u001b[39m (\u001b[0m\u001b[39;1m3.10.0.0\u001b[0m\u001b[39m)\u001b[0m: \u001b[34mInstalling...\u001b[0m\n",
      "\u001b[3A\u001b[0J  \u001b[34;1m•\u001b[0m \u001b[39mInstalling \u001b[0m\u001b[36mtqdm\u001b[0m\u001b[39m (\u001b[0m\u001b[39;1m4.61.1\u001b[0m\u001b[39m)\u001b[0m: \u001b[34mInstalling...\u001b[0m\n",
      "  \u001b[34;1m•\u001b[0m \u001b[39mInstalling \u001b[0m\u001b[36mtyping-extensions\u001b[0m\u001b[39m (\u001b[0m\u001b[39;1m3.10.0.0\u001b[0m\u001b[39m)\u001b[0m: \u001b[34mInstalling...\u001b[0m\n",
      "\u001b[2A\u001b[0J  \u001b[32;1m•\u001b[0m \u001b[39mInstalling \u001b[0m\u001b[36msix\u001b[0m\u001b[39m (\u001b[0m\u001b[32m1.16.0\u001b[0m\u001b[39m)\u001b[0m\n",
      "  \u001b[34;1m•\u001b[0m \u001b[39mInstalling \u001b[0m\u001b[36mtqdm\u001b[0m\u001b[39m (\u001b[0m\u001b[39;1m4.61.1\u001b[0m\u001b[39m)\u001b[0m: \u001b[34mInstalling...\u001b[0m\n",
      "  \u001b[34;1m•\u001b[0m \u001b[39mInstalling \u001b[0m\u001b[36mtyping-extensions\u001b[0m\u001b[39m (\u001b[0m\u001b[39;1m3.10.0.0\u001b[0m\u001b[39m)\u001b[0m: \u001b[34mInstalling...\u001b[0m\n",
      "\u001b[6A\u001b[0J  \u001b[34;1m•\u001b[0m \u001b[39mInstalling \u001b[0m\u001b[36mregex\u001b[0m\u001b[39m (\u001b[0m\u001b[39;1m2021.4.4\u001b[0m\u001b[39m)\u001b[0m: \u001b[34mInstalling...\u001b[0m\n",
      "  \u001b[34;1m•\u001b[0m \u001b[39mInstalling \u001b[0m\u001b[36mrequests\u001b[0m\u001b[39m (\u001b[0m\u001b[39;1m2.25.1\u001b[0m\u001b[39m)\u001b[0m: \u001b[34mInstalling...\u001b[0m\n",
      "  \u001b[32;1m•\u001b[0m \u001b[39mInstalling \u001b[0m\u001b[36msix\u001b[0m\u001b[39m (\u001b[0m\u001b[32m1.16.0\u001b[0m\u001b[39m)\u001b[0m\n",
      "  \u001b[34;1m•\u001b[0m \u001b[39mInstalling \u001b[0m\u001b[36mtqdm\u001b[0m\u001b[39m (\u001b[0m\u001b[39;1m4.61.1\u001b[0m\u001b[39m)\u001b[0m: \u001b[34mInstalling...\u001b[0m\n",
      "  \u001b[34;1m•\u001b[0m \u001b[39mInstalling \u001b[0m\u001b[36mtyping-extensions\u001b[0m\u001b[39m (\u001b[0m\u001b[39;1m3.10.0.0\u001b[0m\u001b[39m)\u001b[0m: \u001b[34mInstalling...\u001b[0m\n",
      "\u001b[5A\u001b[0J  \u001b[32;1m•\u001b[0m \u001b[39mInstalling \u001b[0m\u001b[36mpackaging\u001b[0m\u001b[39m (\u001b[0m\u001b[32m20.9\u001b[0m\u001b[39m)\u001b[0m\n",
      "  \u001b[34;1m•\u001b[0m \u001b[39mInstalling \u001b[0m\u001b[36mregex\u001b[0m\u001b[39m (\u001b[0m\u001b[39;1m2021.4.4\u001b[0m\u001b[39m)\u001b[0m: \u001b[34mInstalling...\u001b[0m\n",
      "  \u001b[34;1m•\u001b[0m \u001b[39mInstalling \u001b[0m\u001b[36mrequests\u001b[0m\u001b[39m (\u001b[0m\u001b[39;1m2.25.1\u001b[0m\u001b[39m)\u001b[0m: \u001b[34mInstalling...\u001b[0m\n",
      "  \u001b[32;1m•\u001b[0m \u001b[39mInstalling \u001b[0m\u001b[36msix\u001b[0m\u001b[39m (\u001b[0m\u001b[32m1.16.0\u001b[0m\u001b[39m)\u001b[0m\n",
      "  \u001b[34;1m•\u001b[0m \u001b[39mInstalling \u001b[0m\u001b[36mtqdm\u001b[0m\u001b[39m (\u001b[0m\u001b[39;1m4.61.1\u001b[0m\u001b[39m)\u001b[0m: \u001b[34mInstalling...\u001b[0m\n",
      "  \u001b[34;1m•\u001b[0m \u001b[39mInstalling \u001b[0m\u001b[36mtyping-extensions\u001b[0m\u001b[39m (\u001b[0m\u001b[39;1m3.10.0.0\u001b[0m\u001b[39m)\u001b[0m: \u001b[34mInstalling...\u001b[0m\n",
      "\u001b[1A\u001b[0J  \u001b[32;1m•\u001b[0m \u001b[39mInstalling \u001b[0m\u001b[36mtyping-extensions\u001b[0m\u001b[39m (\u001b[0m\u001b[32m3.10.0.0\u001b[0m\u001b[39m)\u001b[0m\n",
      "\u001b[9A\u001b[0J  \u001b[32;1m•\u001b[0m \u001b[39mInstalling \u001b[0m\u001b[36mfilelock\u001b[0m\u001b[39m (\u001b[0m\u001b[32m3.0.12\u001b[0m\u001b[39m)\u001b[0m\n",
      "  \u001b[34;1m•\u001b[0m \u001b[39mInstalling \u001b[0m\u001b[36mjoblib\u001b[0m\u001b[39m (\u001b[0m\u001b[39;1m1.0.1\u001b[0m\u001b[39m)\u001b[0m: \u001b[34mInstalling...\u001b[0m\n",
      "  \u001b[32;1m•\u001b[0m \u001b[39mInstalling \u001b[0m\u001b[36mpackaging\u001b[0m\u001b[39m (\u001b[0m\u001b[32m20.9\u001b[0m\u001b[39m)\u001b[0m\n",
      "  \u001b[34;1m•\u001b[0m \u001b[39mInstalling \u001b[0m\u001b[36mregex\u001b[0m\u001b[39m (\u001b[0m\u001b[39;1m2021.4.4\u001b[0m\u001b[39m)\u001b[0m: \u001b[34mInstalling...\u001b[0m\n",
      "  \u001b[34;1m•\u001b[0m \u001b[39mInstalling \u001b[0m\u001b[36mrequests\u001b[0m\u001b[39m (\u001b[0m\u001b[39;1m2.25.1\u001b[0m\u001b[39m)\u001b[0m: \u001b[34mInstalling...\u001b[0m\n",
      "  \u001b[32;1m•\u001b[0m \u001b[39mInstalling \u001b[0m\u001b[36msix\u001b[0m\u001b[39m (\u001b[0m\u001b[32m1.16.0\u001b[0m\u001b[39m)\u001b[0m\n",
      "  \u001b[34;1m•\u001b[0m \u001b[39mInstalling \u001b[0m\u001b[36mtqdm\u001b[0m\u001b[39m (\u001b[0m\u001b[39;1m4.61.1\u001b[0m\u001b[39m)\u001b[0m: \u001b[34mInstalling...\u001b[0m\n",
      "  \u001b[32;1m•\u001b[0m \u001b[39mInstalling \u001b[0m\u001b[36mtyping-extensions\u001b[0m\u001b[39m (\u001b[0m\u001b[32m3.10.0.0\u001b[0m\u001b[39m)\u001b[0m\n",
      "\u001b[8A\u001b[0J  \u001b[32;1m•\u001b[0m \u001b[39mInstalling \u001b[0m\u001b[36mclick\u001b[0m\u001b[39m (\u001b[0m\u001b[32m8.0.1\u001b[0m\u001b[39m)\u001b[0m\n",
      "  \u001b[32;1m•\u001b[0m \u001b[39mInstalling \u001b[0m\u001b[36mfilelock\u001b[0m\u001b[39m (\u001b[0m\u001b[32m3.0.12\u001b[0m\u001b[39m)\u001b[0m\n",
      "  \u001b[34;1m•\u001b[0m \u001b[39mInstalling \u001b[0m\u001b[36mjoblib\u001b[0m\u001b[39m (\u001b[0m\u001b[39;1m1.0.1\u001b[0m\u001b[39m)\u001b[0m: \u001b[34mInstalling...\u001b[0m\n",
      "  \u001b[32;1m•\u001b[0m \u001b[39mInstalling \u001b[0m\u001b[36mpackaging\u001b[0m\u001b[39m (\u001b[0m\u001b[32m20.9\u001b[0m\u001b[39m)\u001b[0m\n",
      "  \u001b[34;1m•\u001b[0m \u001b[39mInstalling \u001b[0m\u001b[36mregex\u001b[0m\u001b[39m (\u001b[0m\u001b[39;1m2021.4.4\u001b[0m\u001b[39m)\u001b[0m: \u001b[34mInstalling...\u001b[0m\n",
      "  \u001b[34;1m•\u001b[0m \u001b[39mInstalling \u001b[0m\u001b[36mrequests\u001b[0m\u001b[39m (\u001b[0m\u001b[39;1m2.25.1\u001b[0m\u001b[39m)\u001b[0m: \u001b[34mInstalling...\u001b[0m\n",
      "  \u001b[32;1m•\u001b[0m \u001b[39mInstalling \u001b[0m\u001b[36msix\u001b[0m\u001b[39m (\u001b[0m\u001b[32m1.16.0\u001b[0m\u001b[39m)\u001b[0m\n",
      "  \u001b[34;1m•\u001b[0m \u001b[39mInstalling \u001b[0m\u001b[36mtqdm\u001b[0m\u001b[39m (\u001b[0m\u001b[39;1m4.61.1\u001b[0m\u001b[39m)\u001b[0m: \u001b[34mInstalling...\u001b[0m\n",
      "  \u001b[32;1m•\u001b[0m \u001b[39mInstalling \u001b[0m\u001b[36mtyping-extensions\u001b[0m\u001b[39m (\u001b[0m\u001b[32m3.10.0.0\u001b[0m\u001b[39m)\u001b[0m\n",
      "\u001b[4A\u001b[0J  \u001b[32;1m•\u001b[0m \u001b[39mInstalling \u001b[0m\u001b[36msix\u001b[0m\u001b[39m (\u001b[0m\u001b[32m1.16.0\u001b[0m\u001b[39m)\u001b[0m\n",
      "  \u001b[34;1m•\u001b[0m \u001b[39mInstalling \u001b[0m\u001b[36mtqdm\u001b[0m\u001b[39m (\u001b[0m\u001b[39;1m4.61.1\u001b[0m\u001b[39m)\u001b[0m: \u001b[34mInstalling...\u001b[0m\n",
      "  \u001b[32;1m•\u001b[0m \u001b[39mInstalling \u001b[0m\u001b[36mtyping-extensions\u001b[0m\u001b[39m (\u001b[0m\u001b[32m3.10.0.0\u001b[0m\u001b[39m)\u001b[0m\n",
      "\u001b[3A\u001b[0J  \u001b[32;1m•\u001b[0m \u001b[39mInstalling \u001b[0m\u001b[36mrequests\u001b[0m\u001b[39m (\u001b[0m\u001b[32m2.25.1\u001b[0m\u001b[39m)\u001b[0m\n",
      "  \u001b[32;1m•\u001b[0m \u001b[39mInstalling \u001b[0m\u001b[36msix\u001b[0m\u001b[39m (\u001b[0m\u001b[32m1.16.0\u001b[0m\u001b[39m)\u001b[0m\n",
      "  \u001b[34;1m•\u001b[0m \u001b[39mInstalling \u001b[0m\u001b[36mtqdm\u001b[0m\u001b[39m (\u001b[0m\u001b[39;1m4.61.1\u001b[0m\u001b[39m)\u001b[0m: \u001b[34mInstalling...\u001b[0m\n",
      "  \u001b[32;1m•\u001b[0m \u001b[39mInstalling \u001b[0m\u001b[36mtyping-extensions\u001b[0m\u001b[39m (\u001b[0m\u001b[32m3.10.0.0\u001b[0m\u001b[39m)\u001b[0m\n",
      "\u001b[2A\u001b[0J  \u001b[32;1m•\u001b[0m \u001b[39mInstalling \u001b[0m\u001b[36mtyping-extensions\u001b[0m\u001b[39m (\u001b[0m\u001b[32m3.10.0.0\u001b[0m\u001b[39m)\u001b[0m\n",
      "\u001b[1A\u001b[0J  \u001b[32;1m•\u001b[0m \u001b[39mInstalling \u001b[0m\u001b[36mtqdm\u001b[0m\u001b[39m (\u001b[0m\u001b[32m4.61.1\u001b[0m\u001b[39m)\u001b[0m\n",
      "  \u001b[32;1m•\u001b[0m \u001b[39mInstalling \u001b[0m\u001b[36mtyping-extensions\u001b[0m\u001b[39m (\u001b[0m\u001b[32m3.10.0.0\u001b[0m\u001b[39m)\u001b[0m\n",
      "\u001b[5A\u001b[0J  \u001b[32;1m•\u001b[0m \u001b[39mInstalling \u001b[0m\u001b[36mrequests\u001b[0m\u001b[39m (\u001b[0m\u001b[32m2.25.1\u001b[0m\u001b[39m)\u001b[0m\n",
      "  \u001b[32;1m•\u001b[0m \u001b[39mInstalling \u001b[0m\u001b[36msix\u001b[0m\u001b[39m (\u001b[0m\u001b[32m1.16.0\u001b[0m\u001b[39m)\u001b[0m\n",
      "  \u001b[32;1m•\u001b[0m \u001b[39mInstalling \u001b[0m\u001b[36mtqdm\u001b[0m\u001b[39m (\u001b[0m\u001b[32m4.61.1\u001b[0m\u001b[39m)\u001b[0m\n",
      "  \u001b[32;1m•\u001b[0m \u001b[39mInstalling \u001b[0m\u001b[36mtyping-extensions\u001b[0m\u001b[39m (\u001b[0m\u001b[32m3.10.0.0\u001b[0m\u001b[39m)\u001b[0m\n",
      "\u001b[4A\u001b[0J  \u001b[32;1m•\u001b[0m \u001b[39mInstalling \u001b[0m\u001b[36mregex\u001b[0m\u001b[39m (\u001b[0m\u001b[32m2021.4.4\u001b[0m\u001b[39m)\u001b[0m\n",
      "  \u001b[32;1m•\u001b[0m \u001b[39mInstalling \u001b[0m\u001b[36mrequests\u001b[0m\u001b[39m (\u001b[0m\u001b[32m2.25.1\u001b[0m\u001b[39m)\u001b[0m\n",
      "  \u001b[32;1m•\u001b[0m \u001b[39mInstalling \u001b[0m\u001b[36msix\u001b[0m\u001b[39m (\u001b[0m\u001b[32m1.16.0\u001b[0m\u001b[39m)\u001b[0m\n",
      "  \u001b[32;1m•\u001b[0m \u001b[39mInstalling \u001b[0m\u001b[36mtqdm\u001b[0m\u001b[39m (\u001b[0m\u001b[32m4.61.1\u001b[0m\u001b[39m)\u001b[0m\n",
      "  \u001b[32;1m•\u001b[0m \u001b[39mInstalling \u001b[0m\u001b[36mtyping-extensions\u001b[0m\u001b[39m (\u001b[0m\u001b[32m3.10.0.0\u001b[0m\u001b[39m)\u001b[0m\n",
      "\u001b[7A\u001b[0J  \u001b[32;1m•\u001b[0m \u001b[39mInstalling \u001b[0m\u001b[36mpackaging\u001b[0m\u001b[39m (\u001b[0m\u001b[32m20.9\u001b[0m\u001b[39m)\u001b[0m\n",
      "  \u001b[32;1m•\u001b[0m \u001b[39mInstalling \u001b[0m\u001b[36mregex\u001b[0m\u001b[39m (\u001b[0m\u001b[32m2021.4.4\u001b[0m\u001b[39m)\u001b[0m\n",
      "  \u001b[32;1m•\u001b[0m \u001b[39mInstalling \u001b[0m\u001b[36mrequests\u001b[0m\u001b[39m (\u001b[0m\u001b[32m2.25.1\u001b[0m\u001b[39m)\u001b[0m\n",
      "  \u001b[32;1m•\u001b[0m \u001b[39mInstalling \u001b[0m\u001b[36msix\u001b[0m\u001b[39m (\u001b[0m\u001b[32m1.16.0\u001b[0m\u001b[39m)\u001b[0m\n",
      "  \u001b[32;1m•\u001b[0m \u001b[39mInstalling \u001b[0m\u001b[36mtqdm\u001b[0m\u001b[39m (\u001b[0m\u001b[32m4.61.1\u001b[0m\u001b[39m)\u001b[0m\n",
      "  \u001b[32;1m•\u001b[0m \u001b[39mInstalling \u001b[0m\u001b[36mtyping-extensions\u001b[0m\u001b[39m (\u001b[0m\u001b[32m3.10.0.0\u001b[0m\u001b[39m)\u001b[0m\n",
      "\u001b[6A\u001b[0J  \u001b[32;1m•\u001b[0m \u001b[39mInstalling \u001b[0m\u001b[36mjoblib\u001b[0m\u001b[39m (\u001b[0m\u001b[32m1.0.1\u001b[0m\u001b[39m)\u001b[0m\n",
      "  \u001b[32;1m•\u001b[0m \u001b[39mInstalling \u001b[0m\u001b[36mpackaging\u001b[0m\u001b[39m (\u001b[0m\u001b[32m20.9\u001b[0m\u001b[39m)\u001b[0m\n",
      "  \u001b[32;1m•\u001b[0m \u001b[39mInstalling \u001b[0m\u001b[36mregex\u001b[0m\u001b[39m (\u001b[0m\u001b[32m2021.4.4\u001b[0m\u001b[39m)\u001b[0m\n",
      "  \u001b[32;1m•\u001b[0m \u001b[39mInstalling \u001b[0m\u001b[36mrequests\u001b[0m\u001b[39m (\u001b[0m\u001b[32m2.25.1\u001b[0m\u001b[39m)\u001b[0m\n",
      "  \u001b[32;1m•\u001b[0m \u001b[39mInstalling \u001b[0m\u001b[36msix\u001b[0m\u001b[39m (\u001b[0m\u001b[32m1.16.0\u001b[0m\u001b[39m)\u001b[0m\n",
      "  \u001b[32;1m•\u001b[0m \u001b[39mInstalling \u001b[0m\u001b[36mtqdm\u001b[0m\u001b[39m (\u001b[0m\u001b[32m4.61.1\u001b[0m\u001b[39m)\u001b[0m\n",
      "  \u001b[32;1m•\u001b[0m \u001b[39mInstalling \u001b[0m\u001b[36mtyping-extensions\u001b[0m\u001b[39m (\u001b[0m\u001b[32m3.10.0.0\u001b[0m\u001b[39m)\u001b[0m\n",
      "  \u001b[34;1m•\u001b[0m \u001b[39mInstalling \u001b[0m\u001b[36mattrs\u001b[0m\u001b[39m (\u001b[0m\u001b[39;1m21.2.0\u001b[0m\u001b[39m)\u001b[0m: \u001b[34mPending...\u001b[0m\n",
      "  \u001b[34;1m•\u001b[0m \u001b[39mInstalling \u001b[0m\u001b[36mhuggingface-hub\u001b[0m\u001b[39m (\u001b[0m\u001b[39;1m0.0.12\u001b[0m\u001b[39m)\u001b[0m: \u001b[34mPending...\u001b[0m\n",
      "  \u001b[34;1m•\u001b[0m \u001b[39mInstalling \u001b[0m\u001b[36mmore-itertools\u001b[0m\u001b[39m (\u001b[0m\u001b[39;1m8.8.0\u001b[0m\u001b[39m)\u001b[0m: \u001b[34mPending...\u001b[0m\n",
      "  \u001b[34;1m•\u001b[0m \u001b[39mInstalling \u001b[0m\u001b[36mnumpy\u001b[0m\u001b[39m (\u001b[0m\u001b[39;1m1.21.0\u001b[0m\u001b[39m)\u001b[0m: \u001b[34mPending...\u001b[0m\n",
      "  \u001b[34;1m•\u001b[0m \u001b[39mInstalling \u001b[0m\u001b[36mpluggy\u001b[0m\u001b[39m (\u001b[0m\u001b[39;1m0.13.1\u001b[0m\u001b[39m)\u001b[0m: \u001b[34mPending...\u001b[0m\n",
      "  \u001b[34;1m•\u001b[0m \u001b[39mInstalling \u001b[0m\u001b[36mpy\u001b[0m\u001b[39m (\u001b[0m\u001b[39;1m1.10.0\u001b[0m\u001b[39m)\u001b[0m: \u001b[34mPending...\u001b[0m\n",
      "  \u001b[34;1m•\u001b[0m \u001b[39mInstalling \u001b[0m\u001b[36mpyyaml\u001b[0m\u001b[39m (\u001b[0m\u001b[39;1m5.4.1\u001b[0m\u001b[39m)\u001b[0m: \u001b[34mPending...\u001b[0m\n",
      "  \u001b[34;1m•\u001b[0m \u001b[39mInstalling \u001b[0m\u001b[36msacremoses\u001b[0m\u001b[39m (\u001b[0m\u001b[39;1m0.0.45\u001b[0m\u001b[39m)\u001b[0m: \u001b[34mPending...\u001b[0m\n"
     ]
    },
    {
     "name": "stdout",
     "output_type": "stream",
     "text": [
      "  \u001b[34;1m•\u001b[0m \u001b[39mInstalling \u001b[0m\u001b[36mtokenizers\u001b[0m\u001b[39m (\u001b[0m\u001b[39;1m0.10.3\u001b[0m\u001b[39m)\u001b[0m: \u001b[34mPending...\u001b[0m\n",
      "  \u001b[34;1m•\u001b[0m \u001b[39mInstalling \u001b[0m\u001b[36mwcwidth\u001b[0m\u001b[39m (\u001b[0m\u001b[39;1m0.2.5\u001b[0m\u001b[39m)\u001b[0m: \u001b[34mPending...\u001b[0m\n",
      "\u001b[10A\u001b[0J  \u001b[34;1m•\u001b[0m \u001b[39mInstalling \u001b[0m\u001b[36mhuggingface-hub\u001b[0m\u001b[39m (\u001b[0m\u001b[39;1m0.0.12\u001b[0m\u001b[39m)\u001b[0m: \u001b[34mPending...\u001b[0m\n",
      "  \u001b[34;1m•\u001b[0m \u001b[39mInstalling \u001b[0m\u001b[36mmore-itertools\u001b[0m\u001b[39m (\u001b[0m\u001b[39;1m8.8.0\u001b[0m\u001b[39m)\u001b[0m: \u001b[34mPending...\u001b[0m\n",
      "  \u001b[34;1m•\u001b[0m \u001b[39mInstalling \u001b[0m\u001b[36mnumpy\u001b[0m\u001b[39m (\u001b[0m\u001b[39;1m1.21.0\u001b[0m\u001b[39m)\u001b[0m: \u001b[34mPending...\u001b[0m\n",
      "  \u001b[34;1m•\u001b[0m \u001b[39mInstalling \u001b[0m\u001b[36mpluggy\u001b[0m\u001b[39m (\u001b[0m\u001b[39;1m0.13.1\u001b[0m\u001b[39m)\u001b[0m: \u001b[34mPending...\u001b[0m\n",
      "  \u001b[34;1m•\u001b[0m \u001b[39mInstalling \u001b[0m\u001b[36mpy\u001b[0m\u001b[39m (\u001b[0m\u001b[39;1m1.10.0\u001b[0m\u001b[39m)\u001b[0m: \u001b[34mPending...\u001b[0m\n",
      "  \u001b[34;1m•\u001b[0m \u001b[39mInstalling \u001b[0m\u001b[36mpyyaml\u001b[0m\u001b[39m (\u001b[0m\u001b[39;1m5.4.1\u001b[0m\u001b[39m)\u001b[0m: \u001b[34mPending...\u001b[0m\n",
      "  \u001b[34;1m•\u001b[0m \u001b[39mInstalling \u001b[0m\u001b[36msacremoses\u001b[0m\u001b[39m (\u001b[0m\u001b[39;1m0.0.45\u001b[0m\u001b[39m)\u001b[0m: \u001b[34mPending...\u001b[0m\n",
      "  \u001b[34;1m•\u001b[0m \u001b[39mInstalling \u001b[0m\u001b[36mtokenizers\u001b[0m\u001b[39m (\u001b[0m\u001b[39;1m0.10.3\u001b[0m\u001b[39m)\u001b[0m: \u001b[34mPending...\u001b[0m\n",
      "  \u001b[34;1m•\u001b[0m \u001b[39mInstalling \u001b[0m\u001b[36mwcwidth\u001b[0m\u001b[39m (\u001b[0m\u001b[39;1m0.2.5\u001b[0m\u001b[39m)\u001b[0m: \u001b[34mPending...\u001b[0m\n",
      "\u001b[9A\u001b[0J  \u001b[34;1m•\u001b[0m \u001b[39mInstalling \u001b[0m\u001b[36mattrs\u001b[0m\u001b[39m (\u001b[0m\u001b[39;1m21.2.0\u001b[0m\u001b[39m)\u001b[0m: \u001b[34mInstalling...\u001b[0m\n",
      "  \u001b[34;1m•\u001b[0m \u001b[39mInstalling \u001b[0m\u001b[36mhuggingface-hub\u001b[0m\u001b[39m (\u001b[0m\u001b[39;1m0.0.12\u001b[0m\u001b[39m)\u001b[0m: \u001b[34mPending...\u001b[0m\n",
      "  \u001b[34;1m•\u001b[0m \u001b[39mInstalling \u001b[0m\u001b[36mmore-itertools\u001b[0m\u001b[39m (\u001b[0m\u001b[39;1m8.8.0\u001b[0m\u001b[39m)\u001b[0m: \u001b[34mPending...\u001b[0m\n",
      "  \u001b[34;1m•\u001b[0m \u001b[39mInstalling \u001b[0m\u001b[36mnumpy\u001b[0m\u001b[39m (\u001b[0m\u001b[39;1m1.21.0\u001b[0m\u001b[39m)\u001b[0m: \u001b[34mPending...\u001b[0m\n",
      "  \u001b[34;1m•\u001b[0m \u001b[39mInstalling \u001b[0m\u001b[36mpluggy\u001b[0m\u001b[39m (\u001b[0m\u001b[39;1m0.13.1\u001b[0m\u001b[39m)\u001b[0m: \u001b[34mPending...\u001b[0m\n",
      "  \u001b[34;1m•\u001b[0m \u001b[39mInstalling \u001b[0m\u001b[36mpy\u001b[0m\u001b[39m (\u001b[0m\u001b[39;1m1.10.0\u001b[0m\u001b[39m)\u001b[0m: \u001b[34mPending...\u001b[0m\n",
      "  \u001b[34;1m•\u001b[0m \u001b[39mInstalling \u001b[0m\u001b[36mpyyaml\u001b[0m\u001b[39m (\u001b[0m\u001b[39;1m5.4.1\u001b[0m\u001b[39m)\u001b[0m: \u001b[34mPending...\u001b[0m\n",
      "  \u001b[34;1m•\u001b[0m \u001b[39mInstalling \u001b[0m\u001b[36msacremoses\u001b[0m\u001b[39m (\u001b[0m\u001b[39;1m0.0.45\u001b[0m\u001b[39m)\u001b[0m: \u001b[34mPending...\u001b[0m\n",
      "  \u001b[34;1m•\u001b[0m \u001b[39mInstalling \u001b[0m\u001b[36mtokenizers\u001b[0m\u001b[39m (\u001b[0m\u001b[39;1m0.10.3\u001b[0m\u001b[39m)\u001b[0m: \u001b[34mPending...\u001b[0m\n",
      "  \u001b[34;1m•\u001b[0m \u001b[39mInstalling \u001b[0m\u001b[36mwcwidth\u001b[0m\u001b[39m (\u001b[0m\u001b[39;1m0.2.5\u001b[0m\u001b[39m)\u001b[0m: \u001b[34mPending...\u001b[0m\n",
      "\u001b[8A\u001b[0J  \u001b[34;1m•\u001b[0m \u001b[39mInstalling \u001b[0m\u001b[36mnumpy\u001b[0m\u001b[39m (\u001b[0m\u001b[39;1m1.21.0\u001b[0m\u001b[39m)\u001b[0m: \u001b[34mPending...\u001b[0m\n",
      "  \u001b[34;1m•\u001b[0m \u001b[39mInstalling \u001b[0m\u001b[36mpluggy\u001b[0m\u001b[39m (\u001b[0m\u001b[39;1m0.13.1\u001b[0m\u001b[39m)\u001b[0m: \u001b[34mPending...\u001b[0m\n",
      "  \u001b[34;1m•\u001b[0m \u001b[39mInstalling \u001b[0m\u001b[36mpy\u001b[0m\u001b[39m (\u001b[0m\u001b[39;1m1.10.0\u001b[0m\u001b[39m)\u001b[0m: \u001b[34mPending...\u001b[0m\n",
      "  \u001b[34;1m•\u001b[0m \u001b[39mInstalling \u001b[0m\u001b[36mpyyaml\u001b[0m\u001b[39m (\u001b[0m\u001b[39;1m5.4.1\u001b[0m\u001b[39m)\u001b[0m: \u001b[34mPending...\u001b[0m\n",
      "  \u001b[34;1m•\u001b[0m \u001b[39mInstalling \u001b[0m\u001b[36msacremoses\u001b[0m\u001b[39m (\u001b[0m\u001b[39;1m0.0.45\u001b[0m\u001b[39m)\u001b[0m: \u001b[34mPending...\u001b[0m\n",
      "  \u001b[34;1m•\u001b[0m \u001b[39mInstalling \u001b[0m\u001b[36mtokenizers\u001b[0m\u001b[39m (\u001b[0m\u001b[39;1m0.10.3\u001b[0m\u001b[39m)\u001b[0m: \u001b[34mPending...\u001b[0m\n",
      "  \u001b[34;1m•\u001b[0m \u001b[39mInstalling \u001b[0m\u001b[36mwcwidth\u001b[0m\u001b[39m (\u001b[0m\u001b[39;1m0.2.5\u001b[0m\u001b[39m)\u001b[0m: \u001b[34mPending...\u001b[0m\n",
      "\u001b[7A\u001b[0J  \u001b[34;1m•\u001b[0m \u001b[39mInstalling \u001b[0m\u001b[36mmore-itertools\u001b[0m\u001b[39m (\u001b[0m\u001b[39;1m8.8.0\u001b[0m\u001b[39m)\u001b[0m: \u001b[34mInstalling...\u001b[0m\n",
      "  \u001b[34;1m•\u001b[0m \u001b[39mInstalling \u001b[0m\u001b[36mnumpy\u001b[0m\u001b[39m (\u001b[0m\u001b[39;1m1.21.0\u001b[0m\u001b[39m)\u001b[0m: \u001b[34mPending...\u001b[0m\n",
      "  \u001b[34;1m•\u001b[0m \u001b[39mInstalling \u001b[0m\u001b[36mpluggy\u001b[0m\u001b[39m (\u001b[0m\u001b[39;1m0.13.1\u001b[0m\u001b[39m)\u001b[0m: \u001b[34mPending...\u001b[0m\n",
      "  \u001b[34;1m•\u001b[0m \u001b[39mInstalling \u001b[0m\u001b[36mpy\u001b[0m\u001b[39m (\u001b[0m\u001b[39;1m1.10.0\u001b[0m\u001b[39m)\u001b[0m: \u001b[34mPending...\u001b[0m\n",
      "  \u001b[34;1m•\u001b[0m \u001b[39mInstalling \u001b[0m\u001b[36mpyyaml\u001b[0m\u001b[39m (\u001b[0m\u001b[39;1m5.4.1\u001b[0m\u001b[39m)\u001b[0m: \u001b[34mPending...\u001b[0m\n",
      "  \u001b[34;1m•\u001b[0m \u001b[39mInstalling \u001b[0m\u001b[36msacremoses\u001b[0m\u001b[39m (\u001b[0m\u001b[39;1m0.0.45\u001b[0m\u001b[39m)\u001b[0m: \u001b[34mPending...\u001b[0m\n",
      "  \u001b[34;1m•\u001b[0m \u001b[39mInstalling \u001b[0m\u001b[36mtokenizers\u001b[0m\u001b[39m (\u001b[0m\u001b[39;1m0.10.3\u001b[0m\u001b[39m)\u001b[0m: \u001b[34mPending...\u001b[0m\n",
      "  \u001b[34;1m•\u001b[0m \u001b[39mInstalling \u001b[0m\u001b[36mwcwidth\u001b[0m\u001b[39m (\u001b[0m\u001b[39;1m0.2.5\u001b[0m\u001b[39m)\u001b[0m: \u001b[34mPending...\u001b[0m\n",
      "\u001b[9A\u001b[0J  \u001b[34;1m•\u001b[0m \u001b[39mInstalling \u001b[0m\u001b[36mmore-itertools\u001b[0m\u001b[39m (\u001b[0m\u001b[39;1m8.8.0\u001b[0m\u001b[39m)\u001b[0m: \u001b[34mInstalling...\u001b[0m\n",
      "  \u001b[34;1m•\u001b[0m \u001b[39mInstalling \u001b[0m\u001b[36mnumpy\u001b[0m\u001b[39m (\u001b[0m\u001b[39;1m1.21.0\u001b[0m\u001b[39m)\u001b[0m: \u001b[34mPending...\u001b[0m\n",
      "  \u001b[34;1m•\u001b[0m \u001b[39mInstalling \u001b[0m\u001b[36mpluggy\u001b[0m\u001b[39m (\u001b[0m\u001b[39;1m0.13.1\u001b[0m\u001b[39m)\u001b[0m: \u001b[34mPending...\u001b[0m\n",
      "  \u001b[34;1m•\u001b[0m \u001b[39mInstalling \u001b[0m\u001b[36mpy\u001b[0m\u001b[39m (\u001b[0m\u001b[39;1m1.10.0\u001b[0m\u001b[39m)\u001b[0m: \u001b[34mPending...\u001b[0m\n",
      "  \u001b[34;1m•\u001b[0m \u001b[39mInstalling \u001b[0m\u001b[36mpyyaml\u001b[0m\u001b[39m (\u001b[0m\u001b[39;1m5.4.1\u001b[0m\u001b[39m)\u001b[0m: \u001b[34mPending...\u001b[0m\n",
      "  \u001b[34;1m•\u001b[0m \u001b[39mInstalling \u001b[0m\u001b[36msacremoses\u001b[0m\u001b[39m (\u001b[0m\u001b[39;1m0.0.45\u001b[0m\u001b[39m)\u001b[0m: \u001b[34mPending...\u001b[0m\n",
      "  \u001b[34;1m•\u001b[0m \u001b[39mInstalling \u001b[0m\u001b[36mtokenizers\u001b[0m\u001b[39m (\u001b[0m\u001b[39;1m0.10.3\u001b[0m\u001b[39m)\u001b[0m: \u001b[34mPending...\u001b[0m\n",
      "  \u001b[34;1m•\u001b[0m \u001b[39mInstalling \u001b[0m\u001b[36mwcwidth\u001b[0m\u001b[39m (\u001b[0m\u001b[39;1m0.2.5\u001b[0m\u001b[39m)\u001b[0m: \u001b[34mPending...\u001b[0m\n",
      "\u001b[8A\u001b[0J  \u001b[34;1m•\u001b[0m \u001b[39mInstalling \u001b[0m\u001b[36mhuggingface-hub\u001b[0m\u001b[39m (\u001b[0m\u001b[39;1m0.0.12\u001b[0m\u001b[39m)\u001b[0m: \u001b[34mInstalling...\u001b[0m\n",
      "  \u001b[34;1m•\u001b[0m \u001b[39mInstalling \u001b[0m\u001b[36mmore-itertools\u001b[0m\u001b[39m (\u001b[0m\u001b[39;1m8.8.0\u001b[0m\u001b[39m)\u001b[0m: \u001b[34mInstalling...\u001b[0m\n",
      "  \u001b[34;1m•\u001b[0m \u001b[39mInstalling \u001b[0m\u001b[36mnumpy\u001b[0m\u001b[39m (\u001b[0m\u001b[39;1m1.21.0\u001b[0m\u001b[39m)\u001b[0m: \u001b[34mPending...\u001b[0m\n",
      "  \u001b[34;1m•\u001b[0m \u001b[39mInstalling \u001b[0m\u001b[36mpluggy\u001b[0m\u001b[39m (\u001b[0m\u001b[39;1m0.13.1\u001b[0m\u001b[39m)\u001b[0m: \u001b[34mPending...\u001b[0m\n",
      "  \u001b[34;1m•\u001b[0m \u001b[39mInstalling \u001b[0m\u001b[36mpy\u001b[0m\u001b[39m (\u001b[0m\u001b[39;1m1.10.0\u001b[0m\u001b[39m)\u001b[0m: \u001b[34mPending...\u001b[0m\n",
      "  \u001b[34;1m•\u001b[0m \u001b[39mInstalling \u001b[0m\u001b[36mpyyaml\u001b[0m\u001b[39m (\u001b[0m\u001b[39;1m5.4.1\u001b[0m\u001b[39m)\u001b[0m: \u001b[34mPending...\u001b[0m\n",
      "  \u001b[34;1m•\u001b[0m \u001b[39mInstalling \u001b[0m\u001b[36msacremoses\u001b[0m\u001b[39m (\u001b[0m\u001b[39;1m0.0.45\u001b[0m\u001b[39m)\u001b[0m: \u001b[34mPending...\u001b[0m\n",
      "  \u001b[34;1m•\u001b[0m \u001b[39mInstalling \u001b[0m\u001b[36mtokenizers\u001b[0m\u001b[39m (\u001b[0m\u001b[39;1m0.10.3\u001b[0m\u001b[39m)\u001b[0m: \u001b[34mPending...\u001b[0m\n",
      "  \u001b[34;1m•\u001b[0m \u001b[39mInstalling \u001b[0m\u001b[36mwcwidth\u001b[0m\u001b[39m (\u001b[0m\u001b[39;1m0.2.5\u001b[0m\u001b[39m)\u001b[0m: \u001b[34mPending...\u001b[0m\n",
      "\u001b[5A\u001b[0J  \u001b[34;1m•\u001b[0m \u001b[39mInstalling \u001b[0m\u001b[36mpyyaml\u001b[0m\u001b[39m (\u001b[0m\u001b[39;1m5.4.1\u001b[0m\u001b[39m)\u001b[0m: \u001b[34mPending...\u001b[0m\n",
      "  \u001b[34;1m•\u001b[0m \u001b[39mInstalling \u001b[0m\u001b[36msacremoses\u001b[0m\u001b[39m (\u001b[0m\u001b[39;1m0.0.45\u001b[0m\u001b[39m)\u001b[0m: \u001b[34mPending...\u001b[0m\n",
      "  \u001b[34;1m•\u001b[0m \u001b[39mInstalling \u001b[0m\u001b[36mtokenizers\u001b[0m\u001b[39m (\u001b[0m\u001b[39;1m0.10.3\u001b[0m\u001b[39m)\u001b[0m: \u001b[34mPending...\u001b[0m\n",
      "  \u001b[34;1m•\u001b[0m \u001b[39mInstalling \u001b[0m\u001b[36mwcwidth\u001b[0m\u001b[39m (\u001b[0m\u001b[39;1m0.2.5\u001b[0m\u001b[39m)\u001b[0m: \u001b[34mPending...\u001b[0m\n",
      "\u001b[4A\u001b[0J  \u001b[34;1m•\u001b[0m \u001b[39mInstalling \u001b[0m\u001b[36mpy\u001b[0m\u001b[39m (\u001b[0m\u001b[39;1m1.10.0\u001b[0m\u001b[39m)\u001b[0m: \u001b[34mInstalling...\u001b[0m\n",
      "  \u001b[34;1m•\u001b[0m \u001b[39mInstalling \u001b[0m\u001b[36mpyyaml\u001b[0m\u001b[39m (\u001b[0m\u001b[39;1m5.4.1\u001b[0m\u001b[39m)\u001b[0m: \u001b[34mPending...\u001b[0m\n",
      "  \u001b[34;1m•\u001b[0m \u001b[39mInstalling \u001b[0m\u001b[36msacremoses\u001b[0m\u001b[39m (\u001b[0m\u001b[39;1m0.0.45\u001b[0m\u001b[39m)\u001b[0m: \u001b[34mPending...\u001b[0m\n",
      "  \u001b[34;1m•\u001b[0m \u001b[39mInstalling \u001b[0m\u001b[36mtokenizers\u001b[0m\u001b[39m (\u001b[0m\u001b[39;1m0.10.3\u001b[0m\u001b[39m)\u001b[0m: \u001b[34mPending...\u001b[0m\n",
      "  \u001b[34;1m•\u001b[0m \u001b[39mInstalling \u001b[0m\u001b[36mwcwidth\u001b[0m\u001b[39m (\u001b[0m\u001b[39;1m0.2.5\u001b[0m\u001b[39m)\u001b[0m: \u001b[34mPending...\u001b[0m\n",
      "\u001b[6A\u001b[0J  \u001b[34;1m•\u001b[0m \u001b[39mInstalling \u001b[0m\u001b[36mpy\u001b[0m\u001b[39m (\u001b[0m\u001b[39;1m1.10.0\u001b[0m\u001b[39m)\u001b[0m: \u001b[34mInstalling...\u001b[0m\n",
      "  \u001b[34;1m•\u001b[0m \u001b[39mInstalling \u001b[0m\u001b[36mpyyaml\u001b[0m\u001b[39m (\u001b[0m\u001b[39;1m5.4.1\u001b[0m\u001b[39m)\u001b[0m: \u001b[34mPending...\u001b[0m\n",
      "  \u001b[34;1m•\u001b[0m \u001b[39mInstalling \u001b[0m\u001b[36msacremoses\u001b[0m\u001b[39m (\u001b[0m\u001b[39;1m0.0.45\u001b[0m\u001b[39m)\u001b[0m: \u001b[34mPending...\u001b[0m\n",
      "  \u001b[34;1m•\u001b[0m \u001b[39mInstalling \u001b[0m\u001b[36mtokenizers\u001b[0m\u001b[39m (\u001b[0m\u001b[39;1m0.10.3\u001b[0m\u001b[39m)\u001b[0m: \u001b[34mPending...\u001b[0m\n",
      "  \u001b[34;1m•\u001b[0m \u001b[39mInstalling \u001b[0m\u001b[36mwcwidth\u001b[0m\u001b[39m (\u001b[0m\u001b[39;1m0.2.5\u001b[0m\u001b[39m)\u001b[0m: \u001b[34mPending...\u001b[0m\n",
      "\u001b[5A\u001b[0J  \u001b[34;1m•\u001b[0m \u001b[39mInstalling \u001b[0m\u001b[36mpluggy\u001b[0m\u001b[39m (\u001b[0m\u001b[39;1m0.13.1\u001b[0m\u001b[39m)\u001b[0m: \u001b[34mInstalling...\u001b[0m\n",
      "  \u001b[34;1m•\u001b[0m \u001b[39mInstalling \u001b[0m\u001b[36mpy\u001b[0m\u001b[39m (\u001b[0m\u001b[39;1m1.10.0\u001b[0m\u001b[39m)\u001b[0m: \u001b[34mInstalling...\u001b[0m\n",
      "  \u001b[34;1m•\u001b[0m \u001b[39mInstalling \u001b[0m\u001b[36mpyyaml\u001b[0m\u001b[39m (\u001b[0m\u001b[39;1m5.4.1\u001b[0m\u001b[39m)\u001b[0m: \u001b[34mPending...\u001b[0m\n",
      "  \u001b[34;1m•\u001b[0m \u001b[39mInstalling \u001b[0m\u001b[36msacremoses\u001b[0m\u001b[39m (\u001b[0m\u001b[39;1m0.0.45\u001b[0m\u001b[39m)\u001b[0m: \u001b[34mPending...\u001b[0m\n",
      "  \u001b[34;1m•\u001b[0m \u001b[39mInstalling \u001b[0m\u001b[36mtokenizers\u001b[0m\u001b[39m (\u001b[0m\u001b[39;1m0.10.3\u001b[0m\u001b[39m)\u001b[0m: \u001b[34mPending...\u001b[0m\n",
      "  \u001b[34;1m•\u001b[0m \u001b[39mInstalling \u001b[0m\u001b[36mwcwidth\u001b[0m\u001b[39m (\u001b[0m\u001b[39;1m0.2.5\u001b[0m\u001b[39m)\u001b[0m: \u001b[34mPending...\u001b[0m\n",
      "\u001b[3A\u001b[0J  \u001b[34;1m•\u001b[0m \u001b[39mInstalling \u001b[0m\u001b[36mtokenizers\u001b[0m\u001b[39m (\u001b[0m\u001b[39;1m0.10.3\u001b[0m\u001b[39m)\u001b[0m: \u001b[34mPending...\u001b[0m\n",
      "  \u001b[34;1m•\u001b[0m \u001b[39mInstalling \u001b[0m\u001b[36mwcwidth\u001b[0m\u001b[39m (\u001b[0m\u001b[39;1m0.2.5\u001b[0m\u001b[39m)\u001b[0m: \u001b[34mPending...\u001b[0m\n",
      "\u001b[2A\u001b[0J  \u001b[34;1m•\u001b[0m \u001b[39mInstalling \u001b[0m\u001b[36msacremoses\u001b[0m\u001b[39m (\u001b[0m\u001b[39;1m0.0.45\u001b[0m\u001b[39m)\u001b[0m: \u001b[34mInstalling...\u001b[0m\n",
      "  \u001b[34;1m•\u001b[0m \u001b[39mInstalling \u001b[0m\u001b[36mtokenizers\u001b[0m\u001b[39m (\u001b[0m\u001b[39;1m0.10.3\u001b[0m\u001b[39m)\u001b[0m: \u001b[34mPending...\u001b[0m\n",
      "  \u001b[34;1m•\u001b[0m \u001b[39mInstalling \u001b[0m\u001b[36mwcwidth\u001b[0m\u001b[39m (\u001b[0m\u001b[39;1m0.2.5\u001b[0m\u001b[39m)\u001b[0m: \u001b[34mPending...\u001b[0m\n",
      "\u001b[1A\u001b[0J  \u001b[34;1m•\u001b[0m \u001b[39mInstalling \u001b[0m\u001b[36mwcwidth\u001b[0m\u001b[39m (\u001b[0m\u001b[39;1m0.2.5\u001b[0m\u001b[39m)\u001b[0m: \u001b[34mInstalling...\u001b[0m\n"
     ]
    },
    {
     "name": "stdout",
     "output_type": "stream",
     "text": [
      "\u001b[4A\u001b[0J  \u001b[34;1m•\u001b[0m \u001b[39mInstalling \u001b[0m\u001b[36msacremoses\u001b[0m\u001b[39m (\u001b[0m\u001b[39;1m0.0.45\u001b[0m\u001b[39m)\u001b[0m: \u001b[34mInstalling...\u001b[0m\n",
      "  \u001b[34;1m•\u001b[0m \u001b[39mInstalling \u001b[0m\u001b[36mtokenizers\u001b[0m\u001b[39m (\u001b[0m\u001b[39;1m0.10.3\u001b[0m\u001b[39m)\u001b[0m: \u001b[34mPending...\u001b[0m\n",
      "  \u001b[34;1m•\u001b[0m \u001b[39mInstalling \u001b[0m\u001b[36mwcwidth\u001b[0m\u001b[39m (\u001b[0m\u001b[39;1m0.2.5\u001b[0m\u001b[39m)\u001b[0m: \u001b[34mInstalling...\u001b[0m\n",
      "\u001b[3A\u001b[0J  \u001b[34;1m•\u001b[0m \u001b[39mInstalling \u001b[0m\u001b[36mpyyaml\u001b[0m\u001b[39m (\u001b[0m\u001b[39;1m5.4.1\u001b[0m\u001b[39m)\u001b[0m: \u001b[34mInstalling...\u001b[0m\n",
      "  \u001b[34;1m•\u001b[0m \u001b[39mInstalling \u001b[0m\u001b[36msacremoses\u001b[0m\u001b[39m (\u001b[0m\u001b[39;1m0.0.45\u001b[0m\u001b[39m)\u001b[0m: \u001b[34mInstalling...\u001b[0m\n",
      "  \u001b[34;1m•\u001b[0m \u001b[39mInstalling \u001b[0m\u001b[36mtokenizers\u001b[0m\u001b[39m (\u001b[0m\u001b[39;1m0.10.3\u001b[0m\u001b[39m)\u001b[0m: \u001b[34mPending...\u001b[0m\n",
      "  \u001b[34;1m•\u001b[0m \u001b[39mInstalling \u001b[0m\u001b[36mwcwidth\u001b[0m\u001b[39m (\u001b[0m\u001b[39;1m0.2.5\u001b[0m\u001b[39m)\u001b[0m: \u001b[34mInstalling...\u001b[0m\n",
      "\u001b[2A\u001b[0J  \u001b[34;1m•\u001b[0m \u001b[39mInstalling \u001b[0m\u001b[36mwcwidth\u001b[0m\u001b[39m (\u001b[0m\u001b[39;1m0.2.5\u001b[0m\u001b[39m)\u001b[0m: \u001b[34mInstalling...\u001b[0m\n",
      "\u001b[1A\u001b[0J  \u001b[34;1m•\u001b[0m \u001b[39mInstalling \u001b[0m\u001b[36mtokenizers\u001b[0m\u001b[39m (\u001b[0m\u001b[39;1m0.10.3\u001b[0m\u001b[39m)\u001b[0m: \u001b[34mInstalling...\u001b[0m\n",
      "  \u001b[34;1m•\u001b[0m \u001b[39mInstalling \u001b[0m\u001b[36mwcwidth\u001b[0m\u001b[39m (\u001b[0m\u001b[39;1m0.2.5\u001b[0m\u001b[39m)\u001b[0m: \u001b[34mInstalling...\u001b[0m\n",
      "\u001b[7A\u001b[0J  \u001b[34;1m•\u001b[0m \u001b[39mInstalling \u001b[0m\u001b[36mpluggy\u001b[0m\u001b[39m (\u001b[0m\u001b[39;1m0.13.1\u001b[0m\u001b[39m)\u001b[0m: \u001b[34mInstalling...\u001b[0m\n",
      "  \u001b[34;1m•\u001b[0m \u001b[39mInstalling \u001b[0m\u001b[36mpy\u001b[0m\u001b[39m (\u001b[0m\u001b[39;1m1.10.0\u001b[0m\u001b[39m)\u001b[0m: \u001b[34mInstalling...\u001b[0m\n",
      "  \u001b[34;1m•\u001b[0m \u001b[39mInstalling \u001b[0m\u001b[36mpyyaml\u001b[0m\u001b[39m (\u001b[0m\u001b[39;1m5.4.1\u001b[0m\u001b[39m)\u001b[0m: \u001b[34mInstalling...\u001b[0m\n",
      "  \u001b[34;1m•\u001b[0m \u001b[39mInstalling \u001b[0m\u001b[36msacremoses\u001b[0m\u001b[39m (\u001b[0m\u001b[39;1m0.0.45\u001b[0m\u001b[39m)\u001b[0m: \u001b[34mInstalling...\u001b[0m\n",
      "  \u001b[34;1m•\u001b[0m \u001b[39mInstalling \u001b[0m\u001b[36mtokenizers\u001b[0m\u001b[39m (\u001b[0m\u001b[39;1m0.10.3\u001b[0m\u001b[39m)\u001b[0m: \u001b[34mInstalling...\u001b[0m\n",
      "  \u001b[34;1m•\u001b[0m \u001b[39mInstalling \u001b[0m\u001b[36mwcwidth\u001b[0m\u001b[39m (\u001b[0m\u001b[39;1m0.2.5\u001b[0m\u001b[39m)\u001b[0m: \u001b[34mInstalling...\u001b[0m\n",
      "\u001b[6A\u001b[0J  \u001b[34;1m•\u001b[0m \u001b[39mInstalling \u001b[0m\u001b[36mnumpy\u001b[0m\u001b[39m (\u001b[0m\u001b[39;1m1.21.0\u001b[0m\u001b[39m)\u001b[0m: \u001b[34mInstalling...\u001b[0m\n",
      "  \u001b[34;1m•\u001b[0m \u001b[39mInstalling \u001b[0m\u001b[36mpluggy\u001b[0m\u001b[39m (\u001b[0m\u001b[39;1m0.13.1\u001b[0m\u001b[39m)\u001b[0m: \u001b[34mInstalling...\u001b[0m\n",
      "  \u001b[34;1m•\u001b[0m \u001b[39mInstalling \u001b[0m\u001b[36mpy\u001b[0m\u001b[39m (\u001b[0m\u001b[39;1m1.10.0\u001b[0m\u001b[39m)\u001b[0m: \u001b[34mInstalling...\u001b[0m\n",
      "  \u001b[34;1m•\u001b[0m \u001b[39mInstalling \u001b[0m\u001b[36mpyyaml\u001b[0m\u001b[39m (\u001b[0m\u001b[39;1m5.4.1\u001b[0m\u001b[39m)\u001b[0m: \u001b[34mInstalling...\u001b[0m\n",
      "  \u001b[34;1m•\u001b[0m \u001b[39mInstalling \u001b[0m\u001b[36msacremoses\u001b[0m\u001b[39m (\u001b[0m\u001b[39;1m0.0.45\u001b[0m\u001b[39m)\u001b[0m: \u001b[34mInstalling...\u001b[0m\n",
      "  \u001b[34;1m•\u001b[0m \u001b[39mInstalling \u001b[0m\u001b[36mtokenizers\u001b[0m\u001b[39m (\u001b[0m\u001b[39;1m0.10.3\u001b[0m\u001b[39m)\u001b[0m: \u001b[34mInstalling...\u001b[0m\n",
      "  \u001b[34;1m•\u001b[0m \u001b[39mInstalling \u001b[0m\u001b[36mwcwidth\u001b[0m\u001b[39m (\u001b[0m\u001b[39;1m0.2.5\u001b[0m\u001b[39m)\u001b[0m: \u001b[34mInstalling...\u001b[0m\n",
      "\u001b[8A\u001b[0J  \u001b[34;1m•\u001b[0m \u001b[39mInstalling \u001b[0m\u001b[36mnumpy\u001b[0m\u001b[39m (\u001b[0m\u001b[39;1m1.21.0\u001b[0m\u001b[39m)\u001b[0m: \u001b[34mInstalling...\u001b[0m\n",
      "  \u001b[34;1m•\u001b[0m \u001b[39mInstalling \u001b[0m\u001b[36mpluggy\u001b[0m\u001b[39m (\u001b[0m\u001b[39;1m0.13.1\u001b[0m\u001b[39m)\u001b[0m: \u001b[34mInstalling...\u001b[0m\n",
      "  \u001b[34;1m•\u001b[0m \u001b[39mInstalling \u001b[0m\u001b[36mpy\u001b[0m\u001b[39m (\u001b[0m\u001b[39;1m1.10.0\u001b[0m\u001b[39m)\u001b[0m: \u001b[34mInstalling...\u001b[0m\n",
      "  \u001b[34;1m•\u001b[0m \u001b[39mInstalling \u001b[0m\u001b[36mpyyaml\u001b[0m\u001b[39m (\u001b[0m\u001b[39;1m5.4.1\u001b[0m\u001b[39m)\u001b[0m: \u001b[34mInstalling...\u001b[0m\n",
      "  \u001b[34;1m•\u001b[0m \u001b[39mInstalling \u001b[0m\u001b[36msacremoses\u001b[0m\u001b[39m (\u001b[0m\u001b[39;1m0.0.45\u001b[0m\u001b[39m)\u001b[0m: \u001b[34mInstalling...\u001b[0m\n",
      "  \u001b[34;1m•\u001b[0m \u001b[39mInstalling \u001b[0m\u001b[36mtokenizers\u001b[0m\u001b[39m (\u001b[0m\u001b[39;1m0.10.3\u001b[0m\u001b[39m)\u001b[0m: \u001b[34mInstalling...\u001b[0m\n",
      "  \u001b[34;1m•\u001b[0m \u001b[39mInstalling \u001b[0m\u001b[36mwcwidth\u001b[0m\u001b[39m (\u001b[0m\u001b[39;1m0.2.5\u001b[0m\u001b[39m)\u001b[0m: \u001b[34mInstalling...\u001b[0m\n",
      "\u001b[7A\u001b[0J  \u001b[32;1m•\u001b[0m \u001b[39mInstalling \u001b[0m\u001b[36mmore-itertools\u001b[0m\u001b[39m (\u001b[0m\u001b[32m8.8.0\u001b[0m\u001b[39m)\u001b[0m\n",
      "  \u001b[34;1m•\u001b[0m \u001b[39mInstalling \u001b[0m\u001b[36mnumpy\u001b[0m\u001b[39m (\u001b[0m\u001b[39;1m1.21.0\u001b[0m\u001b[39m)\u001b[0m: \u001b[34mInstalling...\u001b[0m\n",
      "  \u001b[34;1m•\u001b[0m \u001b[39mInstalling \u001b[0m\u001b[36mpluggy\u001b[0m\u001b[39m (\u001b[0m\u001b[39;1m0.13.1\u001b[0m\u001b[39m)\u001b[0m: \u001b[34mInstalling...\u001b[0m\n",
      "  \u001b[34;1m•\u001b[0m \u001b[39mInstalling \u001b[0m\u001b[36mpy\u001b[0m\u001b[39m (\u001b[0m\u001b[39;1m1.10.0\u001b[0m\u001b[39m)\u001b[0m: \u001b[34mInstalling...\u001b[0m\n",
      "  \u001b[34;1m•\u001b[0m \u001b[39mInstalling \u001b[0m\u001b[36mpyyaml\u001b[0m\u001b[39m (\u001b[0m\u001b[39;1m5.4.1\u001b[0m\u001b[39m)\u001b[0m: \u001b[34mInstalling...\u001b[0m\n",
      "  \u001b[34;1m•\u001b[0m \u001b[39mInstalling \u001b[0m\u001b[36msacremoses\u001b[0m\u001b[39m (\u001b[0m\u001b[39;1m0.0.45\u001b[0m\u001b[39m)\u001b[0m: \u001b[34mInstalling...\u001b[0m\n",
      "  \u001b[34;1m•\u001b[0m \u001b[39mInstalling \u001b[0m\u001b[36mtokenizers\u001b[0m\u001b[39m (\u001b[0m\u001b[39;1m0.10.3\u001b[0m\u001b[39m)\u001b[0m: \u001b[34mInstalling...\u001b[0m\n",
      "  \u001b[34;1m•\u001b[0m \u001b[39mInstalling \u001b[0m\u001b[36mwcwidth\u001b[0m\u001b[39m (\u001b[0m\u001b[39;1m0.2.5\u001b[0m\u001b[39m)\u001b[0m: \u001b[34mInstalling...\u001b[0m\n",
      "\u001b[9A\u001b[0J  \u001b[32;1m•\u001b[0m \u001b[39mInstalling \u001b[0m\u001b[36mmore-itertools\u001b[0m\u001b[39m (\u001b[0m\u001b[32m8.8.0\u001b[0m\u001b[39m)\u001b[0m\n",
      "  \u001b[34;1m•\u001b[0m \u001b[39mInstalling \u001b[0m\u001b[36mnumpy\u001b[0m\u001b[39m (\u001b[0m\u001b[39;1m1.21.0\u001b[0m\u001b[39m)\u001b[0m: \u001b[34mInstalling...\u001b[0m\n",
      "  \u001b[34;1m•\u001b[0m \u001b[39mInstalling \u001b[0m\u001b[36mpluggy\u001b[0m\u001b[39m (\u001b[0m\u001b[39;1m0.13.1\u001b[0m\u001b[39m)\u001b[0m: \u001b[34mInstalling...\u001b[0m\n",
      "  \u001b[34;1m•\u001b[0m \u001b[39mInstalling \u001b[0m\u001b[36mpy\u001b[0m\u001b[39m (\u001b[0m\u001b[39;1m1.10.0\u001b[0m\u001b[39m)\u001b[0m: \u001b[34mInstalling...\u001b[0m\n",
      "  \u001b[34;1m•\u001b[0m \u001b[39mInstalling \u001b[0m\u001b[36mpyyaml\u001b[0m\u001b[39m (\u001b[0m\u001b[39;1m5.4.1\u001b[0m\u001b[39m)\u001b[0m: \u001b[34mInstalling...\u001b[0m\n",
      "  \u001b[34;1m•\u001b[0m \u001b[39mInstalling \u001b[0m\u001b[36msacremoses\u001b[0m\u001b[39m (\u001b[0m\u001b[39;1m0.0.45\u001b[0m\u001b[39m)\u001b[0m: \u001b[34mInstalling...\u001b[0m\n",
      "  \u001b[34;1m•\u001b[0m \u001b[39mInstalling \u001b[0m\u001b[36mtokenizers\u001b[0m\u001b[39m (\u001b[0m\u001b[39;1m0.10.3\u001b[0m\u001b[39m)\u001b[0m: \u001b[34mInstalling...\u001b[0m\n",
      "  \u001b[34;1m•\u001b[0m \u001b[39mInstalling \u001b[0m\u001b[36mwcwidth\u001b[0m\u001b[39m (\u001b[0m\u001b[39;1m0.2.5\u001b[0m\u001b[39m)\u001b[0m: \u001b[34mInstalling...\u001b[0m\n",
      "\u001b[8A\u001b[0J  \u001b[32;1m•\u001b[0m \u001b[39mInstalling \u001b[0m\u001b[36mhuggingface-hub\u001b[0m\u001b[39m (\u001b[0m\u001b[32m0.0.12\u001b[0m\u001b[39m)\u001b[0m\n",
      "  \u001b[32;1m•\u001b[0m \u001b[39mInstalling \u001b[0m\u001b[36mmore-itertools\u001b[0m\u001b[39m (\u001b[0m\u001b[32m8.8.0\u001b[0m\u001b[39m)\u001b[0m\n",
      "  \u001b[34;1m•\u001b[0m \u001b[39mInstalling \u001b[0m\u001b[36mnumpy\u001b[0m\u001b[39m (\u001b[0m\u001b[39;1m1.21.0\u001b[0m\u001b[39m)\u001b[0m: \u001b[34mInstalling...\u001b[0m\n",
      "  \u001b[34;1m•\u001b[0m \u001b[39mInstalling \u001b[0m\u001b[36mpluggy\u001b[0m\u001b[39m (\u001b[0m\u001b[39;1m0.13.1\u001b[0m\u001b[39m)\u001b[0m: \u001b[34mInstalling...\u001b[0m\n",
      "  \u001b[34;1m•\u001b[0m \u001b[39mInstalling \u001b[0m\u001b[36mpy\u001b[0m\u001b[39m (\u001b[0m\u001b[39;1m1.10.0\u001b[0m\u001b[39m)\u001b[0m: \u001b[34mInstalling...\u001b[0m\n",
      "  \u001b[34;1m•\u001b[0m \u001b[39mInstalling \u001b[0m\u001b[36mpyyaml\u001b[0m\u001b[39m (\u001b[0m\u001b[39;1m5.4.1\u001b[0m\u001b[39m)\u001b[0m: \u001b[34mInstalling...\u001b[0m\n",
      "  \u001b[34;1m•\u001b[0m \u001b[39mInstalling \u001b[0m\u001b[36msacremoses\u001b[0m\u001b[39m (\u001b[0m\u001b[39;1m0.0.45\u001b[0m\u001b[39m)\u001b[0m: \u001b[34mInstalling...\u001b[0m\n",
      "  \u001b[34;1m•\u001b[0m \u001b[39mInstalling \u001b[0m\u001b[36mtokenizers\u001b[0m\u001b[39m (\u001b[0m\u001b[39;1m0.10.3\u001b[0m\u001b[39m)\u001b[0m: \u001b[34mInstalling...\u001b[0m\n",
      "  \u001b[34;1m•\u001b[0m \u001b[39mInstalling \u001b[0m\u001b[36mwcwidth\u001b[0m\u001b[39m (\u001b[0m\u001b[39;1m0.2.5\u001b[0m\u001b[39m)\u001b[0m: \u001b[34mInstalling...\u001b[0m\n",
      "\u001b[10A\u001b[0J  \u001b[32;1m•\u001b[0m \u001b[39mInstalling \u001b[0m\u001b[36mhuggingface-hub\u001b[0m\u001b[39m (\u001b[0m\u001b[32m0.0.12\u001b[0m\u001b[39m)\u001b[0m\n",
      "  \u001b[32;1m•\u001b[0m \u001b[39mInstalling \u001b[0m\u001b[36mmore-itertools\u001b[0m\u001b[39m (\u001b[0m\u001b[32m8.8.0\u001b[0m\u001b[39m)\u001b[0m\n",
      "  \u001b[34;1m•\u001b[0m \u001b[39mInstalling \u001b[0m\u001b[36mnumpy\u001b[0m\u001b[39m (\u001b[0m\u001b[39;1m1.21.0\u001b[0m\u001b[39m)\u001b[0m: \u001b[34mInstalling...\u001b[0m\n",
      "  \u001b[34;1m•\u001b[0m \u001b[39mInstalling \u001b[0m\u001b[36mpluggy\u001b[0m\u001b[39m (\u001b[0m\u001b[39;1m0.13.1\u001b[0m\u001b[39m)\u001b[0m: \u001b[34mInstalling...\u001b[0m\n",
      "  \u001b[34;1m•\u001b[0m \u001b[39mInstalling \u001b[0m\u001b[36mpy\u001b[0m\u001b[39m (\u001b[0m\u001b[39;1m1.10.0\u001b[0m\u001b[39m)\u001b[0m: \u001b[34mInstalling...\u001b[0m\n",
      "  \u001b[34;1m•\u001b[0m \u001b[39mInstalling \u001b[0m\u001b[36mpyyaml\u001b[0m\u001b[39m (\u001b[0m\u001b[39;1m5.4.1\u001b[0m\u001b[39m)\u001b[0m: \u001b[34mInstalling...\u001b[0m\n",
      "  \u001b[34;1m•\u001b[0m \u001b[39mInstalling \u001b[0m\u001b[36msacremoses\u001b[0m\u001b[39m (\u001b[0m\u001b[39;1m0.0.45\u001b[0m\u001b[39m)\u001b[0m: \u001b[34mInstalling...\u001b[0m\n",
      "  \u001b[34;1m•\u001b[0m \u001b[39mInstalling \u001b[0m\u001b[36mtokenizers\u001b[0m\u001b[39m (\u001b[0m\u001b[39;1m0.10.3\u001b[0m\u001b[39m)\u001b[0m: \u001b[34mInstalling...\u001b[0m\n",
      "  \u001b[34;1m•\u001b[0m \u001b[39mInstalling \u001b[0m\u001b[36mwcwidth\u001b[0m\u001b[39m (\u001b[0m\u001b[39;1m0.2.5\u001b[0m\u001b[39m)\u001b[0m: \u001b[34mInstalling...\u001b[0m\n",
      "\u001b[9A\u001b[0J  \u001b[32;1m•\u001b[0m \u001b[39mInstalling \u001b[0m\u001b[36mattrs\u001b[0m\u001b[39m (\u001b[0m\u001b[32m21.2.0\u001b[0m\u001b[39m)\u001b[0m\n",
      "  \u001b[32;1m•\u001b[0m \u001b[39mInstalling \u001b[0m\u001b[36mhuggingface-hub\u001b[0m\u001b[39m (\u001b[0m\u001b[32m0.0.12\u001b[0m\u001b[39m)\u001b[0m\n",
      "  \u001b[32;1m•\u001b[0m \u001b[39mInstalling \u001b[0m\u001b[36mmore-itertools\u001b[0m\u001b[39m (\u001b[0m\u001b[32m8.8.0\u001b[0m\u001b[39m)\u001b[0m\n",
      "  \u001b[34;1m•\u001b[0m \u001b[39mInstalling \u001b[0m\u001b[36mnumpy\u001b[0m\u001b[39m (\u001b[0m\u001b[39;1m1.21.0\u001b[0m\u001b[39m)\u001b[0m: \u001b[34mInstalling...\u001b[0m\n",
      "  \u001b[34;1m•\u001b[0m \u001b[39mInstalling \u001b[0m\u001b[36mpluggy\u001b[0m\u001b[39m (\u001b[0m\u001b[39;1m0.13.1\u001b[0m\u001b[39m)\u001b[0m: \u001b[34mInstalling...\u001b[0m\n",
      "  \u001b[34;1m•\u001b[0m \u001b[39mInstalling \u001b[0m\u001b[36mpy\u001b[0m\u001b[39m (\u001b[0m\u001b[39;1m1.10.0\u001b[0m\u001b[39m)\u001b[0m: \u001b[34mInstalling...\u001b[0m\n",
      "  \u001b[34;1m•\u001b[0m \u001b[39mInstalling \u001b[0m\u001b[36mpyyaml\u001b[0m\u001b[39m (\u001b[0m\u001b[39;1m5.4.1\u001b[0m\u001b[39m)\u001b[0m: \u001b[34mInstalling...\u001b[0m\n",
      "  \u001b[34;1m•\u001b[0m \u001b[39mInstalling \u001b[0m\u001b[36msacremoses\u001b[0m\u001b[39m (\u001b[0m\u001b[39;1m0.0.45\u001b[0m\u001b[39m)\u001b[0m: \u001b[34mInstalling...\u001b[0m\n",
      "  \u001b[34;1m•\u001b[0m \u001b[39mInstalling \u001b[0m\u001b[36mtokenizers\u001b[0m\u001b[39m (\u001b[0m\u001b[39;1m0.10.3\u001b[0m\u001b[39m)\u001b[0m: \u001b[34mInstalling...\u001b[0m\n",
      "  \u001b[34;1m•\u001b[0m \u001b[39mInstalling \u001b[0m\u001b[36mwcwidth\u001b[0m\u001b[39m (\u001b[0m\u001b[39;1m0.2.5\u001b[0m\u001b[39m)\u001b[0m: \u001b[34mInstalling...\u001b[0m\n",
      "\u001b[6A\u001b[0J  \u001b[34;1m•\u001b[0m \u001b[39mInstalling \u001b[0m\u001b[36mpy\u001b[0m\u001b[39m (\u001b[0m\u001b[39;1m1.10.0\u001b[0m\u001b[39m)\u001b[0m: \u001b[34mInstalling...\u001b[0m\n",
      "  \u001b[34;1m•\u001b[0m \u001b[39mInstalling \u001b[0m\u001b[36mpyyaml\u001b[0m\u001b[39m (\u001b[0m\u001b[39;1m5.4.1\u001b[0m\u001b[39m)\u001b[0m: \u001b[34mInstalling...\u001b[0m\n",
      "  \u001b[34;1m•\u001b[0m \u001b[39mInstalling \u001b[0m\u001b[36msacremoses\u001b[0m\u001b[39m (\u001b[0m\u001b[39;1m0.0.45\u001b[0m\u001b[39m)\u001b[0m: \u001b[34mInstalling...\u001b[0m\n",
      "  \u001b[34;1m•\u001b[0m \u001b[39mInstalling \u001b[0m\u001b[36mtokenizers\u001b[0m\u001b[39m (\u001b[0m\u001b[39;1m0.10.3\u001b[0m\u001b[39m)\u001b[0m: \u001b[34mInstalling...\u001b[0m\n",
      "  \u001b[34;1m•\u001b[0m \u001b[39mInstalling \u001b[0m\u001b[36mwcwidth\u001b[0m\u001b[39m (\u001b[0m\u001b[39;1m0.2.5\u001b[0m\u001b[39m)\u001b[0m: \u001b[34mInstalling...\u001b[0m\n",
      "\u001b[5A\u001b[0J  \u001b[32;1m•\u001b[0m \u001b[39mInstalling \u001b[0m\u001b[36mpluggy\u001b[0m\u001b[39m (\u001b[0m\u001b[32m0.13.1\u001b[0m\u001b[39m)\u001b[0m\n",
      "  \u001b[34;1m•\u001b[0m \u001b[39mInstalling \u001b[0m\u001b[36mpy\u001b[0m\u001b[39m (\u001b[0m\u001b[39;1m1.10.0\u001b[0m\u001b[39m)\u001b[0m: \u001b[34mInstalling...\u001b[0m\n",
      "  \u001b[34;1m•\u001b[0m \u001b[39mInstalling \u001b[0m\u001b[36mpyyaml\u001b[0m\u001b[39m (\u001b[0m\u001b[39;1m5.4.1\u001b[0m\u001b[39m)\u001b[0m: \u001b[34mInstalling...\u001b[0m\n",
      "  \u001b[34;1m•\u001b[0m \u001b[39mInstalling \u001b[0m\u001b[36msacremoses\u001b[0m\u001b[39m (\u001b[0m\u001b[39;1m0.0.45\u001b[0m\u001b[39m)\u001b[0m: \u001b[34mInstalling...\u001b[0m\n",
      "  \u001b[34;1m•\u001b[0m \u001b[39mInstalling \u001b[0m\u001b[36mtokenizers\u001b[0m\u001b[39m (\u001b[0m\u001b[39;1m0.10.3\u001b[0m\u001b[39m)\u001b[0m: \u001b[34mInstalling...\u001b[0m\n",
      "  \u001b[34;1m•\u001b[0m \u001b[39mInstalling \u001b[0m\u001b[36mwcwidth\u001b[0m\u001b[39m (\u001b[0m\u001b[39;1m0.2.5\u001b[0m\u001b[39m)\u001b[0m: \u001b[34mInstalling...\u001b[0m\n"
     ]
    },
    {
     "name": "stdout",
     "output_type": "stream",
     "text": [
      "\u001b[3A\u001b[0J  \u001b[34;1m•\u001b[0m \u001b[39mInstalling \u001b[0m\u001b[36mtokenizers\u001b[0m\u001b[39m (\u001b[0m\u001b[39;1m0.10.3\u001b[0m\u001b[39m)\u001b[0m: \u001b[34mInstalling...\u001b[0m\n",
      "  \u001b[34;1m•\u001b[0m \u001b[39mInstalling \u001b[0m\u001b[36mwcwidth\u001b[0m\u001b[39m (\u001b[0m\u001b[39;1m0.2.5\u001b[0m\u001b[39m)\u001b[0m: \u001b[34mInstalling...\u001b[0m\n",
      "\u001b[2A\u001b[0J  \u001b[32;1m•\u001b[0m \u001b[39mInstalling \u001b[0m\u001b[36msacremoses\u001b[0m\u001b[39m (\u001b[0m\u001b[32m0.0.45\u001b[0m\u001b[39m)\u001b[0m\n",
      "  \u001b[34;1m•\u001b[0m \u001b[39mInstalling \u001b[0m\u001b[36mtokenizers\u001b[0m\u001b[39m (\u001b[0m\u001b[39;1m0.10.3\u001b[0m\u001b[39m)\u001b[0m: \u001b[34mInstalling...\u001b[0m\n",
      "  \u001b[34;1m•\u001b[0m \u001b[39mInstalling \u001b[0m\u001b[36mwcwidth\u001b[0m\u001b[39m (\u001b[0m\u001b[39;1m0.2.5\u001b[0m\u001b[39m)\u001b[0m: \u001b[34mInstalling...\u001b[0m\n",
      "\u001b[1A\u001b[0J  \u001b[32;1m•\u001b[0m \u001b[39mInstalling \u001b[0m\u001b[36mwcwidth\u001b[0m\u001b[39m (\u001b[0m\u001b[32m0.2.5\u001b[0m\u001b[39m)\u001b[0m\n",
      "\u001b[5A\u001b[0J  \u001b[34;1m•\u001b[0m \u001b[39mInstalling \u001b[0m\u001b[36mpyyaml\u001b[0m\u001b[39m (\u001b[0m\u001b[39;1m5.4.1\u001b[0m\u001b[39m)\u001b[0m: \u001b[34mInstalling...\u001b[0m\n",
      "  \u001b[32;1m•\u001b[0m \u001b[39mInstalling \u001b[0m\u001b[36msacremoses\u001b[0m\u001b[39m (\u001b[0m\u001b[32m0.0.45\u001b[0m\u001b[39m)\u001b[0m\n",
      "  \u001b[34;1m•\u001b[0m \u001b[39mInstalling \u001b[0m\u001b[36mtokenizers\u001b[0m\u001b[39m (\u001b[0m\u001b[39;1m0.10.3\u001b[0m\u001b[39m)\u001b[0m: \u001b[34mInstalling...\u001b[0m\n",
      "  \u001b[32;1m•\u001b[0m \u001b[39mInstalling \u001b[0m\u001b[36mwcwidth\u001b[0m\u001b[39m (\u001b[0m\u001b[32m0.2.5\u001b[0m\u001b[39m)\u001b[0m\n",
      "\u001b[4A\u001b[0J  \u001b[32;1m•\u001b[0m \u001b[39mInstalling \u001b[0m\u001b[36mpy\u001b[0m\u001b[39m (\u001b[0m\u001b[32m1.10.0\u001b[0m\u001b[39m)\u001b[0m\n",
      "  \u001b[34;1m•\u001b[0m \u001b[39mInstalling \u001b[0m\u001b[36mpyyaml\u001b[0m\u001b[39m (\u001b[0m\u001b[39;1m5.4.1\u001b[0m\u001b[39m)\u001b[0m: \u001b[34mInstalling...\u001b[0m\n",
      "  \u001b[32;1m•\u001b[0m \u001b[39mInstalling \u001b[0m\u001b[36msacremoses\u001b[0m\u001b[39m (\u001b[0m\u001b[32m0.0.45\u001b[0m\u001b[39m)\u001b[0m\n",
      "  \u001b[34;1m•\u001b[0m \u001b[39mInstalling \u001b[0m\u001b[36mtokenizers\u001b[0m\u001b[39m (\u001b[0m\u001b[39;1m0.10.3\u001b[0m\u001b[39m)\u001b[0m: \u001b[34mInstalling...\u001b[0m\n",
      "  \u001b[32;1m•\u001b[0m \u001b[39mInstalling \u001b[0m\u001b[36mwcwidth\u001b[0m\u001b[39m (\u001b[0m\u001b[32m0.2.5\u001b[0m\u001b[39m)\u001b[0m\n",
      "\u001b[4A\u001b[0J  \u001b[32;1m•\u001b[0m \u001b[39mInstalling \u001b[0m\u001b[36msacremoses\u001b[0m\u001b[39m (\u001b[0m\u001b[32m0.0.45\u001b[0m\u001b[39m)\u001b[0m\n",
      "  \u001b[34;1m•\u001b[0m \u001b[39mInstalling \u001b[0m\u001b[36mtokenizers\u001b[0m\u001b[39m (\u001b[0m\u001b[39;1m0.10.3\u001b[0m\u001b[39m)\u001b[0m: \u001b[34mInstalling...\u001b[0m\n",
      "  \u001b[32;1m•\u001b[0m \u001b[39mInstalling \u001b[0m\u001b[36mwcwidth\u001b[0m\u001b[39m (\u001b[0m\u001b[32m0.2.5\u001b[0m\u001b[39m)\u001b[0m\n",
      "\u001b[3A\u001b[0J  \u001b[32;1m•\u001b[0m \u001b[39mInstalling \u001b[0m\u001b[36mpyyaml\u001b[0m\u001b[39m (\u001b[0m\u001b[32m5.4.1\u001b[0m\u001b[39m)\u001b[0m\n",
      "  \u001b[32;1m•\u001b[0m \u001b[39mInstalling \u001b[0m\u001b[36msacremoses\u001b[0m\u001b[39m (\u001b[0m\u001b[32m0.0.45\u001b[0m\u001b[39m)\u001b[0m\n",
      "  \u001b[34;1m•\u001b[0m \u001b[39mInstalling \u001b[0m\u001b[36mtokenizers\u001b[0m\u001b[39m (\u001b[0m\u001b[39;1m0.10.3\u001b[0m\u001b[39m)\u001b[0m: \u001b[34mInstalling...\u001b[0m\n",
      "  \u001b[32;1m•\u001b[0m \u001b[39mInstalling \u001b[0m\u001b[36mwcwidth\u001b[0m\u001b[39m (\u001b[0m\u001b[32m0.2.5\u001b[0m\u001b[39m)\u001b[0m\n",
      "\u001b[2A\u001b[0J  \u001b[32;1m•\u001b[0m \u001b[39mInstalling \u001b[0m\u001b[36mwcwidth\u001b[0m\u001b[39m (\u001b[0m\u001b[32m0.2.5\u001b[0m\u001b[39m)\u001b[0m\n",
      "\u001b[1A\u001b[0J  \u001b[32;1m•\u001b[0m \u001b[39mInstalling \u001b[0m\u001b[36mtokenizers\u001b[0m\u001b[39m (\u001b[0m\u001b[32m0.10.3\u001b[0m\u001b[39m)\u001b[0m\n",
      "  \u001b[32;1m•\u001b[0m \u001b[39mInstalling \u001b[0m\u001b[36mwcwidth\u001b[0m\u001b[39m (\u001b[0m\u001b[32m0.2.5\u001b[0m\u001b[39m)\u001b[0m\n",
      "\u001b[7A\u001b[0J  \u001b[32;1m•\u001b[0m \u001b[39mInstalling \u001b[0m\u001b[36mpluggy\u001b[0m\u001b[39m (\u001b[0m\u001b[32m0.13.1\u001b[0m\u001b[39m)\u001b[0m\n",
      "  \u001b[32;1m•\u001b[0m \u001b[39mInstalling \u001b[0m\u001b[36mpy\u001b[0m\u001b[39m (\u001b[0m\u001b[32m1.10.0\u001b[0m\u001b[39m)\u001b[0m\n",
      "  \u001b[32;1m•\u001b[0m \u001b[39mInstalling \u001b[0m\u001b[36mpyyaml\u001b[0m\u001b[39m (\u001b[0m\u001b[32m5.4.1\u001b[0m\u001b[39m)\u001b[0m\n",
      "  \u001b[32;1m•\u001b[0m \u001b[39mInstalling \u001b[0m\u001b[36msacremoses\u001b[0m\u001b[39m (\u001b[0m\u001b[32m0.0.45\u001b[0m\u001b[39m)\u001b[0m\n",
      "  \u001b[32;1m•\u001b[0m \u001b[39mInstalling \u001b[0m\u001b[36mtokenizers\u001b[0m\u001b[39m (\u001b[0m\u001b[32m0.10.3\u001b[0m\u001b[39m)\u001b[0m\n",
      "  \u001b[32;1m•\u001b[0m \u001b[39mInstalling \u001b[0m\u001b[36mwcwidth\u001b[0m\u001b[39m (\u001b[0m\u001b[32m0.2.5\u001b[0m\u001b[39m)\u001b[0m\n",
      "\u001b[6A\u001b[0J  \u001b[32;1m•\u001b[0m \u001b[39mInstalling \u001b[0m\u001b[36mnumpy\u001b[0m\u001b[39m (\u001b[0m\u001b[32m1.21.0\u001b[0m\u001b[39m)\u001b[0m\n",
      "  \u001b[32;1m•\u001b[0m \u001b[39mInstalling \u001b[0m\u001b[36mpluggy\u001b[0m\u001b[39m (\u001b[0m\u001b[32m0.13.1\u001b[0m\u001b[39m)\u001b[0m\n",
      "  \u001b[32;1m•\u001b[0m \u001b[39mInstalling \u001b[0m\u001b[36mpy\u001b[0m\u001b[39m (\u001b[0m\u001b[32m1.10.0\u001b[0m\u001b[39m)\u001b[0m\n",
      "  \u001b[32;1m•\u001b[0m \u001b[39mInstalling \u001b[0m\u001b[36mpyyaml\u001b[0m\u001b[39m (\u001b[0m\u001b[32m5.4.1\u001b[0m\u001b[39m)\u001b[0m\n",
      "  \u001b[32;1m•\u001b[0m \u001b[39mInstalling \u001b[0m\u001b[36msacremoses\u001b[0m\u001b[39m (\u001b[0m\u001b[32m0.0.45\u001b[0m\u001b[39m)\u001b[0m\n",
      "  \u001b[32;1m•\u001b[0m \u001b[39mInstalling \u001b[0m\u001b[36mtokenizers\u001b[0m\u001b[39m (\u001b[0m\u001b[32m0.10.3\u001b[0m\u001b[39m)\u001b[0m\n",
      "  \u001b[32;1m•\u001b[0m \u001b[39mInstalling \u001b[0m\u001b[36mwcwidth\u001b[0m\u001b[39m (\u001b[0m\u001b[32m0.2.5\u001b[0m\u001b[39m)\u001b[0m\n",
      "  \u001b[34;1m•\u001b[0m \u001b[39mInstalling \u001b[0m\u001b[36mcoverage\u001b[0m\u001b[39m (\u001b[0m\u001b[39;1m5.5\u001b[0m\u001b[39m)\u001b[0m: \u001b[34mPending...\u001b[0m\n",
      "  \u001b[34;1m•\u001b[0m \u001b[39mInstalling \u001b[0m\u001b[36mpytest\u001b[0m\u001b[39m (\u001b[0m\u001b[39;1m5.4.3\u001b[0m\u001b[39m)\u001b[0m: \u001b[34mPending...\u001b[0m\n",
      "  \u001b[34;1m•\u001b[0m \u001b[39mInstalling \u001b[0m\u001b[36mpython-dateutil\u001b[0m\u001b[39m (\u001b[0m\u001b[39;1m2.8.1\u001b[0m\u001b[39m)\u001b[0m: \u001b[34mPending...\u001b[0m\n",
      "  \u001b[34;1m•\u001b[0m \u001b[39mInstalling \u001b[0m\u001b[36mpytz\u001b[0m\u001b[39m (\u001b[0m\u001b[39;1m2021.1\u001b[0m\u001b[39m)\u001b[0m: \u001b[34mPending...\u001b[0m\n",
      "  \u001b[34;1m•\u001b[0m \u001b[39mInstalling \u001b[0m\u001b[36msentencepiece\u001b[0m\u001b[39m (\u001b[0m\u001b[39;1m0.1.96\u001b[0m\u001b[39m)\u001b[0m: \u001b[34mPending...\u001b[0m\n",
      "  \u001b[34;1m•\u001b[0m \u001b[39mInstalling \u001b[0m\u001b[36mtoml\u001b[0m\u001b[39m (\u001b[0m\u001b[39;1m0.10.2\u001b[0m\u001b[39m)\u001b[0m: \u001b[34mPending...\u001b[0m\n",
      "  \u001b[34;1m•\u001b[0m \u001b[39mInstalling \u001b[0m\u001b[36mtorch\u001b[0m\u001b[39m (\u001b[0m\u001b[39;1m1.9.0\u001b[0m\u001b[39m)\u001b[0m: \u001b[34mPending...\u001b[0m\n",
      "  \u001b[34;1m•\u001b[0m \u001b[39mInstalling \u001b[0m\u001b[36mtransformers\u001b[0m\u001b[39m (\u001b[0m\u001b[39;1m4.8.0\u001b[0m\u001b[39m)\u001b[0m: \u001b[34mPending...\u001b[0m\n",
      "\u001b[6A\u001b[0J  \u001b[34;1m•\u001b[0m \u001b[39mInstalling \u001b[0m\u001b[36mpytz\u001b[0m\u001b[39m (\u001b[0m\u001b[39;1m2021.1\u001b[0m\u001b[39m)\u001b[0m: \u001b[34mPending...\u001b[0m\n",
      "  \u001b[34;1m•\u001b[0m \u001b[39mInstalling \u001b[0m\u001b[36msentencepiece\u001b[0m\u001b[39m (\u001b[0m\u001b[39;1m0.1.96\u001b[0m\u001b[39m)\u001b[0m: \u001b[34mPending...\u001b[0m\n",
      "  \u001b[34;1m•\u001b[0m \u001b[39mInstalling \u001b[0m\u001b[36mtoml\u001b[0m\u001b[39m (\u001b[0m\u001b[39;1m0.10.2\u001b[0m\u001b[39m)\u001b[0m: \u001b[34mPending...\u001b[0m\n",
      "  \u001b[34;1m•\u001b[0m \u001b[39mInstalling \u001b[0m\u001b[36mtorch\u001b[0m\u001b[39m (\u001b[0m\u001b[39;1m1.9.0\u001b[0m\u001b[39m)\u001b[0m: \u001b[34mPending...\u001b[0m\n",
      "  \u001b[34;1m•\u001b[0m \u001b[39mInstalling \u001b[0m\u001b[36mtransformers\u001b[0m\u001b[39m (\u001b[0m\u001b[39;1m4.8.0\u001b[0m\u001b[39m)\u001b[0m: \u001b[34mPending...\u001b[0m\n",
      "\u001b[5A\u001b[0J  \u001b[34;1m•\u001b[0m \u001b[39mInstalling \u001b[0m\u001b[36mpython-dateutil\u001b[0m\u001b[39m (\u001b[0m\u001b[39;1m2.8.1\u001b[0m\u001b[39m)\u001b[0m: \u001b[34mInstalling...\u001b[0m\n",
      "  \u001b[34;1m•\u001b[0m \u001b[39mInstalling \u001b[0m\u001b[36mpytz\u001b[0m\u001b[39m (\u001b[0m\u001b[39;1m2021.1\u001b[0m\u001b[39m)\u001b[0m: \u001b[34mPending...\u001b[0m\n",
      "  \u001b[34;1m•\u001b[0m \u001b[39mInstalling \u001b[0m\u001b[36msentencepiece\u001b[0m\u001b[39m (\u001b[0m\u001b[39;1m0.1.96\u001b[0m\u001b[39m)\u001b[0m: \u001b[34mPending...\u001b[0m\n",
      "  \u001b[34;1m•\u001b[0m \u001b[39mInstalling \u001b[0m\u001b[36mtoml\u001b[0m\u001b[39m (\u001b[0m\u001b[39;1m0.10.2\u001b[0m\u001b[39m)\u001b[0m: \u001b[34mPending...\u001b[0m\n",
      "  \u001b[34;1m•\u001b[0m \u001b[39mInstalling \u001b[0m\u001b[36mtorch\u001b[0m\u001b[39m (\u001b[0m\u001b[39;1m1.9.0\u001b[0m\u001b[39m)\u001b[0m: \u001b[34mPending...\u001b[0m\n",
      "  \u001b[34;1m•\u001b[0m \u001b[39mInstalling \u001b[0m\u001b[36mtransformers\u001b[0m\u001b[39m (\u001b[0m\u001b[39;1m4.8.0\u001b[0m\u001b[39m)\u001b[0m: \u001b[34mPending...\u001b[0m\n",
      "\u001b[3A\u001b[0J  \u001b[34;1m•\u001b[0m \u001b[39mInstalling \u001b[0m\u001b[36mtorch\u001b[0m\u001b[39m (\u001b[0m\u001b[39;1m1.9.0\u001b[0m\u001b[39m)\u001b[0m: \u001b[34mPending...\u001b[0m\n",
      "  \u001b[34;1m•\u001b[0m \u001b[39mInstalling \u001b[0m\u001b[36mtransformers\u001b[0m\u001b[39m (\u001b[0m\u001b[39;1m4.8.0\u001b[0m\u001b[39m)\u001b[0m: \u001b[34mPending...\u001b[0m\n",
      "\u001b[2A\u001b[0J  \u001b[34;1m•\u001b[0m \u001b[39mInstalling \u001b[0m\u001b[36mtoml\u001b[0m\u001b[39m (\u001b[0m\u001b[39;1m0.10.2\u001b[0m\u001b[39m)\u001b[0m: \u001b[34mInstalling...\u001b[0m\n",
      "  \u001b[34;1m•\u001b[0m \u001b[39mInstalling \u001b[0m\u001b[36mtorch\u001b[0m\u001b[39m (\u001b[0m\u001b[39;1m1.9.0\u001b[0m\u001b[39m)\u001b[0m: \u001b[34mPending...\u001b[0m\n",
      "  \u001b[34;1m•\u001b[0m \u001b[39mInstalling \u001b[0m\u001b[36mtransformers\u001b[0m\u001b[39m (\u001b[0m\u001b[39;1m4.8.0\u001b[0m\u001b[39m)\u001b[0m: \u001b[34mPending...\u001b[0m\n",
      "\u001b[7A\u001b[0J  \u001b[34;1m•\u001b[0m \u001b[39mInstalling \u001b[0m\u001b[36mpython-dateutil\u001b[0m\u001b[39m (\u001b[0m\u001b[39;1m2.8.1\u001b[0m\u001b[39m)\u001b[0m: \u001b[34mInstalling...\u001b[0m\n",
      "  \u001b[34;1m•\u001b[0m \u001b[39mInstalling \u001b[0m\u001b[36mpytz\u001b[0m\u001b[39m (\u001b[0m\u001b[39;1m2021.1\u001b[0m\u001b[39m)\u001b[0m: \u001b[34mPending...\u001b[0m\n",
      "  \u001b[34;1m•\u001b[0m \u001b[39mInstalling \u001b[0m\u001b[36msentencepiece\u001b[0m\u001b[39m (\u001b[0m\u001b[39;1m0.1.96\u001b[0m\u001b[39m)\u001b[0m: \u001b[34mPending...\u001b[0m\n",
      "  \u001b[34;1m•\u001b[0m \u001b[39mInstalling \u001b[0m\u001b[36mtoml\u001b[0m\u001b[39m (\u001b[0m\u001b[39;1m0.10.2\u001b[0m\u001b[39m)\u001b[0m: \u001b[34mInstalling...\u001b[0m\n",
      "  \u001b[34;1m•\u001b[0m \u001b[39mInstalling \u001b[0m\u001b[36mtorch\u001b[0m\u001b[39m (\u001b[0m\u001b[39;1m1.9.0\u001b[0m\u001b[39m)\u001b[0m: \u001b[34mPending...\u001b[0m\n",
      "  \u001b[34;1m•\u001b[0m \u001b[39mInstalling \u001b[0m\u001b[36mtransformers\u001b[0m\u001b[39m (\u001b[0m\u001b[39;1m4.8.0\u001b[0m\u001b[39m)\u001b[0m: \u001b[34mPending...\u001b[0m\n",
      "\u001b[6A\u001b[0J  \u001b[34;1m•\u001b[0m \u001b[39mInstalling \u001b[0m\u001b[36mpytest\u001b[0m\u001b[39m (\u001b[0m\u001b[39;1m5.4.3\u001b[0m\u001b[39m)\u001b[0m: \u001b[34mInstalling...\u001b[0m\n",
      "  \u001b[34;1m•\u001b[0m \u001b[39mInstalling \u001b[0m\u001b[36mpython-dateutil\u001b[0m\u001b[39m (\u001b[0m\u001b[39;1m2.8.1\u001b[0m\u001b[39m)\u001b[0m: \u001b[34mInstalling...\u001b[0m\n",
      "  \u001b[34;1m•\u001b[0m \u001b[39mInstalling \u001b[0m\u001b[36mpytz\u001b[0m\u001b[39m (\u001b[0m\u001b[39;1m2021.1\u001b[0m\u001b[39m)\u001b[0m: \u001b[34mPending...\u001b[0m\n",
      "  \u001b[34;1m•\u001b[0m \u001b[39mInstalling \u001b[0m\u001b[36msentencepiece\u001b[0m\u001b[39m (\u001b[0m\u001b[39;1m0.1.96\u001b[0m\u001b[39m)\u001b[0m: \u001b[34mPending...\u001b[0m\n",
      "  \u001b[34;1m•\u001b[0m \u001b[39mInstalling \u001b[0m\u001b[36mtoml\u001b[0m\u001b[39m (\u001b[0m\u001b[39;1m0.10.2\u001b[0m\u001b[39m)\u001b[0m: \u001b[34mInstalling...\u001b[0m\n",
      "  \u001b[34;1m•\u001b[0m \u001b[39mInstalling \u001b[0m\u001b[36mtorch\u001b[0m\u001b[39m (\u001b[0m\u001b[39;1m1.9.0\u001b[0m\u001b[39m)\u001b[0m: \u001b[34mPending...\u001b[0m\n",
      "  \u001b[34;1m•\u001b[0m \u001b[39mInstalling \u001b[0m\u001b[36mtransformers\u001b[0m\u001b[39m (\u001b[0m\u001b[39;1m4.8.0\u001b[0m\u001b[39m)\u001b[0m: \u001b[34mPending...\u001b[0m\n",
      "\u001b[2A\u001b[0J  \u001b[34;1m•\u001b[0m \u001b[39mInstalling \u001b[0m\u001b[36mtransformers\u001b[0m\u001b[39m (\u001b[0m\u001b[39;1m4.8.0\u001b[0m\u001b[39m)\u001b[0m: \u001b[34mPending...\u001b[0m\n",
      "\u001b[1A\u001b[0J  \u001b[34;1m•\u001b[0m \u001b[39mInstalling \u001b[0m\u001b[36mtorch\u001b[0m\u001b[39m (\u001b[0m\u001b[39;1m1.9.0\u001b[0m\u001b[39m)\u001b[0m: \u001b[34mInstalling...\u001b[0m\n",
      "  \u001b[34;1m•\u001b[0m \u001b[39mInstalling \u001b[0m\u001b[36mtransformers\u001b[0m\u001b[39m (\u001b[0m\u001b[39;1m4.8.0\u001b[0m\u001b[39m)\u001b[0m: \u001b[34mPending...\u001b[0m\n",
      "\u001b[1A\u001b[0J  \u001b[34;1m•\u001b[0m \u001b[39mInstalling \u001b[0m\u001b[36mtransformers\u001b[0m\u001b[39m (\u001b[0m\u001b[39;1m4.8.0\u001b[0m\u001b[39m)\u001b[0m: \u001b[34mInstalling...\u001b[0m\n",
      "\u001b[4A\u001b[0J  \u001b[34;1m•\u001b[0m \u001b[39mInstalling \u001b[0m\u001b[36mtoml\u001b[0m\u001b[39m (\u001b[0m\u001b[39;1m0.10.2\u001b[0m\u001b[39m)\u001b[0m: \u001b[34mInstalling...\u001b[0m\n",
      "  \u001b[34;1m•\u001b[0m \u001b[39mInstalling \u001b[0m\u001b[36mtorch\u001b[0m\u001b[39m (\u001b[0m\u001b[39;1m1.9.0\u001b[0m\u001b[39m)\u001b[0m: \u001b[34mInstalling...\u001b[0m\n",
      "  \u001b[34;1m•\u001b[0m \u001b[39mInstalling \u001b[0m\u001b[36mtransformers\u001b[0m\u001b[39m (\u001b[0m\u001b[39;1m4.8.0\u001b[0m\u001b[39m)\u001b[0m: \u001b[34mInstalling...\u001b[0m\n",
      "\u001b[3A\u001b[0J  \u001b[34;1m•\u001b[0m \u001b[39mInstalling \u001b[0m\u001b[36msentencepiece\u001b[0m\u001b[39m (\u001b[0m\u001b[39;1m0.1.96\u001b[0m\u001b[39m)\u001b[0m: \u001b[34mInstalling...\u001b[0m\n",
      "  \u001b[34;1m•\u001b[0m \u001b[39mInstalling \u001b[0m\u001b[36mtoml\u001b[0m\u001b[39m (\u001b[0m\u001b[39;1m0.10.2\u001b[0m\u001b[39m)\u001b[0m: \u001b[34mInstalling...\u001b[0m\n",
      "  \u001b[34;1m•\u001b[0m \u001b[39mInstalling \u001b[0m\u001b[36mtorch\u001b[0m\u001b[39m (\u001b[0m\u001b[39;1m1.9.0\u001b[0m\u001b[39m)\u001b[0m: \u001b[34mInstalling...\u001b[0m\n",
      "  \u001b[34;1m•\u001b[0m \u001b[39mInstalling \u001b[0m\u001b[36mtransformers\u001b[0m\u001b[39m (\u001b[0m\u001b[39;1m4.8.0\u001b[0m\u001b[39m)\u001b[0m: \u001b[34mInstalling...\u001b[0m\n"
     ]
    },
    {
     "name": "stdout",
     "output_type": "stream",
     "text": [
      "\u001b[5A\u001b[0J  \u001b[34;1m•\u001b[0m \u001b[39mInstalling \u001b[0m\u001b[36msentencepiece\u001b[0m\u001b[39m (\u001b[0m\u001b[39;1m0.1.96\u001b[0m\u001b[39m)\u001b[0m: \u001b[34mInstalling...\u001b[0m\n",
      "  \u001b[34;1m•\u001b[0m \u001b[39mInstalling \u001b[0m\u001b[36mtoml\u001b[0m\u001b[39m (\u001b[0m\u001b[39;1m0.10.2\u001b[0m\u001b[39m)\u001b[0m: \u001b[34mInstalling...\u001b[0m\n",
      "  \u001b[34;1m•\u001b[0m \u001b[39mInstalling \u001b[0m\u001b[36mtorch\u001b[0m\u001b[39m (\u001b[0m\u001b[39;1m1.9.0\u001b[0m\u001b[39m)\u001b[0m: \u001b[34mInstalling...\u001b[0m\n",
      "  \u001b[34;1m•\u001b[0m \u001b[39mInstalling \u001b[0m\u001b[36mtransformers\u001b[0m\u001b[39m (\u001b[0m\u001b[39;1m4.8.0\u001b[0m\u001b[39m)\u001b[0m: \u001b[34mInstalling...\u001b[0m\n",
      "\u001b[4A\u001b[0J  \u001b[34;1m•\u001b[0m \u001b[39mInstalling \u001b[0m\u001b[36mpytz\u001b[0m\u001b[39m (\u001b[0m\u001b[39;1m2021.1\u001b[0m\u001b[39m)\u001b[0m: \u001b[34mInstalling...\u001b[0m\n",
      "  \u001b[34;1m•\u001b[0m \u001b[39mInstalling \u001b[0m\u001b[36msentencepiece\u001b[0m\u001b[39m (\u001b[0m\u001b[39;1m0.1.96\u001b[0m\u001b[39m)\u001b[0m: \u001b[34mInstalling...\u001b[0m\n",
      "  \u001b[34;1m•\u001b[0m \u001b[39mInstalling \u001b[0m\u001b[36mtoml\u001b[0m\u001b[39m (\u001b[0m\u001b[39;1m0.10.2\u001b[0m\u001b[39m)\u001b[0m: \u001b[34mInstalling...\u001b[0m\n",
      "  \u001b[34;1m•\u001b[0m \u001b[39mInstalling \u001b[0m\u001b[36mtorch\u001b[0m\u001b[39m (\u001b[0m\u001b[39;1m1.9.0\u001b[0m\u001b[39m)\u001b[0m: \u001b[34mInstalling...\u001b[0m\n",
      "  \u001b[34;1m•\u001b[0m \u001b[39mInstalling \u001b[0m\u001b[36mtransformers\u001b[0m\u001b[39m (\u001b[0m\u001b[39;1m4.8.0\u001b[0m\u001b[39m)\u001b[0m: \u001b[34mInstalling...\u001b[0m\n",
      "\u001b[8A\u001b[0J  \u001b[34;1m•\u001b[0m \u001b[39mInstalling \u001b[0m\u001b[36mpytest\u001b[0m\u001b[39m (\u001b[0m\u001b[39;1m5.4.3\u001b[0m\u001b[39m)\u001b[0m: \u001b[34mInstalling...\u001b[0m\n",
      "  \u001b[34;1m•\u001b[0m \u001b[39mInstalling \u001b[0m\u001b[36mpython-dateutil\u001b[0m\u001b[39m (\u001b[0m\u001b[39;1m2.8.1\u001b[0m\u001b[39m)\u001b[0m: \u001b[34mInstalling...\u001b[0m\n",
      "  \u001b[34;1m•\u001b[0m \u001b[39mInstalling \u001b[0m\u001b[36mpytz\u001b[0m\u001b[39m (\u001b[0m\u001b[39;1m2021.1\u001b[0m\u001b[39m)\u001b[0m: \u001b[34mInstalling...\u001b[0m\n",
      "  \u001b[34;1m•\u001b[0m \u001b[39mInstalling \u001b[0m\u001b[36msentencepiece\u001b[0m\u001b[39m (\u001b[0m\u001b[39;1m0.1.96\u001b[0m\u001b[39m)\u001b[0m: \u001b[34mInstalling...\u001b[0m\n",
      "  \u001b[34;1m•\u001b[0m \u001b[39mInstalling \u001b[0m\u001b[36mtoml\u001b[0m\u001b[39m (\u001b[0m\u001b[39;1m0.10.2\u001b[0m\u001b[39m)\u001b[0m: \u001b[34mInstalling...\u001b[0m\n",
      "  \u001b[34;1m•\u001b[0m \u001b[39mInstalling \u001b[0m\u001b[36mtorch\u001b[0m\u001b[39m (\u001b[0m\u001b[39;1m1.9.0\u001b[0m\u001b[39m)\u001b[0m: \u001b[34mInstalling...\u001b[0m\n",
      "  \u001b[34;1m•\u001b[0m \u001b[39mInstalling \u001b[0m\u001b[36mtransformers\u001b[0m\u001b[39m (\u001b[0m\u001b[39;1m4.8.0\u001b[0m\u001b[39m)\u001b[0m: \u001b[34mInstalling...\u001b[0m\n",
      "\u001b[7A\u001b[0J  \u001b[34;1m•\u001b[0m \u001b[39mInstalling \u001b[0m\u001b[36mcoverage\u001b[0m\u001b[39m (\u001b[0m\u001b[39;1m5.5\u001b[0m\u001b[39m)\u001b[0m: \u001b[34mInstalling...\u001b[0m\n",
      "  \u001b[34;1m•\u001b[0m \u001b[39mInstalling \u001b[0m\u001b[36mpytest\u001b[0m\u001b[39m (\u001b[0m\u001b[39;1m5.4.3\u001b[0m\u001b[39m)\u001b[0m: \u001b[34mInstalling...\u001b[0m\n",
      "  \u001b[34;1m•\u001b[0m \u001b[39mInstalling \u001b[0m\u001b[36mpython-dateutil\u001b[0m\u001b[39m (\u001b[0m\u001b[39;1m2.8.1\u001b[0m\u001b[39m)\u001b[0m: \u001b[34mInstalling...\u001b[0m\n",
      "  \u001b[34;1m•\u001b[0m \u001b[39mInstalling \u001b[0m\u001b[36mpytz\u001b[0m\u001b[39m (\u001b[0m\u001b[39;1m2021.1\u001b[0m\u001b[39m)\u001b[0m: \u001b[34mInstalling...\u001b[0m\n",
      "  \u001b[34;1m•\u001b[0m \u001b[39mInstalling \u001b[0m\u001b[36msentencepiece\u001b[0m\u001b[39m (\u001b[0m\u001b[39;1m0.1.96\u001b[0m\u001b[39m)\u001b[0m: \u001b[34mInstalling...\u001b[0m\n",
      "  \u001b[34;1m•\u001b[0m \u001b[39mInstalling \u001b[0m\u001b[36mtoml\u001b[0m\u001b[39m (\u001b[0m\u001b[39;1m0.10.2\u001b[0m\u001b[39m)\u001b[0m: \u001b[34mInstalling...\u001b[0m\n",
      "  \u001b[34;1m•\u001b[0m \u001b[39mInstalling \u001b[0m\u001b[36mtorch\u001b[0m\u001b[39m (\u001b[0m\u001b[39;1m1.9.0\u001b[0m\u001b[39m)\u001b[0m: \u001b[34mInstalling...\u001b[0m\n",
      "  \u001b[34;1m•\u001b[0m \u001b[39mInstalling \u001b[0m\u001b[36mtransformers\u001b[0m\u001b[39m (\u001b[0m\u001b[39;1m4.8.0\u001b[0m\u001b[39m)\u001b[0m: \u001b[34mInstalling...\u001b[0m\n",
      "\u001b[3A\u001b[0J  \u001b[34;1m•\u001b[0m \u001b[39mInstalling \u001b[0m\u001b[36mtorch\u001b[0m\u001b[39m (\u001b[0m\u001b[39;1m1.9.0\u001b[0m\u001b[39m)\u001b[0m: \u001b[34mInstalling...\u001b[0m\n",
      "  \u001b[34;1m•\u001b[0m \u001b[39mInstalling \u001b[0m\u001b[36mtransformers\u001b[0m\u001b[39m (\u001b[0m\u001b[39;1m4.8.0\u001b[0m\u001b[39m)\u001b[0m: \u001b[34mInstalling...\u001b[0m\n",
      "\u001b[2A\u001b[0J  \u001b[32;1m•\u001b[0m \u001b[39mInstalling \u001b[0m\u001b[36mtoml\u001b[0m\u001b[39m (\u001b[0m\u001b[32m0.10.2\u001b[0m\u001b[39m)\u001b[0m\n",
      "  \u001b[34;1m•\u001b[0m \u001b[39mInstalling \u001b[0m\u001b[36mtorch\u001b[0m\u001b[39m (\u001b[0m\u001b[39;1m1.9.0\u001b[0m\u001b[39m)\u001b[0m: \u001b[34mInstalling...\u001b[0m\n",
      "  \u001b[34;1m•\u001b[0m \u001b[39mInstalling \u001b[0m\u001b[36mtransformers\u001b[0m\u001b[39m (\u001b[0m\u001b[39;1m4.8.0\u001b[0m\u001b[39m)\u001b[0m: \u001b[34mInstalling...\u001b[0m\n",
      "\u001b[6A\u001b[0J  \u001b[34;1m•\u001b[0m \u001b[39mInstalling \u001b[0m\u001b[36mpytz\u001b[0m\u001b[39m (\u001b[0m\u001b[39;1m2021.1\u001b[0m\u001b[39m)\u001b[0m: \u001b[34mInstalling...\u001b[0m\n",
      "  \u001b[34;1m•\u001b[0m \u001b[39mInstalling \u001b[0m\u001b[36msentencepiece\u001b[0m\u001b[39m (\u001b[0m\u001b[39;1m0.1.96\u001b[0m\u001b[39m)\u001b[0m: \u001b[34mInstalling...\u001b[0m\n",
      "  \u001b[32;1m•\u001b[0m \u001b[39mInstalling \u001b[0m\u001b[36mtoml\u001b[0m\u001b[39m (\u001b[0m\u001b[32m0.10.2\u001b[0m\u001b[39m)\u001b[0m\n",
      "  \u001b[34;1m•\u001b[0m \u001b[39mInstalling \u001b[0m\u001b[36mtorch\u001b[0m\u001b[39m (\u001b[0m\u001b[39;1m1.9.0\u001b[0m\u001b[39m)\u001b[0m: \u001b[34mInstalling...\u001b[0m\n",
      "  \u001b[34;1m•\u001b[0m \u001b[39mInstalling \u001b[0m\u001b[36mtransformers\u001b[0m\u001b[39m (\u001b[0m\u001b[39;1m4.8.0\u001b[0m\u001b[39m)\u001b[0m: \u001b[34mInstalling...\u001b[0m\n",
      "\u001b[5A\u001b[0J  \u001b[32;1m•\u001b[0m \u001b[39mInstalling \u001b[0m\u001b[36mpython-dateutil\u001b[0m\u001b[39m (\u001b[0m\u001b[32m2.8.1\u001b[0m\u001b[39m)\u001b[0m\n",
      "  \u001b[34;1m•\u001b[0m \u001b[39mInstalling \u001b[0m\u001b[36mpytz\u001b[0m\u001b[39m (\u001b[0m\u001b[39;1m2021.1\u001b[0m\u001b[39m)\u001b[0m: \u001b[34mInstalling...\u001b[0m\n",
      "  \u001b[34;1m•\u001b[0m \u001b[39mInstalling \u001b[0m\u001b[36msentencepiece\u001b[0m\u001b[39m (\u001b[0m\u001b[39;1m0.1.96\u001b[0m\u001b[39m)\u001b[0m: \u001b[34mInstalling...\u001b[0m\n",
      "  \u001b[32;1m•\u001b[0m \u001b[39mInstalling \u001b[0m\u001b[36mtoml\u001b[0m\u001b[39m (\u001b[0m\u001b[32m0.10.2\u001b[0m\u001b[39m)\u001b[0m\n",
      "  \u001b[34;1m•\u001b[0m \u001b[39mInstalling \u001b[0m\u001b[36mtorch\u001b[0m\u001b[39m (\u001b[0m\u001b[39;1m1.9.0\u001b[0m\u001b[39m)\u001b[0m: \u001b[34mInstalling...\u001b[0m\n",
      "  \u001b[34;1m•\u001b[0m \u001b[39mInstalling \u001b[0m\u001b[36mtransformers\u001b[0m\u001b[39m (\u001b[0m\u001b[39;1m4.8.0\u001b[0m\u001b[39m)\u001b[0m: \u001b[34mInstalling...\u001b[0m\n",
      "\u001b[4A\u001b[0J  \u001b[32;1m•\u001b[0m \u001b[39mInstalling \u001b[0m\u001b[36mtoml\u001b[0m\u001b[39m (\u001b[0m\u001b[32m0.10.2\u001b[0m\u001b[39m)\u001b[0m\n",
      "  \u001b[34;1m•\u001b[0m \u001b[39mInstalling \u001b[0m\u001b[36mtorch\u001b[0m\u001b[39m (\u001b[0m\u001b[39;1m1.9.0\u001b[0m\u001b[39m)\u001b[0m: \u001b[34mInstalling...\u001b[0m\n",
      "  \u001b[34;1m•\u001b[0m \u001b[39mInstalling \u001b[0m\u001b[36mtransformers\u001b[0m\u001b[39m (\u001b[0m\u001b[39;1m4.8.0\u001b[0m\u001b[39m)\u001b[0m: \u001b[34mInstalling...\u001b[0m\n",
      "\u001b[3A\u001b[0J  \u001b[32;1m•\u001b[0m \u001b[39mInstalling \u001b[0m\u001b[36msentencepiece\u001b[0m\u001b[39m (\u001b[0m\u001b[32m0.1.96\u001b[0m\u001b[39m)\u001b[0m\n",
      "  \u001b[32;1m•\u001b[0m \u001b[39mInstalling \u001b[0m\u001b[36mtoml\u001b[0m\u001b[39m (\u001b[0m\u001b[32m0.10.2\u001b[0m\u001b[39m)\u001b[0m\n",
      "  \u001b[34;1m•\u001b[0m \u001b[39mInstalling \u001b[0m\u001b[36mtorch\u001b[0m\u001b[39m (\u001b[0m\u001b[39;1m1.9.0\u001b[0m\u001b[39m)\u001b[0m: \u001b[34mInstalling...\u001b[0m\n",
      "  \u001b[34;1m•\u001b[0m \u001b[39mInstalling \u001b[0m\u001b[36mtransformers\u001b[0m\u001b[39m (\u001b[0m\u001b[39;1m4.8.0\u001b[0m\u001b[39m)\u001b[0m: \u001b[34mInstalling...\u001b[0m\n",
      "\u001b[8A\u001b[0J  \u001b[34;1m•\u001b[0m \u001b[39mInstalling \u001b[0m\u001b[36mpytest\u001b[0m\u001b[39m (\u001b[0m\u001b[39;1m5.4.3\u001b[0m\u001b[39m)\u001b[0m: \u001b[34mInstalling...\u001b[0m\n",
      "  \u001b[32;1m•\u001b[0m \u001b[39mInstalling \u001b[0m\u001b[36mpython-dateutil\u001b[0m\u001b[39m (\u001b[0m\u001b[32m2.8.1\u001b[0m\u001b[39m)\u001b[0m\n",
      "  \u001b[34;1m•\u001b[0m \u001b[39mInstalling \u001b[0m\u001b[36mpytz\u001b[0m\u001b[39m (\u001b[0m\u001b[39;1m2021.1\u001b[0m\u001b[39m)\u001b[0m: \u001b[34mInstalling...\u001b[0m\n",
      "  \u001b[32;1m•\u001b[0m \u001b[39mInstalling \u001b[0m\u001b[36msentencepiece\u001b[0m\u001b[39m (\u001b[0m\u001b[32m0.1.96\u001b[0m\u001b[39m)\u001b[0m\n",
      "  \u001b[32;1m•\u001b[0m \u001b[39mInstalling \u001b[0m\u001b[36mtoml\u001b[0m\u001b[39m (\u001b[0m\u001b[32m0.10.2\u001b[0m\u001b[39m)\u001b[0m\n",
      "  \u001b[34;1m•\u001b[0m \u001b[39mInstalling \u001b[0m\u001b[36mtorch\u001b[0m\u001b[39m (\u001b[0m\u001b[39;1m1.9.0\u001b[0m\u001b[39m)\u001b[0m: \u001b[34mInstalling...\u001b[0m\n",
      "  \u001b[34;1m•\u001b[0m \u001b[39mInstalling \u001b[0m\u001b[36mtransformers\u001b[0m\u001b[39m (\u001b[0m\u001b[39;1m4.8.0\u001b[0m\u001b[39m)\u001b[0m: \u001b[34mInstalling...\u001b[0m\n",
      "\u001b[7A\u001b[0J  \u001b[32;1m•\u001b[0m \u001b[39mInstalling \u001b[0m\u001b[36mcoverage\u001b[0m\u001b[39m (\u001b[0m\u001b[32m5.5\u001b[0m\u001b[39m)\u001b[0m\n",
      "  \u001b[34;1m•\u001b[0m \u001b[39mInstalling \u001b[0m\u001b[36mpytest\u001b[0m\u001b[39m (\u001b[0m\u001b[39;1m5.4.3\u001b[0m\u001b[39m)\u001b[0m: \u001b[34mInstalling...\u001b[0m\n",
      "  \u001b[32;1m•\u001b[0m \u001b[39mInstalling \u001b[0m\u001b[36mpython-dateutil\u001b[0m\u001b[39m (\u001b[0m\u001b[32m2.8.1\u001b[0m\u001b[39m)\u001b[0m\n",
      "  \u001b[34;1m•\u001b[0m \u001b[39mInstalling \u001b[0m\u001b[36mpytz\u001b[0m\u001b[39m (\u001b[0m\u001b[39;1m2021.1\u001b[0m\u001b[39m)\u001b[0m: \u001b[34mInstalling...\u001b[0m\n",
      "  \u001b[32;1m•\u001b[0m \u001b[39mInstalling \u001b[0m\u001b[36msentencepiece\u001b[0m\u001b[39m (\u001b[0m\u001b[32m0.1.96\u001b[0m\u001b[39m)\u001b[0m\n",
      "  \u001b[32;1m•\u001b[0m \u001b[39mInstalling \u001b[0m\u001b[36mtoml\u001b[0m\u001b[39m (\u001b[0m\u001b[32m0.10.2\u001b[0m\u001b[39m)\u001b[0m\n",
      "  \u001b[34;1m•\u001b[0m \u001b[39mInstalling \u001b[0m\u001b[36mtorch\u001b[0m\u001b[39m (\u001b[0m\u001b[39;1m1.9.0\u001b[0m\u001b[39m)\u001b[0m: \u001b[34mInstalling...\u001b[0m\n",
      "  \u001b[34;1m•\u001b[0m \u001b[39mInstalling \u001b[0m\u001b[36mtransformers\u001b[0m\u001b[39m (\u001b[0m\u001b[39;1m4.8.0\u001b[0m\u001b[39m)\u001b[0m: \u001b[34mInstalling...\u001b[0m\n",
      "\u001b[7A\u001b[0J  \u001b[32;1m•\u001b[0m \u001b[39mInstalling \u001b[0m\u001b[36mpython-dateutil\u001b[0m\u001b[39m (\u001b[0m\u001b[32m2.8.1\u001b[0m\u001b[39m)\u001b[0m\n",
      "  \u001b[34;1m•\u001b[0m \u001b[39mInstalling \u001b[0m\u001b[36mpytz\u001b[0m\u001b[39m (\u001b[0m\u001b[39;1m2021.1\u001b[0m\u001b[39m)\u001b[0m: \u001b[34mInstalling...\u001b[0m\n",
      "  \u001b[32;1m•\u001b[0m \u001b[39mInstalling \u001b[0m\u001b[36msentencepiece\u001b[0m\u001b[39m (\u001b[0m\u001b[32m0.1.96\u001b[0m\u001b[39m)\u001b[0m\n",
      "  \u001b[32;1m•\u001b[0m \u001b[39mInstalling \u001b[0m\u001b[36mtoml\u001b[0m\u001b[39m (\u001b[0m\u001b[32m0.10.2\u001b[0m\u001b[39m)\u001b[0m\n",
      "  \u001b[34;1m•\u001b[0m \u001b[39mInstalling \u001b[0m\u001b[36mtorch\u001b[0m\u001b[39m (\u001b[0m\u001b[39;1m1.9.0\u001b[0m\u001b[39m)\u001b[0m: \u001b[34mInstalling...\u001b[0m\n",
      "  \u001b[34;1m•\u001b[0m \u001b[39mInstalling \u001b[0m\u001b[36mtransformers\u001b[0m\u001b[39m (\u001b[0m\u001b[39;1m4.8.0\u001b[0m\u001b[39m)\u001b[0m: \u001b[34mInstalling...\u001b[0m\n",
      "\u001b[6A\u001b[0J  \u001b[32;1m•\u001b[0m \u001b[39mInstalling \u001b[0m\u001b[36mpytest\u001b[0m\u001b[39m (\u001b[0m\u001b[32m5.4.3\u001b[0m\u001b[39m)\u001b[0m\n",
      "  \u001b[32;1m•\u001b[0m \u001b[39mInstalling \u001b[0m\u001b[36mpython-dateutil\u001b[0m\u001b[39m (\u001b[0m\u001b[32m2.8.1\u001b[0m\u001b[39m)\u001b[0m\n",
      "  \u001b[34;1m•\u001b[0m \u001b[39mInstalling \u001b[0m\u001b[36mpytz\u001b[0m\u001b[39m (\u001b[0m\u001b[39;1m2021.1\u001b[0m\u001b[39m)\u001b[0m: \u001b[34mInstalling...\u001b[0m\n",
      "  \u001b[32;1m•\u001b[0m \u001b[39mInstalling \u001b[0m\u001b[36msentencepiece\u001b[0m\u001b[39m (\u001b[0m\u001b[32m0.1.96\u001b[0m\u001b[39m)\u001b[0m\n",
      "  \u001b[32;1m•\u001b[0m \u001b[39mInstalling \u001b[0m\u001b[36mtoml\u001b[0m\u001b[39m (\u001b[0m\u001b[32m0.10.2\u001b[0m\u001b[39m)\u001b[0m\n",
      "  \u001b[34;1m•\u001b[0m \u001b[39mInstalling \u001b[0m\u001b[36mtorch\u001b[0m\u001b[39m (\u001b[0m\u001b[39;1m1.9.0\u001b[0m\u001b[39m)\u001b[0m: \u001b[34mInstalling...\u001b[0m\n",
      "  \u001b[34;1m•\u001b[0m \u001b[39mInstalling \u001b[0m\u001b[36mtransformers\u001b[0m\u001b[39m (\u001b[0m\u001b[39;1m4.8.0\u001b[0m\u001b[39m)\u001b[0m: \u001b[34mInstalling...\u001b[0m\n",
      "\u001b[5A\u001b[0J  \u001b[32;1m•\u001b[0m \u001b[39mInstalling \u001b[0m\u001b[36msentencepiece\u001b[0m\u001b[39m (\u001b[0m\u001b[32m0.1.96\u001b[0m\u001b[39m)\u001b[0m\n",
      "  \u001b[32;1m•\u001b[0m \u001b[39mInstalling \u001b[0m\u001b[36mtoml\u001b[0m\u001b[39m (\u001b[0m\u001b[32m0.10.2\u001b[0m\u001b[39m)\u001b[0m\n",
      "  \u001b[34;1m•\u001b[0m \u001b[39mInstalling \u001b[0m\u001b[36mtorch\u001b[0m\u001b[39m (\u001b[0m\u001b[39;1m1.9.0\u001b[0m\u001b[39m)\u001b[0m: \u001b[34mInstalling...\u001b[0m\n",
      "  \u001b[34;1m•\u001b[0m \u001b[39mInstalling \u001b[0m\u001b[36mtransformers\u001b[0m\u001b[39m (\u001b[0m\u001b[39;1m4.8.0\u001b[0m\u001b[39m)\u001b[0m: \u001b[34mInstalling...\u001b[0m\n",
      "\u001b[4A\u001b[0J  \u001b[32;1m•\u001b[0m \u001b[39mInstalling \u001b[0m\u001b[36mpytz\u001b[0m\u001b[39m (\u001b[0m\u001b[32m2021.1\u001b[0m\u001b[39m)\u001b[0m\n",
      "  \u001b[32;1m•\u001b[0m \u001b[39mInstalling \u001b[0m\u001b[36msentencepiece\u001b[0m\u001b[39m (\u001b[0m\u001b[32m0.1.96\u001b[0m\u001b[39m)\u001b[0m\n",
      "  \u001b[32;1m•\u001b[0m \u001b[39mInstalling \u001b[0m\u001b[36mtoml\u001b[0m\u001b[39m (\u001b[0m\u001b[32m0.10.2\u001b[0m\u001b[39m)\u001b[0m\n",
      "  \u001b[34;1m•\u001b[0m \u001b[39mInstalling \u001b[0m\u001b[36mtorch\u001b[0m\u001b[39m (\u001b[0m\u001b[39;1m1.9.0\u001b[0m\u001b[39m)\u001b[0m: \u001b[34mInstalling...\u001b[0m\n",
      "  \u001b[34;1m•\u001b[0m \u001b[39mInstalling \u001b[0m\u001b[36mtransformers\u001b[0m\u001b[39m (\u001b[0m\u001b[39;1m4.8.0\u001b[0m\u001b[39m)\u001b[0m: \u001b[34mInstalling...\u001b[0m\n"
     ]
    },
    {
     "name": "stdout",
     "output_type": "stream",
     "text": [
      "\u001b[1A\u001b[0J  \u001b[32;1m•\u001b[0m \u001b[39mInstalling \u001b[0m\u001b[36mtransformers\u001b[0m\u001b[39m (\u001b[0m\u001b[32m4.8.0\u001b[0m\u001b[39m)\u001b[0m\n",
      "\u001b[2A\u001b[0J  \u001b[32;1m•\u001b[0m \u001b[39mInstalling \u001b[0m\u001b[36mtransformers\u001b[0m\u001b[39m (\u001b[0m\u001b[32m4.8.0\u001b[0m\u001b[39m)\u001b[0m\n",
      "\u001b[1A\u001b[0J  \u001b[32;1m•\u001b[0m \u001b[39mInstalling \u001b[0m\u001b[36mtorch\u001b[0m\u001b[39m (\u001b[0m\u001b[32m1.9.0\u001b[0m\u001b[39m)\u001b[0m\n",
      "  \u001b[32;1m•\u001b[0m \u001b[39mInstalling \u001b[0m\u001b[36mtransformers\u001b[0m\u001b[39m (\u001b[0m\u001b[32m4.8.0\u001b[0m\u001b[39m)\u001b[0m\n",
      "  \u001b[34;1m•\u001b[0m \u001b[39mInstalling \u001b[0m\u001b[36mdetoxify\u001b[0m\u001b[39m (\u001b[0m\u001b[39;1m0.2.2\u001b[0m\u001b[39m)\u001b[0m: \u001b[34mPending...\u001b[0m\n",
      "  \u001b[34;1m•\u001b[0m \u001b[39mInstalling \u001b[0m\u001b[36mpandas\u001b[0m\u001b[39m (\u001b[0m\u001b[39;1m1.2.5\u001b[0m\u001b[39m)\u001b[0m: \u001b[34mPending...\u001b[0m\n",
      "  \u001b[34;1m•\u001b[0m \u001b[39mInstalling \u001b[0m\u001b[36mpytest-cov\u001b[0m\u001b[39m (\u001b[0m\u001b[39;1m2.12.1\u001b[0m\u001b[39m)\u001b[0m: \u001b[34mPending...\u001b[0m\n",
      "\u001b[3A\u001b[0J  \u001b[34;1m•\u001b[0m \u001b[39mInstalling \u001b[0m\u001b[36mpandas\u001b[0m\u001b[39m (\u001b[0m\u001b[39;1m1.2.5\u001b[0m\u001b[39m)\u001b[0m: \u001b[34mPending...\u001b[0m\n",
      "  \u001b[34;1m•\u001b[0m \u001b[39mInstalling \u001b[0m\u001b[36mpytest-cov\u001b[0m\u001b[39m (\u001b[0m\u001b[39;1m2.12.1\u001b[0m\u001b[39m)\u001b[0m: \u001b[34mPending...\u001b[0m\n",
      "\u001b[2A\u001b[0J  \u001b[34;1m•\u001b[0m \u001b[39mInstalling \u001b[0m\u001b[36mdetoxify\u001b[0m\u001b[39m (\u001b[0m\u001b[39;1m0.2.2\u001b[0m\u001b[39m)\u001b[0m: \u001b[34mInstalling...\u001b[0m\n",
      "  \u001b[34;1m•\u001b[0m \u001b[39mInstalling \u001b[0m\u001b[36mpandas\u001b[0m\u001b[39m (\u001b[0m\u001b[39;1m1.2.5\u001b[0m\u001b[39m)\u001b[0m: \u001b[34mPending...\u001b[0m\n",
      "  \u001b[34;1m•\u001b[0m \u001b[39mInstalling \u001b[0m\u001b[36mpytest-cov\u001b[0m\u001b[39m (\u001b[0m\u001b[39;1m2.12.1\u001b[0m\u001b[39m)\u001b[0m: \u001b[34mPending...\u001b[0m\n",
      "\u001b[1A\u001b[0J  \u001b[34;1m•\u001b[0m \u001b[39mInstalling \u001b[0m\u001b[36mpytest-cov\u001b[0m\u001b[39m (\u001b[0m\u001b[39;1m2.12.1\u001b[0m\u001b[39m)\u001b[0m: \u001b[34mInstalling...\u001b[0m\n",
      "\u001b[2A\u001b[0J  \u001b[34;1m•\u001b[0m \u001b[39mInstalling \u001b[0m\u001b[36mpytest-cov\u001b[0m\u001b[39m (\u001b[0m\u001b[39;1m2.12.1\u001b[0m\u001b[39m)\u001b[0m: \u001b[34mInstalling...\u001b[0m\n",
      "\u001b[1A\u001b[0J  \u001b[34;1m•\u001b[0m \u001b[39mInstalling \u001b[0m\u001b[36mpandas\u001b[0m\u001b[39m (\u001b[0m\u001b[39;1m1.2.5\u001b[0m\u001b[39m)\u001b[0m: \u001b[34mInstalling...\u001b[0m\n",
      "  \u001b[34;1m•\u001b[0m \u001b[39mInstalling \u001b[0m\u001b[36mpytest-cov\u001b[0m\u001b[39m (\u001b[0m\u001b[39;1m2.12.1\u001b[0m\u001b[39m)\u001b[0m: \u001b[34mInstalling...\u001b[0m\n",
      "\u001b[3A\u001b[0J  \u001b[34;1m•\u001b[0m \u001b[39mInstalling \u001b[0m\u001b[36mpandas\u001b[0m\u001b[39m (\u001b[0m\u001b[39;1m1.2.5\u001b[0m\u001b[39m)\u001b[0m: \u001b[34mInstalling...\u001b[0m\n",
      "  \u001b[34;1m•\u001b[0m \u001b[39mInstalling \u001b[0m\u001b[36mpytest-cov\u001b[0m\u001b[39m (\u001b[0m\u001b[39;1m2.12.1\u001b[0m\u001b[39m)\u001b[0m: \u001b[34mInstalling...\u001b[0m\n",
      "\u001b[2A\u001b[0J  \u001b[32;1m•\u001b[0m \u001b[39mInstalling \u001b[0m\u001b[36mdetoxify\u001b[0m\u001b[39m (\u001b[0m\u001b[32m0.2.2\u001b[0m\u001b[39m)\u001b[0m\n",
      "  \u001b[34;1m•\u001b[0m \u001b[39mInstalling \u001b[0m\u001b[36mpandas\u001b[0m\u001b[39m (\u001b[0m\u001b[39;1m1.2.5\u001b[0m\u001b[39m)\u001b[0m: \u001b[34mInstalling...\u001b[0m\n",
      "  \u001b[34;1m•\u001b[0m \u001b[39mInstalling \u001b[0m\u001b[36mpytest-cov\u001b[0m\u001b[39m (\u001b[0m\u001b[39;1m2.12.1\u001b[0m\u001b[39m)\u001b[0m: \u001b[34mInstalling...\u001b[0m\n",
      "\u001b[1A\u001b[0J  \u001b[32;1m•\u001b[0m \u001b[39mInstalling \u001b[0m\u001b[36mpytest-cov\u001b[0m\u001b[39m (\u001b[0m\u001b[32m2.12.1\u001b[0m\u001b[39m)\u001b[0m\n",
      "\u001b[2A\u001b[0J  \u001b[32;1m•\u001b[0m \u001b[39mInstalling \u001b[0m\u001b[36mpytest-cov\u001b[0m\u001b[39m (\u001b[0m\u001b[32m2.12.1\u001b[0m\u001b[39m)\u001b[0m\n",
      "\u001b[1A\u001b[0J  \u001b[32;1m•\u001b[0m \u001b[39mInstalling \u001b[0m\u001b[36mpandas\u001b[0m\u001b[39m (\u001b[0m\u001b[32m1.2.5\u001b[0m\u001b[39m)\u001b[0m\n",
      "  \u001b[32;1m•\u001b[0m \u001b[39mInstalling \u001b[0m\u001b[36mpytest-cov\u001b[0m\u001b[39m (\u001b[0m\u001b[32m2.12.1\u001b[0m\u001b[39m)\u001b[0m\n",
      "\n",
      "\u001b[1mInstalling\u001b[0m the current project: \u001b[36minsult-ai\u001b[0m (\u001b[39;1m0.2.0\u001b[0m\u001b[1mInstalling\u001b[0m the current project: \u001b[36minsult-ai\u001b[0m (\u001b[32m0.2.0\u001b[0m)\n",
      "\u001b[36mnox > \u001b[34mpytest --cov\u001b[0m\n",
      "\u001b[1m============================= test session starts ==============================\u001b[0m\n",
      "platform darwin -- Python 3.9.5, pytest-5.4.3, py-1.10.0, pluggy-0.13.1\n",
      "rootdir: /Users/rjbrooker/Documents/github_repos/modern-python-tutorial/insult-ai\n",
      "plugins: cov-2.12.1\n",
      "collected 1 item                                                               \u001b[0m\u001b[1m\n",
      "\n",
      "tests/test_insult_ai.py \u001b[32m.\u001b[0m\u001b[32m                                                [100%]\u001b[0m\n",
      "\n",
      "---------- coverage: platform darwin, python 3.9.5-final-0 -----------\n",
      "Name                    Stmts   Miss Branch BrPart  Cover   Missing\n",
      "-------------------------------------------------------------------\n",
      "insult_ai/__init__.py       1      0      0      0   100%\n",
      "insult_ai/console.py       12      0      0      0   100%\n",
      "-------------------------------------------------------------------\n",
      "TOTAL                      13      0      0      0   100%\n",
      "\n",
      "\u001b[32mRequired test coverage of 99.0% reached. Total coverage: 100.00%\n",
      "\u001b[0m\n",
      "\u001b[32m============================== \u001b[32m\u001b[1m1 passed\u001b[0m\u001b[32m in 35.75s\u001b[0m\u001b[32m ==============================\u001b[0m\n",
      "\u001b[36mnox > \u001b[32mSession tests-3.9 was successful.\u001b[0m\n",
      "\u001b[36mnox > \u001b[33mRan multiple sessions:\u001b[0m\n",
      "\u001b[36mnox > \u001b[32m* tests-3.8: success\u001b[0m\n",
      "\u001b[36mnox > \u001b[32m* tests-3.9: success\u001b[0m\n"
     ]
    }
   ],
   "source": [
    "!nox"
   ]
  },
  {
   "cell_type": "markdown",
   "id": "a90e7874",
   "metadata": {},
   "source": [
    "Nox recreates the virtual environments from scratch on each invocation (a sensible default). You can speed things up by passing the — reuse-existing-virtualenvs (-r) option:\n"
   ]
  },
  {
   "cell_type": "code",
   "execution_count": null,
   "id": "1ad607eb",
   "metadata": {},
   "outputs": [],
   "source": [
    "# !nox -r "
   ]
  },
  {
   "cell_type": "markdown",
   "id": "5855b2f9",
   "metadata": {},
   "source": [
    "## 4.5 [pytest-mock](https://github.com/pytest-dev/pytest-mock/)\n",
    "\n",
    "This plugin provides a mocker fixture which is a thin-wrapper around the patching API provided by the mock package:\n",
    "\n"
   ]
  },
  {
   "cell_type": "code",
   "execution_count": 39,
   "id": "93f1a42e",
   "metadata": {},
   "outputs": [],
   "source": [
    "#install \n",
    "!poetry add --dev pytest-mock -q"
   ]
  },
  {
   "cell_type": "markdown",
   "id": "48f420d8",
   "metadata": {},
   "source": [
    "Create a detoxify mocker,  "
   ]
  },
  {
   "cell_type": "code",
   "execution_count": 40,
   "id": "a67724b7",
   "metadata": {},
   "outputs": [
    {
     "name": "stdout",
     "output_type": "stream",
     "text": [
      "Overwriting tests/test_insult_ai.py\n"
     ]
    }
   ],
   "source": [
    "%%writefile tests/test_insult_ai.py\n",
    "\n",
    "import click.testing\n",
    "import pytest\n",
    "from insult_ai import console\n",
    "\n",
    "@pytest.fixture\n",
    "def runner():\n",
    "    \"\"\"Reusable helper function.\"\"\"\n",
    "    return click.testing.CliRunner()\n",
    "\n",
    "@pytest.fixture\n",
    "def mock_detoxify_predict(mocker):\n",
    "    \"\"\"Generates a mock Detoxify object.\"\"\"\n",
    "    mock = mocker.patch(\"detoxify.Detoxify\")\n",
    "    mock.return_value.predict.return_value = {\n",
    "        'toxicity': 0., \n",
    "        'severe_toxicity': 0., \n",
    "        'obscene': 0., \n",
    "        'threat': 0., \n",
    "        'insult': 0., \n",
    "        'identity_hate': 0.\n",
    "    }\n",
    "    return mock\n",
    "\n",
    "\n",
    "def test_insult_me_succeeds(runner, mock_detoxify_predict ):\n",
    "    result = runner.invoke(console.insult_me, ['--message=\"You look nice.\"'])\n",
    "    assert result.exit_code == 0\n"
   ]
  },
  {
   "cell_type": "code",
   "execution_count": null,
   "id": "5920871e",
   "metadata": {
    "scrolled": true
   },
   "outputs": [],
   "source": [
    "!nox -r "
   ]
  },
  {
   "cell_type": "markdown",
   "id": "d996b6ae",
   "metadata": {},
   "source": [
    "## 4.6  Marking Tests "
   ]
  },
  {
   "cell_type": "markdown",
   "id": "3189ab8a",
   "metadata": {},
   "source": [
    "Some tests are too slow to run. So you might want to skip them. \n",
    "\n",
    "You can use \"pytest.mark\" and skip them. "
   ]
  },
  {
   "cell_type": "code",
   "execution_count": null,
   "id": "e77bde5a",
   "metadata": {},
   "outputs": [],
   "source": [
    "%%writefile tests/test_insult_ai.py\n",
    "\n",
    "import click.testing\n",
    "import pytest\n",
    "from insult_ai import console\n",
    "\n",
    "@pytest.fixture\n",
    "def runner():\n",
    "    \"\"\"Reusable helper function.\"\"\"\n",
    "    return click.testing.CliRunner()\n",
    "\n",
    "@pytest.mark.e2e\n",
    "def test_insult_me_succeeds(runner):\n",
    "    result = runner.invoke(console.insult_me, ['--message=\"You look nice.\"'])\n",
    "    assert result.exit_code == 0\n"
   ]
  },
  {
   "cell_type": "markdown",
   "id": "cd73d8cc",
   "metadata": {},
   "source": [
    "Then identify them in the test config file, "
   ]
  },
  {
   "cell_type": "code",
   "execution_count": null,
   "id": "c82e4b18",
   "metadata": {},
   "outputs": [],
   "source": [
    "%%writefile tests/conftest.py\n",
    "\n",
    "def pytest_configure(config):\n",
    "    config.addinivalue_line(\"markers\", \"e2e: mark as end-to-end test.\")"
   ]
  },
  {
   "cell_type": "code",
   "execution_count": null,
   "id": "75a4b0f8",
   "metadata": {},
   "outputs": [],
   "source": [
    "!poetry run pytest -m \"not e2e\""
   ]
  },
  {
   "cell_type": "code",
   "execution_count": null,
   "id": "c8a20af3",
   "metadata": {},
   "outputs": [],
   "source": [
    "%%writefile noxfile.py\n",
    "\n",
    "import nox\n",
    "\n",
    "@nox.session(python=[\"3.8\"])\n",
    "def tests(session):\n",
    "    args = session.posargs or [\"--cov\", \"-m\", \"not e2e\"]\n",
    "    session.run(\"poetry\", \"install\", external=True)\n",
    "    session.run(\"pytest\", *args)"
   ]
  },
  {
   "cell_type": "markdown",
   "id": "ca7a9544",
   "metadata": {},
   "source": [
    "Then you can use parameters to skip the tests, "
   ]
  },
  {
   "cell_type": "code",
   "execution_count": null,
   "id": "28bf417c",
   "metadata": {},
   "outputs": [],
   "source": [
    "!nox -rs tests-3.8 -- -m e2e"
   ]
  },
  {
   "cell_type": "markdown",
   "id": "5af0f5c2",
   "metadata": {},
   "source": [
    "<br><br><br>\n",
    "\n",
    "# 5. Linting\n",
    "Linters analyze source code to flag programming errors, bugs, stylistic errors, and suspicious constructs. \n",
    "\n",
    "\n",
    "<br><br><br><br><br><br><br><br>\n",
    "<img src=\"https://www.pylint.org/pylint.svg\" style=\"height:100px ; float: left;\"> \n",
    "<br><br>\n",
    "\n",
    "\n",
    "## 5.1 Pylint \n"
   ]
  },
  {
   "cell_type": "code",
   "execution_count": 41,
   "id": "b33e3b7e",
   "metadata": {
    "scrolled": true
   },
   "outputs": [
    {
     "name": "stdout",
     "output_type": "stream",
     "text": [
      "\u001b[33mWARNING: You are using pip version 21.1.1; however, version 21.1.2 is available.\r\n",
      "You should consider upgrading via the '/Users/rjbrooker/.pyenv/versions/3.9.5/bin/python3.9 -m pip install --upgrade pip' command.\u001b[0m\r\n"
     ]
    }
   ],
   "source": [
    "!pip install pylint -q"
   ]
  },
  {
   "cell_type": "code",
   "execution_count": 45,
   "id": "86f4c322",
   "metadata": {},
   "outputs": [
    {
     "name": "stdout",
     "output_type": "stream",
     "text": [
      "************* Module insult_ai\n",
      "insult_ai/__init__.py:1:0: C0114: Missing module docstring (missing-module-docstring)\n",
      "************* Module insult_ai.console\n",
      "insult_ai/console.py:2:11: C0303: Trailing whitespace (trailing-whitespace)\n",
      "insult_ai/console.py:5:19: C0303: Trailing whitespace (trailing-whitespace)\n",
      "insult_ai/console.py:12:0: C0303: Trailing whitespace (trailing-whitespace)\n",
      "insult_ai/console.py:15:0: C0303: Trailing whitespace (trailing-whitespace)\n",
      "insult_ai/console.py:18:0: C0303: Trailing whitespace (trailing-whitespace)\n",
      "insult_ai/console.py:1:0: C0114: Missing module docstring (missing-module-docstring)\n",
      "insult_ai/console.py:2:0: W0611: Unused import json (unused-import)\n",
      "insult_ai/console.py:2:0: C0411: standard import \"import json\" should be placed before \"import click\" (wrong-import-order)\n",
      "insult_ai/console.py:4:0: C0411: third party import \"from detoxify import Detoxify\" should be placed before \"from . import __version__\" (wrong-import-order)\n",
      "insult_ai/console.py:5:0: C0411: third party import \"import pandas as pd\" should be placed before \"from . import __version__\" (wrong-import-order)\n",
      "\n",
      "-------------------------------------------------------------------\n",
      "Your code has been rated at -1.00/10 (previous run: 6.67/10, -7.67)\n",
      "\n",
      "\u001b[0m"
     ]
    }
   ],
   "source": [
    "!pylint insult_ai"
   ]
  },
  {
   "cell_type": "markdown",
   "id": "2f8f2ee4",
   "metadata": {},
   "source": [
    "Run it on your code, "
   ]
  },
  {
   "cell_type": "code",
   "execution_count": null,
   "id": "4391c13c",
   "metadata": {},
   "outputs": [],
   "source": [
    "%%writefile -a pyproject.toml\n",
    "\n",
    "[tool.pylint.messages_control]\n",
    "\n",
    "max-line-length = 88\n",
    "\n",
    "disable = [\n",
    "  \"missing-docstring\",\n",
    "  \"unused-argument\",\n",
    "  \"no-value-for-parameter\",\n",
    "  \"no-member\",\n",
    "  \"no-else-return\",\n",
    "  \"bad-whitespace\",\n",
    "  \"bad-continuation\",\n",
    "  \"line-too-long\",\n",
    "  \"fixme\",\n",
    "  \"protected-access\",\n",
    "  \"too-few-public-methods\",\n",
    "]\n",
    "\n",
    "[tool.pylint.design]\n",
    "# limiting the number of returns might discourage\n",
    "# the use of guard clauses. So we increase the\n",
    "# allowed number of returns from 6 to 8\n",
    "max-returns = 8"
   ]
  },
  {
   "cell_type": "markdown",
   "id": "a4ec3fa6",
   "metadata": {},
   "source": [
    "## 5.2 Linting + Nox"
   ]
  },
  {
   "cell_type": "code",
   "execution_count": 48,
   "id": "100153ff",
   "metadata": {},
   "outputs": [
    {
     "name": "stdout",
     "output_type": "stream",
     "text": [
      "Appending to noxfile.py\n"
     ]
    }
   ],
   "source": [
    "%%writefile -a noxfile.py\n",
    "\n",
    "locations = \"insult_ai\", \"tests\", \"noxfile.py\"\n",
    "@nox.session(python=[\"3.8\", \"3.9\"])\n",
    "def lint(session):\n",
    "    args = session.posargs or locations\n",
    "    \n",
    "    # flake 8 \n",
    "    session.install(\"pylint\", \"flake8-black\", \"flake8-import-order\")\n",
    "    session.run(\"flake8\", *args)\n",
    "    session.run(\"pylint\", *args)\n"
   ]
  },
  {
   "cell_type": "markdown",
   "id": "a087f915",
   "metadata": {},
   "source": [
    "You can create a congif file in order to enabling all the built-in violation classes and setting the complexity limit:\n"
   ]
  },
  {
   "cell_type": "code",
   "execution_count": null,
   "id": "180893ff",
   "metadata": {},
   "outputs": [],
   "source": [
    "%%writefile .flake8\n",
    "[flake8]\n",
    "select = C,E,F,W\n",
    "max-complexity = 10\n",
    "application-import-names = hypermodern_python,tests\n",
    "import-order-style = google "
   ]
  },
  {
   "cell_type": "markdown",
   "id": "6aebd741",
   "metadata": {},
   "source": [
    "You can create pylint config too, \n",
    "\n",
    "https://www.codeac.io/documentation/pylint-configuration.html"
   ]
  },
  {
   "cell_type": "markdown",
   "id": "3857c9da",
   "metadata": {},
   "source": [
    "If we want to run just linting we can, "
   ]
  },
  {
   "cell_type": "code",
   "execution_count": null,
   "id": "5a8347ea",
   "metadata": {},
   "outputs": [],
   "source": [
    "!nox -rs lint"
   ]
  },
  {
   "cell_type": "markdown",
   "id": "1c9b9853",
   "metadata": {},
   "source": [
    "\n",
    "<br><br><br><br><br><br><br><br>\n",
    "<img src=\"https://encrypted-tbn0.gstatic.com/images?q=tbn:ANd9GcTnn4UX2-MpGjn1ip7LZ6skmeSgoedDwVNGCAo2vUNbiBAeOMP4n2BsHNLtQwtyPhYqEes&usqp=CAU\" style=\"height:120px ; float: left;\"> \n",
    "<br><br><br>\n",
    "\n",
    "## 5.3 [Black](https://github.com/psf/black)\n",
    "\n",
    "Black, the uncompromising Python code formatter. "
   ]
  },
  {
   "cell_type": "code",
   "execution_count": 49,
   "id": "a91db18a",
   "metadata": {},
   "outputs": [
    {
     "name": "stdout",
     "output_type": "stream",
     "text": [
      "Appending to noxfile.py\n"
     ]
    }
   ],
   "source": [
    "%%writefile -a noxfile.py\n",
    "\n",
    "# noxfile.py\n",
    "@nox.session(python=\"3.8\")\n",
    "def black(session):\n",
    "    args = session.posargs or locations\n",
    "    session.install(\"black\")\n",
    "    session.run(\"black\", *args)"
   ]
  },
  {
   "cell_type": "code",
   "execution_count": 50,
   "id": "db281de9",
   "metadata": {},
   "outputs": [
    {
     "name": "stdout",
     "output_type": "stream",
     "text": [
      "\u001b[36mnox > \u001b[33mRunning session black\u001b[0m\n",
      "\u001b[36mnox > \u001b[36mRe-using existing virtual environment at .nox/black.\u001b[0m\n",
      "\u001b[36mnox > \u001b[34mpython -m pip install black\u001b[0m\n",
      "\u001b[36mnox > \u001b[34mblack insult_ai tests noxfile.py\u001b[0m\n",
      "\u001b[1mreformatted insult_ai/__init__.py\u001b[0m\n",
      "\u001b[1mreformatted insult_ai/console.py\u001b[0m\n",
      "\u001b[1mreformatted tests/test_insult_ai.py\u001b[0m\n",
      "\u001b[1mreformatted noxfile.py\u001b[0m\n",
      "\u001b[1mAll done! ✨ 🍰 ✨\u001b[0m\n",
      "\u001b[1m4 files reformatted\u001b[0m, 1 file left unchanged.\n",
      "\u001b[36mnox > \u001b[32mSession black was successful.\u001b[0m\n"
     ]
    }
   ],
   "source": [
    "!nox -rs black"
   ]
  },
  {
   "cell_type": "code",
   "execution_count": null,
   "id": "6d27597b",
   "metadata": {},
   "outputs": [],
   "source": [
    "!nox -rs lint"
   ]
  },
  {
   "cell_type": "markdown",
   "id": "41174ac5",
   "metadata": {},
   "source": [
    "# 5.4 [Bandit](https://pypi.org/project/bandit/)\n",
    "\n",
    "Identifying security issues. \n"
   ]
  },
  {
   "cell_type": "code",
   "execution_count": null,
   "id": "2c6408cf",
   "metadata": {},
   "outputs": [],
   "source": [
    "%%writefile -a noxfile.py\n",
    "\n",
    "@nox.session(python=[\"3.8\",])\n",
    "def bandit(session):\n",
    "    args = session.posargs or locations\n",
    "    session.install(\n",
    "        \"flake8\",\n",
    "        \"flake8-bandit\",\n",
    "    )\n",
    "    session.run(\"flake8\", *args)\n"
   ]
  },
  {
   "cell_type": "code",
   "execution_count": null,
   "id": "75788182",
   "metadata": {},
   "outputs": [],
   "source": [
    "%%writefile .flake8\n",
    "[flake8]\n",
    "select = B,B9,BLK,C,E,F,I,W,S\n",
    "max-complexity = 10\n",
    "application-import-names = hypermodern_python,tests\n",
    "import-order-style = google "
   ]
  },
  {
   "cell_type": "code",
   "execution_count": null,
   "id": "7c7effa4",
   "metadata": {},
   "outputs": [],
   "source": [
    "!nox -rs black\n",
    "!nox -rs bandit"
   ]
  },
  {
   "cell_type": "markdown",
   "id": "8ba449f6",
   "metadata": {},
   "source": [
    "\n",
    "\n",
    "<br><br><br><br><br><br><br><br>\n",
    "<img src=\"https://warehouse-camo.ingress.cmh1.psfhosted.org/25b60c01ce72664af24ec46d17813024c247384a/68747470733a2f2f7261772e67697468756275736572636f6e74656e742e636f6d2f70797570696f2f7361666574792f6d61737465722f7361666574792e6a7067\n",
    "\" style=\"height:120px ; float: left;\"> \n",
    "<br><br><br>\n",
    "\n",
    "### 5.5 Safty\n",
    "\n",
    "\n"
   ]
  },
  {
   "cell_type": "code",
   "execution_count": 51,
   "id": "c0756011",
   "metadata": {},
   "outputs": [
    {
     "name": "stdout",
     "output_type": "stream",
     "text": [
      "\u001b[33mWARNING: You are using pip version 21.1.1; however, version 21.1.2 is available.\r\n",
      "You should consider upgrading via the '/Users/rjbrooker/.pyenv/versions/3.9.5/bin/python3.9 -m pip install --upgrade pip' command.\u001b[0m\r\n"
     ]
    }
   ],
   "source": [
    "!pip install safety -q\n"
   ]
  },
  {
   "cell_type": "code",
   "execution_count": null,
   "id": "45578312",
   "metadata": {},
   "outputs": [],
   "source": [
    "!pip uninstall insecure-package -y"
   ]
  },
  {
   "cell_type": "markdown",
   "id": "c5fd6dda",
   "metadata": {},
   "source": [
    "Cehck security, "
   ]
  },
  {
   "cell_type": "code",
   "execution_count": 52,
   "id": "845f7b3f",
   "metadata": {},
   "outputs": [
    {
     "name": "stdout",
     "output_type": "stream",
     "text": [
      "+==============================================================================+\r\n",
      "|                                                                              |\r\n",
      "|                               /$$$$$$            /$$                         |\r\n",
      "|                              /$$__  $$          | $$                         |\r\n",
      "|           /$$$$$$$  /$$$$$$ | $$  \\__//$$$$$$  /$$$$$$   /$$   /$$           |\r\n",
      "|          /$$_____/ |____  $$| $$$$   /$$__  $$|_  $$_/  | $$  | $$           |\r\n",
      "|         |  $$$$$$   /$$$$$$$| $$_/  | $$$$$$$$  | $$    | $$  | $$           |\r\n",
      "|          \\____  $$ /$$__  $$| $$    | $$_____/  | $$ /$$| $$  | $$           |\r\n",
      "|          /$$$$$$$/|  $$$$$$$| $$    |  $$$$$$$  |  $$$$/|  $$$$$$$           |\r\n",
      "|         |_______/  \\_______/|__/     \\_______/   \\___/   \\____  $$           |\r\n",
      "|                                                          /$$  | $$           |\r\n",
      "|                                                         |  $$$$$$/           |\r\n",
      "|  by pyup.io                                              \\______/            |\r\n",
      "|                                                                              |\r\n",
      "+==============================================================================+\r\n",
      "| REPORT                                                                       |\r\n",
      "| checked 156 packages, using free DB (updated once a month)                   |\r\n",
      "+============================+===========+==========================+==========+\r\n",
      "| package                    | installed | affected                 | ID       |\r\n",
      "+============================+===========+==========================+==========+\r\n",
      "| sphinx                     | 1.4.9     | <3.0.4                   | 38330    |\r\n",
      "+==============================================================================+\u001b[0m\r\n"
     ]
    }
   ],
   "source": [
    "!safety check"
   ]
  },
  {
   "cell_type": "code",
   "execution_count": null,
   "id": "ad81915f",
   "metadata": {},
   "outputs": [],
   "source": [
    "!pip uninstall insecure-package -y"
   ]
  },
  {
   "cell_type": "markdown",
   "id": "1dca2ab3",
   "metadata": {},
   "source": [
    "\n",
    "<br><br><br><br><br><br><br><br>\n",
    "<img src=\"https://camo.githubusercontent.com/c0bc16116647eb3c773360c495d8537d509df514fa8f77b545fca2edde5fc3d7/68747470733a2f2f6861646f6c696e742e6769746875622e696f2f6861646f6c696e742f696d672f6361745f636f6e7461696e65722e706e67\n",
    "\" style=\"height:120px ; float: left;\"> \n",
    "<br><br><br>\n",
    "\n",
    "## 5.4 Docker Linting"
   ]
  },
  {
   "cell_type": "code",
   "execution_count": null,
   "id": "f8cf5a49",
   "metadata": {},
   "outputs": [],
   "source": [
    "!brew install hadolint"
   ]
  },
  {
   "cell_type": "code",
   "execution_count": 53,
   "id": "1099c903",
   "metadata": {},
   "outputs": [],
   "source": [
    "!mkdir docker"
   ]
  },
  {
   "cell_type": "code",
   "execution_count": 54,
   "id": "9f13700b",
   "metadata": {},
   "outputs": [
    {
     "name": "stdout",
     "output_type": "stream",
     "text": [
      "Writing docker/Dockerfile\n"
     ]
    }
   ],
   "source": [
    "%%writefile docker/Dockerfile\n",
    "\n",
    "FROM debian\n",
    "RUN export node_version=\"0.10\" \\\n",
    "&& apt-get update && apt-get -y install nodejs=\"$node_verion\"\n",
    "COPY package.json usr/src/app\n",
    "RUN cd /usr/src/app \\\n",
    "&& npm install node-static"
   ]
  },
  {
   "cell_type": "code",
   "execution_count": 55,
   "id": "c3f00933",
   "metadata": {},
   "outputs": [
    {
     "name": "stdout",
     "output_type": "stream",
     "text": [
      "docker/Dockerfile:2 DL3006 \u001b[1m\u001b[93mwarning\u001b[0m: Always tag the version of an image explicitly\r\n",
      "docker/Dockerfile:3 SC2154 \u001b[1m\u001b[93mwarning\u001b[0m: node_verion is referenced but not assigned (did you mean 'node_version'?).\r\n",
      "docker/Dockerfile:3 DL3009 \u001b[92minfo\u001b[0m: Delete the apt-get lists after installing something\r\n",
      "docker/Dockerfile:3 DL3015 \u001b[92minfo\u001b[0m: Avoid additional packages by specifying `--no-install-recommends`\r\n",
      "docker/Dockerfile:5 DL3045 \u001b[1m\u001b[93mwarning\u001b[0m: `COPY` to a relative destination without `WORKDIR` set.\r\n",
      "docker/Dockerfile:6 DL3003 \u001b[1m\u001b[93mwarning\u001b[0m: Use WORKDIR to switch to a directory\r\n",
      "docker/Dockerfile:6 DL3016 \u001b[1m\u001b[93mwarning\u001b[0m: Pin versions in npm. Instead of `npm install <package>` use `npm install <package>@<version>`\r\n"
     ]
    }
   ],
   "source": [
    "!hadolint docker/Dockerfile"
   ]
  },
  {
   "cell_type": "code",
   "execution_count": 56,
   "id": "c676a089",
   "metadata": {},
   "outputs": [],
   "source": [
    "!rm docker/Dockerfile"
   ]
  },
  {
   "cell_type": "markdown",
   "id": "29b867c9",
   "metadata": {},
   "source": [
    "\n",
    "<br><br><br><br><br><br><br><br>\n",
    "<img src=\"https://raw.githubusercontent.com/prettier/prettier-logo/master/images/prettier-banner-light.png\n",
    "\" style=\"height:150px ; float: left;\"> \n",
    "<br><br><br>\n",
    "\n",
    "## 5.4 prettier - HTML, Markdown, Yaml (JS, CSS...)\n"
   ]
  },
  {
   "cell_type": "code",
   "execution_count": null,
   "id": "6ea377ad",
   "metadata": {},
   "outputs": [],
   "source": [
    "!brew install prettier"
   ]
  },
  {
   "cell_type": "code",
   "execution_count": null,
   "id": "0a3af3dc",
   "metadata": {
    "scrolled": true
   },
   "outputs": [],
   "source": [
    "!prettier --check ."
   ]
  },
  {
   "cell_type": "code",
   "execution_count": null,
   "id": "b63b4c23",
   "metadata": {},
   "outputs": [],
   "source": [
    "!ls"
   ]
  },
  {
   "cell_type": "markdown",
   "id": "a5f03a47",
   "metadata": {},
   "source": [
    "\n",
    "<br><br><br><br><br><br><br><br>\n",
    "<img src=\"https://api.coala.io/en/latest/_static/images/coala_logo.svg\n",
    "\" style=\"height:150px ; float: left;\"> \n",
    "<br><br><br>\n",
    "\n",
    "## 5.4 Coala"
   ]
  },
  {
   "cell_type": "code",
   "execution_count": 57,
   "id": "6a82928e",
   "metadata": {
    "collapsed": true
   },
   "outputs": [
    {
     "name": "stdout",
     "output_type": "stream",
     "text": [
      "Requirement already satisfied: coala-bears in /Users/rjbrooker/Library/Caches/pypoetry/virtualenvs/insult-ai-nTe-_8iu-py3.9/lib/python3.9/site-packages (0.11.1)\n",
      "Requirement already satisfied: pyflakes~=1.4.0 in /Users/rjbrooker/Library/Caches/pypoetry/virtualenvs/insult-ai-nTe-_8iu-py3.9/lib/python3.9/site-packages (from coala-bears) (1.4.0)\n",
      "Requirement already satisfied: rstcheck~=2.2 in /Users/rjbrooker/Library/Caches/pypoetry/virtualenvs/insult-ai-nTe-_8iu-py3.9/lib/python3.9/site-packages (from coala-bears) (2.2)\n",
      "Requirement already satisfied: nltk~=3.2 in /Users/rjbrooker/Library/Caches/pypoetry/virtualenvs/insult-ai-nTe-_8iu-py3.9/lib/python3.9/site-packages (from coala-bears) (3.6.2)\n",
      "Requirement already satisfied: eradicate~=0.1.6 in /Users/rjbrooker/Library/Caches/pypoetry/virtualenvs/insult-ai-nTe-_8iu-py3.9/lib/python3.9/site-packages (from coala-bears) (0.1.6)\n",
      "Requirement already satisfied: mypy-lang~=0.4.6 in /Users/rjbrooker/Library/Caches/pypoetry/virtualenvs/insult-ai-nTe-_8iu-py3.9/lib/python3.9/site-packages (from coala-bears) (0.4.6)\n",
      "Requirement already satisfied: munkres3~=1.0 in /Users/rjbrooker/Library/Caches/pypoetry/virtualenvs/insult-ai-nTe-_8iu-py3.9/lib/python3.9/site-packages (from coala-bears) (1.0.5.5)\n",
      "Requirement already satisfied: dennis~=0.8 in /Users/rjbrooker/Library/Caches/pypoetry/virtualenvs/insult-ai-nTe-_8iu-py3.9/lib/python3.9/site-packages (from coala-bears) (0.9)\n",
      "Requirement already satisfied: vulture~=0.10.0 in /Users/rjbrooker/Library/Caches/pypoetry/virtualenvs/insult-ai-nTe-_8iu-py3.9/lib/python3.9/site-packages (from coala-bears) (0.10)\n",
      "Requirement already satisfied: restructuredtext-lint~=1.0.0 in /Users/rjbrooker/Library/Caches/pypoetry/virtualenvs/insult-ai-nTe-_8iu-py3.9/lib/python3.9/site-packages (from coala-bears) (1.0.1)\n",
      "Requirement already satisfied: yamllint~=1.6.1 in /Users/rjbrooker/Library/Caches/pypoetry/virtualenvs/insult-ai-nTe-_8iu-py3.9/lib/python3.9/site-packages (from coala-bears) (1.6.1)\n",
      "Requirement already satisfied: pycodestyle~=2.2 in /Users/rjbrooker/Library/Caches/pypoetry/virtualenvs/insult-ai-nTe-_8iu-py3.9/lib/python3.9/site-packages (from coala-bears) (2.7.0)\n",
      "Requirement already satisfied: cpplint~=1.3 in /Users/rjbrooker/Library/Caches/pypoetry/virtualenvs/insult-ai-nTe-_8iu-py3.9/lib/python3.9/site-packages (from coala-bears) (1.5.5)\n",
      "Requirement already satisfied: html-linter~=0.3.0 in /Users/rjbrooker/Library/Caches/pypoetry/virtualenvs/insult-ai-nTe-_8iu-py3.9/lib/python3.9/site-packages (from coala-bears) (0.3.0)\n",
      "Requirement already satisfied: autopep8~=1.2 in /Users/rjbrooker/Library/Caches/pypoetry/virtualenvs/insult-ai-nTe-_8iu-py3.9/lib/python3.9/site-packages (from coala-bears) (1.5.7)\n",
      "Requirement already satisfied: proselint~=0.7.0 in /Users/rjbrooker/Library/Caches/pypoetry/virtualenvs/insult-ai-nTe-_8iu-py3.9/lib/python3.9/site-packages (from coala-bears) (0.7.0)\n",
      "Requirement already satisfied: pyroma~=2.2.0 in /Users/rjbrooker/Library/Caches/pypoetry/virtualenvs/insult-ai-nTe-_8iu-py3.9/lib/python3.9/site-packages (from coala-bears) (2.2)\n",
      "Requirement already satisfied: radon==1.4.0 in /Users/rjbrooker/Library/Caches/pypoetry/virtualenvs/insult-ai-nTe-_8iu-py3.9/lib/python3.9/site-packages (from coala-bears) (1.4.0)\n",
      "Requirement already satisfied: cmakelint~=1.3 in /Users/rjbrooker/Library/Caches/pypoetry/virtualenvs/insult-ai-nTe-_8iu-py3.9/lib/python3.9/site-packages (from coala-bears) (1.4.1)\n",
      "Requirement already satisfied: pylint~=1.6 in /Users/rjbrooker/Library/Caches/pypoetry/virtualenvs/insult-ai-nTe-_8iu-py3.9/lib/python3.9/site-packages (from coala-bears) (1.9.4)\n",
      "Requirement already satisfied: isort~=4.2 in /Users/rjbrooker/Library/Caches/pypoetry/virtualenvs/insult-ai-nTe-_8iu-py3.9/lib/python3.9/site-packages (from coala-bears) (4.3.21)\n",
      "Requirement already satisfied: safety~=0.5.1 in /Users/rjbrooker/Library/Caches/pypoetry/virtualenvs/insult-ai-nTe-_8iu-py3.9/lib/python3.9/site-packages (from coala-bears) (0.5.1)\n",
      "Requirement already satisfied: autoflake~=0.6.6 in /Users/rjbrooker/Library/Caches/pypoetry/virtualenvs/insult-ai-nTe-_8iu-py3.9/lib/python3.9/site-packages (from coala-bears) (0.6.6)\n",
      "Requirement already satisfied: cppclean~=0.12.0 in /Users/rjbrooker/Library/Caches/pypoetry/virtualenvs/insult-ai-nTe-_8iu-py3.9/lib/python3.9/site-packages (from coala-bears) (0.12)\n",
      "Requirement already satisfied: nbformat~=4.1 in /Users/rjbrooker/Library/Caches/pypoetry/virtualenvs/insult-ai-nTe-_8iu-py3.9/lib/python3.9/site-packages (from coala-bears) (4.4.0)\n",
      "Collecting pyyaml~=3.12\n",
      "  Using cached PyYAML-3.13-cp39-cp39-macosx_11_0_x86_64.whl\n",
      "Requirement already satisfied: scspell3k~=2.0 in /Users/rjbrooker/Library/Caches/pypoetry/virtualenvs/insult-ai-nTe-_8iu-py3.9/lib/python3.9/site-packages (from coala-bears) (2.2)\n",
      "Requirement already satisfied: bandit~=1.2 in /Users/rjbrooker/Library/Caches/pypoetry/virtualenvs/insult-ai-nTe-_8iu-py3.9/lib/python3.9/site-packages (from coala-bears) (1.6.2)\n",
      "Requirement already satisfied: guess-language-spirit~=0.5.2 in /Users/rjbrooker/Library/Caches/pypoetry/virtualenvs/insult-ai-nTe-_8iu-py3.9/lib/python3.9/site-packages (from coala-bears) (0.5.3)\n",
      "Requirement already satisfied: coala~=0.11.0 in /Users/rjbrooker/Library/Caches/pypoetry/virtualenvs/insult-ai-nTe-_8iu-py3.9/lib/python3.9/site-packages (from coala-bears) (0.11.0)\n",
      "Requirement already satisfied: pydocstyle~=1.1 in /Users/rjbrooker/Library/Caches/pypoetry/virtualenvs/insult-ai-nTe-_8iu-py3.9/lib/python3.9/site-packages (from coala-bears) (1.1.1)\n",
      "Collecting click==6.6\n",
      "  Using cached click-6.6-py2.py3-none-any.whl (71 kB)\n",
      "Requirement already satisfied: yapf~=0.14.0 in /Users/rjbrooker/Library/Caches/pypoetry/virtualenvs/insult-ai-nTe-_8iu-py3.9/lib/python3.9/site-packages (from coala-bears) (0.14.0)\n",
      "Collecting colorama<0.4,>=0.3\n",
      "  Using cached colorama-0.3.9-py2.py3-none-any.whl (20 kB)\n",
      "Requirement already satisfied: mando<0.4,>=0.3 in /Users/rjbrooker/Library/Caches/pypoetry/virtualenvs/insult-ai-nTe-_8iu-py3.9/lib/python3.9/site-packages (from radon==1.4.0->coala-bears) (0.3.3)\n",
      "Requirement already satisfied: toml in /Users/rjbrooker/Library/Caches/pypoetry/virtualenvs/insult-ai-nTe-_8iu-py3.9/lib/python3.9/site-packages (from autopep8~=1.2->coala-bears) (0.10.2)\n",
      "Requirement already satisfied: six>=1.10.0 in /Users/rjbrooker/Library/Caches/pypoetry/virtualenvs/insult-ai-nTe-_8iu-py3.9/lib/python3.9/site-packages (from bandit~=1.2->coala-bears) (1.16.0)\n",
      "Requirement already satisfied: GitPython>=1.0.1 in /Users/rjbrooker/Library/Caches/pypoetry/virtualenvs/insult-ai-nTe-_8iu-py3.9/lib/python3.9/site-packages (from bandit~=1.2->coala-bears) (3.1.18)\n",
      "Requirement already satisfied: stevedore>=1.20.0 in /Users/rjbrooker/Library/Caches/pypoetry/virtualenvs/insult-ai-nTe-_8iu-py3.9/lib/python3.9/site-packages (from bandit~=1.2->coala-bears) (3.3.0)\n",
      "Requirement already satisfied: requests~=2.12 in /Users/rjbrooker/Library/Caches/pypoetry/virtualenvs/insult-ai-nTe-_8iu-py3.9/lib/python3.9/site-packages (from coala~=0.11.0->coala-bears) (2.25.1)\n",
      "Requirement already satisfied: Pygments~=2.1 in /Users/rjbrooker/Library/Caches/pypoetry/virtualenvs/insult-ai-nTe-_8iu-py3.9/lib/python3.9/site-packages (from coala~=0.11.0->coala-bears) (2.9.0)\n",
      "Requirement already satisfied: coala-utils~=0.6.2 in /Users/rjbrooker/Library/Caches/pypoetry/virtualenvs/insult-ai-nTe-_8iu-py3.9/lib/python3.9/site-packages (from coala~=0.11.0->coala-bears) (0.6.7)\n",
      "Requirement already satisfied: unidiff~=0.5.2 in /Users/rjbrooker/Library/Caches/pypoetry/virtualenvs/insult-ai-nTe-_8iu-py3.9/lib/python3.9/site-packages (from coala~=0.11.0->coala-bears) (0.5.5)\n",
      "Requirement already satisfied: dependency-management~=0.4.0 in /Users/rjbrooker/Library/Caches/pypoetry/virtualenvs/insult-ai-nTe-_8iu-py3.9/lib/python3.9/site-packages (from coala~=0.11.0->coala-bears) (0.4.0)\n",
      "Requirement already satisfied: PyPrint~=0.2.6 in /Users/rjbrooker/Library/Caches/pypoetry/virtualenvs/insult-ai-nTe-_8iu-py3.9/lib/python3.9/site-packages (from coala~=0.11.0->coala-bears) (0.2.6)\n",
      "Requirement already satisfied: appdirs~=1.4 in /Users/rjbrooker/Library/Caches/pypoetry/virtualenvs/insult-ai-nTe-_8iu-py3.9/lib/python3.9/site-packages (from coala~=0.11.0->coala-bears) (1.4.4)\n",
      "Requirement already satisfied: libclang-py3~=3.4.0 in /Users/rjbrooker/Library/Caches/pypoetry/virtualenvs/insult-ai-nTe-_8iu-py3.9/lib/python3.9/site-packages (from coala~=0.11.0->coala-bears) (3.4.0)\n",
      "Requirement already satisfied: setuptools>=17.0 in /Users/rjbrooker/Library/Caches/pypoetry/virtualenvs/insult-ai-nTe-_8iu-py3.9/lib/python3.9/site-packages (from coala~=0.11.0->coala-bears) (54.1.2)\n",
      "Requirement already satisfied: colorlog~=2.7 in /Users/rjbrooker/Library/Caches/pypoetry/virtualenvs/insult-ai-nTe-_8iu-py3.9/lib/python3.9/site-packages (from coala~=0.11.0->coala-bears) (2.10.0)\n"
     ]
    },
    {
     "name": "stdout",
     "output_type": "stream",
     "text": [
      "Requirement already satisfied: termcolor~=1.1.0 in /Users/rjbrooker/Library/Caches/pypoetry/virtualenvs/insult-ai-nTe-_8iu-py3.9/lib/python3.9/site-packages (from PyPrint~=0.2.6->coala~=0.11.0->coala-bears) (1.1.0)\n",
      "Requirement already satisfied: polib>=1.0.8 in /Users/rjbrooker/Library/Caches/pypoetry/virtualenvs/insult-ai-nTe-_8iu-py3.9/lib/python3.9/site-packages (from dennis~=0.8->coala-bears) (1.1.1)\n",
      "Requirement already satisfied: sarge~=0.1.4 in /Users/rjbrooker/Library/Caches/pypoetry/virtualenvs/insult-ai-nTe-_8iu-py3.9/lib/python3.9/site-packages (from dependency-management~=0.4.0->coala~=0.11.0->coala-bears) (0.1.6)\n",
      "Requirement already satisfied: gitdb<5,>=4.0.1 in /Users/rjbrooker/Library/Caches/pypoetry/virtualenvs/insult-ai-nTe-_8iu-py3.9/lib/python3.9/site-packages (from GitPython>=1.0.1->bandit~=1.2->coala-bears) (4.0.7)\n",
      "Requirement already satisfied: smmap<5,>=3.0.1 in /Users/rjbrooker/Library/Caches/pypoetry/virtualenvs/insult-ai-nTe-_8iu-py3.9/lib/python3.9/site-packages (from gitdb<5,>=4.0.1->GitPython>=1.0.1->bandit~=1.2->coala-bears) (4.0.0)\n",
      "Requirement already satisfied: template-remover in /Users/rjbrooker/Library/Caches/pypoetry/virtualenvs/insult-ai-nTe-_8iu-py3.9/lib/python3.9/site-packages (from html-linter~=0.3.0->coala-bears) (0.1.9)\n",
      "Requirement already satisfied: docopt>=0.6.1 in /Users/rjbrooker/Library/Caches/pypoetry/virtualenvs/insult-ai-nTe-_8iu-py3.9/lib/python3.9/site-packages (from html-linter~=0.3.0->coala-bears) (0.6.2)\n",
      "Requirement already satisfied: ipython-genutils in /Users/rjbrooker/Library/Caches/pypoetry/virtualenvs/insult-ai-nTe-_8iu-py3.9/lib/python3.9/site-packages (from nbformat~=4.1->coala-bears) (0.2.0)\n",
      "Requirement already satisfied: traitlets>=4.1 in /Users/rjbrooker/Library/Caches/pypoetry/virtualenvs/insult-ai-nTe-_8iu-py3.9/lib/python3.9/site-packages (from nbformat~=4.1->coala-bears) (5.0.5)\n",
      "Requirement already satisfied: jupyter-core in /Users/rjbrooker/Library/Caches/pypoetry/virtualenvs/insult-ai-nTe-_8iu-py3.9/lib/python3.9/site-packages (from nbformat~=4.1->coala-bears) (4.7.1)\n",
      "Requirement already satisfied: jsonschema!=2.5.0,>=2.4 in /Users/rjbrooker/Library/Caches/pypoetry/virtualenvs/insult-ai-nTe-_8iu-py3.9/lib/python3.9/site-packages (from nbformat~=4.1->coala-bears) (3.2.0)\n",
      "Requirement already satisfied: pyrsistent>=0.14.0 in /Users/rjbrooker/Library/Caches/pypoetry/virtualenvs/insult-ai-nTe-_8iu-py3.9/lib/python3.9/site-packages (from jsonschema!=2.5.0,>=2.4->nbformat~=4.1->coala-bears) (0.17.3)\n",
      "Requirement already satisfied: attrs>=17.4.0 in /Users/rjbrooker/Library/Caches/pypoetry/virtualenvs/insult-ai-nTe-_8iu-py3.9/lib/python3.9/site-packages (from jsonschema!=2.5.0,>=2.4->nbformat~=4.1->coala-bears) (21.2.0)\n",
      "Requirement already satisfied: regex in /Users/rjbrooker/Library/Caches/pypoetry/virtualenvs/insult-ai-nTe-_8iu-py3.9/lib/python3.9/site-packages (from nltk~=3.2->coala-bears) (2021.4.4)\n",
      "Requirement already satisfied: joblib in /Users/rjbrooker/Library/Caches/pypoetry/virtualenvs/insult-ai-nTe-_8iu-py3.9/lib/python3.9/site-packages (from nltk~=3.2->coala-bears) (1.0.1)\n",
      "Requirement already satisfied: tqdm in /Users/rjbrooker/Library/Caches/pypoetry/virtualenvs/insult-ai-nTe-_8iu-py3.9/lib/python3.9/site-packages (from nltk~=3.2->coala-bears) (4.61.1)\n",
      "Requirement already satisfied: future in /Users/rjbrooker/Library/Caches/pypoetry/virtualenvs/insult-ai-nTe-_8iu-py3.9/lib/python3.9/site-packages (from proselint~=0.7.0->coala-bears) (0.18.2)\n",
      "Requirement already satisfied: mccabe in /Users/rjbrooker/Library/Caches/pypoetry/virtualenvs/insult-ai-nTe-_8iu-py3.9/lib/python3.9/site-packages (from pylint~=1.6->coala-bears) (0.6.1)\n",
      "Requirement already satisfied: astroid<2.0,>=1.6 in /Users/rjbrooker/Library/Caches/pypoetry/virtualenvs/insult-ai-nTe-_8iu-py3.9/lib/python3.9/site-packages (from pylint~=1.6->coala-bears) (1.6.6)\n",
      "Requirement already satisfied: lazy-object-proxy in /Users/rjbrooker/Library/Caches/pypoetry/virtualenvs/insult-ai-nTe-_8iu-py3.9/lib/python3.9/site-packages (from astroid<2.0,>=1.6->pylint~=1.6->coala-bears) (1.6.0)\n",
      "Requirement already satisfied: wrapt in /Users/rjbrooker/Library/Caches/pypoetry/virtualenvs/insult-ai-nTe-_8iu-py3.9/lib/python3.9/site-packages (from astroid<2.0,>=1.6->pylint~=1.6->coala-bears) (1.12.1)\n",
      "Requirement already satisfied: docutils in /Users/rjbrooker/Library/Caches/pypoetry/virtualenvs/insult-ai-nTe-_8iu-py3.9/lib/python3.9/site-packages (from pyroma~=2.2.0->coala-bears) (0.17.1)\n",
      "Requirement already satisfied: urllib3<1.27,>=1.21.1 in /Users/rjbrooker/Library/Caches/pypoetry/virtualenvs/insult-ai-nTe-_8iu-py3.9/lib/python3.9/site-packages (from requests~=2.12->coala~=0.11.0->coala-bears) (1.26.5)\n",
      "Requirement already satisfied: certifi>=2017.4.17 in /Users/rjbrooker/Library/Caches/pypoetry/virtualenvs/insult-ai-nTe-_8iu-py3.9/lib/python3.9/site-packages (from requests~=2.12->coala~=0.11.0->coala-bears) (2021.5.30)\n",
      "Requirement already satisfied: chardet<5,>=3.0.2 in /Users/rjbrooker/Library/Caches/pypoetry/virtualenvs/insult-ai-nTe-_8iu-py3.9/lib/python3.9/site-packages (from requests~=2.12->coala~=0.11.0->coala-bears) (4.0.0)\n",
      "Requirement already satisfied: idna<3,>=2.5 in /Users/rjbrooker/Library/Caches/pypoetry/virtualenvs/insult-ai-nTe-_8iu-py3.9/lib/python3.9/site-packages (from requests~=2.12->coala~=0.11.0->coala-bears) (2.10)\n",
      "Collecting sphinx<1.5,>=1.3\n",
      "  Using cached Sphinx-1.4.9-py2.py3-none-any.whl (1.6 MB)\n",
      "Requirement already satisfied: packaging in /Users/rjbrooker/Library/Caches/pypoetry/virtualenvs/insult-ai-nTe-_8iu-py3.9/lib/python3.9/site-packages (from safety~=0.5.1->coala-bears) (20.9)\n",
      "Requirement already satisfied: alabaster<0.8,>=0.7 in /Users/rjbrooker/Library/Caches/pypoetry/virtualenvs/insult-ai-nTe-_8iu-py3.9/lib/python3.9/site-packages (from sphinx<1.5,>=1.3->rstcheck~=2.2->coala-bears) (0.7.12)\n",
      "Requirement already satisfied: snowballstemmer>=1.1 in /Users/rjbrooker/Library/Caches/pypoetry/virtualenvs/insult-ai-nTe-_8iu-py3.9/lib/python3.9/site-packages (from sphinx<1.5,>=1.3->rstcheck~=2.2->coala-bears) (2.1.0)\n",
      "Requirement already satisfied: Jinja2>=2.3 in /Users/rjbrooker/Library/Caches/pypoetry/virtualenvs/insult-ai-nTe-_8iu-py3.9/lib/python3.9/site-packages (from sphinx<1.5,>=1.3->rstcheck~=2.2->coala-bears) (3.0.1)\n",
      "Requirement already satisfied: imagesize in /Users/rjbrooker/Library/Caches/pypoetry/virtualenvs/insult-ai-nTe-_8iu-py3.9/lib/python3.9/site-packages (from sphinx<1.5,>=1.3->rstcheck~=2.2->coala-bears) (1.2.0)\n",
      "Requirement already satisfied: babel!=2.0,>=1.3 in /Users/rjbrooker/Library/Caches/pypoetry/virtualenvs/insult-ai-nTe-_8iu-py3.9/lib/python3.9/site-packages (from sphinx<1.5,>=1.3->rstcheck~=2.2->coala-bears) (2.9.1)\n",
      "Requirement already satisfied: pytz>=2015.7 in /Users/rjbrooker/Library/Caches/pypoetry/virtualenvs/insult-ai-nTe-_8iu-py3.9/lib/python3.9/site-packages (from babel!=2.0,>=1.3->sphinx<1.5,>=1.3->rstcheck~=2.2->coala-bears) (2021.1)\n",
      "Requirement already satisfied: MarkupSafe>=2.0 in /Users/rjbrooker/Library/Caches/pypoetry/virtualenvs/insult-ai-nTe-_8iu-py3.9/lib/python3.9/site-packages (from Jinja2>=2.3->sphinx<1.5,>=1.3->rstcheck~=2.2->coala-bears) (2.0.1)\n",
      "Requirement already satisfied: pbr!=2.1.0,>=2.0.0 in /Users/rjbrooker/Library/Caches/pypoetry/virtualenvs/insult-ai-nTe-_8iu-py3.9/lib/python3.9/site-packages (from stevedore>=1.20.0->bandit~=1.2->coala-bears) (5.6.0)\n",
      "Requirement already satisfied: pyparsing>=2.0.2 in /Users/rjbrooker/Library/Caches/pypoetry/virtualenvs/insult-ai-nTe-_8iu-py3.9/lib/python3.9/site-packages (from packaging->safety~=0.5.1->coala-bears) (2.4.7)\n",
      "Installing collected packages: colorama, sphinx, pyyaml, click\n",
      "  Attempting uninstall: sphinx\n",
      "    Found existing installation: Sphinx 4.0.2\n",
      "    Uninstalling Sphinx-4.0.2:\n",
      "      Successfully uninstalled Sphinx-4.0.2\n",
      "  Attempting uninstall: pyyaml\n",
      "    Found existing installation: PyYAML 5.4.1\n",
      "    Uninstalling PyYAML-5.4.1:\n",
      "      Successfully uninstalled PyYAML-5.4.1\n",
      "  Attempting uninstall: click\n",
      "    Found existing installation: click 8.0.1\n",
      "    Uninstalling click-8.0.1:\n",
      "      Successfully uninstalled click-8.0.1\n",
      "\u001b[31mERROR: pip's dependency resolver does not currently take into account all the packages that are installed. This behaviour is the source of the following dependency conflicts.\n",
      "sphinx-autodoc-typehints 1.12.0 requires Sphinx>=3.0, but you have sphinx 1.4.9 which is incompatible.\n",
      "insult-ai 0.1.1 requires click<9.0.0,>=8.0.1, but you have click 6.6 which is incompatible.\u001b[0m\n",
      "Successfully installed click-6.6 colorama-0.3.9 pyyaml-3.13 sphinx-1.4.9\n"
     ]
    },
    {
     "name": "stdout",
     "output_type": "stream",
     "text": [
      "\u001b[33mWARNING: You are using pip version 21.0.1; however, version 21.1.2 is available.\r\n",
      "You should consider upgrading via the '/Users/rjbrooker/Library/Caches/pypoetry/virtualenvs/insult-ai-nTe-_8iu-py3.9/bin/python -m pip install --upgrade pip' command.\u001b[0m\r\n"
     ]
    }
   ],
   "source": [
    "!poetry run pip install coala-bears "
   ]
  },
  {
   "cell_type": "code",
   "execution_count": 60,
   "id": "b69fc807",
   "metadata": {},
   "outputs": [
    {
     "name": "stdout",
     "output_type": "stream",
     "text": [
      "Overwriting .coafile\n"
     ]
    }
   ],
   "source": [
    "%%writefile  .coafile\n",
    "[all]\n",
    "enabled = True\n",
    "overridable = 3\n",
    "files = insult_ai/**.py\n",
    "bears=PEP8Bear,PyUnusedCodeBear,PyLintBear"
   ]
  },
  {
   "cell_type": "code",
   "execution_count": 63,
   "id": "4d2779de",
   "metadata": {},
   "outputs": [
    {
     "name": "stdout",
     "output_type": "stream",
     "text": [
      "Executing section all...\n",
      "Executing section cli...\n",
      "\u001b[0m"
     ]
    }
   ],
   "source": [
    "!poetry run coala "
   ]
  },
  {
   "cell_type": "markdown",
   "id": "73798aa2",
   "metadata": {},
   "source": [
    "\n",
    "<br><br><br><br><br><br><br><br>\n",
    "<img src=\"https://pre-commit.com/logo.svg\n",
    "\" style=\"height:150px ; float: left;\"> \n",
    "<br><br><br>\n",
    "\n",
    "## 5.4 [pre-commit](https://pre-commit.com/)\n",
    "\n"
   ]
  },
  {
   "cell_type": "code",
   "execution_count": null,
   "id": "eefa6c48",
   "metadata": {},
   "outputs": [],
   "source": [
    "!pip install pre-commit"
   ]
  },
  {
   "cell_type": "code",
   "execution_count": null,
   "id": "96fdd5e0",
   "metadata": {},
   "outputs": [],
   "source": [
    "%%writefile  .pre-commit-config.yaml\n",
    "\n",
    "repos:\n",
    "-   repo: https://github.com/pre-commit/pre-commit-hooks\n",
    "    rev: v2.3.0\n",
    "    hooks:\n",
    "    -   id: check-yaml\n",
    "    -   id: end-of-file-fixer\n",
    "    -   id: trailing-whitespace\n",
    "-   repo: https://github.com/psf/black\n",
    "    rev: 19.3b0\n",
    "    hooks:\n",
    "    -   id: black"
   ]
  },
  {
   "cell_type": "code",
   "execution_count": null,
   "id": "1e382ec9",
   "metadata": {},
   "outputs": [],
   "source": [
    "!pre-commit install"
   ]
  },
  {
   "cell_type": "markdown",
   "id": "6e601da9",
   "metadata": {},
   "source": [
    "now pre-commit will run automatically on git commit"
   ]
  },
  {
   "cell_type": "markdown",
   "id": "75e09c9b",
   "metadata": {},
   "source": [
    "\n",
    "## 5.4 [Pycodestyle](https://pycodestyle.pycqa.org/en/latest/)\n",
    "\n",
    "Linting in Jupyter notebooks."
   ]
  },
  {
   "cell_type": "code",
   "execution_count": null,
   "id": "efe950e4",
   "metadata": {},
   "outputs": [],
   "source": [
    "!pip install pycodestyle pycodestyle_magic flake8 -q"
   ]
  },
  {
   "cell_type": "code",
   "execution_count": 66,
   "id": "bdf1537f",
   "metadata": {},
   "outputs": [
    {
     "name": "stdout",
     "output_type": "stream",
     "text": [
      "The pycodestyle_magic extension is already loaded. To reload it, use:\n",
      "  %reload_ext pycodestyle_magic\n"
     ]
    }
   ],
   "source": [
    "%load_ext pycodestyle_magic"
   ]
  },
  {
   "cell_type": "code",
   "execution_count": 67,
   "id": "4228da61",
   "metadata": {},
   "outputs": [
    {
     "name": "stderr",
     "output_type": "stream",
     "text": [
      "4:23: W291 trailing whitespace\n",
      "7:1: W391 blank line at end of file\n"
     ]
    }
   ],
   "source": [
    "%%pycodestyle\n",
    "\n",
    "def square_of_number(\n",
    "     num1, num2, num3, \n",
    "     num4):\n",
    "    return num1**2, num2**2, num3*\n"
   ]
  },
  {
   "cell_type": "markdown",
   "id": "31ba80d8",
   "metadata": {},
   "source": [
    "# 6. Typing "
   ]
  },
  {
   "cell_type": "markdown",
   "id": "691700a4",
   "metadata": {},
   "source": [
    "## 6.1 Type Hints"
   ]
  },
  {
   "cell_type": "code",
   "execution_count": null,
   "id": "2a3424c8",
   "metadata": {},
   "outputs": [],
   "source": [
    "from typing import List\n",
    "\n",
    "# This is a variable holding an integer.\n",
    "a : int = 42\n",
    "\n",
    "# This is a function which accepts and returns an integer.\n",
    "def increment(number: List[int]) -> int:\n",
    "    return sum(number)"
   ]
  },
  {
   "cell_type": "markdown",
   "id": "9ddd3703",
   "metadata": {},
   "source": [
    "## 6.2 Type Annotations"
   ]
  },
  {
   "cell_type": "code",
   "execution_count": null,
   "id": "a045ba1a",
   "metadata": {},
   "outputs": [],
   "source": [
    "from __future__ import annotations\n",
    "from typing import Annotated\n",
    "from typing import List\n",
    "\n",
    "# create a new type\n",
    "Intlist = Annotated[ List[int], 'Some meaningless list of integers.' ]\n",
    "\n",
    "def sum_list( numbers: Intlist ) -> int:\n",
    "    return sum(numbers)"
   ]
  },
  {
   "cell_type": "markdown",
   "id": "223bff31",
   "metadata": {},
   "source": [
    "\n",
    "<br><br><br><br><br><br><br><br>\n",
    "<img src=\"https://camo.githubusercontent.com/20e0f72b4f84dc5b42aceb95eb8eaa6c574746c0057e9e2525dd6cb4797d565f/687474703a2f2f6d7970792d6c616e672e6f72672f7374617469632f6d7970795f6c696768742e737667\" style=\"height:50px ; float: left;\"> \n",
    "\n",
    "## 6.3 [Mypy](https://github.com/python/mypy) - : Optional Static Typing for Python\n",
    "\n",
    "Static type checking with mypy\n"
   ]
  },
  {
   "cell_type": "code",
   "execution_count": null,
   "id": "d20b7ccc",
   "metadata": {
    "scrolled": true
   },
   "outputs": [],
   "source": [
    "# install \n",
    "!poetry add --dev mypy -q"
   ]
  },
  {
   "cell_type": "markdown",
   "id": "f1d0f218",
   "metadata": {},
   "source": [
    "Call mypy from nox,"
   ]
  },
  {
   "cell_type": "code",
   "execution_count": 68,
   "id": "fd160518",
   "metadata": {},
   "outputs": [
    {
     "name": "stdout",
     "output_type": "stream",
     "text": [
      "Appending to noxfile.py\n"
     ]
    }
   ],
   "source": [
    "%%writefile -a noxfile.py\n",
    "\n",
    "@nox.session(python=[\"3.8\", \"3.9\"])\n",
    "def mypy(session) -> None:\n",
    "    args = session.posargs or locations\n",
    "    session.install(\"mypy\")\n",
    "    session.run(\"mypy\", *args)"
   ]
  },
  {
   "cell_type": "markdown",
   "id": "8f551b2b",
   "metadata": {},
   "source": [
    "Mypy raises an error if it cannot find any type definitions for a Python package used by your program. "
   ]
  },
  {
   "cell_type": "code",
   "execution_count": null,
   "id": "dd93ae08",
   "metadata": {},
   "outputs": [],
   "source": [
    "%%writefile mypy.ini\n",
    "[mypy]\n",
    "ignore_missing_imports = True\n",
    "\n",
    "[mypy-nox.*,pytest]\n",
    "ignore_missing_imports = True"
   ]
  },
  {
   "cell_type": "code",
   "execution_count": null,
   "id": "c9c00baa",
   "metadata": {},
   "outputs": [],
   "source": [
    "!nox -rs mypy"
   ]
  },
  {
   "cell_type": "markdown",
   "id": "e587da91",
   "metadata": {},
   "source": [
    "## 6.4 [pytype](https://github.com/google/pytype) 🦆✔\n",
    "\n",
    "Pytype checks and infers types for your Python code - without requiring type annotations.  It infer types on code even when the code has no type hints on it.\n",
    "\n",
    "You need a Python 3.6-3.8 interpreter to run pytype. "
   ]
  },
  {
   "cell_type": "code",
   "execution_count": null,
   "id": "4c795ffb",
   "metadata": {},
   "outputs": [],
   "source": [
    "!poetry add --dev --python=3.8 pytype -q"
   ]
  },
  {
   "cell_type": "code",
   "execution_count": 69,
   "id": "fdaf13fc",
   "metadata": {},
   "outputs": [
    {
     "name": "stdout",
     "output_type": "stream",
     "text": [
      "Appending to noxfile.py\n"
     ]
    }
   ],
   "source": [
    "%%writefile -a noxfile.py\n",
    "\n",
    "@nox.session(python=\"3.8\")\n",
    "def pytype(session):\n",
    "    \"\"\"Run the static type checker.\"\"\"\n",
    "    args = session.posargs or [\"--disable=import-error\", *locations]\n",
    "    session.install(\"pytype\")\n",
    "    session.run(\"pytype\", *args)"
   ]
  },
  {
   "cell_type": "code",
   "execution_count": 70,
   "id": "351b30c2",
   "metadata": {},
   "outputs": [
    {
     "name": "stdout",
     "output_type": "stream",
     "text": [
      "Writing insult_ai/tmp.py\n"
     ]
    }
   ],
   "source": [
    "%%writefile insult_ai/tmp.py\n",
    "\n",
    "def f():\n",
    "    return \"2021\"\n",
    "\n",
    "def g():\n",
    "    return f() + 6\n"
   ]
  },
  {
   "cell_type": "code",
   "execution_count": 71,
   "id": "f6abc7e9",
   "metadata": {},
   "outputs": [
    {
     "name": "stdout",
     "output_type": "stream",
     "text": [
      "\u001b[36mnox > \u001b[33mRunning session pytype\u001b[0m\n",
      "\u001b[36mnox > \u001b[34mCreating virtual environment (virtualenv) using python3.8 in .nox/pytype\u001b[0m\n",
      "\u001b[36mnox > \u001b[34mpython -m pip install pytype\u001b[0m\n",
      "\u001b[36mnox > \u001b[34mpytype --disable=import-error insult_ai tests noxfile.py\u001b[0m\n",
      "Computing dependencies\n",
      "Analyzing 6 sources with 0 local dependencies\n",
      "ninja: Entering directory `.pytype'\n",
      "[6/6] check insult_ai.tmp\u001b[Kt_ai\u001b[K\n",
      "\u001b[31mFAILED: \u001b[0m/Users/rjbrooker/Documents/github_repos/modern-python-tutorial/insult-ai/.pytype/pyi/insult_ai/tmp.pyi \n",
      "/Users/rjbrooker/Documents/github_repos/modern-python-tutorial/insult-ai/.nox/pytype/bin/python -m pytype.single --disable import-error --imports_info /Users/rjbrooker/Documents/github_repos/modern-python-tutorial/insult-ai/.pytype/imports/insult_ai.tmp.imports --module-name insult_ai.tmp -V 3.8 -o /Users/rjbrooker/Documents/github_repos/modern-python-tutorial/insult-ai/.pytype/pyi/insult_ai/tmp.pyi --analyze-annotated --nofail --quick /Users/rjbrooker/Documents/github_repos/modern-python-tutorial/insult-ai/insult_ai/tmp.py\n",
      "File \"/Users/rjbrooker/Documents/github_repos/modern-python-tutorial/insult-ai/insult_ai/tmp.py\", line 6, in g: unsupported operand type(s) for +: 'str' and 'int' [unsupported-operands]\n",
      "  Function __add__ on str expects str\n",
      "\n",
      "For more details, see https://google.github.io/pytype/errors.html#unsupported-operands\n",
      "ninja: build stopped: subcommand failed.\n",
      "Leaving directory '.pytype'\n",
      "\u001b[36mnox > \u001b[31mCommand pytype --disable=import-error insult_ai tests noxfile.py failed with exit code 1\u001b[0m\n",
      "\u001b[36mnox > \u001b[31mSession pytype failed.\u001b[0m\n"
     ]
    }
   ],
   "source": [
    "!nox -rs pytype"
   ]
  },
  {
   "cell_type": "code",
   "execution_count": 72,
   "id": "ef924258",
   "metadata": {},
   "outputs": [
    {
     "name": "stdout",
     "output_type": "stream",
     "text": [
      "\u001b[36mnox > \u001b[33mRunning session pytype\u001b[0m\n",
      "\u001b[36mnox > \u001b[36mRe-using existing virtual environment at .nox/pytype.\u001b[0m\n",
      "\u001b[36mnox > \u001b[34mpython -m pip install pytype\u001b[0m\n",
      "\u001b[36mnox > \u001b[34mpytype --disable=import-error insult_ai tests noxfile.py\u001b[0m\n",
      "Computing dependencies\n",
      "Analyzing 5 sources with 0 local dependencies\n",
      "ninja: Entering directory `.pytype'\n",
      "ninja: no work to do.\n",
      "Leaving directory '.pytype'\n",
      "Success: no errors found\n",
      "\u001b[36mnox > \u001b[32mSession pytype was successful.\u001b[0m\n"
     ]
    }
   ],
   "source": [
    "!rm insult_ai/tmp.py\n",
    "!nox -rs pytype"
   ]
  },
  {
   "cell_type": "markdown",
   "id": "5b8c7d30",
   "metadata": {},
   "source": [
    "## 6.7 [Pydantic](https://pydantic-docs.helpmanual.io/)"
   ]
  },
  {
   "cell_type": "code",
   "execution_count": null,
   "id": "a10c13f4",
   "metadata": {},
   "outputs": [],
   "source": [
    "!pip install pydantic -q"
   ]
  },
  {
   "cell_type": "markdown",
   "id": "1dba43f2",
   "metadata": {},
   "source": [
    "Simple type validations, "
   ]
  },
  {
   "cell_type": "code",
   "execution_count": 73,
   "id": "1f148211",
   "metadata": {},
   "outputs": [],
   "source": [
    "from pydantic import validate_arguments\n",
    "\n",
    "@validate_arguments\n",
    "def pos_or_kw(a: int, b: int = 2) -> str:\n",
    "    return f'a={a} b={b}'"
   ]
  },
  {
   "cell_type": "code",
   "execution_count": 74,
   "id": "714c7dc1",
   "metadata": {},
   "outputs": [
    {
     "ename": "ValidationError",
     "evalue": "1 validation error for PosOrKw\na\n  value is not a valid integer (type=type_error.integer)",
     "output_type": "error",
     "traceback": [
      "\u001b[0;31m---------------------------------------------------------------------------\u001b[0m",
      "\u001b[0;31mValidationError\u001b[0m                           Traceback (most recent call last)",
      "\u001b[0;32m<ipython-input-74-0586155c0f69>\u001b[0m in \u001b[0;36m<module>\u001b[0;34m\u001b[0m\n\u001b[0;32m----> 1\u001b[0;31m \u001b[0mpos_or_kw\u001b[0m\u001b[0;34m(\u001b[0m\u001b[0;34m'a'\u001b[0m\u001b[0;34m,\u001b[0m\u001b[0;34m'5'\u001b[0m\u001b[0;34m)\u001b[0m\u001b[0;34m\u001b[0m\u001b[0;34m\u001b[0m\u001b[0m\n\u001b[0m",
      "\u001b[0;32m~/.pyenv/versions/3.9.5/lib/python3.9/site-packages/pydantic/decorator.cpython-39-darwin.so\u001b[0m in \u001b[0;36mpydantic.decorator.validate_arguments.validate.wrapper_function\u001b[0;34m()\u001b[0m\n",
      "\u001b[0;32m~/.pyenv/versions/3.9.5/lib/python3.9/site-packages/pydantic/decorator.cpython-39-darwin.so\u001b[0m in \u001b[0;36mpydantic.decorator.ValidatedFunction.call\u001b[0;34m()\u001b[0m\n",
      "\u001b[0;32m~/.pyenv/versions/3.9.5/lib/python3.9/site-packages/pydantic/decorator.cpython-39-darwin.so\u001b[0m in \u001b[0;36mpydantic.decorator.ValidatedFunction.init_model_instance\u001b[0;34m()\u001b[0m\n",
      "\u001b[0;32m~/.pyenv/versions/3.9.5/lib/python3.9/site-packages/pydantic/main.cpython-39-darwin.so\u001b[0m in \u001b[0;36mpydantic.main.BaseModel.__init__\u001b[0;34m()\u001b[0m\n",
      "\u001b[0;31mValidationError\u001b[0m: 1 validation error for PosOrKw\na\n  value is not a valid integer (type=type_error.integer)"
     ]
    }
   ],
   "source": [
    "pos_or_kw('a','5')"
   ]
  },
  {
   "cell_type": "markdown",
   "id": "0318a46e",
   "metadata": {},
   "source": [
    "More complicated validations, "
   ]
  },
  {
   "cell_type": "code",
   "execution_count": 75,
   "id": "d3e9fea3",
   "metadata": {},
   "outputs": [],
   "source": [
    "from pydantic import validate_arguments\n",
    "from pydantic import BaseModel\n",
    "\n",
    "\n",
    "class User(BaseModel):\n",
    "    a: int\n",
    "    b: int = 1\n",
    "\n",
    "@validate_arguments\n",
    "def pos_or_kw( values : User ) -> str:\n",
    "    return f'a={a} b={b}'.format(**values.dict())"
   ]
  },
  {
   "cell_type": "code",
   "execution_count": 76,
   "id": "e871fa40",
   "metadata": {},
   "outputs": [
    {
     "ename": "ValidationError",
     "evalue": "1 validation error for PosOrKw\nvalues -> b\n  value is not a valid integer (type=type_error.integer)",
     "output_type": "error",
     "traceback": [
      "\u001b[0;31m---------------------------------------------------------------------------\u001b[0m",
      "\u001b[0;31mValidationError\u001b[0m                           Traceback (most recent call last)",
      "\u001b[0;32m<ipython-input-76-6fd5dcccec99>\u001b[0m in \u001b[0;36m<module>\u001b[0;34m\u001b[0m\n\u001b[0;32m----> 1\u001b[0;31m \u001b[0mpos_or_kw\u001b[0m\u001b[0;34m(\u001b[0m\u001b[0;34m{\u001b[0m\u001b[0;34m'a'\u001b[0m\u001b[0;34m:\u001b[0m\u001b[0;36m1\u001b[0m\u001b[0;34m,\u001b[0m \u001b[0;34m'b'\u001b[0m\u001b[0;34m:\u001b[0m \u001b[0;34m'a'\u001b[0m\u001b[0;34m}\u001b[0m\u001b[0;34m)\u001b[0m\u001b[0;34m\u001b[0m\u001b[0;34m\u001b[0m\u001b[0m\n\u001b[0m",
      "\u001b[0;32m~/.pyenv/versions/3.9.5/lib/python3.9/site-packages/pydantic/decorator.cpython-39-darwin.so\u001b[0m in \u001b[0;36mpydantic.decorator.validate_arguments.validate.wrapper_function\u001b[0;34m()\u001b[0m\n",
      "\u001b[0;32m~/.pyenv/versions/3.9.5/lib/python3.9/site-packages/pydantic/decorator.cpython-39-darwin.so\u001b[0m in \u001b[0;36mpydantic.decorator.ValidatedFunction.call\u001b[0;34m()\u001b[0m\n",
      "\u001b[0;32m~/.pyenv/versions/3.9.5/lib/python3.9/site-packages/pydantic/decorator.cpython-39-darwin.so\u001b[0m in \u001b[0;36mpydantic.decorator.ValidatedFunction.init_model_instance\u001b[0;34m()\u001b[0m\n",
      "\u001b[0;32m~/.pyenv/versions/3.9.5/lib/python3.9/site-packages/pydantic/main.cpython-39-darwin.so\u001b[0m in \u001b[0;36mpydantic.main.BaseModel.__init__\u001b[0;34m()\u001b[0m\n",
      "\u001b[0;31mValidationError\u001b[0m: 1 validation error for PosOrKw\nvalues -> b\n  value is not a valid integer (type=type_error.integer)"
     ]
    }
   ],
   "source": [
    "pos_or_kw({'a':1, 'b': 'a'})"
   ]
  },
  {
   "cell_type": "markdown",
   "id": "cb155bcd",
   "metadata": {},
   "source": [
    "## 6.8 [Typeguard](https://github.com/agronholm/typeguard) - Runtime type checking\n",
    "\n",
    "It checks that arguments match parameter types of annotated functions as your program is being executed\n"
   ]
  },
  {
   "cell_type": "code",
   "execution_count": null,
   "id": "b4538331",
   "metadata": {},
   "outputs": [],
   "source": [
    "!poetry add --dev typeguard"
   ]
  },
  {
   "cell_type": "code",
   "execution_count": null,
   "id": "f51b5350",
   "metadata": {},
   "outputs": [],
   "source": [
    "!tree"
   ]
  },
  {
   "cell_type": "code",
   "execution_count": null,
   "id": "817c3138",
   "metadata": {},
   "outputs": [],
   "source": [
    "%%writefile tests/test_insult_ai.py\n",
    "import click.testing\n",
    "import pytest\n",
    "from insult_ai import console\n",
    "\n",
    "def test_insult_me_succeeds():\n",
    "    console.insult_me(1)\n"
   ]
  },
  {
   "cell_type": "code",
   "execution_count": null,
   "id": "967c3f42",
   "metadata": {},
   "outputs": [],
   "source": [
    "%%writefile -a noxfile.py\n",
    "\n",
    "package = \"insult_ai\"\n",
    "@nox.session(python=[\"3.8\", \"3.9\"])\n",
    "def typeguard(session):\n",
    "    args = session.posargs or [\"-m\", \"not e2e\"]\n",
    "    session.run(\"poetry\", \"install\", \"--no-dev\", external=True)\n",
    "    session.install(\"pytest\", \"pytest-mock\", \"typeguard\")\n",
    "    session.run(\"pytest\", f\"--typeguard-packages={package}\", *args)"
   ]
  },
  {
   "cell_type": "code",
   "execution_count": null,
   "id": "c7233e48",
   "metadata": {},
   "outputs": [],
   "source": [
    "!nox -rs typeguard\n"
   ]
  },
  {
   "cell_type": "markdown",
   "id": "6ade9b22",
   "metadata": {},
   "source": [
    "## 6.9 flake8-annotations\n",
    "\n",
    "Detects the absence of PEP 3107-style function annotations"
   ]
  },
  {
   "cell_type": "code",
   "execution_count": null,
   "id": "adcd1e85",
   "metadata": {},
   "outputs": [],
   "source": [
    "!poetry add --dev flake8-annotations -q"
   ]
  },
  {
   "cell_type": "code",
   "execution_count": null,
   "id": "dab9b68c",
   "metadata": {},
   "outputs": [],
   "source": [
    "%%writefile -a noxfile.py\n",
    "\n",
    "@nox.session(python=[\"3.8\", \"3.9\"])\n",
    "def lint(session):\n",
    "    args = session.posargs or locations\n",
    "    session.install(\n",
    "        \"flake8\",\n",
    "        \"flake8-annotations\",\n",
    "        \"flake8-bandit\",\n",
    "        \"flake8-black\",\n",
    "        \"flake8-bugbear\",\n",
    "        \"flake8-import-order\",\n",
    "    )\n",
    "    session.run(\"flake8\", *args)"
   ]
  },
  {
   "cell_type": "code",
   "execution_count": null,
   "id": "06af41e8",
   "metadata": {},
   "outputs": [],
   "source": [
    "%%writefile .flake8\n",
    "[flake8]\n",
    "select = ANN,B,B9,BLK,C,E,F,I,S,W\n",
    "per-file-ignores =\n",
    "    tests/*:S101,ANN\n",
    "    noxfile.py:ANN"
   ]
  },
  {
   "cell_type": "code",
   "execution_count": null,
   "id": "06206e95",
   "metadata": {},
   "outputs": [],
   "source": [
    "%%writefile .flake8\n",
    "[MASTER]\n",
    "init-hook=\"from pylint.config import find_pylintrc; import os, sys; sys.path.append(os.path.dirname(find_pylintrc()))\""
   ]
  },
  {
   "cell_type": "code",
   "execution_count": null,
   "id": "4b18dde6",
   "metadata": {
    "scrolled": true
   },
   "outputs": [],
   "source": [
    "!nox -rs lint"
   ]
  },
  {
   "cell_type": "code",
   "execution_count": null,
   "id": "6f308926",
   "metadata": {},
   "outputs": [],
   "source": []
  },
  {
   "cell_type": "markdown",
   "id": "12484f04",
   "metadata": {},
   "source": [
    "## 6.10 Python docstrings\n",
    "\n",
    "Style types,\n",
    "#### Google  - https://google.github.io/styleguide/pyguide.html"
   ]
  },
  {
   "cell_type": "code",
   "execution_count": null,
   "id": "ca085692",
   "metadata": {},
   "outputs": [],
   "source": [
    "\n",
    "\"\"\"\n",
    "This is an example of Google style.\n",
    "\n",
    "Args:\n",
    "    param1: This is the first param.\n",
    "    param2: This is a second param.\n",
    "\n",
    "Returns:\n",
    "    This is a description of what is returned.\n",
    "\n",
    "Raises:\n",
    "    KeyError: Raises an exception.\n",
    "\"\"\""
   ]
  },
  {
   "cell_type": "markdown",
   "id": "016e7bd9",
   "metadata": {},
   "source": [
    "#### reST"
   ]
  },
  {
   "cell_type": "code",
   "execution_count": null,
   "id": "11f4f504",
   "metadata": {},
   "outputs": [],
   "source": [
    "\"\"\"\n",
    "This is a reST style.\n",
    "\n",
    ":param param1: this is a first param\n",
    ":param param2: this is a second param\n",
    ":returns: this is a description of what is returned\n",
    ":raises keyError: raises an exception\n",
    "\"\"\""
   ]
  },
  {
   "cell_type": "markdown",
   "id": "c681c363",
   "metadata": {},
   "source": [
    "#### Numpydoc - https://numpydoc.readthedocs.io/en/latest/"
   ]
  },
  {
   "cell_type": "code",
   "execution_count": null,
   "id": "c26edf1d",
   "metadata": {},
   "outputs": [],
   "source": [
    "\"\"\"\n",
    "My numpydoc description of a kind\n",
    "of very exhautive numpydoc format docstring.\n",
    "\n",
    "Parameters\n",
    "----------\n",
    "first : array_like\n",
    "    the 1st param name `first`\n",
    "second :\n",
    "    the 2nd param\n",
    "third : {'value', 'other'}, optional\n",
    "    the 3rd param, by default 'value'\n",
    "\n",
    "Returns\n",
    "-------\n",
    "string\n",
    "    a value in a string\n",
    "\n",
    "Raises\n",
    "------\n",
    "KeyError\n",
    "    when a key error\n",
    "OtherError\n",
    "    when an other error\n",
    "\"\"\""
   ]
  },
  {
   "cell_type": "markdown",
   "id": "45ab1818",
   "metadata": {},
   "source": [
    "<br><br><br>\n",
    "Add some docstrings,"
   ]
  },
  {
   "cell_type": "code",
   "execution_count": null,
   "id": "a2c16167",
   "metadata": {},
   "outputs": [],
   "source": [
    "!open insult_ai/__init__.py"
   ]
  },
  {
   "cell_type": "code",
   "execution_count": 102,
   "id": "9d02e25b",
   "metadata": {},
   "outputs": [
    {
     "name": "stdout",
     "output_type": "stream",
     "text": [
      "Overwriting insult_ai/__init__.py\n"
     ]
    }
   ],
   "source": [
    "%%writefile insult_ai/__init__.py\n",
    "\"\"\"Insult-ai python package.\"\"\"\n",
    "__version__ = '0.2.0'"
   ]
  },
  {
   "cell_type": "code",
   "execution_count": 78,
   "id": "490f4f74",
   "metadata": {},
   "outputs": [
    {
     "name": "stdout",
     "output_type": "stream",
     "text": [
      "Overwriting insult_ai/console.py\n"
     ]
    }
   ],
   "source": [
    "%%writefile insult_ai/console.py\n",
    "\n",
    "\"\"\"Command-line interface. A command line tool for using Detoxify.py\"\"\"\n",
    "import click\n",
    "from . import __version__\n",
    "from detoxify import Detoxify\n",
    "import pandas as pd \n",
    "\n",
    "@click.command()\n",
    "@click.option('--message', default=\"\", help='A message to send to insult-ai.')\n",
    "@click.version_option(version=__version__)\n",
    "def insult_me(\n",
    "        message : str \n",
    "    ):\n",
    "    \"\"\"\n",
    "    A command line tool for .\n",
    "    \n",
    "    Calls Detoxify.py 'original' model and returns the results. \n",
    "    \n",
    "    Args:\n",
    "        message: A message to be sent to the sentiment analysis model.\n",
    "    \n",
    "    Returns:\n",
    "        None\n",
    "    \n",
    "    \"\"\"\n",
    "    \n",
    "    #load model\n",
    "    model = Detoxify('original')\n",
    "    \n",
    "    #predict toxicity\n",
    "    results = model.predict(message)\n",
    "    \n",
    "    #echo results\n",
    "    click.echo(pd.Series(results))\n"
   ]
  },
  {
   "cell_type": "markdown",
   "id": "5d833a7e",
   "metadata": {},
   "source": [
    "## 6.11 Flake8-docstrings\n",
    "\n",
    "Check that docstrings are compliant with the style recommendations of PEP 257. Warnings range from missing docstrings to issues with whitespace, quoting, and docstring content.\n"
   ]
  },
  {
   "cell_type": "code",
   "execution_count": null,
   "id": "2ff743b8",
   "metadata": {},
   "outputs": [],
   "source": [
    "!poetry add --dev flake8-docstrings -q"
   ]
  },
  {
   "cell_type": "code",
   "execution_count": null,
   "id": "9a3257f0",
   "metadata": {},
   "outputs": [],
   "source": [
    "%%writefile noxfile.py\n",
    "\n",
    "import nox\n",
    "from nox.sessions import Session\n",
    "\n",
    "locations = \"insult_ai\", \"tests\", \"noxfile.py\"\n",
    "\n",
    "@nox.session(python=[\"3.8\", \"3.9\"])\n",
    "def lint(session) -> None:\n",
    "    args = session.posargs or locations\n",
    "    session.install('black')\n",
    "    session.run(\"black\", *args)\n",
    "    session.install(\n",
    "        \"flake8\",\n",
    "        \"flake8-annotations\",\n",
    "        \"flake8-bandit\",\n",
    "        \"flake8-black\",\n",
    "        \"flake8-bugbear\",\n",
    "        \"flake8-docstrings\",\n",
    "        \"flake8-import-order\",\n",
    "    )\n",
    "    session.run(\"flake8\", *args)"
   ]
  },
  {
   "cell_type": "code",
   "execution_count": null,
   "id": "4ac4ee5f",
   "metadata": {},
   "outputs": [],
   "source": [
    "%%writefile .flake8\n",
    "select = ANN,B,B9,BLK,C,D,E,F,I,S,W\n",
    "docstring-convention = google"
   ]
  },
  {
   "cell_type": "code",
   "execution_count": null,
   "id": "38deeb5e",
   "metadata": {
    "scrolled": true
   },
   "outputs": [],
   "source": [
    "!nox -rs lint"
   ]
  },
  {
   "cell_type": "markdown",
   "id": "5cdc91aa",
   "metadata": {},
   "source": [
    "<br><br><br><br><br><br><br><br>\n",
    "<img src=\"https://camo.githubusercontent.com/b38b75eb87e0170e4a72323babb2ec8c00a467c6509d862b39b7497af9d3f57a/68747470733a2f2f692e696d6775722e636f6d2f7530745959784d2e706e67\" style=\"height:100px ; float: left;\"> \n",
    "# 6.12. xdoctest"
   ]
  },
  {
   "cell_type": "code",
   "execution_count": 123,
   "id": "d02fad2d",
   "metadata": {},
   "outputs": [
    {
     "name": "stdout",
     "output_type": "stream",
     "text": [
      "Overwriting insult_ai/console.py\n"
     ]
    }
   ],
   "source": [
    "%%writefile insult_ai/console.py\n",
    "\"\"\"Command-line interface. A command line tool for using Detoxify.py\"\"\"\n",
    "import click\n",
    "from . import __version__\n",
    "from detoxify import Detoxify\n",
    "import pandas as pd \n",
    "\n",
    "@click.command()\n",
    "@click.version_option(version=__version__)\n",
    "@click.option('--message', default=\"\", help='A message to send to insult-ai.')\n",
    "@click.version_option(version=__version__)\n",
    "def insult_me(\n",
    "        message : str \n",
    "    ):\n",
    "    \"\"\"\n",
    "    A command line tool for .\n",
    "    \n",
    "    Calls Detoxify.py 'original' model and returns the results. \n",
    "    \n",
    "    Args:\n",
    "        message: A message to be sent to the sentiment analysis model.\n",
    "    \n",
    "    Returns:\n",
    "        None\n",
    "    \n",
    "    Example:\n",
    "        >>> import click.testing\n",
    "        >>> runner = click.testing.CliRunner()\n",
    "        >>> result = runner.invoke(insult_me, ['--message=\"You look nice.\"'])\n",
    "        >>> print(result.exit_code)\n",
    "        0\n",
    "    \"\"\"\n",
    "    \n",
    "    #load model\n",
    "    model = Detoxify('original')\n",
    "    \n",
    "    #predict toxicity\n",
    "    results = model.predict(message)\n",
    "    \n",
    "    #echo results\n",
    "    click.echo(pd.Series(results))\n"
   ]
  },
  {
   "cell_type": "code",
   "execution_count": 104,
   "id": "a7259199",
   "metadata": {},
   "outputs": [],
   "source": [
    "!poetry add --dev xdoctest -q"
   ]
  },
  {
   "cell_type": "code",
   "execution_count": 105,
   "id": "f62c64e0",
   "metadata": {},
   "outputs": [
    {
     "name": "stdout",
     "output_type": "stream",
     "text": [
      "Appending to noxfile.py\n"
     ]
    }
   ],
   "source": [
    "%%writefile -a noxfile.py\n",
    "\n",
    "@nox.session(python=[\"3.9\"])\n",
    "def xdoctest(session) -> None:\n",
    "    \"\"\"Run examples with xdoctest.\"\"\"\n",
    "    args = session.posargs or [\"all\"]\n",
    "    session.run(\"poetry\", \"install\", \"--no-dev\", external=True)\n",
    "    session.install(\"xdoctest\", \"pygments\")\n",
    "    session.run(\"python\", \"-m\", \"xdoctest\", 'insult_ai', *args)\n"
   ]
  },
  {
   "cell_type": "code",
   "execution_count": null,
   "id": "f73561cb",
   "metadata": {},
   "outputs": [],
   "source": [
    "!nox -rs xdoctest "
   ]
  },
  {
   "cell_type": "markdown",
   "id": "d9a9ae43",
   "metadata": {},
   "source": [
    "<br><br><br><br><br><br><br><br>\n",
    "<img src=\"https://i0.wp.com/blog.fossasia.org/wp-content/uploads/2017/07/sphinxdoc-450.png?fit=800%2C800&ssl=1\" style=\"height:150px ; float: left;\"> \n",
    "<br><br><br>\n",
    "\n",
    "## 6.13 [sphinx](https://www.sphinx-doc.org/en/master/)"
   ]
  },
  {
   "cell_type": "code",
   "execution_count": 82,
   "id": "23de905c",
   "metadata": {},
   "outputs": [
    {
     "name": "stdout",
     "output_type": "stream",
     "text": [
      "Using version \u001b[1m^4.0.2\u001b[0m for \u001b[36mSphinx\u001b[0m\n",
      "\n",
      "\u001b[34mUpdating dependencies\u001b[0m\n",
      "\u001b[2K\u001b[34mResolving dependencies...\u001b[0m \u001b[39;2m(7.0s)\u001b[0m\u001b[34mResolving dependencies...\u001b[0m \u001b[39;2m(4.8s)\u001b[0m\u001b[34mResolving dependencies...\u001b[0m \u001b[39;2m(6.9s)\u001b[0m\u001b[34mResolving dependencies...\u001b[0m \u001b[39;2m(7.2s)\u001b[0m\n",
      "\n",
      "\u001b[34mWriting lock file\u001b[0m\n",
      "\n",
      "\u001b[1mPackage operations\u001b[0m: \u001b[34m0\u001b[0m installs, \u001b[34m1\u001b[0m update, \u001b[34m0\u001b[0m removals\n",
      "\n",
      "  \u001b[34;1m•\u001b[0m \u001b[39mUpdating \u001b[0m\u001b[36msphinx\u001b[0m\u001b[39m (\u001b[0m\u001b[39;1m1.4.9\u001b[0m\u001b[39m -> \u001b[0m\u001b[39;1m4.0.2\u001b[0m\u001b[39m)\u001b[0m: \u001b[34mPending...\u001b[0m\n",
      "\u001b[1A\u001b[0J  \u001b[34;1m•\u001b[0m \u001b[39mUpdating \u001b[0m\u001b[36msphinx\u001b[0m\u001b[39m (\u001b[0m\u001b[39;1m1.4.9\u001b[0m\u001b[39m -> \u001b[0m\u001b[39;1m4.0.2\u001b[0m\u001b[39m)\u001b[0m: \u001b[34mInstalling...\u001b[0m\n",
      "\u001b[1A\u001b[0J  \u001b[32;1m•\u001b[0m \u001b[39mUpdating \u001b[0m\u001b[36msphinx\u001b[0m\u001b[39m (\u001b[0m\u001b[39;1m1.4.9\u001b[0m\u001b[39m -> \u001b[0m\u001b[32m4.0.2\u001b[0m\u001b[39m)\u001b[0m\n"
     ]
    }
   ],
   "source": [
    "!poetry add --dev sphinx"
   ]
  },
  {
   "cell_type": "markdown",
   "id": "fd545f63",
   "metadata": {},
   "source": [
    "Create the Sphinx configuration file docs/conf.py. This provides meta information about your project:\n"
   ]
  },
  {
   "cell_type": "code",
   "execution_count": 83,
   "id": "5e9307f7",
   "metadata": {},
   "outputs": [],
   "source": [
    "!mkdir docs"
   ]
  },
  {
   "cell_type": "code",
   "execution_count": 84,
   "id": "34e0657a",
   "metadata": {},
   "outputs": [
    {
     "name": "stdout",
     "output_type": "stream",
     "text": [
      "Writing docs/index.rst\n"
     ]
    }
   ],
   "source": [
    "%%writefile docs/index.rst\n",
    "\n",
    "This is docs/index.rst,\n",
    "documenting the Hypermodern Python project."
   ]
  },
  {
   "cell_type": "code",
   "execution_count": 85,
   "id": "2299d47e",
   "metadata": {},
   "outputs": [
    {
     "name": "stdout",
     "output_type": "stream",
     "text": [
      "Writing docs/conf.rst\n"
     ]
    }
   ],
   "source": [
    "%%writefile docs/conf.rst\n",
    "\n",
    "\"\"\"Sphinx configuration.\"\"\"\n",
    "\n",
    "project = \"insult-ai\"\n",
    "author = \"Richard Brooker\"\n",
    "copyright = f\"2020, {author}\" "
   ]
  },
  {
   "cell_type": "markdown",
   "id": "0e06ac2d",
   "metadata": {},
   "source": [
    "Add a Nox session to build the documentation:\n"
   ]
  },
  {
   "cell_type": "code",
   "execution_count": 86,
   "id": "0ab43cee",
   "metadata": {},
   "outputs": [
    {
     "name": "stdout",
     "output_type": "stream",
     "text": [
      "Appending to noxfile.py\n"
     ]
    }
   ],
   "source": [
    "%%writefile -a noxfile.py\n",
    "\n",
    "locations = \"insult_ai\", \"tests\", \"noxfile.py\", \"docs/conf.py\"\n",
    "\n",
    "@nox.session(python=[\"3.9\"])\n",
    "def docs(session) -> None:\n",
    "    \"\"\"Build the documentation.\"\"\"\n",
    "    session.install(\"sphinx\", \"sphinx_autodoc_typehints\")\n",
    "    session.run(\"sphinx-build\", \"docs\", \"docs/_build\")"
   ]
  },
  {
   "cell_type": "markdown",
   "id": "97ef6c85",
   "metadata": {},
   "source": [
    "## 6.1 sphinx-autodoc-typehints\n",
    "Sphinx to generate API documentation from the documentation strings and type annotations in the package, using three Sphinx extensions:\n",
    "\n",
    "- [autodoc](https://github.com/heavenshell/py-autodoc) enables Sphinx to generate API documentation from the docstrings in your package.\n",
    "- [napoleon](https://sphinxcontrib-napoleon.readthedocs.io/en/latest/) pre-processes Google-style docstrings to reStructuredText.\n",
    "- [sphinx-autodoc-typehints](https://github.com/agronholm/sphinx-autodoc-typehints) uses type annotations to document the types of function parameters and return values.\n"
   ]
  },
  {
   "cell_type": "code",
   "execution_count": 110,
   "id": "49ea5623",
   "metadata": {},
   "outputs": [
    {
     "name": "stdout",
     "output_type": "stream",
     "text": [
      "  \u001b[34;1m•\u001b[0m \u001b[39mInstalling \u001b[0m\u001b[36msphinx-click\u001b[0m\u001b[39m (\u001b[0m\u001b[39;1m3.0.1\u001b[0m\u001b[39m)\u001b[0m: \u001b[34mPending...\u001b[0m\n",
      "\u001b[1A\u001b[0J  \u001b[34;1m•\u001b[0m \u001b[39mInstalling \u001b[0m\u001b[36msphinx-click\u001b[0m\u001b[39m (\u001b[0m\u001b[39;1m3.0.1\u001b[0m\u001b[39m)\u001b[0m: \u001b[34mDownloading...\u001b[0m \u001b[1m0%\u001b[0m\n",
      "\u001b[1A\u001b[0J  \u001b[34;1m•\u001b[0m \u001b[39mInstalling \u001b[0m\u001b[36msphinx-click\u001b[0m\u001b[39m (\u001b[0m\u001b[39;1m3.0.1\u001b[0m\u001b[39m)\u001b[0m: \u001b[34mDownloading...\u001b[0m \u001b[1m100%\u001b[0m\n",
      "\u001b[1A\u001b[0J  \u001b[34;1m•\u001b[0m \u001b[39mInstalling \u001b[0m\u001b[36msphinx-click\u001b[0m\u001b[39m (\u001b[0m\u001b[39;1m3.0.1\u001b[0m\u001b[39m)\u001b[0m: \u001b[34mDownloading...\u001b[0m \u001b[1m100%\u001b[0m\n",
      "\u001b[1A\u001b[0J  \u001b[34;1m•\u001b[0m \u001b[39mInstalling \u001b[0m\u001b[36msphinx-click\u001b[0m\u001b[39m (\u001b[0m\u001b[39;1m3.0.1\u001b[0m\u001b[39m)\u001b[0m: \u001b[34mInstalling...\u001b[0m\n",
      "\u001b[1A\u001b[0J  \u001b[32;1m•\u001b[0m \u001b[39mInstalling \u001b[0m\u001b[36msphinx-click\u001b[0m\u001b[39m (\u001b[0m\u001b[32m3.0.1\u001b[0m\u001b[39m)\u001b[0m\n"
     ]
    }
   ],
   "source": [
    "# the only package that needs installing \n",
    "!poetry add --dev sphinx-autodoc-typehints sphinx-click -q"
   ]
  },
  {
   "cell_type": "markdown",
   "id": "3b6ab0e6",
   "metadata": {},
   "source": [
    "Add it to your nox file,"
   ]
  },
  {
   "cell_type": "code",
   "execution_count": 88,
   "id": "be6fca68",
   "metadata": {},
   "outputs": [
    {
     "name": "stdout",
     "output_type": "stream",
     "text": [
      "Appending to noxfile.py\n"
     ]
    }
   ],
   "source": [
    "%%writefile -a noxfile.py\n",
    "\n",
    "@nox.session(python=\"3.9\")\n",
    "def docs(session) -> None:\n",
    "    \"\"\"Build the documentation.\"\"\"\n",
    "    session.run(\"poetry\", \"install\", \"--no-dev\", external=True)\n",
    "    session.install( \"sphinx\", \"sphinx-autodoc-typehints\",'sphinx-click')\n",
    "    session.run(\"sphinx-build\", \"docs\", \"docs/_build\")"
   ]
  },
  {
   "cell_type": "code",
   "execution_count": 111,
   "id": "20c447dd",
   "metadata": {},
   "outputs": [
    {
     "name": "stdout",
     "output_type": "stream",
     "text": [
      "Overwriting docs/conf.py\n"
     ]
    }
   ],
   "source": [
    "%%writefile docs/conf.py\n",
    "import sys\n",
    "import os \n",
    "\n",
    "sys.path.insert(0, os.path.abspath('../../'))\n",
    "\n",
    "extensions = [\n",
    "    \"sphinx.ext.autodoc\",\n",
    "    \"sphinx.ext.napoleon\",\n",
    "    \"sphinx_autodoc_typehints\",\n",
    "    'sphinx_click'\n",
    "]"
   ]
  },
  {
   "cell_type": "markdown",
   "id": "0b69c96a",
   "metadata": {},
   "source": [
    "Create the file docs/reference.rst, containing the API reference for the project:"
   ]
  },
  {
   "cell_type": "markdown",
   "id": "d3d4f3dd",
   "metadata": {},
   "source": [
    "You can now reference docstrings in your Sphinx documentation using directives such as automodule, autoclass, and autofunction.\n"
   ]
  },
  {
   "cell_type": "code",
   "execution_count": 121,
   "id": "043cbc58",
   "metadata": {},
   "outputs": [
    {
     "name": "stdout",
     "output_type": "stream",
     "text": [
      "Overwriting docs/reference.rst\n"
     ]
    }
   ],
   "source": [
    "%%writefile docs/reference.rst\n",
    "Reference\n",
    "=========\n",
    "\n",
    ".. contents::\n",
    "        :local:\n",
    "        :backlinks: none\n",
    "\n",
    "\n",
    "insult_ai.console\n",
    "--------------------------\n",
    "\n",
    ".. click:: insult_ai.console:insult_me\n",
    "  :prog: insult-ai\n"
   ]
  },
  {
   "cell_type": "markdown",
   "id": "8b54a73e",
   "metadata": {},
   "source": [
    "- The automodule directive inserts the documentation for the specified Python module. With the :members: option, it also includes documentation for the classes and functions defined by the module.\n",
    "\n",
    "- The contents directive inserts a table of content into the document. The :local: option avoids including the page title in the table of contents. The :backlinks: none option avoids linking each section title to the table of contents.\n",
    "\n"
   ]
  },
  {
   "cell_type": "markdown",
   "id": "d73a1d35",
   "metadata": {},
   "source": [
    "Include the new file in the navigation sidebar,"
   ]
  },
  {
   "cell_type": "code",
   "execution_count": 119,
   "id": "c0ec1737",
   "metadata": {},
   "outputs": [
    {
     "name": "stdout",
     "output_type": "stream",
     "text": [
      "Overwriting docs/index.rst\n"
     ]
    }
   ],
   "source": [
    "%%writefile docs/index.rst\n",
    "\n",
    "Insult-AI Python Project\n",
    "==============================\n",
    "\n",
    ".. toctree::\n",
    "    :hidden:\n",
    "    :maxdepth: 2\n",
    "    \n",
    "    reference"
   ]
  },
  {
   "cell_type": "code",
   "execution_count": 124,
   "id": "20d0cabc",
   "metadata": {
    "scrolled": true
   },
   "outputs": [
    {
     "name": "stdout",
     "output_type": "stream",
     "text": [
      "\u001b[36mnox > \u001b[33mRunning session docs\u001b[0m\n",
      "\u001b[36mnox > \u001b[36mRe-using existing virtual environment at .nox/docs.\u001b[0m\n",
      "\u001b[36mnox > \u001b[34mpoetry install --no-dev\u001b[0m\n",
      "\u001b[34mInstalling dependencies from lock file\u001b[0m\n",
      "\n",
      "\u001b[1mPackage operations\u001b[0m: \u001b[34m0\u001b[0m installs, \u001b[34m0\u001b[0m updates, \u001b[34m17\u001b[0m removals\n",
      "\n",
      "  \u001b[34;1m•\u001b[0m \u001b[39mRemoving \u001b[0m\u001b[36malabaster\u001b[0m\u001b[39m (\u001b[0m\u001b[39;1m0.7.12\u001b[0m\u001b[39m)\u001b[0m: \u001b[34mPending...\u001b[0m\n",
      "\u001b[1A\u001b[0J  \u001b[34;1m•\u001b[0m \u001b[39mRemoving \u001b[0m\u001b[36malabaster\u001b[0m\u001b[39m (\u001b[0m\u001b[39;1m0.7.12\u001b[0m\u001b[39m)\u001b[0m: \u001b[34mRemoving...\u001b[0m\n",
      "\u001b[1A\u001b[0J  \u001b[32;1m•\u001b[0m \u001b[39mRemoving \u001b[0m\u001b[36malabaster\u001b[0m\u001b[39m (\u001b[0m\u001b[32m0.7.12\u001b[0m\u001b[39m)\u001b[0m\n",
      "  \u001b[34;1m•\u001b[0m \u001b[39mRemoving \u001b[0m\u001b[36mbabel\u001b[0m\u001b[39m (\u001b[0m\u001b[39;1m2.9.1\u001b[0m\u001b[39m)\u001b[0m: \u001b[34mPending...\u001b[0m\n",
      "\u001b[1A\u001b[0J  \u001b[34;1m•\u001b[0m \u001b[39mRemoving \u001b[0m\u001b[36mbabel\u001b[0m\u001b[39m (\u001b[0m\u001b[39;1m2.9.1\u001b[0m\u001b[39m)\u001b[0m: \u001b[34mRemoving...\u001b[0m\n",
      "\u001b[1A\u001b[0J  \u001b[32;1m•\u001b[0m \u001b[39mRemoving \u001b[0m\u001b[36mbabel\u001b[0m\u001b[39m (\u001b[0m\u001b[32m2.9.1\u001b[0m\u001b[39m)\u001b[0m\n",
      "  \u001b[34;1m•\u001b[0m \u001b[39mRemoving \u001b[0m\u001b[36mdocutils\u001b[0m\u001b[39m (\u001b[0m\u001b[39;1m0.17.1\u001b[0m\u001b[39m)\u001b[0m: \u001b[34mPending...\u001b[0m\n",
      "\u001b[1A\u001b[0J  \u001b[34;1m•\u001b[0m \u001b[39mRemoving \u001b[0m\u001b[36mdocutils\u001b[0m\u001b[39m (\u001b[0m\u001b[39;1m0.17.1\u001b[0m\u001b[39m)\u001b[0m: \u001b[34mRemoving...\u001b[0m\n",
      "\u001b[1A\u001b[0J  \u001b[32;1m•\u001b[0m \u001b[39mRemoving \u001b[0m\u001b[36mdocutils\u001b[0m\u001b[39m (\u001b[0m\u001b[32m0.17.1\u001b[0m\u001b[39m)\u001b[0m\n",
      "  \u001b[34;1m•\u001b[0m \u001b[39mRemoving \u001b[0m\u001b[36mimagesize\u001b[0m\u001b[39m (\u001b[0m\u001b[39;1m1.2.0\u001b[0m\u001b[39m)\u001b[0m: \u001b[34mPending...\u001b[0m\n",
      "\u001b[1A\u001b[0J  \u001b[34;1m•\u001b[0m \u001b[39mRemoving \u001b[0m\u001b[36mimagesize\u001b[0m\u001b[39m (\u001b[0m\u001b[39;1m1.2.0\u001b[0m\u001b[39m)\u001b[0m: \u001b[34mRemoving...\u001b[0m\n",
      "\u001b[1A\u001b[0J  \u001b[32;1m•\u001b[0m \u001b[39mRemoving \u001b[0m\u001b[36mimagesize\u001b[0m\u001b[39m (\u001b[0m\u001b[32m1.2.0\u001b[0m\u001b[39m)\u001b[0m\n",
      "  \u001b[34;1m•\u001b[0m \u001b[39mRemoving \u001b[0m\u001b[36mjinja2\u001b[0m\u001b[39m (\u001b[0m\u001b[39;1m3.0.1\u001b[0m\u001b[39m)\u001b[0m: \u001b[34mPending...\u001b[0m\n",
      "\u001b[1A\u001b[0J  \u001b[34;1m•\u001b[0m \u001b[39mRemoving \u001b[0m\u001b[36mjinja2\u001b[0m\u001b[39m (\u001b[0m\u001b[39;1m3.0.1\u001b[0m\u001b[39m)\u001b[0m: \u001b[34mRemoving...\u001b[0m\n",
      "\u001b[1A\u001b[0J  \u001b[32;1m•\u001b[0m \u001b[39mRemoving \u001b[0m\u001b[36mjinja2\u001b[0m\u001b[39m (\u001b[0m\u001b[32m3.0.1\u001b[0m\u001b[39m)\u001b[0m\n",
      "  \u001b[34;1m•\u001b[0m \u001b[39mRemoving \u001b[0m\u001b[36mmarkupsafe\u001b[0m\u001b[39m (\u001b[0m\u001b[39;1m2.0.1\u001b[0m\u001b[39m)\u001b[0m: \u001b[34mPending...\u001b[0m\n",
      "\u001b[1A\u001b[0J  \u001b[34;1m•\u001b[0m \u001b[39mRemoving \u001b[0m\u001b[36mmarkupsafe\u001b[0m\u001b[39m (\u001b[0m\u001b[39;1m2.0.1\u001b[0m\u001b[39m)\u001b[0m: \u001b[34mRemoving...\u001b[0m\n",
      "\u001b[1A\u001b[0J  \u001b[32;1m•\u001b[0m \u001b[39mRemoving \u001b[0m\u001b[36mmarkupsafe\u001b[0m\u001b[39m (\u001b[0m\u001b[32m2.0.1\u001b[0m\u001b[39m)\u001b[0m\n",
      "  \u001b[34;1m•\u001b[0m \u001b[39mRemoving \u001b[0m\u001b[36mpygments\u001b[0m\u001b[39m (\u001b[0m\u001b[39;1m2.9.0\u001b[0m\u001b[39m)\u001b[0m: \u001b[34mPending...\u001b[0m\n",
      "\u001b[1A\u001b[0J  \u001b[34;1m•\u001b[0m \u001b[39mRemoving \u001b[0m\u001b[36mpygments\u001b[0m\u001b[39m (\u001b[0m\u001b[39;1m2.9.0\u001b[0m\u001b[39m)\u001b[0m: \u001b[34mRemoving...\u001b[0m\n",
      "\u001b[1A\u001b[0J  \u001b[32;1m•\u001b[0m \u001b[39mRemoving \u001b[0m\u001b[36mpygments\u001b[0m\u001b[39m (\u001b[0m\u001b[32m2.9.0\u001b[0m\u001b[39m)\u001b[0m\n",
      "  \u001b[34;1m•\u001b[0m \u001b[39mRemoving \u001b[0m\u001b[36msnowballstemmer\u001b[0m\u001b[39m (\u001b[0m\u001b[39;1m2.1.0\u001b[0m\u001b[39m)\u001b[0m: \u001b[34mPending...\u001b[0m\n",
      "\u001b[1A\u001b[0J  \u001b[34;1m•\u001b[0m \u001b[39mRemoving \u001b[0m\u001b[36msnowballstemmer\u001b[0m\u001b[39m (\u001b[0m\u001b[39;1m2.1.0\u001b[0m\u001b[39m)\u001b[0m: \u001b[34mRemoving...\u001b[0m\n",
      "\u001b[1A\u001b[0J  \u001b[32;1m•\u001b[0m \u001b[39mRemoving \u001b[0m\u001b[36msnowballstemmer\u001b[0m\u001b[39m (\u001b[0m\u001b[32m2.1.0\u001b[0m\u001b[39m)\u001b[0m\n",
      "  \u001b[34;1m•\u001b[0m \u001b[39mRemoving \u001b[0m\u001b[36msphinx\u001b[0m\u001b[39m (\u001b[0m\u001b[39;1m4.0.2\u001b[0m\u001b[39m)\u001b[0m: \u001b[34mPending...\u001b[0m\n",
      "\u001b[1A\u001b[0J  \u001b[34;1m•\u001b[0m \u001b[39mRemoving \u001b[0m\u001b[36msphinx\u001b[0m\u001b[39m (\u001b[0m\u001b[39;1m4.0.2\u001b[0m\u001b[39m)\u001b[0m: \u001b[34mRemoving...\u001b[0m\n",
      "\u001b[1A\u001b[0J  \u001b[32;1m•\u001b[0m \u001b[39mRemoving \u001b[0m\u001b[36msphinx\u001b[0m\u001b[39m (\u001b[0m\u001b[32m4.0.2\u001b[0m\u001b[39m)\u001b[0m\n",
      "  \u001b[34;1m•\u001b[0m \u001b[39mRemoving \u001b[0m\u001b[36msphinx-autodoc-typehints\u001b[0m\u001b[39m (\u001b[0m\u001b[39;1m1.12.0\u001b[0m\u001b[39m)\u001b[0m: \u001b[34mPending...\u001b[0m\n",
      "\u001b[1A\u001b[0J  \u001b[34;1m•\u001b[0m \u001b[39mRemoving \u001b[0m\u001b[36msphinx-autodoc-typehints\u001b[0m\u001b[39m (\u001b[0m\u001b[39;1m1.12.0\u001b[0m\u001b[39m)\u001b[0m: \u001b[34mRemoving...\u001b[0m\n",
      "\u001b[1A\u001b[0J  \u001b[32;1m•\u001b[0m \u001b[39mRemoving \u001b[0m\u001b[36msphinx-autodoc-typehints\u001b[0m\u001b[39m (\u001b[0m\u001b[32m1.12.0\u001b[0m\u001b[39m)\u001b[0m\n",
      "  \u001b[34;1m•\u001b[0m \u001b[39mRemoving \u001b[0m\u001b[36msphinx-click\u001b[0m\u001b[39m (\u001b[0m\u001b[39;1m3.0.1\u001b[0m\u001b[39m)\u001b[0m: \u001b[34mPending...\u001b[0m\n",
      "\u001b[1A\u001b[0J  \u001b[34;1m•\u001b[0m \u001b[39mRemoving \u001b[0m\u001b[36msphinx-click\u001b[0m\u001b[39m (\u001b[0m\u001b[39;1m3.0.1\u001b[0m\u001b[39m)\u001b[0m: \u001b[34mRemoving...\u001b[0m\n",
      "\u001b[1A\u001b[0J  \u001b[32;1m•\u001b[0m \u001b[39mRemoving \u001b[0m\u001b[36msphinx-click\u001b[0m\u001b[39m (\u001b[0m\u001b[32m3.0.1\u001b[0m\u001b[39m)\u001b[0m\n",
      "  \u001b[34;1m•\u001b[0m \u001b[39mRemoving \u001b[0m\u001b[36msphinxcontrib-applehelp\u001b[0m\u001b[39m (\u001b[0m\u001b[39;1m1.0.2\u001b[0m\u001b[39m)\u001b[0m: \u001b[34mPending...\u001b[0m\n",
      "\u001b[1A\u001b[0J  \u001b[34;1m•\u001b[0m \u001b[39mRemoving \u001b[0m\u001b[36msphinxcontrib-applehelp\u001b[0m\u001b[39m (\u001b[0m\u001b[39;1m1.0.2\u001b[0m\u001b[39m)\u001b[0m: \u001b[34mRemoving...\u001b[0m\n",
      "\u001b[1A\u001b[0J  \u001b[32;1m•\u001b[0m \u001b[39mRemoving \u001b[0m\u001b[36msphinxcontrib-applehelp\u001b[0m\u001b[39m (\u001b[0m\u001b[32m1.0.2\u001b[0m\u001b[39m)\u001b[0m\n",
      "  \u001b[34;1m•\u001b[0m \u001b[39mRemoving \u001b[0m\u001b[36msphinxcontrib-devhelp\u001b[0m\u001b[39m (\u001b[0m\u001b[39;1m1.0.2\u001b[0m\u001b[39m)\u001b[0m: \u001b[34mPending...\u001b[0m\n",
      "\u001b[1A\u001b[0J  \u001b[34;1m•\u001b[0m \u001b[39mRemoving \u001b[0m\u001b[36msphinxcontrib-devhelp\u001b[0m\u001b[39m (\u001b[0m\u001b[39;1m1.0.2\u001b[0m\u001b[39m)\u001b[0m: \u001b[34mRemoving...\u001b[0m\n",
      "\u001b[1A\u001b[0J  \u001b[32;1m•\u001b[0m \u001b[39mRemoving \u001b[0m\u001b[36msphinxcontrib-devhelp\u001b[0m\u001b[39m (\u001b[0m\u001b[32m1.0.2\u001b[0m\u001b[39m)\u001b[0m\n",
      "  \u001b[34;1m•\u001b[0m \u001b[39mRemoving \u001b[0m\u001b[36msphinxcontrib-htmlhelp\u001b[0m\u001b[39m (\u001b[0m\u001b[39;1m2.0.0\u001b[0m\u001b[39m)\u001b[0m: \u001b[34mPending...\u001b[0m\n",
      "\u001b[1A\u001b[0J  \u001b[34;1m•\u001b[0m \u001b[39mRemoving \u001b[0m\u001b[36msphinxcontrib-htmlhelp\u001b[0m\u001b[39m (\u001b[0m\u001b[39;1m2.0.0\u001b[0m\u001b[39m)\u001b[0m: \u001b[34mRemoving...\u001b[0m\n",
      "\u001b[1A\u001b[0J  \u001b[32;1m•\u001b[0m \u001b[39mRemoving \u001b[0m\u001b[36msphinxcontrib-htmlhelp\u001b[0m\u001b[39m (\u001b[0m\u001b[32m2.0.0\u001b[0m\u001b[39m)\u001b[0m\n",
      "  \u001b[34;1m•\u001b[0m \u001b[39mRemoving \u001b[0m\u001b[36msphinxcontrib-jsmath\u001b[0m\u001b[39m (\u001b[0m\u001b[39;1m1.0.1\u001b[0m\u001b[39m)\u001b[0m: \u001b[34mPending...\u001b[0m\n",
      "\u001b[1A\u001b[0J  \u001b[34;1m•\u001b[0m \u001b[39mRemoving \u001b[0m\u001b[36msphinxcontrib-jsmath\u001b[0m\u001b[39m (\u001b[0m\u001b[39;1m1.0.1\u001b[0m\u001b[39m)\u001b[0m: \u001b[34mRemoving...\u001b[0m\n",
      "\u001b[1A\u001b[0J  \u001b[32;1m•\u001b[0m \u001b[39mRemoving \u001b[0m\u001b[36msphinxcontrib-jsmath\u001b[0m\u001b[39m (\u001b[0m\u001b[32m1.0.1\u001b[0m\u001b[39m)\u001b[0m\n",
      "  \u001b[34;1m•\u001b[0m \u001b[39mRemoving \u001b[0m\u001b[36msphinxcontrib-qthelp\u001b[0m\u001b[39m (\u001b[0m\u001b[39;1m1.0.3\u001b[0m\u001b[39m)\u001b[0m: \u001b[34mPending...\u001b[0m\n",
      "\u001b[1A\u001b[0J  \u001b[34;1m•\u001b[0m \u001b[39mRemoving \u001b[0m\u001b[36msphinxcontrib-qthelp\u001b[0m\u001b[39m (\u001b[0m\u001b[39;1m1.0.3\u001b[0m\u001b[39m)\u001b[0m: \u001b[34mRemoving...\u001b[0m\n",
      "\u001b[1A\u001b[0J  \u001b[32;1m•\u001b[0m \u001b[39mRemoving \u001b[0m\u001b[36msphinxcontrib-qthelp\u001b[0m\u001b[39m (\u001b[0m\u001b[32m1.0.3\u001b[0m\u001b[39m)\u001b[0m\n",
      "  \u001b[34;1m•\u001b[0m \u001b[39mRemoving \u001b[0m\u001b[36msphinxcontrib-serializinghtml\u001b[0m\u001b[39m (\u001b[0m\u001b[39;1m1.1.5\u001b[0m\u001b[39m)\u001b[0m: \u001b[34mPending...\u001b[0m\n",
      "\u001b[1A\u001b[0J  \u001b[34;1m•\u001b[0m \u001b[39mRemoving \u001b[0m\u001b[36msphinxcontrib-serializinghtml\u001b[0m\u001b[39m (\u001b[0m\u001b[39;1m1.1.5\u001b[0m\u001b[39m)\u001b[0m: \u001b[34mRemoving...\u001b[0m\n",
      "\u001b[1A\u001b[0J  \u001b[32;1m•\u001b[0m \u001b[39mRemoving \u001b[0m\u001b[36msphinxcontrib-serializinghtml\u001b[0m\u001b[39m (\u001b[0m\u001b[32m1.1.5\u001b[0m\u001b[39m)\u001b[0m\n",
      "\n",
      "\u001b[1mInstalling\u001b[0m the current project: \u001b[36minsult-ai\u001b[0m (\u001b[39;1m0.2.0\u001b[0m\u001b[1mInstalling\u001b[0m the current project: \u001b[36minsult-ai\u001b[0m (\u001b[32m0.2.0\u001b[0m)\n",
      "\u001b[36mnox > \u001b[34mpython -m pip install sphinx sphinx-autodoc-typehints sphinx-click\u001b[0m\n",
      "\u001b[36mnox > \u001b[34msphinx-build docs docs/_build\u001b[0m\n",
      "\u001b[01mRunning Sphinx v4.0.2\u001b[39;49;00m\n",
      "\u001b[01mloading pickled environment... \u001b[39;49;00mdone\n",
      "\u001b[01mbuilding [mo]: \u001b[39;49;00mtargets for 0 po files that are out of date\n",
      "\u001b[01mbuilding [html]: \u001b[39;49;00mtargets for 3 source files that are out of date\n",
      "\u001b[01mupdating environment: \u001b[39;49;00m0 added, 0 changed, 0 removed\n",
      "\u001b[01mlooking for now-outdated files... \u001b[39;49;00mnone found\n",
      "\u001b[01mpreparing documents... \u001b[39;49;00mdone\n",
      "\u001b[01mwriting output... \u001b[39;49;00m[100%] \u001b[32mreference\u001b[39;49;00m                                              \n",
      "\u001b[01mgenerating indices... \u001b[39;49;00mgenindex done\n",
      "\u001b[01mwriting additional pages... \u001b[39;49;00msearch done\n",
      "\u001b[01mcopying static files... \u001b[39;49;00mdone\n",
      "\u001b[01mcopying extra files... \u001b[39;49;00mdone\n",
      "\u001b[01mdumping search index in English (code: en)... \u001b[39;49;00mdone\n",
      "\u001b[01mdumping object inventory... \u001b[39;49;00mdone\n",
      "\u001b[01mbuild succeeded.\u001b[39;49;00m\n",
      "\n",
      "The HTML pages are in docs/_build.\n",
      "\u001b[36mnox > \u001b[32mSession docs was successful.\u001b[0m\n"
     ]
    }
   ],
   "source": [
    "!nox -rs docs"
   ]
  },
  {
   "cell_type": "markdown",
   "id": "f23ff1ed",
   "metadata": {},
   "source": [
    "The Sphinx documentation contains a good introduction to\n",
    "\n",
    "https://www.sphinx-doc.org/en/master/usage/restructuredtext/index.html\n",
    "    "
   ]
  },
  {
   "cell_type": "markdown",
   "id": "34a0441f",
   "metadata": {},
   "source": [
    "### 6.1.2  [ReadTheDocs.ord](https://readthedocs.org/)\n",
    "Read the Docs simplifies software documentation by automating building, versioning, and hosting of your docs for you.\n",
    "\n"
   ]
  },
  {
   "cell_type": "markdown",
   "id": "38315932",
   "metadata": {},
   "source": [
    "<br><br><br><br><br><br><br><br><br><br><br><br>"
   ]
  },
  {
   "cell_type": "code",
   "execution_count": 1,
   "id": "dadbd56c",
   "metadata": {},
   "outputs": [
    {
     "data": {
      "text/html": [
       "\n",
       "<style>\n",
       "h1 { margin-top:190px !important ; border-top: 1px solid rgba(0,0,0,0.01)}\n",
       "h2,h3 { margin-top:150px !important }\n",
       "h4 {margin-top:80px !important}\n",
       "</style>\n"
      ],
      "text/plain": [
       "<IPython.core.display.HTML object>"
      ]
     },
     "execution_count": 1,
     "metadata": {},
     "output_type": "execute_result"
    }
   ],
   "source": [
    "from IPython.core.display import HTML\n",
    "HTML(\"\"\"\n",
    "<style>\n",
    "h1 { margin-top:190px !important ; border-top: 1px solid rgba(0,0,0,0.01)}\n",
    "h2,h3 { margin-top:150px !important }\n",
    "h4 {margin-top:80px !important}\n",
    "</style>\n",
    "\"\"\")"
   ]
  },
  {
   "cell_type": "code",
   "execution_count": null,
   "id": "fac76a31",
   "metadata": {},
   "outputs": [],
   "source": []
  }
 ],
 "metadata": {
  "kernelspec": {
   "display_name": "Python 3",
   "language": "python",
   "name": "python3"
  },
  "language_info": {
   "codemirror_mode": {
    "name": "ipython",
    "version": 3
   },
   "file_extension": ".py",
   "mimetype": "text/x-python",
   "name": "python",
   "nbconvert_exporter": "python",
   "pygments_lexer": "ipython3",
   "version": "3.9.5"
  }
 },
 "nbformat": 4,
 "nbformat_minor": 5
}
